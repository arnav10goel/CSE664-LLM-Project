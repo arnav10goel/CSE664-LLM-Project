{
 "cells": [
  {
   "cell_type": "code",
   "execution_count": 1,
   "metadata": {
    "_cell_guid": "b1076dfc-b9ad-4769-8c92-a6c4dae69d19",
    "_uuid": "8f2839f25d086af736a60e9eeb907d3b93b6e0e5",
    "execution": {
     "iopub.execute_input": "2024-11-17T12:21:35.794114Z",
     "iopub.status.busy": "2024-11-17T12:21:35.793434Z",
     "iopub.status.idle": "2024-11-17T12:21:39.616039Z",
     "shell.execute_reply": "2024-11-17T12:21:39.614876Z",
     "shell.execute_reply.started": "2024-11-17T12:21:35.794049Z"
    },
    "trusted": true
   },
   "outputs": [
    {
     "name": "stdout",
     "output_type": "stream",
     "text": [
      "Cloning into 'CSE556-NLP-Project'...\n",
      "remote: Enumerating objects: 431, done.\u001b[K\n",
      "remote: Counting objects: 100% (137/137), done.\u001b[K\n",
      "remote: Compressing objects: 100% (101/101), done.\u001b[K\n",
      "remote: Total 431 (delta 78), reused 55 (delta 36), pack-reused 294 (from 1)\u001b[K\n",
      "Receiving objects: 100% (431/431), 32.34 MiB | 27.14 MiB/s, done.\n",
      "Resolving deltas: 100% (216/216), done.\n",
      "/kaggle/working/CSE556-NLP-Project\n"
     ]
    }
   ],
   "source": [
    "!git clone https://github.com/arnav10goel/CSE556-NLP-Project.git\n",
    "%cd CSE556-NLP-Project"
   ]
  },
  {
   "cell_type": "code",
   "execution_count": 2,
   "metadata": {
    "execution": {
     "iopub.execute_input": "2024-11-17T12:21:39.618723Z",
     "iopub.status.busy": "2024-11-17T12:21:39.618425Z",
     "iopub.status.idle": "2024-11-17T12:21:49.275475Z",
     "shell.execute_reply": "2024-11-17T12:21:49.274546Z",
     "shell.execute_reply.started": "2024-11-17T12:21:39.618694Z"
    },
    "trusted": true
   },
   "outputs": [],
   "source": [
    "import torch\n",
    "from transformers import BertModel\n",
    "import pandas as pd\n",
    "from torch.utils.data import Dataset, DataLoader\n",
    "import pandas as pd\n",
    "import torch\n",
    "from transformers import BertTokenizer\n",
    "import string"
   ]
  },
  {
   "cell_type": "markdown",
   "metadata": {},
   "source": [
    "### Load Dataset for the Particular Language\n",
    "- Here insert the language initial you want to load the train and test CSVs for\n",
    "- Language Codes:\n",
    "    1. Hindi: `hi`\n",
    "    2. Bengali: `bn`\n",
    "    3. Marathi: `mr`\n",
    "    4. Tamil: `ta`\n",
    "    5. Telugu: `te`"
   ]
  },
  {
   "cell_type": "code",
   "execution_count": 3,
   "metadata": {
    "execution": {
     "iopub.execute_input": "2024-11-17T12:21:49.277412Z",
     "iopub.status.busy": "2024-11-17T12:21:49.276922Z",
     "iopub.status.idle": "2024-11-17T12:21:49.308837Z",
     "shell.execute_reply": "2024-11-17T12:21:49.308022Z",
     "shell.execute_reply.started": "2024-11-17T12:21:49.277375Z"
    },
    "trusted": true
   },
   "outputs": [],
   "source": [
    "lang = 'hi'\n",
    "train_file = f\"/kaggle/working/CSE556-NLP-Project/Sentiment-Analysis-Experiments/Dataset/{lang}_train.csv\"\n",
    "test_file = f\"/kaggle/working/CSE556-NLP-Project/Sentiment-Analysis-Experiments/Dataset/{lang}_test.csv\"\n",
    "\n",
    "train_df = pd.read_csv(train_file)\n",
    "test_df = pd.read_csv(test_file)"
   ]
  },
  {
   "cell_type": "markdown",
   "metadata": {},
   "source": [
    "## Custom Dataset Class\n",
    "- This class can be used for all Sentiment Analysis fine-tuning and zero shot tasks\n",
    "- For multiple languages, combine data into one dataframe as the dataset class takes DATAFRAME as input"
   ]
  },
  {
   "cell_type": "code",
   "execution_count": 4,
   "metadata": {
    "execution": {
     "iopub.execute_input": "2024-11-17T12:21:49.312336Z",
     "iopub.status.busy": "2024-11-17T12:21:49.311670Z",
     "iopub.status.idle": "2024-11-17T12:21:49.322535Z",
     "shell.execute_reply": "2024-11-17T12:21:49.321554Z",
     "shell.execute_reply.started": "2024-11-17T12:21:49.312288Z"
    },
    "trusted": true
   },
   "outputs": [],
   "source": [
    "class MultilingualSentimentAnalysis_Dataset(Dataset):\n",
    "    def __init__(self, dataframe, tokenizer, max_length=256):\n",
    "        self.tokenizer = tokenizer\n",
    "        self.dataframe = dataframe\n",
    "        self.max_length = max_length\n",
    "\n",
    "    def __len__(self):\n",
    "        return len(self.dataframe)\n",
    "\n",
    "    def __getitem__(self, idx):\n",
    "        label_map = {\"Negative\": 0, \"Positive\": 1}\n",
    "        \n",
    "        label_value = self.dataframe.iloc[idx][\"LABEL\"]\n",
    "        if pd.isna(label_value):\n",
    "            label = 0\n",
    "        else:\n",
    "            label = label_map[label_value]\n",
    "        \n",
    "        \n",
    "        input_text = self.dataframe.iloc[idx][\"INDIC REVIEW\"]\n",
    "\n",
    "        # Tokenize\n",
    "        encoding = self.tokenizer.encode_plus(\n",
    "            input_text, None,\n",
    "            add_special_tokens=True,\n",
    "            max_length=self.max_length,\n",
    "            padding='max_length',\n",
    "            truncation=True,\n",
    "            return_tensors='pt'\n",
    "        )\n",
    "\n",
    "        return {\n",
    "            'input_ids': encoding['input_ids'].flatten(),\n",
    "            'attention_mask': encoding['attention_mask'].flatten(),\n",
    "            'token_type_ids': encoding['token_type_ids'].flatten(),\n",
    "            'labels': torch.tensor(label, dtype=torch.float)\n",
    "        }"
   ]
  },
  {
   "cell_type": "code",
   "execution_count": 5,
   "metadata": {
    "execution": {
     "iopub.execute_input": "2024-11-17T12:21:49.324415Z",
     "iopub.status.busy": "2024-11-17T12:21:49.323951Z",
     "iopub.status.idle": "2024-11-17T12:21:53.626294Z",
     "shell.execute_reply": "2024-11-17T12:21:53.625117Z",
     "shell.execute_reply.started": "2024-11-17T12:21:49.324364Z"
    },
    "trusted": true
   },
   "outputs": [
    {
     "data": {
      "application/vnd.jupyter.widget-view+json": {
       "model_id": "272400b18d1647daafd97beed834cbb3",
       "version_major": 2,
       "version_minor": 0
      },
      "text/plain": [
       "config.json:   0%|          | 0.00/507 [00:00<?, ?B/s]"
      ]
     },
     "metadata": {},
     "output_type": "display_data"
    },
    {
     "data": {
      "application/vnd.jupyter.widget-view+json": {
       "model_id": "8534ab2d0632451f9c940a7a09f77504",
       "version_major": 2,
       "version_minor": 0
      },
      "text/plain": [
       "spiece.model:   0%|          | 0.00/5.65M [00:00<?, ?B/s]"
      ]
     },
     "metadata": {},
     "output_type": "display_data"
    },
    {
     "name": "stderr",
     "output_type": "stream",
     "text": [
      "/opt/conda/lib/python3.10/site-packages/transformers/tokenization_utils_base.py:1617: FutureWarning: `clean_up_tokenization_spaces` was not set. It will be set to `True` by default. This behavior will be deprecated in transformers v4.45, and will be then set to `False` by default. For more details check this issue: https://github.com/huggingface/transformers/issues/31884\n",
      "  warnings.warn(\n"
     ]
    }
   ],
   "source": [
    "from transformers import AutoTokenizer, AutoModel\n",
    "# Get the model name\n",
    "model_name = \"ai4bharat/indic-bert\"\n",
    "# Initialize IndicBERT tokenizer\n",
    "tokenizer = AutoTokenizer.from_pretrained(model_name)"
   ]
  },
  {
   "cell_type": "code",
   "execution_count": 6,
   "metadata": {
    "execution": {
     "iopub.execute_input": "2024-11-17T12:21:53.628330Z",
     "iopub.status.busy": "2024-11-17T12:21:53.627717Z",
     "iopub.status.idle": "2024-11-17T12:21:53.633748Z",
     "shell.execute_reply": "2024-11-17T12:21:53.632857Z",
     "shell.execute_reply.started": "2024-11-17T12:21:53.628284Z"
    },
    "trusted": true
   },
   "outputs": [],
   "source": [
    "# Initialise dataset instances\n",
    "train_dataset = MultilingualSentimentAnalysis_Dataset(train_df, tokenizer)\n",
    "dev_dataset = MultilingualSentimentAnalysis_Dataset(test_df, tokenizer)\n",
    "\n",
    "# Initialise the dataloaders\n",
    "train_dataloader = DataLoader(train_dataset, batch_size=16, shuffle=True)\n",
    "dev_dataloader = DataLoader(dev_dataset, batch_size=16, shuffle=False)"
   ]
  },
  {
   "cell_type": "code",
   "execution_count": 7,
   "metadata": {
    "execution": {
     "iopub.execute_input": "2024-11-17T12:21:53.635246Z",
     "iopub.status.busy": "2024-11-17T12:21:53.634950Z",
     "iopub.status.idle": "2024-11-17T12:21:53.651634Z",
     "shell.execute_reply": "2024-11-17T12:21:53.650851Z",
     "shell.execute_reply.started": "2024-11-17T12:21:53.635215Z"
    },
    "trusted": true
   },
   "outputs": [],
   "source": [
    "import torch\n",
    "import torch.nn as nn\n",
    "from transformers import AutoModel\n",
    "\n",
    "class MBertForSentimentAnalysis(nn.Module):\n",
    "    def __init__(self, freeze_bert=False):\n",
    "        super(MBertForSentimentAnalysis, self).__init__()\n",
    "\n",
    "        # Load mBERT model and tokenizer\n",
    "        self.model_name = \"ai4bharat/indic-bert\"\n",
    "        self.mbert = AutoModel.from_pretrained(self.model_name)\n",
    "\n",
    "        # Add a batch normalization layer\n",
    "        self.batch_norm = nn.BatchNorm1d(self.mbert.config.hidden_size)\n",
    "        \n",
    "        # Add a linear layer for classification\n",
    "        self.classification = nn.Linear(self.mbert.config.hidden_size, 2)\n",
    "\n",
    "        # Option to freeze MBERT layers to prevent them from being updated during training\n",
    "        if freeze_bert:\n",
    "            for param in self.mbert.parameters():\n",
    "                param.requires_grad = False\n",
    "\n",
    "    def forward(self, input_ids, attention_mask):\n",
    "        # Get the output from BERT model\n",
    "        _, pooled_outputs = self.mbert(input_ids=input_ids, attention_mask=attention_mask, return_dict=False)\n",
    "\n",
    "        # Pass output through batch normalization layer\n",
    "        pooled_outputs = self.batch_norm(pooled_outputs)\n",
    "        \n",
    "        # Pass output through linear layer\n",
    "        out = self.classification(pooled_outputs)\n",
    "        return out"
   ]
  },
  {
   "cell_type": "code",
   "execution_count": 8,
   "metadata": {
    "execution": {
     "iopub.execute_input": "2024-11-17T12:21:53.653677Z",
     "iopub.status.busy": "2024-11-17T12:21:53.652961Z",
     "iopub.status.idle": "2024-11-17T12:21:55.781356Z",
     "shell.execute_reply": "2024-11-17T12:21:55.780298Z",
     "shell.execute_reply.started": "2024-11-17T12:21:53.653635Z"
    },
    "trusted": true
   },
   "outputs": [
    {
     "data": {
      "application/vnd.jupyter.widget-view+json": {
       "model_id": "2ab190ac5f2742f1b9d7e3e969dafc25",
       "version_major": 2,
       "version_minor": 0
      },
      "text/plain": [
       "pytorch_model.bin:   0%|          | 0.00/135M [00:00<?, ?B/s]"
      ]
     },
     "metadata": {},
     "output_type": "display_data"
    },
    {
     "name": "stdout",
     "output_type": "stream",
     "text": [
      "Using CUDA\n"
     ]
    }
   ],
   "source": [
    "model = MBertForSentimentAnalysis()\n",
    "if torch.cuda.is_available():\n",
    "    device = torch.device(\"cuda\")\n",
    "    model.to(device)  # Move model to CUDA device if available\n",
    "    print(\"Using CUDA\")\n",
    "else:\n",
    "    device = torch.device(\"cpu\")\n",
    "    print(\"CUDA is not available. Using CPU instead.\")"
   ]
  },
  {
   "cell_type": "code",
   "execution_count": 9,
   "metadata": {
    "execution": {
     "iopub.execute_input": "2024-11-17T12:21:55.783170Z",
     "iopub.status.busy": "2024-11-17T12:21:55.782815Z",
     "iopub.status.idle": "2024-11-17T12:24:31.327111Z",
     "shell.execute_reply": "2024-11-17T12:24:31.326175Z",
     "shell.execute_reply.started": "2024-11-17T12:21:55.783129Z"
    },
    "trusted": true
   },
   "outputs": [
    {
     "name": "stdout",
     "output_type": "stream",
     "text": [
      "Epoch 1/4, Train Loss: 0.6448, Validation Loss: 0.6633\n",
      "Epoch 2/4, Train Loss: 0.4701, Validation Loss: 0.4387\n",
      "Epoch 3/4, Train Loss: 0.3455, Validation Loss: 0.4113\n",
      "Epoch 4/4, Train Loss: 0.2454, Validation Loss: 0.4629\n"
     ]
    }
   ],
   "source": [
    "optimizer = torch.optim.Adam(model.parameters(), lr=2e-5)\n",
    "ce_loss = torch.nn.CrossEntropyLoss()\n",
    "\n",
    "num_epochs = 4\n",
    "\n",
    "train_losses = []\n",
    "val_losses = []\n",
    "\n",
    "for epoch in range(num_epochs):\n",
    "    # Training\n",
    "    model.train()  \n",
    "    train_loss = 0\n",
    "    for batch in train_dataloader:\n",
    "        # Forward pass\n",
    "        inputs = {k: v.to(device) for k, v in batch.items()}\n",
    "        outputs = model(input_ids=inputs['input_ids'], attention_mask=inputs['attention_mask'])\n",
    "        loss = ce_loss(outputs, inputs['labels'].long())\n",
    "\n",
    "        # Backward pass and optimize\n",
    "        loss.backward()\n",
    "        optimizer.step()\n",
    "        optimizer.zero_grad()\n",
    "\n",
    "        train_loss += loss.item()\n",
    "\n",
    "    # Validation\n",
    "    model.eval()  \n",
    "    val_loss = 0\n",
    "    with torch.no_grad():  # No need to compute gradients during validation\n",
    "        for batch in dev_dataloader:\n",
    "            inputs = {k: v.to(device) for k, v in batch.items()}\n",
    "            outputs = model(input_ids=inputs['input_ids'], attention_mask=inputs['attention_mask'])\n",
    "            loss = ce_loss(outputs, inputs['labels'].long())\n",
    "            val_loss += loss.item()\n",
    "\n",
    "    # Calculate average losses\n",
    "    avg_train_loss = train_loss / len(train_dataloader)\n",
    "    avg_val_loss = val_loss / len(dev_dataloader)\n",
    "\n",
    "    # Append the losses for plotting\n",
    "    train_losses.append(avg_train_loss)\n",
    "    val_losses.append(avg_val_loss)\n",
    "\n",
    "    print(f'Epoch {epoch+1}/{num_epochs}, Train Loss: {avg_train_loss:.4f}, Validation Loss: {avg_val_loss:.4f}')"
   ]
  },
  {
   "cell_type": "markdown",
   "metadata": {},
   "source": [
    "### Evaluation of Fine-Tuned Model\n",
    "- Evaluate fine-tuned model on test dataset of each language"
   ]
  },
  {
   "cell_type": "code",
   "execution_count": 10,
   "metadata": {
    "execution": {
     "iopub.execute_input": "2024-11-17T12:24:31.330702Z",
     "iopub.status.busy": "2024-11-17T12:24:31.330361Z",
     "iopub.status.idle": "2024-11-17T12:24:42.035276Z",
     "shell.execute_reply": "2024-11-17T12:24:42.034308Z",
     "shell.execute_reply.started": "2024-11-17T12:24:31.330669Z"
    },
    "trusted": true
   },
   "outputs": [
    {
     "name": "stdout",
     "output_type": "stream",
     "text": [
      "RESULTS FOR hi\n",
      "\n",
      "Accuracy: 0.8077\n",
      "Weighted F1-score: 0.8076\n",
      "Macro F1-score: 0.8072\n",
      "\n",
      "Classification Report\n",
      "              precision    recall  f1-score   support\n",
      "\n",
      "           0       0.81      0.83      0.82        81\n",
      "           1       0.81      0.79      0.80        75\n",
      "\n",
      "    accuracy                           0.81       156\n",
      "   macro avg       0.81      0.81      0.81       156\n",
      "weighted avg       0.81      0.81      0.81       156\n",
      "\n",
      "\n",
      "Confusion Matrix\n",
      "[[67 14]\n",
      " [16 59]]\n",
      "\n",
      "----------*******************---------------\n",
      "RESULTS FOR mr\n",
      "\n",
      "Accuracy: 0.7692\n",
      "Weighted F1-score: 0.7642\n",
      "Macro F1-score: 0.7626\n",
      "\n",
      "Classification Report\n",
      "              precision    recall  f1-score   support\n",
      "\n",
      "           0       0.72      0.90      0.80        81\n",
      "           1       0.85      0.63      0.72        75\n",
      "\n",
      "    accuracy                           0.77       156\n",
      "   macro avg       0.79      0.76      0.76       156\n",
      "weighted avg       0.79      0.77      0.76       156\n",
      "\n",
      "\n",
      "Confusion Matrix\n",
      "[[73  8]\n",
      " [28 47]]\n",
      "\n",
      "----------*******************---------------\n",
      "RESULTS FOR bn\n",
      "\n",
      "Accuracy: 0.6923\n",
      "Weighted F1-score: 0.6830\n",
      "Macro F1-score: 0.6848\n",
      "\n",
      "Classification Report\n",
      "              precision    recall  f1-score   support\n",
      "\n",
      "           0       0.82      0.52      0.64        81\n",
      "           1       0.63      0.88      0.73        75\n",
      "\n",
      "    accuracy                           0.69       156\n",
      "   macro avg       0.73      0.70      0.68       156\n",
      "weighted avg       0.73      0.69      0.68       156\n",
      "\n",
      "\n",
      "Confusion Matrix\n",
      "[[42 39]\n",
      " [ 9 66]]\n",
      "\n",
      "----------*******************---------------\n",
      "RESULTS FOR ta\n",
      "\n",
      "Accuracy: 0.5256\n",
      "Weighted F1-score: 0.4280\n",
      "Macro F1-score: 0.4367\n",
      "\n",
      "Classification Report\n",
      "              precision    recall  f1-score   support\n",
      "\n",
      "           0       0.77      0.12      0.21        81\n",
      "           1       0.50      0.96      0.66        75\n",
      "\n",
      "    accuracy                           0.53       156\n",
      "   macro avg       0.64      0.54      0.44       156\n",
      "weighted avg       0.64      0.53      0.43       156\n",
      "\n",
      "\n",
      "Confusion Matrix\n",
      "[[10 71]\n",
      " [ 3 72]]\n",
      "\n",
      "----------*******************---------------\n",
      "RESULTS FOR te\n",
      "\n",
      "Accuracy: 0.5962\n",
      "Weighted F1-score: 0.5960\n",
      "Macro F1-score: 0.5961\n",
      "\n",
      "Classification Report\n",
      "              precision    recall  f1-score   support\n",
      "\n",
      "           0       0.62      0.57      0.59        81\n",
      "           1       0.57      0.63      0.60        75\n",
      "\n",
      "    accuracy                           0.60       156\n",
      "   macro avg       0.60      0.60      0.60       156\n",
      "weighted avg       0.60      0.60      0.60       156\n",
      "\n",
      "\n",
      "Confusion Matrix\n",
      "[[46 35]\n",
      " [28 47]]\n",
      "\n",
      "----------*******************---------------\n"
     ]
    }
   ],
   "source": [
    "# Load datasets for each language\n",
    "languages = [\"hi\", \"mr\", \"bn\", \"ta\", \"te\"]\n",
    "\n",
    "from sklearn.metrics import accuracy_score\n",
    "from sklearn.metrics import classification_report\n",
    "from sklearn.metrics import confusion_matrix\n",
    "from sklearn.metrics import f1_score\n",
    "\n",
    "with torch.no_grad():\n",
    "    for lang in languages:\n",
    "        test_file = f\"/kaggle/working/CSE556-NLP-Project/Sentiment-Analysis-Experiments/Dataset/{lang}_test.csv\"\n",
    "        test_df = pd.read_csv(test_file)\n",
    "        test_dataloader = DataLoader(MultilingualSentimentAnalysis_Dataset(test_df, tokenizer), batch_size=16, shuffle=True)\n",
    "        \n",
    "        # Make list for predicted labels and ground truth labels\n",
    "        predicted_labels = []\n",
    "        labels = []\n",
    "\n",
    "        # Perform inference\n",
    "        for batch in test_dataloader:\n",
    "            inputs = {k: v.to(device) for k, v in batch.items()}\n",
    "            outputs = model(input_ids=inputs['input_ids'], attention_mask=inputs['attention_mask'])\n",
    "            predicted_labels.extend(torch.argmax(outputs, dim=1).tolist())\n",
    "            labels.extend(inputs['labels'].long().tolist())\n",
    "        \n",
    "\n",
    "        # Print results for a particular language\n",
    "        print(f\"RESULTS FOR {lang}\")\n",
    "        print()\n",
    "        # Calculate accuracy\n",
    "        accuracy = accuracy_score(labels, predicted_labels) \n",
    "        print(f'Accuracy: {accuracy:.4f}')\n",
    "\n",
    "        # Calculate F1-score\n",
    "        weighted_f1_score = f1_score(labels, predicted_labels, average='weighted')\n",
    "        macro_f1_score = f1_score(labels, predicted_labels, average='macro')\n",
    "        print(f'Weighted F1-score: {weighted_f1_score:.4f}')\n",
    "        print(f'Macro F1-score: {macro_f1_score:.4f}')\n",
    "        print()\n",
    "\n",
    "        # Print classification report\n",
    "        print(\"Classification Report\")\n",
    "        print(classification_report(labels, predicted_labels))\n",
    "        print()\n",
    "        # Print confusion matrix\n",
    "        print(\"Confusion Matrix\")\n",
    "        print(confusion_matrix(labels, predicted_labels))\n",
    "        print()\n",
    "        print(\"----------*******************---------------\")"
   ]
  },
  {
   "cell_type": "code",
   "execution_count": null,
   "metadata": {
    "execution": {
     "iopub.execute_input": "2024-11-17T12:24:42.036832Z",
     "iopub.status.busy": "2024-11-17T12:24:42.036503Z",
     "iopub.status.idle": "2024-11-17T12:24:42.286912Z",
     "shell.execute_reply": "2024-11-17T12:24:42.286136Z",
     "shell.execute_reply.started": "2024-11-17T12:24:42.036798Z"
    },
    "trusted": true
   },
   "outputs": [],
   "source": [
    "# Save Model and Tokenizer\n",
    "model_save_path = \"IndicBERT_SA_Hindi_FineTune.pth\"\n",
    "torch.save(model.state_dict(), model_save_path)"
   ]
  }
 ],
 "metadata": {
  "kaggle": {
   "accelerator": "nvidiaTeslaT4",
   "dataSources": [],
   "dockerImageVersionId": 30787,
   "isGpuEnabled": true,
   "isInternetEnabled": true,
   "language": "python",
   "sourceType": "notebook"
  },
  "kernelspec": {
   "display_name": "Python 3",
   "language": "python",
   "name": "python3"
  },
  "language_info": {
   "codemirror_mode": {
    "name": "ipython",
    "version": 3
   },
   "file_extension": ".py",
   "mimetype": "text/x-python",
   "name": "python",
   "nbconvert_exporter": "python",
   "pygments_lexer": "ipython3",
   "version": "3.10.14"
  }
 },
 "nbformat": 4,
 "nbformat_minor": 4
}
