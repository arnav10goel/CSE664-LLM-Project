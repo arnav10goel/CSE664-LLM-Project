{
 "cells": [
  {
   "cell_type": "code",
   "execution_count": 1,
   "id": "b63a17e9",
   "metadata": {
    "execution": {
     "iopub.execute_input": "2024-11-19T05:08:13.768845Z",
     "iopub.status.busy": "2024-11-19T05:08:13.768213Z",
     "iopub.status.idle": "2024-11-19T05:08:13.776258Z",
     "shell.execute_reply": "2024-11-19T05:08:13.775488Z"
    },
    "papermill": {
     "duration": 0.014647,
     "end_time": "2024-11-19T05:08:13.777925",
     "exception": false,
     "start_time": "2024-11-19T05:08:13.763278",
     "status": "completed"
    },
    "tags": [
     "parameters"
    ]
   },
   "outputs": [],
   "source": [
    "# Parameters\n",
    "language = 'hindi'"
   ]
  },
  {
   "cell_type": "code",
   "execution_count": 2,
   "id": "c991577d",
   "metadata": {
    "execution": {
     "iopub.execute_input": "2024-11-19T05:08:13.787591Z",
     "iopub.status.busy": "2024-11-19T05:08:13.786836Z",
     "iopub.status.idle": "2024-11-19T05:08:13.790362Z",
     "shell.execute_reply": "2024-11-19T05:08:13.789649Z"
    },
    "papermill": {
     "duration": 0.01002,
     "end_time": "2024-11-19T05:08:13.792038",
     "exception": false,
     "start_time": "2024-11-19T05:08:13.782018",
     "status": "completed"
    },
    "tags": [
     "injected-parameters"
    ]
   },
   "outputs": [],
   "source": [
    "# Parameters\n",
    "language = \"telugu\"\n"
   ]
  },
  {
   "cell_type": "code",
   "execution_count": 3,
   "id": "2c23f18c",
   "metadata": {
    "execution": {
     "iopub.execute_input": "2024-11-19T05:08:13.801757Z",
     "iopub.status.busy": "2024-11-19T05:08:13.801173Z",
     "iopub.status.idle": "2024-11-19T05:08:13.805784Z",
     "shell.execute_reply": "2024-11-19T05:08:13.804935Z"
    },
    "papermill": {
     "duration": 0.011545,
     "end_time": "2024-11-19T05:08:13.807547",
     "exception": false,
     "start_time": "2024-11-19T05:08:13.796002",
     "status": "completed"
    },
    "tags": []
   },
   "outputs": [
    {
     "name": "stdout",
     "output_type": "stream",
     "text": [
      "Running with lang: telugu\n"
     ]
    }
   ],
   "source": [
    "print(f\"Running with lang: {language}\")"
   ]
  },
  {
   "cell_type": "code",
   "execution_count": 4,
   "id": "734246b8",
   "metadata": {
    "execution": {
     "iopub.execute_input": "2024-11-19T05:08:13.817244Z",
     "iopub.status.busy": "2024-11-19T05:08:13.816670Z",
     "iopub.status.idle": "2024-11-19T05:08:17.478352Z",
     "shell.execute_reply": "2024-11-19T05:08:17.477920Z"
    },
    "papermill": {
     "duration": 3.668433,
     "end_time": "2024-11-19T05:08:17.480123",
     "exception": false,
     "start_time": "2024-11-19T05:08:13.811690",
     "status": "completed"
    },
    "tags": []
   },
   "outputs": [
    {
     "name": "stderr",
     "output_type": "stream",
     "text": [
      "2024-11-19 05:08:15.897924: E external/local_xla/xla/stream_executor/cuda/cuda_dnn.cc:9261] Unable to register cuDNN factory: Attempting to register factory for plugin cuDNN when one has already been registered\n",
      "2024-11-19 05:08:15.897952: E external/local_xla/xla/stream_executor/cuda/cuda_fft.cc:607] Unable to register cuFFT factory: Attempting to register factory for plugin cuFFT when one has already been registered\n",
      "2024-11-19 05:08:15.899309: E external/local_xla/xla/stream_executor/cuda/cuda_blas.cc:1515] Unable to register cuBLAS factory: Attempting to register factory for plugin cuBLAS when one has already been registered\n",
      "2024-11-19 05:08:15.905674: I tensorflow/core/platform/cpu_feature_guard.cc:182] This TensorFlow binary is optimized to use available CPU instructions in performance-critical operations.\n",
      "To enable the following instructions: AVX2 FMA, in other operations, rebuild TensorFlow with the appropriate compiler flags.\n"
     ]
    },
    {
     "name": "stderr",
     "output_type": "stream",
     "text": [
      "2024-11-19 05:08:16.654982: W tensorflow/compiler/tf2tensorrt/utils/py_utils.cc:38] TF-TRT Warning: Could not find TensorRT\n"
     ]
    }
   ],
   "source": [
    "import torch\n",
    "import torch.nn as nn\n",
    "import torch.optim as optim\n",
    "import torch.nn.functional as F\n",
    "from transformers import BertTokenizerFast, BertModel\n",
    "import pandas as pd\n",
    "from torch.utils.data import Dataset, DataLoader\n",
    "import numpy as np\n",
    "import string\n",
    "import json\n",
    "\n",
    "from transformers import AutoTokenizer, AutoModel"
   ]
  },
  {
   "cell_type": "code",
   "execution_count": null,
   "id": "c67c679b",
   "metadata": {
    "execution": {
     "iopub.execute_input": "2024-11-19T05:08:17.490439Z",
     "iopub.status.busy": "2024-11-19T05:08:17.489963Z",
     "iopub.status.idle": "2024-11-19T05:08:17.502194Z",
     "shell.execute_reply": "2024-11-19T05:08:17.501869Z"
    },
    "papermill": {
     "duration": 0.01884,
     "end_time": "2024-11-19T05:08:17.503718",
     "exception": false,
     "start_time": "2024-11-19T05:08:17.484878",
     "status": "completed"
    },
    "tags": []
   },
   "outputs": [],
   "source": [
    "# Load train data from json\n",
    "with open(f'/home/ashu/Desktop/sem7/llm/CSE664-LLM-Project/Cross-Attention-Embedding-Fusion/Dataset/{language}_train.json') as f:\n",
    "    train_data = json.load(f)\n",
    "\n",
    "# Load test data from json\n",
    "with open(f'/home/ashu/Desktop/sem7/llm/CSE664-LLM-Project/Cross-Attention-Embedding-Fusion/Dataset/{language}_test.json') as f:\n",
    "    test_data = json.load(f)"
   ]
  },
  {
   "cell_type": "code",
   "execution_count": 6,
   "id": "e6c325f8",
   "metadata": {
    "execution": {
     "iopub.execute_input": "2024-11-19T05:08:17.513392Z",
     "iopub.status.busy": "2024-11-19T05:08:17.513115Z",
     "iopub.status.idle": "2024-11-19T05:08:17.515372Z",
     "shell.execute_reply": "2024-11-19T05:08:17.515062Z"
    },
    "papermill": {
     "duration": 0.009492,
     "end_time": "2024-11-19T05:08:17.517561",
     "exception": false,
     "start_time": "2024-11-19T05:08:17.508069",
     "status": "completed"
    },
    "tags": []
   },
   "outputs": [
    {
     "name": "stdout",
     "output_type": "stream",
     "text": [
      "Running with lang: telugu\n"
     ]
    }
   ],
   "source": [
    "print(f\"Running with lang: {language}\")"
   ]
  },
  {
   "cell_type": "code",
   "execution_count": 7,
   "id": "e94df138",
   "metadata": {
    "execution": {
     "iopub.execute_input": "2024-11-19T05:08:17.527388Z",
     "iopub.status.busy": "2024-11-19T05:08:17.527272Z",
     "iopub.status.idle": "2024-11-19T05:08:18.014025Z",
     "shell.execute_reply": "2024-11-19T05:08:18.013368Z"
    },
    "papermill": {
     "duration": 0.493582,
     "end_time": "2024-11-19T05:08:18.015908",
     "exception": false,
     "start_time": "2024-11-19T05:08:17.522326",
     "status": "completed"
    },
    "tags": []
   },
   "outputs": [],
   "source": [
    "# Load tokeniser for MBERT\n",
    "tokenizer = BertTokenizerFast.from_pretrained('bert-base-multilingual-cased')"
   ]
  },
  {
   "cell_type": "code",
   "execution_count": 8,
   "id": "fdc10f7c",
   "metadata": {
    "execution": {
     "iopub.execute_input": "2024-11-19T05:08:18.026091Z",
     "iopub.status.busy": "2024-11-19T05:08:18.025959Z",
     "iopub.status.idle": "2024-11-19T05:08:18.031358Z",
     "shell.execute_reply": "2024-11-19T05:08:18.030860Z"
    },
    "papermill": {
     "duration": 0.012255,
     "end_time": "2024-11-19T05:08:18.032937",
     "exception": false,
     "start_time": "2024-11-19T05:08:18.020682",
     "status": "completed"
    },
    "tags": []
   },
   "outputs": [],
   "source": [
    "class NER_Dataset(Dataset):\n",
    "    def __init__(self, data, tokenizer, max_len=128):\n",
    "        self.data = data  # List of sentences and labels\n",
    "        self.tokenizer = tokenizer  # mBERT tokenizer\n",
    "        self.max_len = max_len\n",
    "\n",
    "    def __len__(self):\n",
    "        return len(self.data)\n",
    "\n",
    "    def __getitem__(self, idx):\n",
    "        text = self.data[idx][\"tokens\"]\n",
    "        word_labels = self.data[idx][\"ner_tags\"]\n",
    "\n",
    "        # Tokenize the text and align the labels\n",
    "        encoding = self.tokenizer(text,\n",
    "                                  is_split_into_words=True,\n",
    "                                  return_offsets_mapping=True,\n",
    "                                  padding='max_length',\n",
    "                                  truncation=True,\n",
    "                                  max_length=self.max_len)\n",
    "\n",
    "        labels = [self.align_labels(encoding['offset_mapping'], word_labels)]\n",
    "\n",
    "        # Remove the offset mapping to prevent issues during model training\n",
    "        del encoding['offset_mapping']\n",
    "\n",
    "        item = {key: torch.tensor(val) for key, val in encoding.items()}\n",
    "        item['labels'] = torch.tensor(labels[0], dtype=torch.long)\n",
    "\n",
    "        return item\n",
    "    \n",
    "    # Create a function to align labels\n",
    "    def align_labels(self, offset_mapping, labels):\n",
    "        aligned_labels = []\n",
    "        current_label_index = 0\n",
    "\n",
    "        for offset in offset_mapping:\n",
    "            # If the offset mapping is (0, 0), it's a special token ([CLS], [SEP], [PAD])\n",
    "            if offset == (0, 0):\n",
    "                aligned_labels.append(-100)  # -100 is used to ignore these tokens in the loss computation\n",
    "            else:\n",
    "                # Check if the token is the start of a new word\n",
    "                if offset[0] == 0:\n",
    "                    aligned_labels.append(labels[current_label_index])\n",
    "                    current_label_index += 1\n",
    "                else:\n",
    "                    # If the token is not the first subtoken, you can decide how to label it. \n",
    "                    # For simplicity, let's use the same label as the first subtoken\n",
    "                    aligned_labels.append(labels[current_label_index - 1])\n",
    "\n",
    "        return aligned_labels\n"
   ]
  },
  {
   "cell_type": "code",
   "execution_count": 9,
   "id": "0d3d94bf",
   "metadata": {
    "execution": {
     "iopub.execute_input": "2024-11-19T05:08:18.042704Z",
     "iopub.status.busy": "2024-11-19T05:08:18.042585Z",
     "iopub.status.idle": "2024-11-19T05:08:18.045732Z",
     "shell.execute_reply": "2024-11-19T05:08:18.045171Z"
    },
    "papermill": {
     "duration": 0.009739,
     "end_time": "2024-11-19T05:08:18.047266",
     "exception": false,
     "start_time": "2024-11-19T05:08:18.037527",
     "status": "completed"
    },
    "tags": []
   },
   "outputs": [],
   "source": [
    "# Create train dataset and test dataset\n",
    "train_dataset = NER_Dataset(train_data, tokenizer)\n",
    "test_dataset = NER_Dataset(test_data, tokenizer)\n",
    "\n",
    "# Create train dataloader and test dataloader\n",
    "train_dataloader = DataLoader(train_dataset, batch_size=32, shuffle=True)\n",
    "test_dataloader = DataLoader(test_dataset, batch_size=32, shuffle=False)"
   ]
  },
  {
   "cell_type": "code",
   "execution_count": 10,
   "id": "cd1d1079",
   "metadata": {
    "execution": {
     "iopub.execute_input": "2024-11-19T05:08:18.057415Z",
     "iopub.status.busy": "2024-11-19T05:08:18.057298Z",
     "iopub.status.idle": "2024-11-19T05:08:18.138544Z",
     "shell.execute_reply": "2024-11-19T05:08:18.138054Z"
    },
    "papermill": {
     "duration": 0.088186,
     "end_time": "2024-11-19T05:08:18.140060",
     "exception": false,
     "start_time": "2024-11-19T05:08:18.051874",
     "status": "completed"
    },
    "tags": []
   },
   "outputs": [
    {
     "data": {
      "text/plain": [
       "'cuda'"
      ]
     },
     "execution_count": 10,
     "metadata": {},
     "output_type": "execute_result"
    }
   ],
   "source": [
    "DEVICE = 'cuda' if torch.cuda.is_available() else 'cpu'\n",
    "DEVICE"
   ]
  },
  {
   "cell_type": "code",
   "execution_count": 11,
   "id": "199871b2",
   "metadata": {
    "execution": {
     "iopub.execute_input": "2024-11-19T05:08:18.150742Z",
     "iopub.status.busy": "2024-11-19T05:08:18.150623Z",
     "iopub.status.idle": "2024-11-19T05:08:18.154766Z",
     "shell.execute_reply": "2024-11-19T05:08:18.154263Z"
    },
    "papermill": {
     "duration": 0.01117,
     "end_time": "2024-11-19T05:08:18.156342",
     "exception": false,
     "start_time": "2024-11-19T05:08:18.145172",
     "status": "completed"
    },
    "tags": []
   },
   "outputs": [],
   "source": [
    "import torch\n",
    "import torch.nn as nn\n",
    "\n",
    "class CrossAttentionFusion(nn.Module):\n",
    "    def __init__(self, hidden_dim, num_heads):\n",
    "        super(CrossAttentionFusion, self).__init__()\n",
    "        self.cross_attention = nn.MultiheadAttention(embed_dim=hidden_dim, num_heads=num_heads)\n",
    "        self.layer_norm = nn.LayerNorm(hidden_dim)\n",
    "\n",
    "    def forward(self, embeddings_mbert, embeddings_indicbert):\n",
    "        \"\"\"\n",
    "        Fuse embeddings from mBERT and Indic-BERT using cross-attention.\n",
    "\n",
    "        Args:\n",
    "            embeddings_mbert (torch.Tensor): Embeddings from mBERT of shape [batch_size, seq_len_m, hidden_dim].\n",
    "            embeddings_indicbert (torch.Tensor): Embeddings from Indic-BERT of shape [batch_size, seq_len_i, hidden_dim].\n",
    "\n",
    "        Returns:\n",
    "            torch.Tensor: Fused embeddings of shape [batch_size, seq_len_m, hidden_dim].\n",
    "        \"\"\"\n",
    "        embeddings_mbert = embeddings_mbert.to(DEVICE)\n",
    "        embeddings_indicbert = embeddings_indicbert.to(DEVICE)\n",
    "        \n",
    "        # Transpose to shape [seq_len, batch_size, hidden_dim] for nn.MultiheadAttention\n",
    "        embeddings_mbert = embeddings_mbert.transpose(0, 1)\n",
    "        embeddings_indicbert = embeddings_indicbert.transpose(0, 1)\n",
    "\n",
    "        # Cross-attention: Indic BERT queries attend to m-BERT keys and values\n",
    "        attn_output, _ = self.cross_attention(\n",
    "            query=embeddings_indicbert,       # Queries from Indic-BERT\n",
    "            key=embeddings_mbert,     # Keys from m-BERT\n",
    "            value=embeddings_mbert    # Values from m-BERT\n",
    "        )\n",
    "\n",
    "        attn_output.to(DEVICE)\n",
    "\n",
    "        # Residual connection and layer normalization\n",
    "        output = self.layer_norm(attn_output + embeddings_mbert)\n",
    "\n",
    "        # Transpose back to [batch_size, seq_len_m, hidden_dim]\n",
    "        output = output.transpose(0, 1)\n",
    "\n",
    "        return output"
   ]
  },
  {
   "cell_type": "code",
   "execution_count": 12,
   "id": "9a2b72f8",
   "metadata": {
    "execution": {
     "iopub.execute_input": "2024-11-19T05:08:18.167039Z",
     "iopub.status.busy": "2024-11-19T05:08:18.166922Z",
     "iopub.status.idle": "2024-11-19T05:08:18.169367Z",
     "shell.execute_reply": "2024-11-19T05:08:18.168847Z"
    },
    "papermill": {
     "duration": 0.009737,
     "end_time": "2024-11-19T05:08:18.170993",
     "exception": false,
     "start_time": "2024-11-19T05:08:18.161256",
     "status": "completed"
    },
    "tags": []
   },
   "outputs": [],
   "source": [
    "hidden_dim = 768\n",
    "num_heads = 4"
   ]
  },
  {
   "cell_type": "code",
   "execution_count": 13,
   "id": "89676a7f",
   "metadata": {
    "execution": {
     "iopub.execute_input": "2024-11-19T05:08:18.181734Z",
     "iopub.status.busy": "2024-11-19T05:08:18.181563Z",
     "iopub.status.idle": "2024-11-19T05:08:19.686778Z",
     "shell.execute_reply": "2024-11-19T05:08:19.686184Z"
    },
    "papermill": {
     "duration": 1.512477,
     "end_time": "2024-11-19T05:08:19.688418",
     "exception": false,
     "start_time": "2024-11-19T05:08:18.175941",
     "status": "completed"
    },
    "tags": []
   },
   "outputs": [
    {
     "data": {
      "text/plain": [
       "MBERT_NER(\n",
       "  (bert): BertModel(\n",
       "    (embeddings): BertEmbeddings(\n",
       "      (word_embeddings): Embedding(119547, 768, padding_idx=0)\n",
       "      (position_embeddings): Embedding(512, 768)\n",
       "      (token_type_embeddings): Embedding(2, 768)\n",
       "      (LayerNorm): LayerNorm((768,), eps=1e-12, elementwise_affine=True)\n",
       "      (dropout): Dropout(p=0.1, inplace=False)\n",
       "    )\n",
       "    (encoder): BertEncoder(\n",
       "      (layer): ModuleList(\n",
       "        (0-11): 12 x BertLayer(\n",
       "          (attention): BertAttention(\n",
       "            (self): BertSdpaSelfAttention(\n",
       "              (query): Linear(in_features=768, out_features=768, bias=True)\n",
       "              (key): Linear(in_features=768, out_features=768, bias=True)\n",
       "              (value): Linear(in_features=768, out_features=768, bias=True)\n",
       "              (dropout): Dropout(p=0.1, inplace=False)\n",
       "            )\n",
       "            (output): BertSelfOutput(\n",
       "              (dense): Linear(in_features=768, out_features=768, bias=True)\n",
       "              (LayerNorm): LayerNorm((768,), eps=1e-12, elementwise_affine=True)\n",
       "              (dropout): Dropout(p=0.1, inplace=False)\n",
       "            )\n",
       "          )\n",
       "          (intermediate): BertIntermediate(\n",
       "            (dense): Linear(in_features=768, out_features=3072, bias=True)\n",
       "            (intermediate_act_fn): GELUActivation()\n",
       "          )\n",
       "          (output): BertOutput(\n",
       "            (dense): Linear(in_features=3072, out_features=768, bias=True)\n",
       "            (LayerNorm): LayerNorm((768,), eps=1e-12, elementwise_affine=True)\n",
       "            (dropout): Dropout(p=0.1, inplace=False)\n",
       "          )\n",
       "        )\n",
       "      )\n",
       "    )\n",
       "    (pooler): BertPooler(\n",
       "      (dense): Linear(in_features=768, out_features=768, bias=True)\n",
       "      (activation): Tanh()\n",
       "    )\n",
       "  )\n",
       "  (indic_bert): AlbertModel(\n",
       "    (embeddings): AlbertEmbeddings(\n",
       "      (word_embeddings): Embedding(200000, 128, padding_idx=0)\n",
       "      (position_embeddings): Embedding(512, 128)\n",
       "      (token_type_embeddings): Embedding(2, 128)\n",
       "      (LayerNorm): LayerNorm((128,), eps=1e-12, elementwise_affine=True)\n",
       "      (dropout): Dropout(p=0, inplace=False)\n",
       "    )\n",
       "    (encoder): AlbertTransformer(\n",
       "      (embedding_hidden_mapping_in): Linear(in_features=128, out_features=768, bias=True)\n",
       "      (albert_layer_groups): ModuleList(\n",
       "        (0): AlbertLayerGroup(\n",
       "          (albert_layers): ModuleList(\n",
       "            (0): AlbertLayer(\n",
       "              (full_layer_layer_norm): LayerNorm((768,), eps=1e-12, elementwise_affine=True)\n",
       "              (attention): AlbertSdpaAttention(\n",
       "                (query): Linear(in_features=768, out_features=768, bias=True)\n",
       "                (key): Linear(in_features=768, out_features=768, bias=True)\n",
       "                (value): Linear(in_features=768, out_features=768, bias=True)\n",
       "                (attention_dropout): Dropout(p=0, inplace=False)\n",
       "                (output_dropout): Dropout(p=0, inplace=False)\n",
       "                (dense): Linear(in_features=768, out_features=768, bias=True)\n",
       "                (LayerNorm): LayerNorm((768,), eps=1e-12, elementwise_affine=True)\n",
       "              )\n",
       "              (ffn): Linear(in_features=768, out_features=3072, bias=True)\n",
       "              (ffn_output): Linear(in_features=3072, out_features=768, bias=True)\n",
       "              (activation): GELUActivation()\n",
       "              (dropout): Dropout(p=0, inplace=False)\n",
       "            )\n",
       "          )\n",
       "        )\n",
       "      )\n",
       "    )\n",
       "    (pooler): Linear(in_features=768, out_features=768, bias=True)\n",
       "    (pooler_activation): Tanh()\n",
       "  )\n",
       "  (attention): CrossAttentionFusion(\n",
       "    (cross_attention): MultiheadAttention(\n",
       "      (out_proj): NonDynamicallyQuantizableLinear(in_features=768, out_features=768, bias=True)\n",
       "    )\n",
       "    (layer_norm): LayerNorm((768,), eps=1e-05, elementwise_affine=True)\n",
       "  )\n",
       "  (gru): GRU(2304, 128, batch_first=True)\n",
       "  (classifier): Linear(in_features=128, out_features=7, bias=True)\n",
       "  (dropout): Dropout(p=0.1, inplace=False)\n",
       "  (batch_norm): BatchNorm1d(128, eps=1e-05, momentum=0.1, affine=True, track_running_stats=True)\n",
       ")"
      ]
     },
     "execution_count": 13,
     "metadata": {},
     "output_type": "execute_result"
    }
   ],
   "source": [
    "# Model for NER\n",
    "\n",
    "class MBERT_NER(nn.Module):\n",
    "    def __init__(self, num_labels, gru_hidden_size, num_gru_layers, freeze_bert=False):\n",
    "        super(MBERT_NER, self).__init__()\n",
    "\n",
    "        self.bert = BertModel.from_pretrained(\"bert-base-multilingual-cased\")\n",
    "        self.indic_bert = AutoModel.from_pretrained(\"ai4bharat/indic-bert\")\n",
    "        \n",
    "        # Initialize the Fusion Attention\n",
    "        self.attention = CrossAttentionFusion(hidden_dim=hidden_dim, num_heads=num_heads).to(DEVICE)\n",
    "        \n",
    "        self.gru = nn.GRU(input_size=self.bert.config.hidden_size * 3,\n",
    "                          hidden_size=gru_hidden_size,\n",
    "                          num_layers=num_gru_layers,\n",
    "                          batch_first=True)\n",
    "        self.classifier = nn.Linear(gru_hidden_size, num_labels)\n",
    "        self.dropout = nn.Dropout(0.1)\n",
    "        self.batch_norm = nn.BatchNorm1d(gru_hidden_size)\n",
    "\n",
    "        if freeze_bert:\n",
    "            for param in self.bert.parameters():\n",
    "                param.requires_grad = False\n",
    "            for param in self.indic_bert.parameters():\n",
    "                param.requires_grad = False\n",
    "\n",
    "    def forward(self, input_ids, attention_mask):\n",
    "        \n",
    "        input_ids = input_ids.to(DEVICE)\n",
    "        attention_mask = attention_mask.to(DEVICE)\n",
    "        \n",
    "        # Embeddings\n",
    "        outputs1 = self.bert(input_ids=input_ids, attention_mask=attention_mask)\n",
    "        outputs2 = self.indic_bert(input_ids = input_ids, attention_mask = attention_mask)        \n",
    "        \n",
    "        embeddings_mbert = outputs1.last_hidden_state.to(DEVICE)\n",
    "        embeddings_indicbert = outputs2.last_hidden_state.to(DEVICE)\n",
    "        \n",
    "        # Fused embeddings\n",
    "        embeddings = self.attention(embeddings_mbert, embeddings_indicbert).to(DEVICE)\n",
    "        \n",
    "        sequence_output = torch.cat((embeddings_mbert, embeddings_indicbert, embeddings), dim=-1)\n",
    "        \n",
    "        gru_output, _ = self.gru(sequence_output)\n",
    "        gru_output = self.batch_norm(gru_output)\n",
    "        gru_output = self.dropout(gru_output)\n",
    "        \n",
    "        logits = self.classifier(gru_output)\n",
    "        return logits\n",
    "\n",
    "# Create the NER model\n",
    "NUM_LABELS = 7 # Number of NER tags\n",
    "GRU_HIDDEN_SIZE = 128 # Hidden size of the GRU\n",
    "NUM_GRU_LAYERS = 1 # Number of layers in the GRU\n",
    "FREEZE_BERT = False # Whether to freeze the BERT model\n",
    "DEVICE = 'cuda' if torch.cuda.is_available() else 'cpu'\n",
    "\n",
    "model = MBERT_NER(num_labels=NUM_LABELS,\n",
    "                    gru_hidden_size=GRU_HIDDEN_SIZE,\n",
    "                    num_gru_layers=NUM_GRU_LAYERS,\n",
    "                    freeze_bert=FREEZE_BERT)\n",
    "\n",
    "model.to(DEVICE)"
   ]
  },
  {
   "cell_type": "code",
   "execution_count": 14,
   "id": "82192b24",
   "metadata": {
    "execution": {
     "iopub.execute_input": "2024-11-19T05:08:19.806538Z",
     "iopub.status.busy": "2024-11-19T05:08:19.806403Z",
     "iopub.status.idle": "2024-11-19T05:08:19.809258Z",
     "shell.execute_reply": "2024-11-19T05:08:19.808731Z"
    },
    "papermill": {
     "duration": 0.084417,
     "end_time": "2024-11-19T05:08:19.810727",
     "exception": false,
     "start_time": "2024-11-19T05:08:19.726310",
     "status": "completed"
    },
    "tags": []
   },
   "outputs": [],
   "source": [
    "torch.cuda.empty_cache()"
   ]
  },
  {
   "cell_type": "code",
   "execution_count": 15,
   "id": "4e7aceb0",
   "metadata": {
    "execution": {
     "iopub.execute_input": "2024-11-19T05:08:19.912753Z",
     "iopub.status.busy": "2024-11-19T05:08:19.912232Z",
     "iopub.status.idle": "2024-11-19T05:10:18.670464Z",
     "shell.execute_reply": "2024-11-19T05:10:18.669694Z"
    },
    "papermill": {
     "duration": 118.805027,
     "end_time": "2024-11-19T05:10:18.678065",
     "exception": false,
     "start_time": "2024-11-19T05:08:19.873038",
     "status": "completed"
    },
    "tags": []
   },
   "outputs": [
    {
     "name": "stdout",
     "output_type": "stream",
     "text": [
      "Epoch 1/6, Train Loss: 0.7744, Train F1: 0.4672, Train Acc: 0.7544, Val Loss: 0.4183, Val F1: 0.6927, Val Acc: 0.8773\n"
     ]
    },
    {
     "name": "stdout",
     "output_type": "stream",
     "text": [
      "Epoch 2/6, Train Loss: 0.3495, Train F1: 0.7597, Train Acc: 0.8953, Val Loss: 0.3473, Val F1: 0.7859, Val Acc: 0.8987\n"
     ]
    },
    {
     "name": "stdout",
     "output_type": "stream",
     "text": [
      "Epoch 3/6, Train Loss: 0.2342, Train F1: 0.8480, Train Acc: 0.9322, Val Loss: 0.2876, Val F1: 0.8472, Val Acc: 0.9247\n"
     ]
    },
    {
     "name": "stdout",
     "output_type": "stream",
     "text": [
      "Epoch 4/6, Train Loss: 0.1590, Train F1: 0.9060, Train Acc: 0.9545, Val Loss: 0.2756, Val F1: 0.8526, Val Acc: 0.9246\n"
     ]
    },
    {
     "name": "stdout",
     "output_type": "stream",
     "text": [
      "Epoch 5/6, Train Loss: 0.1134, Train F1: 0.9391, Train Acc: 0.9700, Val Loss: 0.2699, Val F1: 0.8574, Val Acc: 0.9264\n"
     ]
    },
    {
     "name": "stdout",
     "output_type": "stream",
     "text": [
      "Epoch 6/6, Train Loss: 0.0831, Train F1: 0.9599, Train Acc: 0.9798, Val Loss: 0.2794, Val F1: 0.8678, Val Acc: 0.9319\n"
     ]
    }
   ],
   "source": [
    "from sklearn.metrics import f1_score, accuracy_score\n",
    "\n",
    "# Optimizer and loss function\n",
    "optimizer = optim.AdamW(model.parameters(), lr=2e-5)\n",
    "criterion = nn.CrossEntropyLoss(ignore_index=-100)\n",
    "\n",
    "# Training loop\n",
    "EPOCHS = 6\n",
    "\n",
    "train_losses = []\n",
    "train_f1_scores = []\n",
    "train_acc_scores = []\n",
    "val_losses = []\n",
    "val_f1_scores = []\n",
    "val_acc_scores = []\n",
    "\n",
    "\n",
    "for epoch in range(EPOCHS):\n",
    "    model.train()\n",
    "    train_loss = 0\n",
    "    train_predictions, train_labels = [], []\n",
    "\n",
    "    for batch in train_dataloader:\n",
    "        input_ids = batch['input_ids'].to(DEVICE)\n",
    "        attention_mask = batch['attention_mask'].to(DEVICE)\n",
    "        labels = batch['labels'].to(DEVICE)\n",
    "\n",
    "        optimizer.zero_grad()\n",
    "        logits = model(input_ids, attention_mask)\n",
    "        logits = logits.view(-1, NUM_LABELS)\n",
    "        labels = labels.view(-1)\n",
    "\n",
    "        loss = criterion(logits, labels)\n",
    "        loss.backward()\n",
    "        optimizer.step()\n",
    "\n",
    "        train_loss += loss.item()\n",
    "\n",
    "        # Get predictions and filter out ignored indices for metric calculations\n",
    "        predictions = torch.argmax(logits, dim=-1)\n",
    "        active_indices = labels != -100\n",
    "        train_predictions.extend(predictions[active_indices].cpu().numpy())\n",
    "        train_labels.extend(labels[active_indices].cpu().numpy())\n",
    "\n",
    "    train_loss /= len(train_dataloader)\n",
    "    train_losses.append(train_loss)\n",
    "\n",
    "    train_f1 = f1_score(train_labels, train_predictions, average='macro')\n",
    "    train_f1_scores.append(train_f1)\n",
    "\n",
    "    train_acc = accuracy_score(train_labels, train_predictions)\n",
    "    train_acc_scores.append(train_acc)\n",
    "\n",
    "    # Validation loop\n",
    "    model.eval()\n",
    "    val_loss = 0\n",
    "    val_predictions, val_labels = [], []\n",
    "\n",
    "    with torch.no_grad():\n",
    "        for batch in test_dataloader:\n",
    "            input_ids = batch['input_ids'].to(DEVICE)\n",
    "            attention_mask = batch['attention_mask'].to(DEVICE)\n",
    "            labels = batch['labels'].to(DEVICE)\n",
    "\n",
    "            logits = model(input_ids, attention_mask)\n",
    "            logits = logits.view(-1, NUM_LABELS)\n",
    "            labels = labels.view(-1)\n",
    "\n",
    "            loss = criterion(logits, labels)\n",
    "            val_loss += loss.item()\n",
    "\n",
    "            # Filter predictions and labels\n",
    "            predictions = torch.argmax(logits, dim=-1)\n",
    "            active_indices = labels != -100\n",
    "            val_predictions.extend(predictions[active_indices].cpu().numpy())\n",
    "            val_labels.extend(labels[active_indices].cpu().numpy())\n",
    "\n",
    "    val_loss /= len(test_dataloader)\n",
    "    val_losses.append(val_loss)\n",
    "\n",
    "    val_f1 = f1_score(val_labels, val_predictions, average='macro')\n",
    "    val_f1_scores.append(val_f1)\n",
    "\n",
    "    val_acc = accuracy_score(val_labels, val_predictions)\n",
    "    val_acc_scores.append(val_acc)\n",
    "\n",
    "    print(f\"Epoch {epoch + 1}/{EPOCHS}, Train Loss: {train_loss:.4f}, Train F1: {train_f1:.4f}, Train Acc: {train_acc:.4f}, Val Loss: {val_loss:.4f}, Val F1: {val_f1:.4f}, Val Acc: {val_acc:.4f}\")"
   ]
  },
  {
   "cell_type": "code",
   "execution_count": 16,
   "id": "e11f864b",
   "metadata": {
    "execution": {
     "iopub.execute_input": "2024-11-19T05:10:18.691089Z",
     "iopub.status.busy": "2024-11-19T05:10:18.690831Z",
     "iopub.status.idle": "2024-11-19T05:10:34.935739Z",
     "shell.execute_reply": "2024-11-19T05:10:34.935124Z"
    },
    "papermill": {
     "duration": 16.253347,
     "end_time": "2024-11-19T05:10:34.937344",
     "exception": false,
     "start_time": "2024-11-19T05:10:18.683997",
     "status": "completed"
    },
    "tags": []
   },
   "outputs": [
    {
     "name": "stdout",
     "output_type": "stream",
     "text": [
      "Language: Hindi\n",
      "\n",
      "Weighted F1: 0.7709\n",
      "Macro F1: 0.7171\n",
      "Accuracy: 0.7717\n",
      "\n",
      "CLASSIFICATION REPORT: \n",
      "              precision    recall  f1-score   support\n",
      "\n",
      "           0       0.84      0.87      0.85      5277\n",
      "           1       0.83      0.74      0.78      1481\n",
      "           2       0.78      0.82      0.80      1874\n",
      "           3       0.57      0.63      0.60       986\n",
      "           4       0.77      0.74      0.75      2602\n",
      "           5       0.73      0.68      0.70      1195\n",
      "           6       0.55      0.51      0.53       867\n",
      "\n",
      "    accuracy                           0.77     14282\n",
      "   macro avg       0.72      0.71      0.72     14282\n",
      "weighted avg       0.77      0.77      0.77     14282\n",
      "\n",
      "\n",
      "CONFUSION MATRIX: \n",
      "[[4592  162  163  212   63   49   36]\n",
      " [  52 1097  141   87   41   50   13]\n",
      " [  98   14 1528    2  146    5   81]\n",
      " [ 110   34    4  618   92  104   24]\n",
      " [ 414    4   76   36 1935   22  115]\n",
      " [  94   15    5  116   62  809   94]\n",
      " [ 126    0   42    4  187   65  443]]\n",
      "--------------------------------------------------\n"
     ]
    },
    {
     "name": "stdout",
     "output_type": "stream",
     "text": [
      "Language: Bengali\n",
      "\n",
      "Weighted F1: 0.7075\n",
      "Macro F1: 0.7097\n",
      "Accuracy: 0.7106\n",
      "\n",
      "CLASSIFICATION REPORT: \n",
      "              precision    recall  f1-score   support\n",
      "\n",
      "           0       0.64      0.93      0.75      1835\n",
      "           1       0.89      0.70      0.78      1343\n",
      "           2       0.85      0.71      0.77      2490\n",
      "           3       0.65      0.81      0.72      1239\n",
      "           4       0.67      0.75      0.71      3068\n",
      "           5       0.75      0.62      0.68      1510\n",
      "           6       0.65      0.48      0.55      2080\n",
      "\n",
      "    accuracy                           0.71     13565\n",
      "   macro avg       0.73      0.71      0.71     13565\n",
      "weighted avg       0.72      0.71      0.71     13565\n",
      "\n",
      "\n",
      "CONFUSION MATRIX: \n",
      "[[1702    8   17   17   45   12   34]\n",
      " [  53  938   20  204   15  113    0]\n",
      " [ 168   17 1762    8  343    0  192]\n",
      " [  53   45    0 1000   21  119    1]\n",
      " [ 315    2  134   31 2304   13  269]\n",
      " [ 175   46    0  271   33  932   53]\n",
      " [ 214    0  133    4  678   50 1001]]\n",
      "--------------------------------------------------\n"
     ]
    },
    {
     "name": "stdout",
     "output_type": "stream",
     "text": [
      "Language: Marathi\n",
      "\n",
      "Weighted F1: 0.8115\n",
      "Macro F1: 0.7082\n",
      "Accuracy: 0.8195\n",
      "\n",
      "CLASSIFICATION REPORT: \n",
      "              precision    recall  f1-score   support\n",
      "\n",
      "           0       0.86      0.96      0.90     10408\n",
      "           1       0.84      0.79      0.81      1342\n",
      "           2       0.84      0.77      0.80      1992\n",
      "           3       0.70      0.61      0.65      1172\n",
      "           4       0.79      0.69      0.74      2535\n",
      "           5       0.74      0.67      0.70      1829\n",
      "           6       0.44      0.28      0.34       820\n",
      "\n",
      "    accuracy                           0.82     20098\n",
      "   macro avg       0.74      0.68      0.71     20098\n",
      "weighted avg       0.81      0.82      0.81     20098\n",
      "\n",
      "\n",
      "CONFUSION MATRIX: \n",
      "[[9947   68   76   67   48   97  105]\n",
      " [ 146 1066   34   60    0   35    1]\n",
      " [ 178   52 1525    3  137   57   40]\n",
      " [ 160   69    1  716   54  161   11]\n",
      " [ 509    5  141   24 1758   10   88]\n",
      " [ 372   15    4  154   11 1232   41]\n",
      " [ 286    0   24    4  205   75  226]]\n",
      "--------------------------------------------------\n"
     ]
    },
    {
     "name": "stdout",
     "output_type": "stream",
     "text": [
      "Language: Tamil\n",
      "\n",
      "Weighted F1: 0.7972\n",
      "Macro F1: 0.6859\n",
      "Accuracy: 0.8022\n",
      "\n",
      "CLASSIFICATION REPORT: \n",
      "              precision    recall  f1-score   support\n",
      "\n",
      "           0       0.87      0.94      0.91     11461\n",
      "           1       0.78      0.65      0.71      1643\n",
      "           2       0.85      0.70      0.77      2295\n",
      "           3       0.59      0.46      0.52      1512\n",
      "           4       0.69      0.70      0.69      2532\n",
      "           5       0.71      0.76      0.73      1881\n",
      "           6       0.48      0.48      0.48       677\n",
      "\n",
      "    accuracy                           0.80     22001\n",
      "   macro avg       0.71      0.67      0.69     22001\n",
      "weighted avg       0.80      0.80      0.80     22001\n",
      "\n",
      "\n",
      "CONFUSION MATRIX: \n",
      "[[10782   150    37   133   166   115    78]\n",
      " [  183  1062   145   148    34    68     3]\n",
      " [  268   109  1603    22   231     0    62]\n",
      " [  217    43     0   692   198   340    22]\n",
      " [  533     0    72    24  1768    20   115]\n",
      " [  216     0    11   156    14  1421    63]\n",
      " [  155     0    13     0   152    35   322]]\n",
      "--------------------------------------------------\n"
     ]
    },
    {
     "name": "stdout",
     "output_type": "stream",
     "text": [
      "Language: Telugu\n",
      "\n",
      "Weighted F1: 0.9317\n",
      "Macro F1: 0.8678\n",
      "Accuracy: 0.9319\n",
      "\n",
      "CLASSIFICATION REPORT: \n",
      "              precision    recall  f1-score   support\n",
      "\n",
      "           0       0.97      0.97      0.97     17291\n",
      "           1       0.88      0.83      0.86      1810\n",
      "           2       0.88      0.93      0.90      1353\n",
      "           3       0.80      0.75      0.78      1375\n",
      "           4       0.92      0.88      0.90      2269\n",
      "           5       0.86      0.90      0.88      2072\n",
      "           6       0.74      0.84      0.79       455\n",
      "\n",
      "    accuracy                           0.93     26625\n",
      "   macro avg       0.86      0.87      0.87     26625\n",
      "weighted avg       0.93      0.93      0.93     26625\n",
      "\n",
      "\n",
      "CONFUSION MATRIX: \n",
      "[[16756   107    33   116    86   153    40]\n",
      " [  140  1505    35    75     0    55     0]\n",
      " [   55     9  1255     0    30     0     4]\n",
      " [  142    73     4  1033    21    97     5]\n",
      " [  100     0    85     8  2005     9    62]\n",
      " [  101     8     0    57    12  1873    21]\n",
      " [   27     0    14     1    26     3   384]]\n",
      "--------------------------------------------------\n"
     ]
    }
   ],
   "source": [
    "from sklearn.metrics import f1_score\n",
    "from sklearn.metrics import accuracy_score\n",
    "from sklearn.metrics import classification_report\n",
    "from sklearn.metrics import confusion_matrix\n",
    "\n",
    "# Load the test data from json for all 5 languages\n",
    "languages = ['hindi', 'bengali', 'marathi', 'tamil', 'telugu']\n",
    "\n",
    "# Iterate over all languages and evaluate the model\n",
    "for lang in languages:\n",
    "    with open(f'/home/vijay/slim_sense/SHARPax/Python_code/test/NER-Experiments/Dataset/{lang}_test.json') as f:\n",
    "        test_data = json.load(f)\n",
    "\n",
    "    test_dataset = NER_Dataset(test_data, tokenizer)\n",
    "    test_dataloader = DataLoader(test_dataset, batch_size=32, shuffle=False)\n",
    "\n",
    "    model.eval()\n",
    "    test_predictions, test_labels = [], []\n",
    "\n",
    "    with torch.no_grad():\n",
    "        for batch in test_dataloader:\n",
    "            input_ids = batch['input_ids'].to(DEVICE)\n",
    "            attention_mask = batch['attention_mask'].to(DEVICE)\n",
    "            labels = batch['labels'].to(DEVICE)\n",
    "\n",
    "            logits = model(input_ids, attention_mask)\n",
    "            logits = logits.view(-1, NUM_LABELS)\n",
    "            labels = labels.view(-1)\n",
    "\n",
    "            # Filter predictions and labels\n",
    "            predictions = torch.argmax(logits, dim=-1)\n",
    "            active_indices = labels != -100\n",
    "            test_predictions.extend(predictions[active_indices].cpu().numpy())\n",
    "            test_labels.extend(labels[active_indices].cpu().numpy())\n",
    "\n",
    "    weighted_f1 = f1_score(test_labels, test_predictions, average='weighted')\n",
    "    macro_f1 = f1_score(test_labels, test_predictions, average='macro')\n",
    "    accuracy = accuracy_score(test_labels, test_predictions)\n",
    "\n",
    "    if lang == 'hindi':\n",
    "        LANG = \"Hindi\"\n",
    "    elif lang == 'bengali':\n",
    "        LANG = \"Bengali\"\n",
    "    elif lang == 'marathi':\n",
    "        LANG = \"Marathi\"\n",
    "    elif lang == 'tamil':\n",
    "        LANG = \"Tamil\"\n",
    "    elif lang == 'telugu':\n",
    "        LANG = \"Telugu\"\n",
    "\n",
    "    print(f\"Language: {LANG}\")\n",
    "    print()\n",
    "    print(f\"Weighted F1: {weighted_f1:.4f}\")\n",
    "    print(f\"Macro F1: {macro_f1:.4f}\")\n",
    "    print(f\"Accuracy: {accuracy:.4f}\")\n",
    "    print()\n",
    "    print(\"CLASSIFICATION REPORT: \")\n",
    "    print(classification_report(test_labels, test_predictions))\n",
    "    print()\n",
    "    print(\"CONFUSION MATRIX: \")\n",
    "    print(confusion_matrix(test_labels, test_predictions))\n",
    "    print(\"--------------------------------------------------\")"
   ]
  },
  {
   "cell_type": "code",
   "execution_count": 17,
   "id": "59b8755e",
   "metadata": {
    "execution": {
     "iopub.execute_input": "2024-11-19T05:10:34.952185Z",
     "iopub.status.busy": "2024-11-19T05:10:34.951611Z",
     "iopub.status.idle": "2024-11-19T05:10:36.223184Z",
     "shell.execute_reply": "2024-11-19T05:10:36.222544Z"
    },
    "papermill": {
     "duration": 1.280779,
     "end_time": "2024-11-19T05:10:36.225010",
     "exception": false,
     "start_time": "2024-11-19T05:10:34.944231",
     "status": "completed"
    },
    "tags": []
   },
   "outputs": [],
   "source": [
    "# Save the model\n",
    "torch.save(model.state_dict(), f'NER_FineTune_{language[:2]}_cross_attn.pth')"
   ]
  }
 ],
 "metadata": {
  "kernelspec": {
   "display_name": "Python 3",
   "language": "python",
   "name": "python3"
  },
  "language_info": {
   "codemirror_mode": {
    "name": "ipython",
    "version": 3
   },
   "file_extension": ".py",
   "mimetype": "text/x-python",
   "name": "python",
   "nbconvert_exporter": "python",
   "pygments_lexer": "ipython3",
   "version": "3.11.5"
  },
  "papermill": {
   "default_parameters": {},
   "duration": 144.586427,
   "end_time": "2024-11-19T05:10:37.450534",
   "environment_variables": {},
   "exception": null,
   "input_path": "/home/vijay/slim_sense/SHARPax/Python_code/test/NER-Experiments/FineTune-Experiments-OneLang/FineTune-Hindi.ipynb",
   "output_path": "/home/vijay/slim_sense/SHARPax/Python_code/test/NER-Experiments/FineTune-Experiments-OneLang//FineTune-telugu.ipynb",
   "parameters": {
    "language": "telugu"
   },
   "start_time": "2024-11-19T05:08:12.864107",
   "version": "2.6.0"
  }
 },
 "nbformat": 4,
 "nbformat_minor": 5
}
