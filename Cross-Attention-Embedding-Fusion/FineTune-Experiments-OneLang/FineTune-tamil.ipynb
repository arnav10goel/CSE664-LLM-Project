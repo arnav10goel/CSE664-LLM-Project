{
 "cells": [
  {
   "cell_type": "code",
   "execution_count": 1,
   "id": "9f463edf",
   "metadata": {
    "execution": {
     "iopub.execute_input": "2024-11-19T05:04:34.830744Z",
     "iopub.status.busy": "2024-11-19T05:04:34.830206Z",
     "iopub.status.idle": "2024-11-19T05:04:34.834939Z",
     "shell.execute_reply": "2024-11-19T05:04:34.834502Z"
    },
    "papermill": {
     "duration": 0.008839,
     "end_time": "2024-11-19T05:04:34.835843",
     "exception": false,
     "start_time": "2024-11-19T05:04:34.827004",
     "status": "completed"
    },
    "tags": [
     "parameters"
    ]
   },
   "outputs": [],
   "source": [
    "# Parameters\n",
    "language = 'hindi'"
   ]
  },
  {
   "cell_type": "code",
   "execution_count": 2,
   "id": "52618be2",
   "metadata": {
    "execution": {
     "iopub.execute_input": "2024-11-19T05:04:34.840926Z",
     "iopub.status.busy": "2024-11-19T05:04:34.840776Z",
     "iopub.status.idle": "2024-11-19T05:04:34.842987Z",
     "shell.execute_reply": "2024-11-19T05:04:34.842655Z"
    },
    "papermill": {
     "duration": 0.00527,
     "end_time": "2024-11-19T05:04:34.843899",
     "exception": false,
     "start_time": "2024-11-19T05:04:34.838629",
     "status": "completed"
    },
    "tags": [
     "injected-parameters"
    ]
   },
   "outputs": [],
   "source": [
    "# Parameters\n",
    "language = \"tamil\"\n"
   ]
  },
  {
   "cell_type": "code",
   "execution_count": 3,
   "id": "fb20e2d5",
   "metadata": {
    "execution": {
     "iopub.execute_input": "2024-11-19T05:04:34.849857Z",
     "iopub.status.busy": "2024-11-19T05:04:34.849735Z",
     "iopub.status.idle": "2024-11-19T05:04:34.851855Z",
     "shell.execute_reply": "2024-11-19T05:04:34.851589Z"
    },
    "papermill": {
     "duration": 0.006269,
     "end_time": "2024-11-19T05:04:34.852784",
     "exception": false,
     "start_time": "2024-11-19T05:04:34.846515",
     "status": "completed"
    },
    "tags": []
   },
   "outputs": [
    {
     "name": "stdout",
     "output_type": "stream",
     "text": [
      "Running with lang: tamil\n"
     ]
    }
   ],
   "source": [
    "print(f\"Running with lang: {language}\")"
   ]
  },
  {
   "cell_type": "code",
   "execution_count": 4,
   "id": "5a4760a9",
   "metadata": {
    "execution": {
     "iopub.execute_input": "2024-11-19T05:04:34.858037Z",
     "iopub.status.busy": "2024-11-19T05:04:34.857808Z",
     "iopub.status.idle": "2024-11-19T05:04:38.468394Z",
     "shell.execute_reply": "2024-11-19T05:04:38.467736Z"
    },
    "papermill": {
     "duration": 3.615484,
     "end_time": "2024-11-19T05:04:38.470406",
     "exception": false,
     "start_time": "2024-11-19T05:04:34.854922",
     "status": "completed"
    },
    "tags": []
   },
   "outputs": [
    {
     "name": "stderr",
     "output_type": "stream",
     "text": [
      "2024-11-19 05:04:36.898904: E external/local_xla/xla/stream_executor/cuda/cuda_dnn.cc:9261] Unable to register cuDNN factory: Attempting to register factory for plugin cuDNN when one has already been registered\n",
      "2024-11-19 05:04:36.898937: E external/local_xla/xla/stream_executor/cuda/cuda_fft.cc:607] Unable to register cuFFT factory: Attempting to register factory for plugin cuFFT when one has already been registered\n",
      "2024-11-19 05:04:36.900264: E external/local_xla/xla/stream_executor/cuda/cuda_blas.cc:1515] Unable to register cuBLAS factory: Attempting to register factory for plugin cuBLAS when one has already been registered\n",
      "2024-11-19 05:04:36.906743: I tensorflow/core/platform/cpu_feature_guard.cc:182] This TensorFlow binary is optimized to use available CPU instructions in performance-critical operations.\n",
      "To enable the following instructions: AVX2 FMA, in other operations, rebuild TensorFlow with the appropriate compiler flags.\n"
     ]
    },
    {
     "name": "stderr",
     "output_type": "stream",
     "text": [
      "2024-11-19 05:04:37.654143: W tensorflow/compiler/tf2tensorrt/utils/py_utils.cc:38] TF-TRT Warning: Could not find TensorRT\n"
     ]
    }
   ],
   "source": [
    "import torch\n",
    "import torch.nn as nn\n",
    "import torch.optim as optim\n",
    "import torch.nn.functional as F\n",
    "from transformers import BertTokenizerFast, BertModel\n",
    "import pandas as pd\n",
    "from torch.utils.data import Dataset, DataLoader\n",
    "import numpy as np\n",
    "import string\n",
    "import json\n",
    "\n",
    "from transformers import AutoTokenizer, AutoModel"
   ]
  },
  {
   "cell_type": "code",
   "execution_count": 5,
   "id": "bd147c77",
   "metadata": {
    "execution": {
     "iopub.execute_input": "2024-11-19T05:04:38.481562Z",
     "iopub.status.busy": "2024-11-19T05:04:38.481158Z",
     "iopub.status.idle": "2024-11-19T05:04:38.499299Z",
     "shell.execute_reply": "2024-11-19T05:04:38.498777Z"
    },
    "papermill": {
     "duration": 0.025479,
     "end_time": "2024-11-19T05:04:38.500946",
     "exception": false,
     "start_time": "2024-11-19T05:04:38.475467",
     "status": "completed"
    },
    "tags": []
   },
   "outputs": [],
   "source": [
    "# Load train data from json\n",
    "with open(f'/home/vijay/slim_sense/SHARPax/Python_code/test/NER-Experiments/Dataset/{language}_train.json') as f:\n",
    "    train_data = json.load(f)\n",
    "\n",
    "# Load test data from json\n",
    "with open(f'/home/vijay/slim_sense/SHARPax/Python_code/test/NER-Experiments/Dataset/{language}_test.json') as f:\n",
    "    test_data = json.load(f)"
   ]
  },
  {
   "cell_type": "code",
   "execution_count": 6,
   "id": "bda94fd0",
   "metadata": {
    "execution": {
     "iopub.execute_input": "2024-11-19T05:04:38.511943Z",
     "iopub.status.busy": "2024-11-19T05:04:38.511412Z",
     "iopub.status.idle": "2024-11-19T05:04:38.514973Z",
     "shell.execute_reply": "2024-11-19T05:04:38.514456Z"
    },
    "papermill": {
     "duration": 0.010861,
     "end_time": "2024-11-19T05:04:38.516548",
     "exception": false,
     "start_time": "2024-11-19T05:04:38.505687",
     "status": "completed"
    },
    "tags": []
   },
   "outputs": [
    {
     "name": "stdout",
     "output_type": "stream",
     "text": [
      "Running with lang: tamil\n"
     ]
    }
   ],
   "source": [
    "print(f\"Running with lang: {language}\")"
   ]
  },
  {
   "cell_type": "code",
   "execution_count": 7,
   "id": "fbd7b869",
   "metadata": {
    "execution": {
     "iopub.execute_input": "2024-11-19T05:04:38.526801Z",
     "iopub.status.busy": "2024-11-19T05:04:38.526675Z",
     "iopub.status.idle": "2024-11-19T05:04:39.137522Z",
     "shell.execute_reply": "2024-11-19T05:04:39.136830Z"
    },
    "papermill": {
     "duration": 0.618293,
     "end_time": "2024-11-19T05:04:39.139392",
     "exception": false,
     "start_time": "2024-11-19T05:04:38.521099",
     "status": "completed"
    },
    "tags": []
   },
   "outputs": [],
   "source": [
    "# Load tokeniser for MBERT\n",
    "tokenizer = BertTokenizerFast.from_pretrained('bert-base-multilingual-cased')"
   ]
  },
  {
   "cell_type": "code",
   "execution_count": 8,
   "id": "74dd2dee",
   "metadata": {
    "execution": {
     "iopub.execute_input": "2024-11-19T05:04:39.150174Z",
     "iopub.status.busy": "2024-11-19T05:04:39.149914Z",
     "iopub.status.idle": "2024-11-19T05:04:39.155605Z",
     "shell.execute_reply": "2024-11-19T05:04:39.155086Z"
    },
    "papermill": {
     "duration": 0.012718,
     "end_time": "2024-11-19T05:04:39.157069",
     "exception": false,
     "start_time": "2024-11-19T05:04:39.144351",
     "status": "completed"
    },
    "tags": []
   },
   "outputs": [],
   "source": [
    "class NER_Dataset(Dataset):\n",
    "    def __init__(self, data, tokenizer, max_len=128):\n",
    "        self.data = data  # List of sentences and labels\n",
    "        self.tokenizer = tokenizer  # mBERT tokenizer\n",
    "        self.max_len = max_len\n",
    "\n",
    "    def __len__(self):\n",
    "        return len(self.data)\n",
    "\n",
    "    def __getitem__(self, idx):\n",
    "        text = self.data[idx][\"tokens\"]\n",
    "        word_labels = self.data[idx][\"ner_tags\"]\n",
    "\n",
    "        # Tokenize the text and align the labels\n",
    "        encoding = self.tokenizer(text,\n",
    "                                  is_split_into_words=True,\n",
    "                                  return_offsets_mapping=True,\n",
    "                                  padding='max_length',\n",
    "                                  truncation=True,\n",
    "                                  max_length=self.max_len)\n",
    "\n",
    "        labels = [self.align_labels(encoding['offset_mapping'], word_labels)]\n",
    "\n",
    "        # Remove the offset mapping to prevent issues during model training\n",
    "        del encoding['offset_mapping']\n",
    "\n",
    "        item = {key: torch.tensor(val) for key, val in encoding.items()}\n",
    "        item['labels'] = torch.tensor(labels[0], dtype=torch.long)\n",
    "\n",
    "        return item\n",
    "    \n",
    "    # Create a function to align labels\n",
    "    def align_labels(self, offset_mapping, labels):\n",
    "        aligned_labels = []\n",
    "        current_label_index = 0\n",
    "\n",
    "        for offset in offset_mapping:\n",
    "            # If the offset mapping is (0, 0), it's a special token ([CLS], [SEP], [PAD])\n",
    "            if offset == (0, 0):\n",
    "                aligned_labels.append(-100)  # -100 is used to ignore these tokens in the loss computation\n",
    "            else:\n",
    "                # Check if the token is the start of a new word\n",
    "                if offset[0] == 0:\n",
    "                    aligned_labels.append(labels[current_label_index])\n",
    "                    current_label_index += 1\n",
    "                else:\n",
    "                    # If the token is not the first subtoken, you can decide how to label it. \n",
    "                    # For simplicity, let's use the same label as the first subtoken\n",
    "                    aligned_labels.append(labels[current_label_index - 1])\n",
    "\n",
    "        return aligned_labels\n"
   ]
  },
  {
   "cell_type": "code",
   "execution_count": 9,
   "id": "d3121720",
   "metadata": {
    "execution": {
     "iopub.execute_input": "2024-11-19T05:04:39.167380Z",
     "iopub.status.busy": "2024-11-19T05:04:39.167190Z",
     "iopub.status.idle": "2024-11-19T05:04:39.170726Z",
     "shell.execute_reply": "2024-11-19T05:04:39.170225Z"
    },
    "papermill": {
     "duration": 0.010521,
     "end_time": "2024-11-19T05:04:39.172287",
     "exception": false,
     "start_time": "2024-11-19T05:04:39.161766",
     "status": "completed"
    },
    "tags": []
   },
   "outputs": [],
   "source": [
    "# Create train dataset and test dataset\n",
    "train_dataset = NER_Dataset(train_data, tokenizer)\n",
    "test_dataset = NER_Dataset(test_data, tokenizer)\n",
    "\n",
    "# Create train dataloader and test dataloader\n",
    "train_dataloader = DataLoader(train_dataset, batch_size=32, shuffle=True)\n",
    "test_dataloader = DataLoader(test_dataset, batch_size=32, shuffle=False)"
   ]
  },
  {
   "cell_type": "code",
   "execution_count": 10,
   "id": "04f62b21",
   "metadata": {
    "execution": {
     "iopub.execute_input": "2024-11-19T05:04:39.182793Z",
     "iopub.status.busy": "2024-11-19T05:04:39.182672Z",
     "iopub.status.idle": "2024-11-19T05:04:39.254687Z",
     "shell.execute_reply": "2024-11-19T05:04:39.254177Z"
    },
    "papermill": {
     "duration": 0.079075,
     "end_time": "2024-11-19T05:04:39.256265",
     "exception": false,
     "start_time": "2024-11-19T05:04:39.177190",
     "status": "completed"
    },
    "tags": []
   },
   "outputs": [
    {
     "data": {
      "text/plain": [
       "'cuda'"
      ]
     },
     "execution_count": 10,
     "metadata": {},
     "output_type": "execute_result"
    }
   ],
   "source": [
    "DEVICE = 'cuda' if torch.cuda.is_available() else 'cpu'\n",
    "DEVICE"
   ]
  },
  {
   "cell_type": "code",
   "execution_count": 11,
   "id": "05550560",
   "metadata": {
    "execution": {
     "iopub.execute_input": "2024-11-19T05:04:39.267564Z",
     "iopub.status.busy": "2024-11-19T05:04:39.267384Z",
     "iopub.status.idle": "2024-11-19T05:04:39.271906Z",
     "shell.execute_reply": "2024-11-19T05:04:39.271396Z"
    },
    "papermill": {
     "duration": 0.011983,
     "end_time": "2024-11-19T05:04:39.273522",
     "exception": false,
     "start_time": "2024-11-19T05:04:39.261539",
     "status": "completed"
    },
    "tags": []
   },
   "outputs": [],
   "source": [
    "import torch\n",
    "import torch.nn as nn\n",
    "\n",
    "class CrossAttentionFusion(nn.Module):\n",
    "    def __init__(self, hidden_dim, num_heads):\n",
    "        super(CrossAttentionFusion, self).__init__()\n",
    "        self.cross_attention = nn.MultiheadAttention(embed_dim=hidden_dim, num_heads=num_heads)\n",
    "        self.layer_norm = nn.LayerNorm(hidden_dim)\n",
    "\n",
    "    def forward(self, embeddings_mbert, embeddings_indicbert):\n",
    "        \"\"\"\n",
    "        Fuse embeddings from mBERT and Indic-BERT using cross-attention.\n",
    "\n",
    "        Args:\n",
    "            embeddings_mbert (torch.Tensor): Embeddings from mBERT of shape [batch_size, seq_len_m, hidden_dim].\n",
    "            embeddings_indicbert (torch.Tensor): Embeddings from Indic-BERT of shape [batch_size, seq_len_i, hidden_dim].\n",
    "\n",
    "        Returns:\n",
    "            torch.Tensor: Fused embeddings of shape [batch_size, seq_len_m, hidden_dim].\n",
    "        \"\"\"\n",
    "        embeddings_mbert = embeddings_mbert.to(DEVICE)\n",
    "        embeddings_indicbert = embeddings_indicbert.to(DEVICE)\n",
    "        \n",
    "        # Transpose to shape [seq_len, batch_size, hidden_dim] for nn.MultiheadAttention\n",
    "        embeddings_mbert = embeddings_mbert.transpose(0, 1)\n",
    "        embeddings_indicbert = embeddings_indicbert.transpose(0, 1)\n",
    "\n",
    "        # Cross-attention: Indic BERT queries attend to m-BERT keys and values\n",
    "        attn_output, _ = self.cross_attention(\n",
    "            query=embeddings_indicbert,       # Queries from Indic-BERT\n",
    "            key=embeddings_mbert,     # Keys from m-BERT\n",
    "            value=embeddings_mbert    # Values from m-BERT\n",
    "        )\n",
    "\n",
    "        attn_output.to(DEVICE)\n",
    "\n",
    "        # Residual connection and layer normalization\n",
    "        output = self.layer_norm(attn_output + embeddings_mbert)\n",
    "\n",
    "        # Transpose back to [batch_size, seq_len_m, hidden_dim]\n",
    "        output = output.transpose(0, 1)\n",
    "\n",
    "        return output"
   ]
  },
  {
   "cell_type": "code",
   "execution_count": 12,
   "id": "2cc07fcd",
   "metadata": {
    "execution": {
     "iopub.execute_input": "2024-11-19T05:04:39.284478Z",
     "iopub.status.busy": "2024-11-19T05:04:39.284358Z",
     "iopub.status.idle": "2024-11-19T05:04:39.286827Z",
     "shell.execute_reply": "2024-11-19T05:04:39.286347Z"
    },
    "papermill": {
     "duration": 0.009759,
     "end_time": "2024-11-19T05:04:39.288359",
     "exception": false,
     "start_time": "2024-11-19T05:04:39.278600",
     "status": "completed"
    },
    "tags": []
   },
   "outputs": [],
   "source": [
    "hidden_dim = 768\n",
    "num_heads = 4"
   ]
  },
  {
   "cell_type": "code",
   "execution_count": 13,
   "id": "c02a340c",
   "metadata": {
    "execution": {
     "iopub.execute_input": "2024-11-19T05:04:39.299851Z",
     "iopub.status.busy": "2024-11-19T05:04:39.299451Z",
     "iopub.status.idle": "2024-11-19T05:04:40.796323Z",
     "shell.execute_reply": "2024-11-19T05:04:40.795752Z"
    },
    "papermill": {
     "duration": 1.504538,
     "end_time": "2024-11-19T05:04:40.798188",
     "exception": false,
     "start_time": "2024-11-19T05:04:39.293650",
     "status": "completed"
    },
    "tags": []
   },
   "outputs": [
    {
     "data": {
      "text/plain": [
       "MBERT_NER(\n",
       "  (bert): BertModel(\n",
       "    (embeddings): BertEmbeddings(\n",
       "      (word_embeddings): Embedding(119547, 768, padding_idx=0)\n",
       "      (position_embeddings): Embedding(512, 768)\n",
       "      (token_type_embeddings): Embedding(2, 768)\n",
       "      (LayerNorm): LayerNorm((768,), eps=1e-12, elementwise_affine=True)\n",
       "      (dropout): Dropout(p=0.1, inplace=False)\n",
       "    )\n",
       "    (encoder): BertEncoder(\n",
       "      (layer): ModuleList(\n",
       "        (0-11): 12 x BertLayer(\n",
       "          (attention): BertAttention(\n",
       "            (self): BertSdpaSelfAttention(\n",
       "              (query): Linear(in_features=768, out_features=768, bias=True)\n",
       "              (key): Linear(in_features=768, out_features=768, bias=True)\n",
       "              (value): Linear(in_features=768, out_features=768, bias=True)\n",
       "              (dropout): Dropout(p=0.1, inplace=False)\n",
       "            )\n",
       "            (output): BertSelfOutput(\n",
       "              (dense): Linear(in_features=768, out_features=768, bias=True)\n",
       "              (LayerNorm): LayerNorm((768,), eps=1e-12, elementwise_affine=True)\n",
       "              (dropout): Dropout(p=0.1, inplace=False)\n",
       "            )\n",
       "          )\n",
       "          (intermediate): BertIntermediate(\n",
       "            (dense): Linear(in_features=768, out_features=3072, bias=True)\n",
       "            (intermediate_act_fn): GELUActivation()\n",
       "          )\n",
       "          (output): BertOutput(\n",
       "            (dense): Linear(in_features=3072, out_features=768, bias=True)\n",
       "            (LayerNorm): LayerNorm((768,), eps=1e-12, elementwise_affine=True)\n",
       "            (dropout): Dropout(p=0.1, inplace=False)\n",
       "          )\n",
       "        )\n",
       "      )\n",
       "    )\n",
       "    (pooler): BertPooler(\n",
       "      (dense): Linear(in_features=768, out_features=768, bias=True)\n",
       "      (activation): Tanh()\n",
       "    )\n",
       "  )\n",
       "  (indic_bert): AlbertModel(\n",
       "    (embeddings): AlbertEmbeddings(\n",
       "      (word_embeddings): Embedding(200000, 128, padding_idx=0)\n",
       "      (position_embeddings): Embedding(512, 128)\n",
       "      (token_type_embeddings): Embedding(2, 128)\n",
       "      (LayerNorm): LayerNorm((128,), eps=1e-12, elementwise_affine=True)\n",
       "      (dropout): Dropout(p=0, inplace=False)\n",
       "    )\n",
       "    (encoder): AlbertTransformer(\n",
       "      (embedding_hidden_mapping_in): Linear(in_features=128, out_features=768, bias=True)\n",
       "      (albert_layer_groups): ModuleList(\n",
       "        (0): AlbertLayerGroup(\n",
       "          (albert_layers): ModuleList(\n",
       "            (0): AlbertLayer(\n",
       "              (full_layer_layer_norm): LayerNorm((768,), eps=1e-12, elementwise_affine=True)\n",
       "              (attention): AlbertSdpaAttention(\n",
       "                (query): Linear(in_features=768, out_features=768, bias=True)\n",
       "                (key): Linear(in_features=768, out_features=768, bias=True)\n",
       "                (value): Linear(in_features=768, out_features=768, bias=True)\n",
       "                (attention_dropout): Dropout(p=0, inplace=False)\n",
       "                (output_dropout): Dropout(p=0, inplace=False)\n",
       "                (dense): Linear(in_features=768, out_features=768, bias=True)\n",
       "                (LayerNorm): LayerNorm((768,), eps=1e-12, elementwise_affine=True)\n",
       "              )\n",
       "              (ffn): Linear(in_features=768, out_features=3072, bias=True)\n",
       "              (ffn_output): Linear(in_features=3072, out_features=768, bias=True)\n",
       "              (activation): GELUActivation()\n",
       "              (dropout): Dropout(p=0, inplace=False)\n",
       "            )\n",
       "          )\n",
       "        )\n",
       "      )\n",
       "    )\n",
       "    (pooler): Linear(in_features=768, out_features=768, bias=True)\n",
       "    (pooler_activation): Tanh()\n",
       "  )\n",
       "  (attention): CrossAttentionFusion(\n",
       "    (cross_attention): MultiheadAttention(\n",
       "      (out_proj): NonDynamicallyQuantizableLinear(in_features=768, out_features=768, bias=True)\n",
       "    )\n",
       "    (layer_norm): LayerNorm((768,), eps=1e-05, elementwise_affine=True)\n",
       "  )\n",
       "  (gru): GRU(2304, 128, batch_first=True)\n",
       "  (classifier): Linear(in_features=128, out_features=7, bias=True)\n",
       "  (dropout): Dropout(p=0.1, inplace=False)\n",
       "  (batch_norm): BatchNorm1d(128, eps=1e-05, momentum=0.1, affine=True, track_running_stats=True)\n",
       ")"
      ]
     },
     "execution_count": 13,
     "metadata": {},
     "output_type": "execute_result"
    }
   ],
   "source": [
    "# Model for NER\n",
    "\n",
    "class MBERT_NER(nn.Module):\n",
    "    def __init__(self, num_labels, gru_hidden_size, num_gru_layers, freeze_bert=False):\n",
    "        super(MBERT_NER, self).__init__()\n",
    "\n",
    "        self.bert = BertModel.from_pretrained(\"bert-base-multilingual-cased\")\n",
    "        self.indic_bert = AutoModel.from_pretrained(\"ai4bharat/indic-bert\")\n",
    "        \n",
    "        # Initialize the Fusion Attention\n",
    "        self.attention = CrossAttentionFusion(hidden_dim=hidden_dim, num_heads=num_heads).to(DEVICE)\n",
    "        \n",
    "        self.gru = nn.GRU(input_size=self.bert.config.hidden_size * 3,\n",
    "                          hidden_size=gru_hidden_size,\n",
    "                          num_layers=num_gru_layers,\n",
    "                          batch_first=True)\n",
    "        self.classifier = nn.Linear(gru_hidden_size, num_labels)\n",
    "        self.dropout = nn.Dropout(0.1)\n",
    "        self.batch_norm = nn.BatchNorm1d(gru_hidden_size)\n",
    "\n",
    "        if freeze_bert:\n",
    "            for param in self.bert.parameters():\n",
    "                param.requires_grad = False\n",
    "            for param in self.indic_bert.parameters():\n",
    "                param.requires_grad = False\n",
    "\n",
    "    def forward(self, input_ids, attention_mask):\n",
    "        \n",
    "        input_ids = input_ids.to(DEVICE)\n",
    "        attention_mask = attention_mask.to(DEVICE)\n",
    "        \n",
    "        # Embeddings\n",
    "        outputs1 = self.bert(input_ids=input_ids, attention_mask=attention_mask)\n",
    "        outputs2 = self.indic_bert(input_ids = input_ids, attention_mask = attention_mask)        \n",
    "        \n",
    "        embeddings_mbert = outputs1.last_hidden_state.to(DEVICE)\n",
    "        embeddings_indicbert = outputs2.last_hidden_state.to(DEVICE)\n",
    "        \n",
    "        # Fused embeddings\n",
    "        embeddings = self.attention(embeddings_mbert, embeddings_indicbert).to(DEVICE)\n",
    "        \n",
    "        sequence_output = torch.cat((embeddings_mbert, embeddings_indicbert, embeddings), dim=-1)\n",
    "        \n",
    "        gru_output, _ = self.gru(sequence_output)\n",
    "        gru_output = self.batch_norm(gru_output)\n",
    "        gru_output = self.dropout(gru_output)\n",
    "        \n",
    "        logits = self.classifier(gru_output)\n",
    "        return logits\n",
    "\n",
    "# Create the NER model\n",
    "NUM_LABELS = 7 # Number of NER tags\n",
    "GRU_HIDDEN_SIZE = 128 # Hidden size of the GRU\n",
    "NUM_GRU_LAYERS = 1 # Number of layers in the GRU\n",
    "FREEZE_BERT = False # Whether to freeze the BERT model\n",
    "DEVICE = 'cuda' if torch.cuda.is_available() else 'cpu'\n",
    "\n",
    "model = MBERT_NER(num_labels=NUM_LABELS,\n",
    "                    gru_hidden_size=GRU_HIDDEN_SIZE,\n",
    "                    num_gru_layers=NUM_GRU_LAYERS,\n",
    "                    freeze_bert=FREEZE_BERT)\n",
    "\n",
    "model.to(DEVICE)"
   ]
  },
  {
   "cell_type": "code",
   "execution_count": 14,
   "id": "101cb550",
   "metadata": {
    "execution": {
     "iopub.execute_input": "2024-11-19T05:04:40.810404Z",
     "iopub.status.busy": "2024-11-19T05:04:40.810194Z",
     "iopub.status.idle": "2024-11-19T05:04:40.813371Z",
     "shell.execute_reply": "2024-11-19T05:04:40.812861Z"
    },
    "papermill": {
     "duration": 0.011109,
     "end_time": "2024-11-19T05:04:40.814914",
     "exception": false,
     "start_time": "2024-11-19T05:04:40.803805",
     "status": "completed"
    },
    "tags": []
   },
   "outputs": [],
   "source": [
    "torch.cuda.empty_cache()"
   ]
  },
  {
   "cell_type": "code",
   "execution_count": 15,
   "id": "f73f798f",
   "metadata": {
    "execution": {
     "iopub.execute_input": "2024-11-19T05:04:40.826856Z",
     "iopub.status.busy": "2024-11-19T05:04:40.826431Z",
     "iopub.status.idle": "2024-11-19T05:07:55.088493Z",
     "shell.execute_reply": "2024-11-19T05:07:55.087815Z"
    },
    "papermill": {
     "duration": 194.275562,
     "end_time": "2024-11-19T05:07:55.095915",
     "exception": false,
     "start_time": "2024-11-19T05:04:40.820353",
     "status": "completed"
    },
    "tags": []
   },
   "outputs": [
    {
     "name": "stdout",
     "output_type": "stream",
     "text": [
      "Epoch 1/6, Train Loss: 0.7022, Train F1: 0.6223, Train Acc: 0.7730, Val Loss: 0.4232, Val F1: 0.7815, Val Acc: 0.8712\n"
     ]
    },
    {
     "name": "stdout",
     "output_type": "stream",
     "text": [
      "Epoch 2/6, Train Loss: 0.3464, Train F1: 0.8245, Train Acc: 0.8959, Val Loss: 0.3429, Val F1: 0.8421, Val Acc: 0.9022\n"
     ]
    },
    {
     "name": "stdout",
     "output_type": "stream",
     "text": [
      "Epoch 3/6, Train Loss: 0.2486, Train F1: 0.8782, Train Acc: 0.9276, Val Loss: 0.3463, Val F1: 0.8518, Val Acc: 0.9031\n"
     ]
    },
    {
     "name": "stdout",
     "output_type": "stream",
     "text": [
      "Epoch 4/6, Train Loss: 0.1771, Train F1: 0.9131, Train Acc: 0.9487, Val Loss: 0.3410, Val F1: 0.8502, Val Acc: 0.9025\n"
     ]
    },
    {
     "name": "stdout",
     "output_type": "stream",
     "text": [
      "Epoch 5/6, Train Loss: 0.1445, Train F1: 0.9285, Train Acc: 0.9579, Val Loss: 0.3863, Val F1: 0.8529, Val Acc: 0.9011\n"
     ]
    },
    {
     "name": "stdout",
     "output_type": "stream",
     "text": [
      "Epoch 6/6, Train Loss: 0.1193, Train F1: 0.9428, Train Acc: 0.9664, Val Loss: 0.3614, Val F1: 0.8370, Val Acc: 0.9013\n"
     ]
    }
   ],
   "source": [
    "from sklearn.metrics import f1_score, accuracy_score\n",
    "\n",
    "# Optimizer and loss function\n",
    "optimizer = optim.AdamW(model.parameters(), lr=2e-5)\n",
    "criterion = nn.CrossEntropyLoss(ignore_index=-100)\n",
    "\n",
    "# Training loop\n",
    "EPOCHS = 6\n",
    "\n",
    "train_losses = []\n",
    "train_f1_scores = []\n",
    "train_acc_scores = []\n",
    "val_losses = []\n",
    "val_f1_scores = []\n",
    "val_acc_scores = []\n",
    "\n",
    "\n",
    "for epoch in range(EPOCHS):\n",
    "    model.train()\n",
    "    train_loss = 0\n",
    "    train_predictions, train_labels = [], []\n",
    "\n",
    "    for batch in train_dataloader:\n",
    "        input_ids = batch['input_ids'].to(DEVICE)\n",
    "        attention_mask = batch['attention_mask'].to(DEVICE)\n",
    "        labels = batch['labels'].to(DEVICE)\n",
    "\n",
    "        optimizer.zero_grad()\n",
    "        logits = model(input_ids, attention_mask)\n",
    "        logits = logits.view(-1, NUM_LABELS)\n",
    "        labels = labels.view(-1)\n",
    "\n",
    "        loss = criterion(logits, labels)\n",
    "        loss.backward()\n",
    "        optimizer.step()\n",
    "\n",
    "        train_loss += loss.item()\n",
    "\n",
    "        # Get predictions and filter out ignored indices for metric calculations\n",
    "        predictions = torch.argmax(logits, dim=-1)\n",
    "        active_indices = labels != -100\n",
    "        train_predictions.extend(predictions[active_indices].cpu().numpy())\n",
    "        train_labels.extend(labels[active_indices].cpu().numpy())\n",
    "\n",
    "    train_loss /= len(train_dataloader)\n",
    "    train_losses.append(train_loss)\n",
    "\n",
    "    train_f1 = f1_score(train_labels, train_predictions, average='macro')\n",
    "    train_f1_scores.append(train_f1)\n",
    "\n",
    "    train_acc = accuracy_score(train_labels, train_predictions)\n",
    "    train_acc_scores.append(train_acc)\n",
    "\n",
    "    # Validation loop\n",
    "    model.eval()\n",
    "    val_loss = 0\n",
    "    val_predictions, val_labels = [], []\n",
    "\n",
    "    with torch.no_grad():\n",
    "        for batch in test_dataloader:\n",
    "            input_ids = batch['input_ids'].to(DEVICE)\n",
    "            attention_mask = batch['attention_mask'].to(DEVICE)\n",
    "            labels = batch['labels'].to(DEVICE)\n",
    "\n",
    "            logits = model(input_ids, attention_mask)\n",
    "            logits = logits.view(-1, NUM_LABELS)\n",
    "            labels = labels.view(-1)\n",
    "\n",
    "            loss = criterion(logits, labels)\n",
    "            val_loss += loss.item()\n",
    "\n",
    "            # Filter predictions and labels\n",
    "            predictions = torch.argmax(logits, dim=-1)\n",
    "            active_indices = labels != -100\n",
    "            val_predictions.extend(predictions[active_indices].cpu().numpy())\n",
    "            val_labels.extend(labels[active_indices].cpu().numpy())\n",
    "\n",
    "    val_loss /= len(test_dataloader)\n",
    "    val_losses.append(val_loss)\n",
    "\n",
    "    val_f1 = f1_score(val_labels, val_predictions, average='macro')\n",
    "    val_f1_scores.append(val_f1)\n",
    "\n",
    "    val_acc = accuracy_score(val_labels, val_predictions)\n",
    "    val_acc_scores.append(val_acc)\n",
    "\n",
    "    print(f\"Epoch {epoch + 1}/{EPOCHS}, Train Loss: {train_loss:.4f}, Train F1: {train_f1:.4f}, Train Acc: {train_acc:.4f}, Val Loss: {val_loss:.4f}, Val F1: {val_f1:.4f}, Val Acc: {val_acc:.4f}\")"
   ]
  },
  {
   "cell_type": "code",
   "execution_count": 16,
   "id": "9af57e15",
   "metadata": {
    "execution": {
     "iopub.execute_input": "2024-11-19T05:07:55.109788Z",
     "iopub.status.busy": "2024-11-19T05:07:55.109153Z",
     "iopub.status.idle": "2024-11-19T05:08:10.182197Z",
     "shell.execute_reply": "2024-11-19T05:08:10.181733Z"
    },
    "papermill": {
     "duration": 15.081254,
     "end_time": "2024-11-19T05:08:10.183251",
     "exception": false,
     "start_time": "2024-11-19T05:07:55.101997",
     "status": "completed"
    },
    "tags": []
   },
   "outputs": [
    {
     "name": "stdout",
     "output_type": "stream",
     "text": [
      "Language: Hindi\n",
      "\n",
      "Weighted F1: 0.7928\n",
      "Macro F1: 0.7375\n",
      "Accuracy: 0.7898\n",
      "\n",
      "CLASSIFICATION REPORT: \n",
      "              precision    recall  f1-score   support\n",
      "\n",
      "           0       0.91      0.82      0.87      5277\n",
      "           1       0.75      0.81      0.78      1481\n",
      "           2       0.83      0.90      0.86      1874\n",
      "           3       0.53      0.59      0.56       986\n",
      "           4       0.83      0.77      0.80      2602\n",
      "           5       0.64      0.76      0.70      1195\n",
      "           6       0.58      0.62      0.60       867\n",
      "\n",
      "    accuracy                           0.79     14282\n",
      "   macro avg       0.72      0.75      0.74     14282\n",
      "weighted avg       0.80      0.79      0.79     14282\n",
      "\n",
      "\n",
      "CONFUSION MATRIX: \n",
      "[[4347  260   41  349   76  158   46]\n",
      " [  38 1206  138   32   11   54    2]\n",
      " [  45   22 1694    5   51    7   50]\n",
      " [  39   79    8  583  119  151    7]\n",
      " [ 195    7  118   34 2009   36  203]\n",
      " [  38   31    7   87   41  906   85]\n",
      " [  69    3   37    2  124   97  535]]\n",
      "--------------------------------------------------\n"
     ]
    },
    {
     "name": "stdout",
     "output_type": "stream",
     "text": [
      "Language: Bengali\n",
      "\n",
      "Weighted F1: 0.7775\n",
      "Macro F1: 0.7834\n",
      "Accuracy: 0.7810\n",
      "\n",
      "CLASSIFICATION REPORT: \n",
      "              precision    recall  f1-score   support\n",
      "\n",
      "           0       0.75      0.94      0.83      1835\n",
      "           1       0.79      0.86      0.82      1343\n",
      "           2       0.78      0.84      0.81      2490\n",
      "           3       0.84      0.77      0.80      1239\n",
      "           4       0.80      0.72      0.76      3068\n",
      "           5       0.78      0.82      0.80      1510\n",
      "           6       0.76      0.59      0.66      2080\n",
      "\n",
      "    accuracy                           0.78     13565\n",
      "   macro avg       0.78      0.79      0.78     13565\n",
      "weighted avg       0.78      0.78      0.78     13565\n",
      "\n",
      "\n",
      "CONFUSION MATRIX: \n",
      "[[1726   13    5   12   46   14   19]\n",
      " [  45 1154   24   64    0   53    3]\n",
      " [ 210   22 2086    0   88    6   78]\n",
      " [  16  130    4  955    4  127    3]\n",
      " [ 134   20  373   22 2217   20  282]\n",
      " [  48  120    3   86    8 1234   11]\n",
      " [ 128    8  187    2  412  121 1222]]\n",
      "--------------------------------------------------\n"
     ]
    },
    {
     "name": "stdout",
     "output_type": "stream",
     "text": [
      "Language: Marathi\n",
      "\n",
      "Weighted F1: 0.8321\n",
      "Macro F1: 0.7334\n",
      "Accuracy: 0.8354\n",
      "\n",
      "CLASSIFICATION REPORT: \n",
      "              precision    recall  f1-score   support\n",
      "\n",
      "           0       0.92      0.94      0.93     10408\n",
      "           1       0.73      0.90      0.80      1342\n",
      "           2       0.78      0.86      0.82      1992\n",
      "           3       0.64      0.51      0.57      1172\n",
      "           4       0.81      0.65      0.72      2535\n",
      "           5       0.75      0.75      0.75      1829\n",
      "           6       0.54      0.54      0.54       820\n",
      "\n",
      "    accuracy                           0.84     20098\n",
      "   macro avg       0.74      0.74      0.73     20098\n",
      "weighted avg       0.83      0.84      0.83     20098\n",
      "\n",
      "\n",
      "CONFUSION MATRIX: \n",
      "[[9805   96   61   98   97  135  116]\n",
      " [  51 1211   21   31    0   28    0]\n",
      " [  70   34 1722    0   40   55   71]\n",
      " [  67  268   10  596   62  162    7]\n",
      " [ 312   16  348   58 1636   16  149]\n",
      " [ 204   44    5  150   15 1379   32]\n",
      " [ 111    0   49    1  166   52  441]]\n",
      "--------------------------------------------------\n"
     ]
    },
    {
     "name": "stdout",
     "output_type": "stream",
     "text": [
      "Language: Tamil\n",
      "\n",
      "Weighted F1: 0.9028\n",
      "Macro F1: 0.8370\n",
      "Accuracy: 0.9013\n",
      "\n",
      "CLASSIFICATION REPORT: \n",
      "              precision    recall  f1-score   support\n",
      "\n",
      "           0       0.97      0.95      0.96     11461\n",
      "           1       0.82      0.89      0.86      1643\n",
      "           2       0.90      0.94      0.92      2295\n",
      "           3       0.82      0.74      0.78      1512\n",
      "           4       0.87      0.84      0.85      2532\n",
      "           5       0.81      0.85      0.83      1881\n",
      "           6       0.58      0.77      0.66       677\n",
      "\n",
      "    accuracy                           0.90     22001\n",
      "   macro avg       0.82      0.85      0.84     22001\n",
      "weighted avg       0.91      0.90      0.90     22001\n",
      "\n",
      "\n",
      "CONFUSION MATRIX: \n",
      "[[10834   137    92    78   135   141    44]\n",
      " [   37  1468    59    36     4    39     0]\n",
      " [   36    22  2148     0    36     0    53]\n",
      " [   47   110     3  1125    36   187     4]\n",
      " [   38    10    79    10  2129    11   255]\n",
      " [   80    38     0   122    16  1602    23]\n",
      " [   44     2     5     0    93    10   523]]\n",
      "--------------------------------------------------\n"
     ]
    },
    {
     "name": "stdout",
     "output_type": "stream",
     "text": [
      "Language: Telugu\n",
      "\n",
      "Weighted F1: 0.8402\n",
      "Macro F1: 0.6906\n",
      "Accuracy: 0.8368\n",
      "\n",
      "CLASSIFICATION REPORT: \n",
      "              precision    recall  f1-score   support\n",
      "\n",
      "           0       0.96      0.90      0.93     17291\n",
      "           1       0.56      0.73      0.63      1810\n",
      "           2       0.65      0.92      0.76      1353\n",
      "           3       0.50      0.36      0.42      1375\n",
      "           4       0.78      0.71      0.75      2269\n",
      "           5       0.70      0.85      0.77      2072\n",
      "           6       0.48      0.74      0.58       455\n",
      "\n",
      "    accuracy                           0.84     26625\n",
      "   macro avg       0.66      0.74      0.69     26625\n",
      "weighted avg       0.85      0.84      0.84     26625\n",
      "\n",
      "\n",
      "CONFUSION MATRIX: \n",
      "[[15523   601   183   221   313   318   132]\n",
      " [  123  1313   234    51     6    82     1]\n",
      " [   32    25  1239     3    12     0    42]\n",
      " [  161   351    48   495    74   226    20]\n",
      " [  142     0   191   123  1617    76   120]\n",
      " [   87    59     3   104    12  1757    50]\n",
      " [   31     0    17     0    33    37   337]]\n",
      "--------------------------------------------------\n"
     ]
    }
   ],
   "source": [
    "from sklearn.metrics import f1_score\n",
    "from sklearn.metrics import accuracy_score\n",
    "from sklearn.metrics import classification_report\n",
    "from sklearn.metrics import confusion_matrix\n",
    "\n",
    "# Load the test data from json for all 5 languages\n",
    "languages = ['hindi', 'bengali', 'marathi', 'tamil', 'telugu']\n",
    "\n",
    "# Iterate over all languages and evaluate the model\n",
    "for lang in languages:\n",
    "    with open(f'/home/vijay/slim_sense/SHARPax/Python_code/test/NER-Experiments/Dataset/{lang}_test.json') as f:\n",
    "        test_data = json.load(f)\n",
    "\n",
    "    test_dataset = NER_Dataset(test_data, tokenizer)\n",
    "    test_dataloader = DataLoader(test_dataset, batch_size=32, shuffle=False)\n",
    "\n",
    "    model.eval()\n",
    "    test_predictions, test_labels = [], []\n",
    "\n",
    "    with torch.no_grad():\n",
    "        for batch in test_dataloader:\n",
    "            input_ids = batch['input_ids'].to(DEVICE)\n",
    "            attention_mask = batch['attention_mask'].to(DEVICE)\n",
    "            labels = batch['labels'].to(DEVICE)\n",
    "\n",
    "            logits = model(input_ids, attention_mask)\n",
    "            logits = logits.view(-1, NUM_LABELS)\n",
    "            labels = labels.view(-1)\n",
    "\n",
    "            # Filter predictions and labels\n",
    "            predictions = torch.argmax(logits, dim=-1)\n",
    "            active_indices = labels != -100\n",
    "            test_predictions.extend(predictions[active_indices].cpu().numpy())\n",
    "            test_labels.extend(labels[active_indices].cpu().numpy())\n",
    "\n",
    "    weighted_f1 = f1_score(test_labels, test_predictions, average='weighted')\n",
    "    macro_f1 = f1_score(test_labels, test_predictions, average='macro')\n",
    "    accuracy = accuracy_score(test_labels, test_predictions)\n",
    "\n",
    "    if lang == 'hindi':\n",
    "        LANG = \"Hindi\"\n",
    "    elif lang == 'bengali':\n",
    "        LANG = \"Bengali\"\n",
    "    elif lang == 'marathi':\n",
    "        LANG = \"Marathi\"\n",
    "    elif lang == 'tamil':\n",
    "        LANG = \"Tamil\"\n",
    "    elif lang == 'telugu':\n",
    "        LANG = \"Telugu\"\n",
    "\n",
    "    print(f\"Language: {LANG}\")\n",
    "    print()\n",
    "    print(f\"Weighted F1: {weighted_f1:.4f}\")\n",
    "    print(f\"Macro F1: {macro_f1:.4f}\")\n",
    "    print(f\"Accuracy: {accuracy:.4f}\")\n",
    "    print()\n",
    "    print(\"CLASSIFICATION REPORT: \")\n",
    "    print(classification_report(test_labels, test_predictions))\n",
    "    print()\n",
    "    print(\"CONFUSION MATRIX: \")\n",
    "    print(confusion_matrix(test_labels, test_predictions))\n",
    "    print(\"--------------------------------------------------\")"
   ]
  },
  {
   "cell_type": "code",
   "execution_count": 17,
   "id": "eefc8e40",
   "metadata": {
    "execution": {
     "iopub.execute_input": "2024-11-19T05:08:10.192529Z",
     "iopub.status.busy": "2024-11-19T05:08:10.192335Z",
     "iopub.status.idle": "2024-11-19T05:08:11.517863Z",
     "shell.execute_reply": "2024-11-19T05:08:11.517085Z"
    },
    "papermill": {
     "duration": 1.332109,
     "end_time": "2024-11-19T05:08:11.519814",
     "exception": false,
     "start_time": "2024-11-19T05:08:10.187705",
     "status": "completed"
    },
    "tags": []
   },
   "outputs": [],
   "source": [
    "# Save the model\n",
    "torch.save(model.state_dict(), f'NER_FineTune_{language[:2]}_cross_attn.pth')"
   ]
  }
 ],
 "metadata": {
  "kernelspec": {
   "display_name": "Python 3",
   "language": "python",
   "name": "python3"
  },
  "language_info": {
   "codemirror_mode": {
    "name": "ipython",
    "version": 3
   },
   "file_extension": ".py",
   "mimetype": "text/x-python",
   "name": "python",
   "nbconvert_exporter": "python",
   "pygments_lexer": "ipython3",
   "version": "3.11.5"
  },
  "papermill": {
   "default_parameters": {},
   "duration": 218.927985,
   "end_time": "2024-11-19T05:08:12.846586",
   "environment_variables": {},
   "exception": null,
   "input_path": "/home/vijay/slim_sense/SHARPax/Python_code/test/NER-Experiments/FineTune-Experiments-OneLang/FineTune-Hindi.ipynb",
   "output_path": "/home/vijay/slim_sense/SHARPax/Python_code/test/NER-Experiments/FineTune-Experiments-OneLang//FineTune-tamil.ipynb",
   "parameters": {
    "language": "tamil"
   },
   "start_time": "2024-11-19T05:04:33.918601",
   "version": "2.6.0"
  }
 },
 "nbformat": 4,
 "nbformat_minor": 5
}