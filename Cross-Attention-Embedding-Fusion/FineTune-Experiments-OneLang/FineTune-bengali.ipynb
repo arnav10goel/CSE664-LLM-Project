{
 "cells": [
  {
   "cell_type": "code",
   "execution_count": 1,
   "id": "f7c4b1a8",
   "metadata": {
    "execution": {
     "iopub.execute_input": "2024-11-19T05:10:38.321349Z",
     "iopub.status.busy": "2024-11-19T05:10:38.320714Z",
     "iopub.status.idle": "2024-11-19T05:10:38.328612Z",
     "shell.execute_reply": "2024-11-19T05:10:38.327863Z"
    },
    "papermill": {
     "duration": 0.014721,
     "end_time": "2024-11-19T05:10:38.330388",
     "exception": false,
     "start_time": "2024-11-19T05:10:38.315667",
     "status": "completed"
    },
    "tags": [
     "parameters"
    ]
   },
   "outputs": [],
   "source": [
    "# Parameters\n",
    "language = 'hindi'"
   ]
  },
  {
   "cell_type": "code",
   "execution_count": 2,
   "id": "508eacc1",
   "metadata": {
    "execution": {
     "iopub.execute_input": "2024-11-19T05:10:38.340159Z",
     "iopub.status.busy": "2024-11-19T05:10:38.339472Z",
     "iopub.status.idle": "2024-11-19T05:10:38.342983Z",
     "shell.execute_reply": "2024-11-19T05:10:38.342282Z"
    },
    "papermill": {
     "duration": 0.010052,
     "end_time": "2024-11-19T05:10:38.344616",
     "exception": false,
     "start_time": "2024-11-19T05:10:38.334564",
     "status": "completed"
    },
    "tags": [
     "injected-parameters"
    ]
   },
   "outputs": [],
   "source": [
    "# Parameters\n",
    "language = \"bengali\"\n"
   ]
  },
  {
   "cell_type": "code",
   "execution_count": 3,
   "id": "a8a82118",
   "metadata": {
    "execution": {
     "iopub.execute_input": "2024-11-19T05:10:38.354061Z",
     "iopub.status.busy": "2024-11-19T05:10:38.353537Z",
     "iopub.status.idle": "2024-11-19T05:10:38.357923Z",
     "shell.execute_reply": "2024-11-19T05:10:38.357118Z"
    },
    "papermill": {
     "duration": 0.010999,
     "end_time": "2024-11-19T05:10:38.359633",
     "exception": false,
     "start_time": "2024-11-19T05:10:38.348634",
     "status": "completed"
    },
    "tags": []
   },
   "outputs": [
    {
     "name": "stdout",
     "output_type": "stream",
     "text": [
      "Running with lang: bengali\n"
     ]
    }
   ],
   "source": [
    "print(f\"Running with lang: {language}\")"
   ]
  },
  {
   "cell_type": "code",
   "execution_count": 4,
   "id": "3ce2d34f",
   "metadata": {
    "execution": {
     "iopub.execute_input": "2024-11-19T05:10:38.369597Z",
     "iopub.status.busy": "2024-11-19T05:10:38.369044Z",
     "iopub.status.idle": "2024-11-19T05:10:42.015212Z",
     "shell.execute_reply": "2024-11-19T05:10:42.014600Z"
    },
    "papermill": {
     "duration": 3.653116,
     "end_time": "2024-11-19T05:10:42.017078",
     "exception": false,
     "start_time": "2024-11-19T05:10:38.363962",
     "status": "completed"
    },
    "tags": []
   },
   "outputs": [
    {
     "name": "stderr",
     "output_type": "stream",
     "text": [
      "2024-11-19 05:10:40.435381: E external/local_xla/xla/stream_executor/cuda/cuda_dnn.cc:9261] Unable to register cuDNN factory: Attempting to register factory for plugin cuDNN when one has already been registered\n",
      "2024-11-19 05:10:40.435413: E external/local_xla/xla/stream_executor/cuda/cuda_fft.cc:607] Unable to register cuFFT factory: Attempting to register factory for plugin cuFFT when one has already been registered\n",
      "2024-11-19 05:10:40.436752: E external/local_xla/xla/stream_executor/cuda/cuda_blas.cc:1515] Unable to register cuBLAS factory: Attempting to register factory for plugin cuBLAS when one has already been registered\n",
      "2024-11-19 05:10:40.442742: I tensorflow/core/platform/cpu_feature_guard.cc:182] This TensorFlow binary is optimized to use available CPU instructions in performance-critical operations.\n",
      "To enable the following instructions: AVX2 FMA, in other operations, rebuild TensorFlow with the appropriate compiler flags.\n"
     ]
    },
    {
     "name": "stderr",
     "output_type": "stream",
     "text": [
      "2024-11-19 05:10:41.193773: W tensorflow/compiler/tf2tensorrt/utils/py_utils.cc:38] TF-TRT Warning: Could not find TensorRT\n"
     ]
    }
   ],
   "source": [
    "import torch\n",
    "import torch.nn as nn\n",
    "import torch.optim as optim\n",
    "import torch.nn.functional as F\n",
    "from transformers import BertTokenizerFast, BertModel\n",
    "import pandas as pd\n",
    "from torch.utils.data import Dataset, DataLoader\n",
    "import numpy as np\n",
    "import string\n",
    "import json\n",
    "\n",
    "from transformers import AutoTokenizer, AutoModel"
   ]
  },
  {
   "cell_type": "code",
   "execution_count": null,
   "id": "c4a9bc3c",
   "metadata": {
    "execution": {
     "iopub.execute_input": "2024-11-19T05:10:42.105039Z",
     "iopub.status.busy": "2024-11-19T05:10:42.104776Z",
     "iopub.status.idle": "2024-11-19T05:10:42.117300Z",
     "shell.execute_reply": "2024-11-19T05:10:42.116768Z"
    },
    "papermill": {
     "duration": 0.071314,
     "end_time": "2024-11-19T05:10:42.118984",
     "exception": false,
     "start_time": "2024-11-19T05:10:42.047670",
     "status": "completed"
    },
    "tags": []
   },
   "outputs": [],
   "source": [
    "# Load train data from json\n",
    "with open(f'/home/ashu/Desktop/sem7/llm/CSE664-LLM-Project/Cross-Attention-Embedding-Fusion/Dataset/{language}_train.json') as f:\n",
    "    train_data = json.load(f)\n",
    "\n",
    "# Load test data from json\n",
    "with open(f'/home/ashu/Desktop/sem7/llm/CSE664-LLM-Project/Cross-Attention-Embedding-Fusion/Dataset/{language}_test.json') as f:\n",
    "    test_data = json.load(f)"
   ]
  },
  {
   "cell_type": "code",
   "execution_count": 6,
   "id": "ee678ff2",
   "metadata": {
    "execution": {
     "iopub.execute_input": "2024-11-19T05:10:42.223946Z",
     "iopub.status.busy": "2024-11-19T05:10:42.223817Z",
     "iopub.status.idle": "2024-11-19T05:10:42.227251Z",
     "shell.execute_reply": "2024-11-19T05:10:42.226490Z"
    },
    "papermill": {
     "duration": 0.062006,
     "end_time": "2024-11-19T05:10:42.229041",
     "exception": false,
     "start_time": "2024-11-19T05:10:42.167035",
     "status": "completed"
    },
    "tags": []
   },
   "outputs": [
    {
     "name": "stdout",
     "output_type": "stream",
     "text": [
      "Running with lang: bengali\n"
     ]
    }
   ],
   "source": [
    "print(f\"Running with lang: {language}\")"
   ]
  },
  {
   "cell_type": "code",
   "execution_count": 7,
   "id": "821591de",
   "metadata": {
    "execution": {
     "iopub.execute_input": "2024-11-19T05:10:42.343116Z",
     "iopub.status.busy": "2024-11-19T05:10:42.342506Z",
     "iopub.status.idle": "2024-11-19T05:10:42.867892Z",
     "shell.execute_reply": "2024-11-19T05:10:42.867113Z"
    },
    "papermill": {
     "duration": 0.583775,
     "end_time": "2024-11-19T05:10:42.869657",
     "exception": false,
     "start_time": "2024-11-19T05:10:42.285882",
     "status": "completed"
    },
    "tags": []
   },
   "outputs": [],
   "source": [
    "# Load tokeniser for MBERT\n",
    "tokenizer = BertTokenizerFast.from_pretrained('bert-base-multilingual-cased')"
   ]
  },
  {
   "cell_type": "code",
   "execution_count": 8,
   "id": "41bb7e47",
   "metadata": {
    "execution": {
     "iopub.execute_input": "2024-11-19T05:10:42.969164Z",
     "iopub.status.busy": "2024-11-19T05:10:42.968729Z",
     "iopub.status.idle": "2024-11-19T05:10:42.973868Z",
     "shell.execute_reply": "2024-11-19T05:10:42.973356Z"
    },
    "papermill": {
     "duration": 0.061872,
     "end_time": "2024-11-19T05:10:42.975316",
     "exception": false,
     "start_time": "2024-11-19T05:10:42.913444",
     "status": "completed"
    },
    "tags": []
   },
   "outputs": [],
   "source": [
    "class NER_Dataset(Dataset):\n",
    "    def __init__(self, data, tokenizer, max_len=128):\n",
    "        self.data = data  # List of sentences and labels\n",
    "        self.tokenizer = tokenizer  # mBERT tokenizer\n",
    "        self.max_len = max_len\n",
    "\n",
    "    def __len__(self):\n",
    "        return len(self.data)\n",
    "\n",
    "    def __getitem__(self, idx):\n",
    "        text = self.data[idx][\"tokens\"]\n",
    "        word_labels = self.data[idx][\"ner_tags\"]\n",
    "\n",
    "        # Tokenize the text and align the labels\n",
    "        encoding = self.tokenizer(text,\n",
    "                                  is_split_into_words=True,\n",
    "                                  return_offsets_mapping=True,\n",
    "                                  padding='max_length',\n",
    "                                  truncation=True,\n",
    "                                  max_length=self.max_len)\n",
    "\n",
    "        labels = [self.align_labels(encoding['offset_mapping'], word_labels)]\n",
    "\n",
    "        # Remove the offset mapping to prevent issues during model training\n",
    "        del encoding['offset_mapping']\n",
    "\n",
    "        item = {key: torch.tensor(val) for key, val in encoding.items()}\n",
    "        item['labels'] = torch.tensor(labels[0], dtype=torch.long)\n",
    "\n",
    "        return item\n",
    "    \n",
    "    # Create a function to align labels\n",
    "    def align_labels(self, offset_mapping, labels):\n",
    "        aligned_labels = []\n",
    "        current_label_index = 0\n",
    "\n",
    "        for offset in offset_mapping:\n",
    "            # If the offset mapping is (0, 0), it's a special token ([CLS], [SEP], [PAD])\n",
    "            if offset == (0, 0):\n",
    "                aligned_labels.append(-100)  # -100 is used to ignore these tokens in the loss computation\n",
    "            else:\n",
    "                # Check if the token is the start of a new word\n",
    "                if offset[0] == 0:\n",
    "                    aligned_labels.append(labels[current_label_index])\n",
    "                    current_label_index += 1\n",
    "                else:\n",
    "                    # If the token is not the first subtoken, you can decide how to label it. \n",
    "                    # For simplicity, let's use the same label as the first subtoken\n",
    "                    aligned_labels.append(labels[current_label_index - 1])\n",
    "\n",
    "        return aligned_labels\n"
   ]
  },
  {
   "cell_type": "code",
   "execution_count": 9,
   "id": "45f5d09c",
   "metadata": {
    "execution": {
     "iopub.execute_input": "2024-11-19T05:10:43.087912Z",
     "iopub.status.busy": "2024-11-19T05:10:43.087401Z",
     "iopub.status.idle": "2024-11-19T05:10:43.092189Z",
     "shell.execute_reply": "2024-11-19T05:10:43.091464Z"
    },
    "papermill": {
     "duration": 0.068252,
     "end_time": "2024-11-19T05:10:43.093853",
     "exception": false,
     "start_time": "2024-11-19T05:10:43.025601",
     "status": "completed"
    },
    "tags": []
   },
   "outputs": [],
   "source": [
    "# Create train dataset and test dataset\n",
    "train_dataset = NER_Dataset(train_data, tokenizer)\n",
    "test_dataset = NER_Dataset(test_data, tokenizer)\n",
    "\n",
    "# Create train dataloader and test dataloader\n",
    "train_dataloader = DataLoader(train_dataset, batch_size=32, shuffle=True)\n",
    "test_dataloader = DataLoader(test_dataset, batch_size=32, shuffle=False)"
   ]
  },
  {
   "cell_type": "code",
   "execution_count": 10,
   "id": "2ff3ac37",
   "metadata": {
    "execution": {
     "iopub.execute_input": "2024-11-19T05:10:43.146008Z",
     "iopub.status.busy": "2024-11-19T05:10:43.145512Z",
     "iopub.status.idle": "2024-11-19T05:10:43.239809Z",
     "shell.execute_reply": "2024-11-19T05:10:43.239113Z"
    },
    "papermill": {
     "duration": 0.125951,
     "end_time": "2024-11-19T05:10:43.241561",
     "exception": false,
     "start_time": "2024-11-19T05:10:43.115610",
     "status": "completed"
    },
    "tags": []
   },
   "outputs": [
    {
     "data": {
      "text/plain": [
       "'cuda'"
      ]
     },
     "execution_count": 10,
     "metadata": {},
     "output_type": "execute_result"
    }
   ],
   "source": [
    "DEVICE = 'cuda' if torch.cuda.is_available() else 'cpu'\n",
    "DEVICE"
   ]
  },
  {
   "cell_type": "code",
   "execution_count": 11,
   "id": "19618467",
   "metadata": {
    "execution": {
     "iopub.execute_input": "2024-11-19T05:10:43.324713Z",
     "iopub.status.busy": "2024-11-19T05:10:43.324161Z",
     "iopub.status.idle": "2024-11-19T05:10:43.332033Z",
     "shell.execute_reply": "2024-11-19T05:10:43.331285Z"
    },
    "papermill": {
     "duration": 0.068742,
     "end_time": "2024-11-19T05:10:43.333811",
     "exception": false,
     "start_time": "2024-11-19T05:10:43.265069",
     "status": "completed"
    },
    "tags": []
   },
   "outputs": [],
   "source": [
    "import torch\n",
    "import torch.nn as nn\n",
    "\n",
    "class CrossAttentionFusion(nn.Module):\n",
    "    def __init__(self, hidden_dim, num_heads):\n",
    "        super(CrossAttentionFusion, self).__init__()\n",
    "        self.cross_attention = nn.MultiheadAttention(embed_dim=hidden_dim, num_heads=num_heads)\n",
    "        self.layer_norm = nn.LayerNorm(hidden_dim)\n",
    "\n",
    "    def forward(self, embeddings_mbert, embeddings_indicbert):\n",
    "        \"\"\"\n",
    "        Fuse embeddings from mBERT and Indic-BERT using cross-attention.\n",
    "\n",
    "        Args:\n",
    "            embeddings_mbert (torch.Tensor): Embeddings from mBERT of shape [batch_size, seq_len_m, hidden_dim].\n",
    "            embeddings_indicbert (torch.Tensor): Embeddings from Indic-BERT of shape [batch_size, seq_len_i, hidden_dim].\n",
    "\n",
    "        Returns:\n",
    "            torch.Tensor: Fused embeddings of shape [batch_size, seq_len_m, hidden_dim].\n",
    "        \"\"\"\n",
    "        embeddings_mbert = embeddings_mbert.to(DEVICE)\n",
    "        embeddings_indicbert = embeddings_indicbert.to(DEVICE)\n",
    "        \n",
    "        # Transpose to shape [seq_len, batch_size, hidden_dim] for nn.MultiheadAttention\n",
    "        embeddings_mbert = embeddings_mbert.transpose(0, 1)\n",
    "        embeddings_indicbert = embeddings_indicbert.transpose(0, 1)\n",
    "\n",
    "        # Cross-attention: Indic BERT queries attend to m-BERT keys and values\n",
    "        attn_output, _ = self.cross_attention(\n",
    "            query=embeddings_indicbert,       # Queries from Indic-BERT\n",
    "            key=embeddings_mbert,     # Keys from m-BERT\n",
    "            value=embeddings_mbert    # Values from m-BERT\n",
    "        )\n",
    "\n",
    "        attn_output.to(DEVICE)\n",
    "\n",
    "        # Residual connection and layer normalization\n",
    "        output = self.layer_norm(attn_output + embeddings_mbert)\n",
    "\n",
    "        # Transpose back to [batch_size, seq_len_m, hidden_dim]\n",
    "        output = output.transpose(0, 1)\n",
    "\n",
    "        return output"
   ]
  },
  {
   "cell_type": "code",
   "execution_count": 12,
   "id": "794f5b66",
   "metadata": {
    "execution": {
     "iopub.execute_input": "2024-11-19T05:10:43.393264Z",
     "iopub.status.busy": "2024-11-19T05:10:43.392752Z",
     "iopub.status.idle": "2024-11-19T05:10:43.396280Z",
     "shell.execute_reply": "2024-11-19T05:10:43.395537Z"
    },
    "papermill": {
     "duration": 0.011085,
     "end_time": "2024-11-19T05:10:43.397951",
     "exception": false,
     "start_time": "2024-11-19T05:10:43.386866",
     "status": "completed"
    },
    "tags": []
   },
   "outputs": [],
   "source": [
    "hidden_dim = 768\n",
    "num_heads = 4"
   ]
  },
  {
   "cell_type": "code",
   "execution_count": 13,
   "id": "9ee9c567",
   "metadata": {
    "execution": {
     "iopub.execute_input": "2024-11-19T05:10:43.507221Z",
     "iopub.status.busy": "2024-11-19T05:10:43.506729Z",
     "iopub.status.idle": "2024-11-19T05:10:45.399684Z",
     "shell.execute_reply": "2024-11-19T05:10:45.399068Z"
    },
    "papermill": {
     "duration": 1.956753,
     "end_time": "2024-11-19T05:10:45.401365",
     "exception": false,
     "start_time": "2024-11-19T05:10:43.444612",
     "status": "completed"
    },
    "tags": []
   },
   "outputs": [
    {
     "data": {
      "text/plain": [
       "MBERT_NER(\n",
       "  (bert): BertModel(\n",
       "    (embeddings): BertEmbeddings(\n",
       "      (word_embeddings): Embedding(119547, 768, padding_idx=0)\n",
       "      (position_embeddings): Embedding(512, 768)\n",
       "      (token_type_embeddings): Embedding(2, 768)\n",
       "      (LayerNorm): LayerNorm((768,), eps=1e-12, elementwise_affine=True)\n",
       "      (dropout): Dropout(p=0.1, inplace=False)\n",
       "    )\n",
       "    (encoder): BertEncoder(\n",
       "      (layer): ModuleList(\n",
       "        (0-11): 12 x BertLayer(\n",
       "          (attention): BertAttention(\n",
       "            (self): BertSdpaSelfAttention(\n",
       "              (query): Linear(in_features=768, out_features=768, bias=True)\n",
       "              (key): Linear(in_features=768, out_features=768, bias=True)\n",
       "              (value): Linear(in_features=768, out_features=768, bias=True)\n",
       "              (dropout): Dropout(p=0.1, inplace=False)\n",
       "            )\n",
       "            (output): BertSelfOutput(\n",
       "              (dense): Linear(in_features=768, out_features=768, bias=True)\n",
       "              (LayerNorm): LayerNorm((768,), eps=1e-12, elementwise_affine=True)\n",
       "              (dropout): Dropout(p=0.1, inplace=False)\n",
       "            )\n",
       "          )\n",
       "          (intermediate): BertIntermediate(\n",
       "            (dense): Linear(in_features=768, out_features=3072, bias=True)\n",
       "            (intermediate_act_fn): GELUActivation()\n",
       "          )\n",
       "          (output): BertOutput(\n",
       "            (dense): Linear(in_features=3072, out_features=768, bias=True)\n",
       "            (LayerNorm): LayerNorm((768,), eps=1e-12, elementwise_affine=True)\n",
       "            (dropout): Dropout(p=0.1, inplace=False)\n",
       "          )\n",
       "        )\n",
       "      )\n",
       "    )\n",
       "    (pooler): BertPooler(\n",
       "      (dense): Linear(in_features=768, out_features=768, bias=True)\n",
       "      (activation): Tanh()\n",
       "    )\n",
       "  )\n",
       "  (indic_bert): AlbertModel(\n",
       "    (embeddings): AlbertEmbeddings(\n",
       "      (word_embeddings): Embedding(200000, 128, padding_idx=0)\n",
       "      (position_embeddings): Embedding(512, 128)\n",
       "      (token_type_embeddings): Embedding(2, 128)\n",
       "      (LayerNorm): LayerNorm((128,), eps=1e-12, elementwise_affine=True)\n",
       "      (dropout): Dropout(p=0, inplace=False)\n",
       "    )\n",
       "    (encoder): AlbertTransformer(\n",
       "      (embedding_hidden_mapping_in): Linear(in_features=128, out_features=768, bias=True)\n",
       "      (albert_layer_groups): ModuleList(\n",
       "        (0): AlbertLayerGroup(\n",
       "          (albert_layers): ModuleList(\n",
       "            (0): AlbertLayer(\n",
       "              (full_layer_layer_norm): LayerNorm((768,), eps=1e-12, elementwise_affine=True)\n",
       "              (attention): AlbertSdpaAttention(\n",
       "                (query): Linear(in_features=768, out_features=768, bias=True)\n",
       "                (key): Linear(in_features=768, out_features=768, bias=True)\n",
       "                (value): Linear(in_features=768, out_features=768, bias=True)\n",
       "                (attention_dropout): Dropout(p=0, inplace=False)\n",
       "                (output_dropout): Dropout(p=0, inplace=False)\n",
       "                (dense): Linear(in_features=768, out_features=768, bias=True)\n",
       "                (LayerNorm): LayerNorm((768,), eps=1e-12, elementwise_affine=True)\n",
       "              )\n",
       "              (ffn): Linear(in_features=768, out_features=3072, bias=True)\n",
       "              (ffn_output): Linear(in_features=3072, out_features=768, bias=True)\n",
       "              (activation): GELUActivation()\n",
       "              (dropout): Dropout(p=0, inplace=False)\n",
       "            )\n",
       "          )\n",
       "        )\n",
       "      )\n",
       "    )\n",
       "    (pooler): Linear(in_features=768, out_features=768, bias=True)\n",
       "    (pooler_activation): Tanh()\n",
       "  )\n",
       "  (attention): CrossAttentionFusion(\n",
       "    (cross_attention): MultiheadAttention(\n",
       "      (out_proj): NonDynamicallyQuantizableLinear(in_features=768, out_features=768, bias=True)\n",
       "    )\n",
       "    (layer_norm): LayerNorm((768,), eps=1e-05, elementwise_affine=True)\n",
       "  )\n",
       "  (gru): GRU(2304, 128, batch_first=True)\n",
       "  (classifier): Linear(in_features=128, out_features=7, bias=True)\n",
       "  (dropout): Dropout(p=0.1, inplace=False)\n",
       "  (batch_norm): BatchNorm1d(128, eps=1e-05, momentum=0.1, affine=True, track_running_stats=True)\n",
       ")"
      ]
     },
     "execution_count": 13,
     "metadata": {},
     "output_type": "execute_result"
    }
   ],
   "source": [
    "# Model for NER\n",
    "\n",
    "class MBERT_NER(nn.Module):\n",
    "    def __init__(self, num_labels, gru_hidden_size, num_gru_layers, freeze_bert=False):\n",
    "        super(MBERT_NER, self).__init__()\n",
    "\n",
    "        self.bert = BertModel.from_pretrained(\"bert-base-multilingual-cased\")\n",
    "        self.indic_bert = AutoModel.from_pretrained(\"ai4bharat/indic-bert\")\n",
    "        \n",
    "        # Initialize the Fusion Attention\n",
    "        self.attention = CrossAttentionFusion(hidden_dim=hidden_dim, num_heads=num_heads).to(DEVICE)\n",
    "        \n",
    "        self.gru = nn.GRU(input_size=self.bert.config.hidden_size * 3,\n",
    "                          hidden_size=gru_hidden_size,\n",
    "                          num_layers=num_gru_layers,\n",
    "                          batch_first=True)\n",
    "        self.classifier = nn.Linear(gru_hidden_size, num_labels)\n",
    "        self.dropout = nn.Dropout(0.1)\n",
    "        self.batch_norm = nn.BatchNorm1d(gru_hidden_size)\n",
    "\n",
    "        if freeze_bert:\n",
    "            for param in self.bert.parameters():\n",
    "                param.requires_grad = False\n",
    "            for param in self.indic_bert.parameters():\n",
    "                param.requires_grad = False\n",
    "\n",
    "    def forward(self, input_ids, attention_mask):\n",
    "        \n",
    "        input_ids = input_ids.to(DEVICE)\n",
    "        attention_mask = attention_mask.to(DEVICE)\n",
    "        \n",
    "        # Embeddings\n",
    "        outputs1 = self.bert(input_ids=input_ids, attention_mask=attention_mask)\n",
    "        outputs2 = self.indic_bert(input_ids = input_ids, attention_mask = attention_mask)        \n",
    "        \n",
    "        embeddings_mbert = outputs1.last_hidden_state.to(DEVICE)\n",
    "        embeddings_indicbert = outputs2.last_hidden_state.to(DEVICE)\n",
    "        \n",
    "        # Fused embeddings\n",
    "        embeddings = self.attention(embeddings_mbert, embeddings_indicbert).to(DEVICE)\n",
    "        \n",
    "        sequence_output = torch.cat((embeddings_mbert, embeddings_indicbert, embeddings), dim=-1)\n",
    "        \n",
    "        gru_output, _ = self.gru(sequence_output)\n",
    "        gru_output = self.batch_norm(gru_output)\n",
    "        gru_output = self.dropout(gru_output)\n",
    "        \n",
    "        logits = self.classifier(gru_output)\n",
    "        return logits\n",
    "\n",
    "# Create the NER model\n",
    "NUM_LABELS = 7 # Number of NER tags\n",
    "GRU_HIDDEN_SIZE = 128 # Hidden size of the GRU\n",
    "NUM_GRU_LAYERS = 1 # Number of layers in the GRU\n",
    "FREEZE_BERT = False # Whether to freeze the BERT model\n",
    "DEVICE = 'cuda' if torch.cuda.is_available() else 'cpu'\n",
    "\n",
    "model = MBERT_NER(num_labels=NUM_LABELS,\n",
    "                    gru_hidden_size=GRU_HIDDEN_SIZE,\n",
    "                    num_gru_layers=NUM_GRU_LAYERS,\n",
    "                    freeze_bert=FREEZE_BERT)\n",
    "\n",
    "model.to(DEVICE)"
   ]
  },
  {
   "cell_type": "code",
   "execution_count": 14,
   "id": "16de4034",
   "metadata": {
    "execution": {
     "iopub.execute_input": "2024-11-19T05:10:45.413740Z",
     "iopub.status.busy": "2024-11-19T05:10:45.413479Z",
     "iopub.status.idle": "2024-11-19T05:10:45.415985Z",
     "shell.execute_reply": "2024-11-19T05:10:45.415506Z"
    },
    "papermill": {
     "duration": 0.010252,
     "end_time": "2024-11-19T05:10:45.417546",
     "exception": false,
     "start_time": "2024-11-19T05:10:45.407294",
     "status": "completed"
    },
    "tags": []
   },
   "outputs": [],
   "source": [
    "torch.cuda.empty_cache()"
   ]
  },
  {
   "cell_type": "code",
   "execution_count": 15,
   "id": "54551652",
   "metadata": {
    "execution": {
     "iopub.execute_input": "2024-11-19T05:10:45.429720Z",
     "iopub.status.busy": "2024-11-19T05:10:45.429293Z",
     "iopub.status.idle": "2024-11-19T05:14:36.107270Z",
     "shell.execute_reply": "2024-11-19T05:14:36.106502Z"
    },
    "papermill": {
     "duration": 230.691742,
     "end_time": "2024-11-19T05:14:36.114756",
     "exception": false,
     "start_time": "2024-11-19T05:10:45.423014",
     "status": "completed"
    },
    "tags": []
   },
   "outputs": [
    {
     "name": "stdout",
     "output_type": "stream",
     "text": [
      "Epoch 1/6, Train Loss: 0.8006, Train F1: 0.7277, Train Acc: 0.7375, Val Loss: 0.3744, Val F1: 0.8816, Val Acc: 0.8820\n"
     ]
    },
    {
     "name": "stdout",
     "output_type": "stream",
     "text": [
      "Epoch 2/6, Train Loss: 0.2955, Train F1: 0.9109, Train Acc: 0.9136, Val Loss: 0.3230, Val F1: 0.9082, Val Acc: 0.9080\n"
     ]
    },
    {
     "name": "stdout",
     "output_type": "stream",
     "text": [
      "Epoch 3/6, Train Loss: 0.1803, Train F1: 0.9492, Train Acc: 0.9519, Val Loss: 0.2280, Val F1: 0.9419, Val Acc: 0.9431\n"
     ]
    },
    {
     "name": "stdout",
     "output_type": "stream",
     "text": [
      "Epoch 4/6, Train Loss: 0.1451, Train F1: 0.9604, Train Acc: 0.9620, Val Loss: 0.2760, Val F1: 0.9317, Val Acc: 0.9309\n"
     ]
    },
    {
     "name": "stdout",
     "output_type": "stream",
     "text": [
      "Epoch 5/6, Train Loss: 0.1086, Train F1: 0.9718, Train Acc: 0.9724, Val Loss: 0.2298, Val F1: 0.9443, Val Acc: 0.9457\n"
     ]
    },
    {
     "name": "stdout",
     "output_type": "stream",
     "text": [
      "Epoch 6/6, Train Loss: 0.0809, Train F1: 0.9788, Train Acc: 0.9795, Val Loss: 0.2459, Val F1: 0.9468, Val Acc: 0.9467\n"
     ]
    }
   ],
   "source": [
    "from sklearn.metrics import f1_score, accuracy_score\n",
    "\n",
    "# Optimizer and loss function\n",
    "optimizer = optim.AdamW(model.parameters(), lr=2e-5)\n",
    "criterion = nn.CrossEntropyLoss(ignore_index=-100)\n",
    "\n",
    "# Training loop\n",
    "EPOCHS = 6\n",
    "\n",
    "train_losses = []\n",
    "train_f1_scores = []\n",
    "train_acc_scores = []\n",
    "val_losses = []\n",
    "val_f1_scores = []\n",
    "val_acc_scores = []\n",
    "\n",
    "\n",
    "for epoch in range(EPOCHS):\n",
    "    model.train()\n",
    "    train_loss = 0\n",
    "    train_predictions, train_labels = [], []\n",
    "\n",
    "    for batch in train_dataloader:\n",
    "        input_ids = batch['input_ids'].to(DEVICE)\n",
    "        attention_mask = batch['attention_mask'].to(DEVICE)\n",
    "        labels = batch['labels'].to(DEVICE)\n",
    "\n",
    "        optimizer.zero_grad()\n",
    "        logits = model(input_ids, attention_mask)\n",
    "        logits = logits.view(-1, NUM_LABELS)\n",
    "        labels = labels.view(-1)\n",
    "\n",
    "        loss = criterion(logits, labels)\n",
    "        loss.backward()\n",
    "        optimizer.step()\n",
    "\n",
    "        train_loss += loss.item()\n",
    "\n",
    "        # Get predictions and filter out ignored indices for metric calculations\n",
    "        predictions = torch.argmax(logits, dim=-1)\n",
    "        active_indices = labels != -100\n",
    "        train_predictions.extend(predictions[active_indices].cpu().numpy())\n",
    "        train_labels.extend(labels[active_indices].cpu().numpy())\n",
    "\n",
    "    train_loss /= len(train_dataloader)\n",
    "    train_losses.append(train_loss)\n",
    "\n",
    "    train_f1 = f1_score(train_labels, train_predictions, average='macro')\n",
    "    train_f1_scores.append(train_f1)\n",
    "\n",
    "    train_acc = accuracy_score(train_labels, train_predictions)\n",
    "    train_acc_scores.append(train_acc)\n",
    "\n",
    "    # Validation loop\n",
    "    model.eval()\n",
    "    val_loss = 0\n",
    "    val_predictions, val_labels = [], []\n",
    "\n",
    "    with torch.no_grad():\n",
    "        for batch in test_dataloader:\n",
    "            input_ids = batch['input_ids'].to(DEVICE)\n",
    "            attention_mask = batch['attention_mask'].to(DEVICE)\n",
    "            labels = batch['labels'].to(DEVICE)\n",
    "\n",
    "            logits = model(input_ids, attention_mask)\n",
    "            logits = logits.view(-1, NUM_LABELS)\n",
    "            labels = labels.view(-1)\n",
    "\n",
    "            loss = criterion(logits, labels)\n",
    "            val_loss += loss.item()\n",
    "\n",
    "            # Filter predictions and labels\n",
    "            predictions = torch.argmax(logits, dim=-1)\n",
    "            active_indices = labels != -100\n",
    "            val_predictions.extend(predictions[active_indices].cpu().numpy())\n",
    "            val_labels.extend(labels[active_indices].cpu().numpy())\n",
    "\n",
    "    val_loss /= len(test_dataloader)\n",
    "    val_losses.append(val_loss)\n",
    "\n",
    "    val_f1 = f1_score(val_labels, val_predictions, average='macro')\n",
    "    val_f1_scores.append(val_f1)\n",
    "\n",
    "    val_acc = accuracy_score(val_labels, val_predictions)\n",
    "    val_acc_scores.append(val_acc)\n",
    "\n",
    "    print(f\"Epoch {epoch + 1}/{EPOCHS}, Train Loss: {train_loss:.4f}, Train F1: {train_f1:.4f}, Train Acc: {train_acc:.4f}, Val Loss: {val_loss:.4f}, Val F1: {val_f1:.4f}, Val Acc: {val_acc:.4f}\")"
   ]
  },
  {
   "cell_type": "code",
   "execution_count": 16,
   "id": "33005984",
   "metadata": {
    "execution": {
     "iopub.execute_input": "2024-11-19T05:14:36.128252Z",
     "iopub.status.busy": "2024-11-19T05:14:36.127689Z",
     "iopub.status.idle": "2024-11-19T05:14:52.989646Z",
     "shell.execute_reply": "2024-11-19T05:14:52.988825Z"
    },
    "papermill": {
     "duration": 16.870679,
     "end_time": "2024-11-19T05:14:52.991473",
     "exception": false,
     "start_time": "2024-11-19T05:14:36.120794",
     "status": "completed"
    },
    "tags": []
   },
   "outputs": [
    {
     "name": "stdout",
     "output_type": "stream",
     "text": [
      "Language: Hindi\n",
      "\n",
      "Weighted F1: 0.7586\n",
      "Macro F1: 0.7019\n",
      "Accuracy: 0.7569\n",
      "\n",
      "CLASSIFICATION REPORT: \n",
      "              precision    recall  f1-score   support\n",
      "\n",
      "           0       0.92      0.76      0.83      5277\n",
      "           1       0.65      0.81      0.73      1481\n",
      "           2       0.70      0.96      0.81      1874\n",
      "           3       0.50      0.50      0.50       986\n",
      "           4       0.82      0.77      0.80      2602\n",
      "           5       0.65      0.69      0.67      1195\n",
      "           6       0.60      0.57      0.59       867\n",
      "\n",
      "    accuracy                           0.76     14282\n",
      "   macro avg       0.69      0.72      0.70     14282\n",
      "weighted avg       0.77      0.76      0.76     14282\n",
      "\n",
      "\n",
      "CONFUSION MATRIX: \n",
      "[[3988  440   95  403   74  190   87]\n",
      " [  38 1204  209   17    7    5    1]\n",
      " [  16   16 1799    4   35    0    4]\n",
      " [  75  109   13  492  136  160    1]\n",
      " [ 111    9  291   14 2006   27  144]\n",
      " [  81   54   34   58   55  824   89]\n",
      " [  42    7  124    2  127   68  497]]\n",
      "--------------------------------------------------\n"
     ]
    },
    {
     "name": "stdout",
     "output_type": "stream",
     "text": [
      "Language: Bengali\n",
      "\n",
      "Weighted F1: 0.9468\n",
      "Macro F1: 0.9468\n",
      "Accuracy: 0.9467\n",
      "\n",
      "CLASSIFICATION REPORT: \n",
      "              precision    recall  f1-score   support\n",
      "\n",
      "           0       0.97      0.92      0.94      1835\n",
      "           1       0.90      0.97      0.94      1343\n",
      "           2       0.91      0.98      0.94      2490\n",
      "           3       0.97      0.94      0.95      1239\n",
      "           4       0.95      0.94      0.95      3068\n",
      "           5       0.97      0.93      0.95      1510\n",
      "           6       0.98      0.94      0.96      2080\n",
      "\n",
      "    accuracy                           0.95     13565\n",
      "   macro avg       0.95      0.95      0.95     13565\n",
      "weighted avg       0.95      0.95      0.95     13565\n",
      "\n",
      "\n",
      "CONFUSION MATRIX: \n",
      "[[1690   32   30    5   55    8   15]\n",
      " [  14 1305   12    8    0    4    0]\n",
      " [  12   11 2441    0   21    0    5]\n",
      " [   8   44    2 1159    6   20    0]\n",
      " [   6    3  153    0 2884    1   21]\n",
      " [  18   48    0   28    5 1408    3]\n",
      " [   3    0   49    0   63   10 1955]]\n",
      "--------------------------------------------------\n"
     ]
    },
    {
     "name": "stdout",
     "output_type": "stream",
     "text": [
      "Language: Marathi\n",
      "\n",
      "Weighted F1: 0.7510\n",
      "Macro F1: 0.6173\n",
      "Accuracy: 0.7467\n",
      "\n",
      "CLASSIFICATION REPORT: \n",
      "              precision    recall  f1-score   support\n",
      "\n",
      "           0       0.94      0.83      0.88     10408\n",
      "           1       0.67      0.85      0.75      1342\n",
      "           2       0.59      0.90      0.71      1992\n",
      "           3       0.16      0.15      0.15      1172\n",
      "           4       0.68      0.56      0.62      2535\n",
      "           5       0.72      0.74      0.73      1829\n",
      "           6       0.41      0.58      0.48       820\n",
      "\n",
      "    accuracy                           0.75     20098\n",
      "   macro avg       0.60      0.66      0.62     20098\n",
      "weighted avg       0.77      0.75      0.75     20098\n",
      "\n",
      "\n",
      "CONFUSION MATRIX: \n",
      "[[8670  192  127  827  163  210  219]\n",
      " [  38 1134  156    1    5    8    0]\n",
      " [  67   52 1784    0   17   59   13]\n",
      " [  80  242  119  172  339  163   57]\n",
      " [  52   16  699    8 1423    9  328]\n",
      " [ 204   63   46   60   44 1346   66]\n",
      " [  77    0   81    0  100   84  478]]\n",
      "--------------------------------------------------\n"
     ]
    },
    {
     "name": "stdout",
     "output_type": "stream",
     "text": [
      "Language: Tamil\n",
      "\n",
      "Weighted F1: 0.7694\n",
      "Macro F1: 0.6465\n",
      "Accuracy: 0.7684\n",
      "\n",
      "CLASSIFICATION REPORT: \n",
      "              precision    recall  f1-score   support\n",
      "\n",
      "           0       0.94      0.83      0.89     11461\n",
      "           1       0.59      0.72      0.65      1643\n",
      "           2       0.65      0.94      0.77      2295\n",
      "           3       0.57      0.30      0.39      1512\n",
      "           4       0.70      0.73      0.71      2532\n",
      "           5       0.61      0.72      0.66      1881\n",
      "           6       0.40      0.54      0.46       677\n",
      "\n",
      "    accuracy                           0.77     22001\n",
      "   macro avg       0.64      0.68      0.65     22001\n",
      "weighted avg       0.79      0.77      0.77     22001\n",
      "\n",
      "\n",
      "CONFUSION MATRIX: \n",
      "[[9556  466  421  237  290  311  180]\n",
      " [  80 1175  329   14   13   32    0]\n",
      " [  69   27 2160    0   34    0    5]\n",
      " [ 100  120  103  455  262  448   24]\n",
      " [ 157   18  223    2 1846   27  259]\n",
      " [ 112  193   38   84   30 1350   74]\n",
      " [  41    0   59    0  163   51  363]]\n",
      "--------------------------------------------------\n"
     ]
    },
    {
     "name": "stdout",
     "output_type": "stream",
     "text": [
      "Language: Telugu\n",
      "\n",
      "Weighted F1: 0.7971\n",
      "Macro F1: 0.6131\n",
      "Accuracy: 0.7897\n",
      "\n",
      "CLASSIFICATION REPORT: \n",
      "              precision    recall  f1-score   support\n",
      "\n",
      "           0       0.96      0.85      0.90     17291\n",
      "           1       0.51      0.70      0.59      1810\n",
      "           2       0.51      0.97      0.67      1353\n",
      "           3       0.43      0.24      0.31      1375\n",
      "           4       0.71      0.69      0.70      2269\n",
      "           5       0.68      0.80      0.73      2072\n",
      "           6       0.29      0.56      0.38       455\n",
      "\n",
      "    accuracy                           0.79     26625\n",
      "   macro avg       0.58      0.69      0.61     26625\n",
      "weighted avg       0.82      0.79      0.80     26625\n",
      "\n",
      "\n",
      "CONFUSION MATRIX: \n",
      "[[14623   803   526   287   317   432   303]\n",
      " [  158  1271   314    13     8    46     0]\n",
      " [   23     2  1313     0     8     0     7]\n",
      " [  211   366    71   334   180   161    52]\n",
      " [   78     3   286    96  1574    70   162]\n",
      " [  172    53    11    48    45  1659    84]\n",
      " [   12     0    35     0    78    77   253]]\n",
      "--------------------------------------------------\n"
     ]
    }
   ],
   "source": [
    "from sklearn.metrics import f1_score\n",
    "from sklearn.metrics import accuracy_score\n",
    "from sklearn.metrics import classification_report\n",
    "from sklearn.metrics import confusion_matrix\n",
    "\n",
    "# Load the test data from json for all 5 languages\n",
    "languages = ['hindi', 'bengali', 'marathi', 'tamil', 'telugu']\n",
    "\n",
    "# Iterate over all languages and evaluate the model\n",
    "for lang in languages:\n",
    "    with open(f'/home/vijay/slim_sense/SHARPax/Python_code/test/NER-Experiments/Dataset/{lang}_test.json') as f:\n",
    "        test_data = json.load(f)\n",
    "\n",
    "    test_dataset = NER_Dataset(test_data, tokenizer)\n",
    "    test_dataloader = DataLoader(test_dataset, batch_size=32, shuffle=False)\n",
    "\n",
    "    model.eval()\n",
    "    test_predictions, test_labels = [], []\n",
    "\n",
    "    with torch.no_grad():\n",
    "        for batch in test_dataloader:\n",
    "            input_ids = batch['input_ids'].to(DEVICE)\n",
    "            attention_mask = batch['attention_mask'].to(DEVICE)\n",
    "            labels = batch['labels'].to(DEVICE)\n",
    "\n",
    "            logits = model(input_ids, attention_mask)\n",
    "            logits = logits.view(-1, NUM_LABELS)\n",
    "            labels = labels.view(-1)\n",
    "\n",
    "            # Filter predictions and labels\n",
    "            predictions = torch.argmax(logits, dim=-1)\n",
    "            active_indices = labels != -100\n",
    "            test_predictions.extend(predictions[active_indices].cpu().numpy())\n",
    "            test_labels.extend(labels[active_indices].cpu().numpy())\n",
    "\n",
    "    weighted_f1 = f1_score(test_labels, test_predictions, average='weighted')\n",
    "    macro_f1 = f1_score(test_labels, test_predictions, average='macro')\n",
    "    accuracy = accuracy_score(test_labels, test_predictions)\n",
    "\n",
    "    if lang == 'hindi':\n",
    "        LANG = \"Hindi\"\n",
    "    elif lang == 'bengali':\n",
    "        LANG = \"Bengali\"\n",
    "    elif lang == 'marathi':\n",
    "        LANG = \"Marathi\"\n",
    "    elif lang == 'tamil':\n",
    "        LANG = \"Tamil\"\n",
    "    elif lang == 'telugu':\n",
    "        LANG = \"Telugu\"\n",
    "\n",
    "    print(f\"Language: {LANG}\")\n",
    "    print()\n",
    "    print(f\"Weighted F1: {weighted_f1:.4f}\")\n",
    "    print(f\"Macro F1: {macro_f1:.4f}\")\n",
    "    print(f\"Accuracy: {accuracy:.4f}\")\n",
    "    print()\n",
    "    print(\"CLASSIFICATION REPORT: \")\n",
    "    print(classification_report(test_labels, test_predictions))\n",
    "    print()\n",
    "    print(\"CONFUSION MATRIX: \")\n",
    "    print(confusion_matrix(test_labels, test_predictions))\n",
    "    print(\"--------------------------------------------------\")"
   ]
  },
  {
   "cell_type": "code",
   "execution_count": 17,
   "id": "c13ab9af",
   "metadata": {
    "execution": {
     "iopub.execute_input": "2024-11-19T05:14:53.006345Z",
     "iopub.status.busy": "2024-11-19T05:14:53.005933Z",
     "iopub.status.idle": "2024-11-19T05:14:54.311056Z",
     "shell.execute_reply": "2024-11-19T05:14:54.310276Z"
    },
    "papermill": {
     "duration": 1.314194,
     "end_time": "2024-11-19T05:14:54.312932",
     "exception": false,
     "start_time": "2024-11-19T05:14:52.998738",
     "status": "completed"
    },
    "tags": []
   },
   "outputs": [],
   "source": [
    "# Save the model\n",
    "torch.save(model.state_dict(), f'NER_FineTune_{language[:2]}_cross_attn.pth')"
   ]
  }
 ],
 "metadata": {
  "kernelspec": {
   "display_name": "Python 3",
   "language": "python",
   "name": "python3"
  },
  "language_info": {
   "codemirror_mode": {
    "name": "ipython",
    "version": 3
   },
   "file_extension": ".py",
   "mimetype": "text/x-python",
   "name": "python",
   "nbconvert_exporter": "python",
   "pygments_lexer": "ipython3",
   "version": "3.11.5"
  },
  "papermill": {
   "default_parameters": {},
   "duration": 259.093527,
   "end_time": "2024-11-19T05:14:56.555450",
   "environment_variables": {},
   "exception": null,
   "input_path": "/home/vijay/slim_sense/SHARPax/Python_code/test/NER-Experiments/FineTune-Experiments-OneLang/FineTune-Hindi.ipynb",
   "output_path": "/home/vijay/slim_sense/SHARPax/Python_code/test/NER-Experiments/FineTune-Experiments-OneLang//FineTune-bengali.ipynb",
   "parameters": {
    "language": "bengali"
   },
   "start_time": "2024-11-19T05:10:37.461923",
   "version": "2.6.0"
  }
 },
 "nbformat": 4,
 "nbformat_minor": 5
}
