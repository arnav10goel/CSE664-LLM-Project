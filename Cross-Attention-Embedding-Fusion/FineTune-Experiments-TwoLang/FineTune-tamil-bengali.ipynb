{
 "cells": [
  {
   "cell_type": "code",
   "execution_count": 1,
   "id": "cd224416",
   "metadata": {
    "execution": {
     "iopub.execute_input": "2024-11-18T20:42:53.452619Z",
     "iopub.status.busy": "2024-11-18T20:42:53.452394Z",
     "iopub.status.idle": "2024-11-18T20:42:53.458942Z",
     "shell.execute_reply": "2024-11-18T20:42:53.458170Z"
    },
    "papermill": {
     "duration": 0.014608,
     "end_time": "2024-11-18T20:42:53.460816",
     "exception": false,
     "start_time": "2024-11-18T20:42:53.446208",
     "status": "completed"
    },
    "tags": [
     "parameters"
    ]
   },
   "outputs": [],
   "source": [
    "# Parameters\n",
    "lang1 = \"hindi\"\n",
    "lang2 = \"bengali\""
   ]
  },
  {
   "cell_type": "code",
   "execution_count": 2,
   "id": "e7d80337",
   "metadata": {
    "execution": {
     "iopub.execute_input": "2024-11-18T20:42:53.472519Z",
     "iopub.status.busy": "2024-11-18T20:42:53.471908Z",
     "iopub.status.idle": "2024-11-18T20:42:53.475617Z",
     "shell.execute_reply": "2024-11-18T20:42:53.474907Z"
    },
    "papermill": {
     "duration": 0.01125,
     "end_time": "2024-11-18T20:42:53.477350",
     "exception": false,
     "start_time": "2024-11-18T20:42:53.466100",
     "status": "completed"
    },
    "tags": [
     "injected-parameters"
    ]
   },
   "outputs": [],
   "source": [
    "# Parameters\n",
    "lang1 = \"tamil\"\n",
    "lang2 = \"bengali\"\n"
   ]
  },
  {
   "cell_type": "code",
   "execution_count": 3,
   "id": "c9f55b9e",
   "metadata": {
    "execution": {
     "iopub.execute_input": "2024-11-18T20:42:53.488747Z",
     "iopub.status.busy": "2024-11-18T20:42:53.488082Z",
     "iopub.status.idle": "2024-11-18T20:42:53.492592Z",
     "shell.execute_reply": "2024-11-18T20:42:53.491879Z"
    },
    "papermill": {
     "duration": 0.011955,
     "end_time": "2024-11-18T20:42:53.494202",
     "exception": false,
     "start_time": "2024-11-18T20:42:53.482247",
     "status": "completed"
    },
    "tags": []
   },
   "outputs": [
    {
     "name": "stdout",
     "output_type": "stream",
     "text": [
      "Running with lang1: tamil, lang2: bengali\n"
     ]
    }
   ],
   "source": [
    "print(f\"Running with lang1: {lang1}, lang2: {lang2}\")"
   ]
  },
  {
   "cell_type": "code",
   "execution_count": 4,
   "id": "742966ac",
   "metadata": {
    "execution": {
     "iopub.execute_input": "2024-11-18T20:42:53.505865Z",
     "iopub.status.busy": "2024-11-18T20:42:53.505333Z",
     "iopub.status.idle": "2024-11-18T20:42:57.190393Z",
     "shell.execute_reply": "2024-11-18T20:42:57.189996Z"
    },
    "papermill": {
     "duration": 3.692923,
     "end_time": "2024-11-18T20:42:57.192270",
     "exception": false,
     "start_time": "2024-11-18T20:42:53.499347",
     "status": "completed"
    },
    "tags": []
   },
   "outputs": [
    {
     "name": "stderr",
     "output_type": "stream",
     "text": [
      "2024-11-18 20:42:55.601398: E external/local_xla/xla/stream_executor/cuda/cuda_dnn.cc:9261] Unable to register cuDNN factory: Attempting to register factory for plugin cuDNN when one has already been registered\n",
      "2024-11-18 20:42:55.601429: E external/local_xla/xla/stream_executor/cuda/cuda_fft.cc:607] Unable to register cuFFT factory: Attempting to register factory for plugin cuFFT when one has already been registered\n",
      "2024-11-18 20:42:55.602791: E external/local_xla/xla/stream_executor/cuda/cuda_blas.cc:1515] Unable to register cuBLAS factory: Attempting to register factory for plugin cuBLAS when one has already been registered\n",
      "2024-11-18 20:42:55.608925: I tensorflow/core/platform/cpu_feature_guard.cc:182] This TensorFlow binary is optimized to use available CPU instructions in performance-critical operations.\n",
      "To enable the following instructions: AVX2 FMA, in other operations, rebuild TensorFlow with the appropriate compiler flags.\n"
     ]
    },
    {
     "name": "stderr",
     "output_type": "stream",
     "text": [
      "2024-11-18 20:42:56.366282: W tensorflow/compiler/tf2tensorrt/utils/py_utils.cc:38] TF-TRT Warning: Could not find TensorRT\n"
     ]
    }
   ],
   "source": [
    "import torch\n",
    "import torch.nn as nn\n",
    "import torch.optim as optim\n",
    "import torch.nn.functional as F\n",
    "from transformers import BertTokenizerFast, BertModel\n",
    "import pandas as pd\n",
    "from torch.utils.data import Dataset, DataLoader\n",
    "import numpy as np\n",
    "import string\n",
    "import json"
   ]
  },
  {
   "cell_type": "code",
   "execution_count": null,
   "id": "c6f8139f",
   "metadata": {
    "execution": {
     "iopub.execute_input": "2024-11-18T20:42:57.204665Z",
     "iopub.status.busy": "2024-11-18T20:42:57.204243Z",
     "iopub.status.idle": "2024-11-18T20:42:57.232529Z",
     "shell.execute_reply": "2024-11-18T20:42:57.232166Z"
    },
    "papermill": {
     "duration": 0.036141,
     "end_time": "2024-11-18T20:42:57.234224",
     "exception": false,
     "start_time": "2024-11-18T20:42:57.198083",
     "status": "completed"
    },
    "tags": []
   },
   "outputs": [],
   "source": [
    "# Load train data from json (L1)\n",
    "with open(f\"/home/ashu/Desktop/sem7/llm/CSE664-LLM-Project/Cross-Attention-Embedding-Fusion/Dataset/{lang1}_train.json\") as f:\n",
    "    train_data_1 = json.load(f)\n",
    "\n",
    "# Load test data from json\n",
    "with open(f\"/home/ashu/Desktop/sem7/llm/CSE664-LLM-Project/Cross-Attention-Embedding-Fusion/Dataset/{lang1}_test.json\") as f:\n",
    "    test_data_1 = json.load(f)\n",
    "\n",
    "# Load train data from json (L2)\n",
    "with open(f\"/home/ashu/Desktop/sem7/llm/CSE664-LLM-Project/Cross-Attention-Embedding-Fusion/Dataset/{lang2}_train.json\") as f:\n",
    "    train_data_2 = json.load(f)\n",
    "\n",
    "# Load test data from json\n",
    "with open(f\"/home/ashu/Desktop/sem7/llm/CSE664-LLM-Project/Cross-Attention-Embedding-Fusion/Dataset/{lang2}_test.json\") as f:\n",
    "    test_data_2 = json.load(f)\n"
   ]
  },
  {
   "cell_type": "code",
   "execution_count": 6,
   "id": "58bcd98d",
   "metadata": {
    "execution": {
     "iopub.execute_input": "2024-11-18T20:42:57.246225Z",
     "iopub.status.busy": "2024-11-18T20:42:57.245822Z",
     "iopub.status.idle": "2024-11-18T20:42:57.248368Z",
     "shell.execute_reply": "2024-11-18T20:42:57.248068Z"
    },
    "papermill": {
     "duration": 0.010866,
     "end_time": "2024-11-18T20:42:57.250484",
     "exception": false,
     "start_time": "2024-11-18T20:42:57.239618",
     "status": "completed"
    },
    "tags": []
   },
   "outputs": [
    {
     "name": "stdout",
     "output_type": "stream",
     "text": [
      "Running with lang1: tamil, lang2: bengali\n"
     ]
    }
   ],
   "source": [
    "print(f\"Running with lang1: {lang1}, lang2: {lang2}\")"
   ]
  },
  {
   "cell_type": "code",
   "execution_count": 7,
   "id": "70de84fa",
   "metadata": {
    "execution": {
     "iopub.execute_input": "2024-11-18T20:42:57.262391Z",
     "iopub.status.busy": "2024-11-18T20:42:57.262272Z",
     "iopub.status.idle": "2024-11-18T20:42:57.264415Z",
     "shell.execute_reply": "2024-11-18T20:42:57.264101Z"
    },
    "papermill": {
     "duration": 0.009838,
     "end_time": "2024-11-18T20:42:57.265888",
     "exception": false,
     "start_time": "2024-11-18T20:42:57.256050",
     "status": "completed"
    },
    "tags": []
   },
   "outputs": [],
   "source": [
    "# Merge the two datasets\n",
    "train_data = train_data_1 + train_data_2\n",
    "test_data = test_data_1 + test_data_2"
   ]
  },
  {
   "cell_type": "code",
   "execution_count": 8,
   "id": "a9662710",
   "metadata": {
    "execution": {
     "iopub.execute_input": "2024-11-18T20:42:57.278105Z",
     "iopub.status.busy": "2024-11-18T20:42:57.277685Z",
     "iopub.status.idle": "2024-11-18T20:42:57.781112Z",
     "shell.execute_reply": "2024-11-18T20:42:57.780479Z"
    },
    "papermill": {
     "duration": 0.511072,
     "end_time": "2024-11-18T20:42:57.782494",
     "exception": false,
     "start_time": "2024-11-18T20:42:57.271422",
     "status": "completed"
    },
    "tags": []
   },
   "outputs": [],
   "source": [
    "from transformers import AutoTokenizer, AutoModel\n",
    "\n",
    "# Load tokeniser\n",
    "tokenizer = BertTokenizerFast.from_pretrained('bert-base-multilingual-cased')"
   ]
  },
  {
   "cell_type": "code",
   "execution_count": 9,
   "id": "2fc91048",
   "metadata": {
    "execution": {
     "iopub.execute_input": "2024-11-18T20:42:57.791053Z",
     "iopub.status.busy": "2024-11-18T20:42:57.790924Z",
     "iopub.status.idle": "2024-11-18T20:42:57.796176Z",
     "shell.execute_reply": "2024-11-18T20:42:57.795690Z"
    },
    "papermill": {
     "duration": 0.010672,
     "end_time": "2024-11-18T20:42:57.797083",
     "exception": false,
     "start_time": "2024-11-18T20:42:57.786411",
     "status": "completed"
    },
    "tags": []
   },
   "outputs": [],
   "source": [
    "class NER_Dataset(Dataset):\n",
    "    def __init__(self, data, tokenizer, max_len=128):\n",
    "        self.data = data  # List of sentences and labels\n",
    "        self.tokenizer = tokenizer  # mBERT tokenizer\n",
    "        self.max_len = max_len\n",
    "\n",
    "    def __len__(self):\n",
    "        return len(self.data)\n",
    "\n",
    "    def __getitem__(self, idx):\n",
    "        text = self.data[idx][\"tokens\"]\n",
    "        word_labels = self.data[idx][\"ner_tags\"]\n",
    "\n",
    "        # Tokenize the text and align the labels\n",
    "        encoding = self.tokenizer(text,\n",
    "                                  is_split_into_words=True,\n",
    "                                  return_offsets_mapping=True,\n",
    "                                  padding='max_length',\n",
    "                                  truncation=True,\n",
    "                                  max_length=self.max_len)\n",
    "\n",
    "        labels = [self.align_labels(encoding['offset_mapping'], word_labels)]\n",
    "\n",
    "        # Remove the offset mapping to prevent issues during model training\n",
    "        del encoding['offset_mapping']\n",
    "\n",
    "        item = {key: torch.tensor(val) for key, val in encoding.items()}\n",
    "        item['labels'] = torch.tensor(labels[0], dtype=torch.long)\n",
    "\n",
    "        return item\n",
    "    \n",
    "    # Create a function to align labels\n",
    "    def align_labels(self, offset_mapping, labels):\n",
    "        aligned_labels = []\n",
    "        current_label_index = 0\n",
    "\n",
    "        for offset in offset_mapping:\n",
    "            # If the offset mapping is (0, 0), it's a special token ([CLS], [SEP], [PAD])\n",
    "            if offset == (0, 0):\n",
    "                aligned_labels.append(-100)  # -100 is used to ignore these tokens in the loss computation\n",
    "            else:\n",
    "                # Check if the token is the start of a new word\n",
    "                if offset[0] == 0:\n",
    "                    aligned_labels.append(labels[current_label_index])\n",
    "                    current_label_index += 1\n",
    "                else:\n",
    "                    # If the token is not the first subtoken, you can decide how to label it. \n",
    "                    # For simplicity, let's use the same label as the first subtoken\n",
    "                    aligned_labels.append(labels[current_label_index - 1])\n",
    "\n",
    "        return aligned_labels"
   ]
  },
  {
   "cell_type": "code",
   "execution_count": 10,
   "id": "f29d9d55",
   "metadata": {
    "execution": {
     "iopub.execute_input": "2024-11-18T20:42:57.804874Z",
     "iopub.status.busy": "2024-11-18T20:42:57.804698Z",
     "iopub.status.idle": "2024-11-18T20:42:57.807896Z",
     "shell.execute_reply": "2024-11-18T20:42:57.807298Z"
    },
    "papermill": {
     "duration": 0.008129,
     "end_time": "2024-11-18T20:42:57.808850",
     "exception": false,
     "start_time": "2024-11-18T20:42:57.800721",
     "status": "completed"
    },
    "tags": []
   },
   "outputs": [],
   "source": [
    "# Create train dataset and test dataset\n",
    "train_dataset = NER_Dataset(train_data, tokenizer)\n",
    "test_dataset = NER_Dataset(test_data, tokenizer)\n",
    "\n",
    "# Create train dataloader and test dataloader\n",
    "train_dataloader = DataLoader(train_dataset, batch_size=32, shuffle=True)\n",
    "test_dataloader = DataLoader(test_dataset, batch_size=32, shuffle=False)"
   ]
  },
  {
   "cell_type": "code",
   "execution_count": 11,
   "id": "e28d2884",
   "metadata": {
    "execution": {
     "iopub.execute_input": "2024-11-18T20:42:57.816593Z",
     "iopub.status.busy": "2024-11-18T20:42:57.816474Z",
     "iopub.status.idle": "2024-11-18T20:42:57.894835Z",
     "shell.execute_reply": "2024-11-18T20:42:57.894332Z"
    },
    "papermill": {
     "duration": 0.083595,
     "end_time": "2024-11-18T20:42:57.895776",
     "exception": false,
     "start_time": "2024-11-18T20:42:57.812181",
     "status": "completed"
    },
    "tags": []
   },
   "outputs": [
    {
     "data": {
      "text/plain": [
       "'cuda'"
      ]
     },
     "execution_count": 11,
     "metadata": {},
     "output_type": "execute_result"
    }
   ],
   "source": [
    "DEVICE = 'cuda' if torch.cuda.is_available() else 'cpu'\n",
    "DEVICE"
   ]
  },
  {
   "cell_type": "code",
   "execution_count": 12,
   "id": "14c6f340",
   "metadata": {
    "execution": {
     "iopub.execute_input": "2024-11-18T20:42:57.904068Z",
     "iopub.status.busy": "2024-11-18T20:42:57.903913Z",
     "iopub.status.idle": "2024-11-18T20:42:57.908052Z",
     "shell.execute_reply": "2024-11-18T20:42:57.907571Z"
    },
    "papermill": {
     "duration": 0.009565,
     "end_time": "2024-11-18T20:42:57.908979",
     "exception": false,
     "start_time": "2024-11-18T20:42:57.899414",
     "status": "completed"
    },
    "tags": []
   },
   "outputs": [],
   "source": [
    "import torch\n",
    "import torch.nn as nn\n",
    "\n",
    "class CrossAttentionFusion(nn.Module):\n",
    "    def __init__(self, hidden_dim, num_heads):\n",
    "        super(CrossAttentionFusion, self).__init__()\n",
    "        self.cross_attention = nn.MultiheadAttention(embed_dim=hidden_dim, num_heads=num_heads)\n",
    "        self.layer_norm = nn.LayerNorm(hidden_dim)\n",
    "\n",
    "    def forward(self, embeddings_mbert, embeddings_indicbert):\n",
    "        \"\"\"\n",
    "        Fuse embeddings from mBERT and Indic-BERT using cross-attention.\n",
    "\n",
    "        Args:\n",
    "            embeddings_mbert (torch.Tensor): Embeddings from mBERT of shape [batch_size, seq_len_m, hidden_dim].\n",
    "            embeddings_indicbert (torch.Tensor): Embeddings from Indic-BERT of shape [batch_size, seq_len_i, hidden_dim].\n",
    "\n",
    "        Returns:\n",
    "            torch.Tensor: Fused embeddings of shape [batch_size, seq_len_m, hidden_dim].\n",
    "        \"\"\"\n",
    "        embeddings_mbert = embeddings_mbert.to(DEVICE)\n",
    "        embeddings_indicbert = embeddings_indicbert.to(DEVICE)\n",
    "        \n",
    "        # Transpose to shape [seq_len, batch_size, hidden_dim] for nn.MultiheadAttention\n",
    "        embeddings_mbert = embeddings_mbert.transpose(0, 1)\n",
    "        embeddings_indicbert = embeddings_indicbert.transpose(0, 1)\n",
    "\n",
    "        # Cross-attention: Indic BERT queries attend to m-BERT keys and values\n",
    "        attn_output, _ = self.cross_attention(\n",
    "            query=embeddings_indicbert,       # Queries from Indic-BERT\n",
    "            key=embeddings_mbert,     # Keys from m-BERT\n",
    "            value=embeddings_mbert    # Values from m-BERT\n",
    "        )\n",
    "\n",
    "        attn_output.to(DEVICE)\n",
    "\n",
    "        # Residual connection and layer normalization\n",
    "        output = self.layer_norm(attn_output + embeddings_mbert)\n",
    "\n",
    "        # Transpose back to [batch_size, seq_len_m, hidden_dim]\n",
    "        output = output.transpose(0, 1)\n",
    "\n",
    "        return output"
   ]
  },
  {
   "cell_type": "code",
   "execution_count": 13,
   "id": "78b379f8",
   "metadata": {
    "execution": {
     "iopub.execute_input": "2024-11-18T20:42:57.917290Z",
     "iopub.status.busy": "2024-11-18T20:42:57.917165Z",
     "iopub.status.idle": "2024-11-18T20:42:57.919618Z",
     "shell.execute_reply": "2024-11-18T20:42:57.919141Z"
    },
    "papermill": {
     "duration": 0.007889,
     "end_time": "2024-11-18T20:42:57.920442",
     "exception": false,
     "start_time": "2024-11-18T20:42:57.912553",
     "status": "completed"
    },
    "tags": []
   },
   "outputs": [],
   "source": [
    "hidden_dim = 768\n",
    "num_heads = 4"
   ]
  },
  {
   "cell_type": "code",
   "execution_count": 14,
   "id": "3ce490db",
   "metadata": {
    "execution": {
     "iopub.execute_input": "2024-11-18T20:42:57.928646Z",
     "iopub.status.busy": "2024-11-18T20:42:57.928140Z",
     "iopub.status.idle": "2024-11-18T20:42:59.436803Z",
     "shell.execute_reply": "2024-11-18T20:42:59.436217Z"
    },
    "papermill": {
     "duration": 1.51408,
     "end_time": "2024-11-18T20:42:59.437878",
     "exception": false,
     "start_time": "2024-11-18T20:42:57.923798",
     "status": "completed"
    },
    "tags": []
   },
   "outputs": [
    {
     "data": {
      "text/plain": [
       "MBERT_NER(\n",
       "  (bert): BertModel(\n",
       "    (embeddings): BertEmbeddings(\n",
       "      (word_embeddings): Embedding(119547, 768, padding_idx=0)\n",
       "      (position_embeddings): Embedding(512, 768)\n",
       "      (token_type_embeddings): Embedding(2, 768)\n",
       "      (LayerNorm): LayerNorm((768,), eps=1e-12, elementwise_affine=True)\n",
       "      (dropout): Dropout(p=0.1, inplace=False)\n",
       "    )\n",
       "    (encoder): BertEncoder(\n",
       "      (layer): ModuleList(\n",
       "        (0-11): 12 x BertLayer(\n",
       "          (attention): BertAttention(\n",
       "            (self): BertSdpaSelfAttention(\n",
       "              (query): Linear(in_features=768, out_features=768, bias=True)\n",
       "              (key): Linear(in_features=768, out_features=768, bias=True)\n",
       "              (value): Linear(in_features=768, out_features=768, bias=True)\n",
       "              (dropout): Dropout(p=0.1, inplace=False)\n",
       "            )\n",
       "            (output): BertSelfOutput(\n",
       "              (dense): Linear(in_features=768, out_features=768, bias=True)\n",
       "              (LayerNorm): LayerNorm((768,), eps=1e-12, elementwise_affine=True)\n",
       "              (dropout): Dropout(p=0.1, inplace=False)\n",
       "            )\n",
       "          )\n",
       "          (intermediate): BertIntermediate(\n",
       "            (dense): Linear(in_features=768, out_features=3072, bias=True)\n",
       "            (intermediate_act_fn): GELUActivation()\n",
       "          )\n",
       "          (output): BertOutput(\n",
       "            (dense): Linear(in_features=3072, out_features=768, bias=True)\n",
       "            (LayerNorm): LayerNorm((768,), eps=1e-12, elementwise_affine=True)\n",
       "            (dropout): Dropout(p=0.1, inplace=False)\n",
       "          )\n",
       "        )\n",
       "      )\n",
       "    )\n",
       "    (pooler): BertPooler(\n",
       "      (dense): Linear(in_features=768, out_features=768, bias=True)\n",
       "      (activation): Tanh()\n",
       "    )\n",
       "  )\n",
       "  (indic_bert): AlbertModel(\n",
       "    (embeddings): AlbertEmbeddings(\n",
       "      (word_embeddings): Embedding(200000, 128, padding_idx=0)\n",
       "      (position_embeddings): Embedding(512, 128)\n",
       "      (token_type_embeddings): Embedding(2, 128)\n",
       "      (LayerNorm): LayerNorm((128,), eps=1e-12, elementwise_affine=True)\n",
       "      (dropout): Dropout(p=0, inplace=False)\n",
       "    )\n",
       "    (encoder): AlbertTransformer(\n",
       "      (embedding_hidden_mapping_in): Linear(in_features=128, out_features=768, bias=True)\n",
       "      (albert_layer_groups): ModuleList(\n",
       "        (0): AlbertLayerGroup(\n",
       "          (albert_layers): ModuleList(\n",
       "            (0): AlbertLayer(\n",
       "              (full_layer_layer_norm): LayerNorm((768,), eps=1e-12, elementwise_affine=True)\n",
       "              (attention): AlbertSdpaAttention(\n",
       "                (query): Linear(in_features=768, out_features=768, bias=True)\n",
       "                (key): Linear(in_features=768, out_features=768, bias=True)\n",
       "                (value): Linear(in_features=768, out_features=768, bias=True)\n",
       "                (attention_dropout): Dropout(p=0, inplace=False)\n",
       "                (output_dropout): Dropout(p=0, inplace=False)\n",
       "                (dense): Linear(in_features=768, out_features=768, bias=True)\n",
       "                (LayerNorm): LayerNorm((768,), eps=1e-12, elementwise_affine=True)\n",
       "              )\n",
       "              (ffn): Linear(in_features=768, out_features=3072, bias=True)\n",
       "              (ffn_output): Linear(in_features=3072, out_features=768, bias=True)\n",
       "              (activation): GELUActivation()\n",
       "              (dropout): Dropout(p=0, inplace=False)\n",
       "            )\n",
       "          )\n",
       "        )\n",
       "      )\n",
       "    )\n",
       "    (pooler): Linear(in_features=768, out_features=768, bias=True)\n",
       "    (pooler_activation): Tanh()\n",
       "  )\n",
       "  (attention): CrossAttentionFusion(\n",
       "    (cross_attention): MultiheadAttention(\n",
       "      (out_proj): NonDynamicallyQuantizableLinear(in_features=768, out_features=768, bias=True)\n",
       "    )\n",
       "    (layer_norm): LayerNorm((768,), eps=1e-05, elementwise_affine=True)\n",
       "  )\n",
       "  (gru): GRU(2304, 128, batch_first=True)\n",
       "  (classifier): Linear(in_features=128, out_features=7, bias=True)\n",
       "  (dropout): Dropout(p=0.1, inplace=False)\n",
       "  (batch_norm): BatchNorm1d(128, eps=1e-05, momentum=0.1, affine=True, track_running_stats=True)\n",
       ")"
      ]
     },
     "execution_count": 14,
     "metadata": {},
     "output_type": "execute_result"
    }
   ],
   "source": [
    "# Model for NER\n",
    "\n",
    "class MBERT_NER(nn.Module):\n",
    "    def __init__(self, num_labels, gru_hidden_size, num_gru_layers, freeze_bert=False):\n",
    "        super(MBERT_NER, self).__init__()\n",
    "\n",
    "        self.bert = BertModel.from_pretrained(\"bert-base-multilingual-cased\")\n",
    "        self.indic_bert = AutoModel.from_pretrained(\"ai4bharat/indic-bert\")\n",
    "        \n",
    "        # Initialize the Fusion Attention\n",
    "        self.attention = CrossAttentionFusion(hidden_dim=hidden_dim, num_heads=num_heads).to(DEVICE)\n",
    "        \n",
    "        self.gru = nn.GRU(input_size=self.bert.config.hidden_size * 3,\n",
    "                          hidden_size=gru_hidden_size,\n",
    "                          num_layers=num_gru_layers,\n",
    "                          batch_first=True)\n",
    "        self.classifier = nn.Linear(gru_hidden_size, num_labels)\n",
    "        self.dropout = nn.Dropout(0.1)\n",
    "        self.batch_norm = nn.BatchNorm1d(gru_hidden_size)\n",
    "\n",
    "        if freeze_bert:\n",
    "            for param in self.bert.parameters():\n",
    "                param.requires_grad = False\n",
    "            for param in self.indic_bert.parameters():\n",
    "                param.requires_grad = False\n",
    "\n",
    "    def forward(self, input_ids, attention_mask):\n",
    "        \n",
    "        input_ids = input_ids.to(DEVICE)\n",
    "        attention_mask = attention_mask.to(DEVICE)\n",
    "        \n",
    "        # Embeddings\n",
    "        outputs1 = self.bert(input_ids=input_ids, attention_mask=attention_mask)\n",
    "        outputs2 = self.indic_bert(input_ids = input_ids, attention_mask = attention_mask)        \n",
    "        \n",
    "        embeddings_mbert = outputs1.last_hidden_state.to(DEVICE)\n",
    "        embeddings_indicbert = outputs2.last_hidden_state.to(DEVICE)\n",
    "        \n",
    "        # Fused embeddings\n",
    "        embeddings = self.attention(embeddings_mbert, embeddings_indicbert).to(DEVICE)\n",
    "        \n",
    "        sequence_output = torch.cat((embeddings_mbert, embeddings_indicbert, embeddings), dim=-1)\n",
    "        \n",
    "        gru_output, _ = self.gru(sequence_output)\n",
    "        gru_output = self.batch_norm(gru_output)\n",
    "        gru_output = self.dropout(gru_output)\n",
    "        \n",
    "        logits = self.classifier(gru_output)\n",
    "        return logits\n",
    "\n",
    "# Create the NER model\n",
    "NUM_LABELS = 7 # Number of NER tags\n",
    "GRU_HIDDEN_SIZE = 128 # Hidden size of the GRU\n",
    "NUM_GRU_LAYERS = 1 # Number of layers in the GRU\n",
    "FREEZE_BERT = False # Whether to freeze the BERT model\n",
    "DEVICE = 'cuda' if torch.cuda.is_available() else 'cpu'\n",
    "\n",
    "model = MBERT_NER(num_labels=NUM_LABELS,\n",
    "                    gru_hidden_size=GRU_HIDDEN_SIZE,\n",
    "                    num_gru_layers=NUM_GRU_LAYERS,\n",
    "                    freeze_bert=FREEZE_BERT)\n",
    "\n",
    "model.to(DEVICE)"
   ]
  },
  {
   "cell_type": "code",
   "execution_count": 15,
   "id": "f2156526",
   "metadata": {
    "execution": {
     "iopub.execute_input": "2024-11-18T20:42:59.446581Z",
     "iopub.status.busy": "2024-11-18T20:42:59.446433Z",
     "iopub.status.idle": "2024-11-18T20:42:59.449312Z",
     "shell.execute_reply": "2024-11-18T20:42:59.448788Z"
    },
    "papermill": {
     "duration": 0.008375,
     "end_time": "2024-11-18T20:42:59.450271",
     "exception": false,
     "start_time": "2024-11-18T20:42:59.441896",
     "status": "completed"
    },
    "tags": []
   },
   "outputs": [],
   "source": [
    "torch.cuda.empty_cache()"
   ]
  },
  {
   "cell_type": "code",
   "execution_count": 16,
   "id": "d8289e22",
   "metadata": {
    "execution": {
     "iopub.execute_input": "2024-11-18T20:42:59.459433Z",
     "iopub.status.busy": "2024-11-18T20:42:59.459251Z",
     "iopub.status.idle": "2024-11-18T20:50:10.091395Z",
     "shell.execute_reply": "2024-11-18T20:50:10.090775Z"
    },
    "papermill": {
     "duration": 430.641189,
     "end_time": "2024-11-18T20:50:10.095431",
     "exception": false,
     "start_time": "2024-11-18T20:42:59.454242",
     "status": "completed"
    },
    "tags": []
   },
   "outputs": [
    {
     "name": "stdout",
     "output_type": "stream",
     "text": [
      "Epoch 1/6, Train Loss: 0.6268, Train F1: 0.7511, Train Acc: 0.7979, Val Loss: 0.3747, Val F1: 0.8603, Val Acc: 0.8849\n"
     ]
    },
    {
     "name": "stdout",
     "output_type": "stream",
     "text": [
      "Epoch 2/6, Train Loss: 0.3052, Train F1: 0.8915, Train Acc: 0.9111, Val Loss: 0.2919, Val F1: 0.8886, Val Acc: 0.9100\n"
     ]
    },
    {
     "name": "stdout",
     "output_type": "stream",
     "text": [
      "Epoch 3/6, Train Loss: 0.2165, Train F1: 0.9221, Train Acc: 0.9380, Val Loss: 0.2533, Val F1: 0.9060, Val Acc: 0.9218\n"
     ]
    },
    {
     "name": "stdout",
     "output_type": "stream",
     "text": [
      "Epoch 4/6, Train Loss: 0.1626, Train F1: 0.9408, Train Acc: 0.9530, Val Loss: 0.2691, Val F1: 0.9050, Val Acc: 0.9213\n"
     ]
    },
    {
     "name": "stdout",
     "output_type": "stream",
     "text": [
      "Epoch 5/6, Train Loss: 0.1187, Train F1: 0.9574, Train Acc: 0.9667, Val Loss: 0.2819, Val F1: 0.9105, Val Acc: 0.9251\n"
     ]
    },
    {
     "name": "stdout",
     "output_type": "stream",
     "text": [
      "Epoch 6/6, Train Loss: 0.0985, Train F1: 0.9643, Train Acc: 0.9724, Val Loss: 0.2871, Val F1: 0.9028, Val Acc: 0.9202\n"
     ]
    }
   ],
   "source": [
    "from sklearn.metrics import f1_score, accuracy_score\n",
    "\n",
    "# Optimizer and loss function\n",
    "optimizer = optim.AdamW(model.parameters(), lr=2e-5)\n",
    "criterion = nn.CrossEntropyLoss(ignore_index=-100)\n",
    "\n",
    "# Training loop\n",
    "EPOCHS = 6\n",
    "\n",
    "train_losses = []\n",
    "train_f1_scores = []\n",
    "train_acc_scores = []\n",
    "val_losses = []\n",
    "val_f1_scores = []\n",
    "val_acc_scores = []\n",
    "\n",
    "\n",
    "for epoch in range(EPOCHS):\n",
    "    model.train()\n",
    "    train_loss = 0\n",
    "    train_predictions, train_labels = [], []\n",
    "\n",
    "    for batch in train_dataloader:\n",
    "        input_ids = batch['input_ids'].to(DEVICE)\n",
    "        attention_mask = batch['attention_mask'].to(DEVICE)\n",
    "        labels = batch['labels'].to(DEVICE)\n",
    "\n",
    "        optimizer.zero_grad()\n",
    "        logits = model(input_ids, attention_mask)\n",
    "        logits = logits.view(-1, NUM_LABELS)\n",
    "        labels = labels.view(-1)\n",
    "\n",
    "        loss = criterion(logits, labels)\n",
    "        loss.backward()\n",
    "        optimizer.step()\n",
    "\n",
    "        train_loss += loss.item()\n",
    "\n",
    "        # Get predictions and filter out ignored indices for metric calculations\n",
    "        predictions = torch.argmax(logits, dim=-1)\n",
    "        active_indices = labels != -100\n",
    "        train_predictions.extend(predictions[active_indices].cpu().numpy())\n",
    "        train_labels.extend(labels[active_indices].cpu().numpy())\n",
    "\n",
    "    train_loss /= len(train_dataloader)\n",
    "    train_losses.append(train_loss)\n",
    "\n",
    "    train_f1 = f1_score(train_labels, train_predictions, average='macro')\n",
    "    train_f1_scores.append(train_f1)\n",
    "\n",
    "    train_acc = accuracy_score(train_labels, train_predictions)\n",
    "    train_acc_scores.append(train_acc)\n",
    "\n",
    "    # Validation loop\n",
    "    model.eval()\n",
    "    val_loss = 0\n",
    "    val_predictions, val_labels = [], []\n",
    "\n",
    "    with torch.no_grad():\n",
    "        for batch in test_dataloader:\n",
    "            input_ids = batch['input_ids'].to(DEVICE)\n",
    "            attention_mask = batch['attention_mask'].to(DEVICE)\n",
    "            labels = batch['labels'].to(DEVICE)\n",
    "\n",
    "            logits = model(input_ids, attention_mask)\n",
    "            logits = logits.view(-1, NUM_LABELS)\n",
    "            labels = labels.view(-1)\n",
    "\n",
    "            loss = criterion(logits, labels)\n",
    "            val_loss += loss.item()\n",
    "\n",
    "            # Filter predictions and labels\n",
    "            predictions = torch.argmax(logits, dim=-1)\n",
    "            active_indices = labels != -100\n",
    "            val_predictions.extend(predictions[active_indices].cpu().numpy())\n",
    "            val_labels.extend(labels[active_indices].cpu().numpy())\n",
    "\n",
    "    val_loss /= len(test_dataloader)\n",
    "    val_losses.append(val_loss)\n",
    "\n",
    "    val_f1 = f1_score(val_labels, val_predictions, average='macro')\n",
    "    val_f1_scores.append(val_f1)\n",
    "\n",
    "    val_acc = accuracy_score(val_labels, val_predictions)\n",
    "    val_acc_scores.append(val_acc)\n",
    "                                                \n",
    "    print(f\"Epoch {epoch + 1}/{EPOCHS}, Train Loss: {train_loss:.4f}, Train F1: {train_f1:.4f}, Train Acc: {train_acc:.4f}, Val Loss: {val_loss:.4f}, Val F1: {val_f1:.4f}, Val Acc: {val_acc:.4f}\")"
   ]
  },
  {
   "cell_type": "code",
   "execution_count": 17,
   "id": "ffb4c6a3",
   "metadata": {
    "execution": {
     "iopub.execute_input": "2024-11-18T20:50:10.106637Z",
     "iopub.status.busy": "2024-11-18T20:50:10.106262Z",
     "iopub.status.idle": "2024-11-18T20:50:24.858650Z",
     "shell.execute_reply": "2024-11-18T20:50:24.858025Z"
    },
    "papermill": {
     "duration": 14.759801,
     "end_time": "2024-11-18T20:50:24.859677",
     "exception": false,
     "start_time": "2024-11-18T20:50:10.099876",
     "status": "completed"
    },
    "tags": []
   },
   "outputs": [
    {
     "name": "stdout",
     "output_type": "stream",
     "text": [
      "Language: Hindi\n",
      "\n",
      "Weighted F1: 0.7868\n",
      "Macro F1: 0.7364\n",
      "Accuracy: 0.7821\n",
      "\n",
      "CLASSIFICATION REPORT: \n",
      "              precision    recall  f1-score   support\n",
      "\n",
      "           0       0.93      0.79      0.85      5277\n",
      "           1       0.72      0.82      0.77      1481\n",
      "           2       0.81      0.90      0.85      1874\n",
      "           3       0.52      0.59      0.55       986\n",
      "           4       0.84      0.76      0.80      2602\n",
      "           5       0.64      0.79      0.71      1195\n",
      "           6       0.56      0.70      0.62       867\n",
      "\n",
      "    accuracy                           0.78     14282\n",
      "   macro avg       0.72      0.76      0.74     14282\n",
      "weighted avg       0.80      0.78      0.79     14282\n",
      "\n",
      "\n",
      "CONFUSION MATRIX: \n",
      "[[4143  339   68  435   47  199   46]\n",
      " [  40 1219  130   22    5   45   20]\n",
      " [  20   29 1688    0   58   10   69]\n",
      " [  45   84    8  586  100  150   13]\n",
      " [ 145    7  159   20 1986   40  245]\n",
      " [  42   18    1   65   47  944   78]\n",
      " [  25    7   24    3  125   79  604]]\n",
      "--------------------------------------------------\n"
     ]
    },
    {
     "name": "stdout",
     "output_type": "stream",
     "text": [
      "Language: Bengali\n",
      "\n",
      "Weighted F1: 0.9469\n",
      "Macro F1: 0.9459\n",
      "Accuracy: 0.9469\n",
      "\n",
      "CLASSIFICATION REPORT: \n",
      "              precision    recall  f1-score   support\n",
      "\n",
      "           0       0.96      0.91      0.94      1835\n",
      "           1       0.95      0.93      0.94      1343\n",
      "           2       0.96      0.95      0.96      2490\n",
      "           3       0.93      0.96      0.94      1239\n",
      "           4       0.94      0.96      0.95      3068\n",
      "           5       0.95      0.94      0.94      1510\n",
      "           6       0.95      0.95      0.95      2080\n",
      "\n",
      "    accuracy                           0.95     13565\n",
      "   macro avg       0.95      0.95      0.95     13565\n",
      "weighted avg       0.95      0.95      0.95     13565\n",
      "\n",
      "\n",
      "CONFUSION MATRIX: \n",
      "[[1679   13   27   19   67   17   13]\n",
      " [  23 1251   14   31    0   24    0]\n",
      " [  15    5 2374    0   65    0   31]\n",
      " [   6   11    0 1190    6   23    3]\n",
      " [   8    3   45    6 2945    0   61]\n",
      " [  17   28    0   37    5 1421    2]\n",
      " [   6    0   17    0   58   14 1985]]\n",
      "--------------------------------------------------\n"
     ]
    },
    {
     "name": "stdout",
     "output_type": "stream",
     "text": [
      "Language: Marathi\n",
      "\n",
      "Weighted F1: 0.8083\n",
      "Macro F1: 0.6956\n",
      "Accuracy: 0.8063\n",
      "\n",
      "CLASSIFICATION REPORT: \n",
      "              precision    recall  f1-score   support\n",
      "\n",
      "           0       0.94      0.90      0.92     10408\n",
      "           1       0.76      0.89      0.82      1342\n",
      "           2       0.73      0.85      0.78      1992\n",
      "           3       0.48      0.41      0.44      1172\n",
      "           4       0.79      0.60      0.68      2535\n",
      "           5       0.68      0.79      0.73      1829\n",
      "           6       0.40      0.61      0.49       820\n",
      "\n",
      "    accuracy                           0.81     20098\n",
      "   macro avg       0.68      0.72      0.70     20098\n",
      "weighted avg       0.82      0.81      0.81     20098\n",
      "\n",
      "\n",
      "CONFUSION MATRIX: \n",
      "[[9374   85   55  393   93  245  163]\n",
      " [  77 1198   15    9    0   40    3]\n",
      " [  85   55 1685    4   29   64   70]\n",
      " [  60  170   12  477  161  229   63]\n",
      " [  78    4  484   11 1519   19  420]\n",
      " [ 169   57   16   92   15 1450   30]\n",
      " [  80    0   47    0  108   82  503]]\n",
      "--------------------------------------------------\n"
     ]
    },
    {
     "name": "stdout",
     "output_type": "stream",
     "text": [
      "Language: Tamil\n",
      "\n",
      "Weighted F1: 0.9046\n",
      "Macro F1: 0.8445\n",
      "Accuracy: 0.9037\n",
      "\n",
      "CLASSIFICATION REPORT: \n",
      "              precision    recall  f1-score   support\n",
      "\n",
      "           0       0.96      0.96      0.96     11461\n",
      "           1       0.86      0.86      0.86      1643\n",
      "           2       0.93      0.90      0.92      2295\n",
      "           3       0.86      0.73      0.79      1512\n",
      "           4       0.91      0.83      0.87      2532\n",
      "           5       0.76      0.89      0.82      1881\n",
      "           6       0.61      0.82      0.70       677\n",
      "\n",
      "    accuracy                           0.90     22001\n",
      "   macro avg       0.84      0.86      0.84     22001\n",
      "weighted avg       0.91      0.90      0.90     22001\n",
      "\n",
      "\n",
      "CONFUSION MATRIX: \n",
      "[[10973    92    54    52    70   156    64]\n",
      " [   80  1409    28    42     4    76     4]\n",
      " [   92    30  2069     0    57     3    44]\n",
      " [   77    78     3  1102    18   232     2]\n",
      " [   97     2    59    12  2096    35   231]\n",
      " [   97    25     0    68     1  1678    12]\n",
      " [   35     0     5     0    61    21   555]]\n",
      "--------------------------------------------------\n"
     ]
    },
    {
     "name": "stdout",
     "output_type": "stream",
     "text": [
      "Language: Telugu\n",
      "\n",
      "Weighted F1: 0.8300\n",
      "Macro F1: 0.6693\n",
      "Accuracy: 0.8244\n",
      "\n",
      "CLASSIFICATION REPORT: \n",
      "              precision    recall  f1-score   support\n",
      "\n",
      "           0       0.96      0.89      0.92     17291\n",
      "           1       0.57      0.66      0.61      1810\n",
      "           2       0.70      0.81      0.75      1353\n",
      "           3       0.41      0.37      0.39      1375\n",
      "           4       0.76      0.74      0.75      2269\n",
      "           5       0.68      0.86      0.76      2072\n",
      "           6       0.38      0.73      0.50       455\n",
      "\n",
      "    accuracy                           0.82     26625\n",
      "   macro avg       0.64      0.72      0.67     26625\n",
      "weighted avg       0.84      0.82      0.83     26625\n",
      "\n",
      "\n",
      "CONFUSION MATRIX: \n",
      "[[15360   554   100   450   243   392   192]\n",
      " [  218  1189   234    71    15    80     3]\n",
      " [   47    53  1100     9    81     0    63]\n",
      " [  190   269    20   508   134   211    43]\n",
      " [   87     2   111   124  1674    86   185]\n",
      " [  129    29     0    64    10  1785    55]\n",
      " [   14     0    10     0    39    59   333]]\n",
      "--------------------------------------------------\n"
     ]
    }
   ],
   "source": [
    "from sklearn.metrics import f1_score\n",
    "from sklearn.metrics import accuracy_score\n",
    "from sklearn.metrics import classification_report\n",
    "from sklearn.metrics import confusion_matrix\n",
    "\n",
    "# Load the test data from json for all 5 languages\n",
    "languages = ['hindi', 'bengali', 'marathi', 'tamil', 'telugu']\n",
    "\n",
    "# Iterate over all languages and evaluate the model\n",
    "for lang in languages:\n",
    "    with open(f\"/home/vijay/slim_sense/SHARPax/Python_code/test/NER-Experiments/Dataset/{lang}_test.json\") as f:\n",
    "        test_data = json.load(f)\n",
    "\n",
    "    test_dataset = NER_Dataset(test_data, tokenizer)\n",
    "    test_dataloader = DataLoader(test_dataset, batch_size=32, shuffle=False)\n",
    "\n",
    "    model.eval()\n",
    "    test_predictions, test_labels = [], []\n",
    "\n",
    "    with torch.no_grad():\n",
    "        for batch in test_dataloader:\n",
    "            input_ids = batch['input_ids'].to(DEVICE)\n",
    "            attention_mask = batch['attention_mask'].to(DEVICE)\n",
    "            labels = batch['labels'].to(DEVICE)\n",
    "\n",
    "            logits = model(input_ids, attention_mask)\n",
    "            logits = logits.view(-1, NUM_LABELS)\n",
    "            labels = labels.view(-1)\n",
    "\n",
    "            # Filter predictions and labels\n",
    "            predictions = torch.argmax(logits, dim=-1)\n",
    "            active_indices = labels != -100\n",
    "            test_predictions.extend(predictions[active_indices].cpu().numpy())\n",
    "            test_labels.extend(labels[active_indices].cpu().numpy())\n",
    "\n",
    "    weighted_f1 = f1_score(test_labels, test_predictions, average='weighted')\n",
    "    macro_f1 = f1_score(test_labels, test_predictions, average='macro')\n",
    "    accuracy = accuracy_score(test_labels, test_predictions)\n",
    "\n",
    "    if lang == 'hindi':\n",
    "        LANG = \"Hindi\"\n",
    "    elif lang == 'bengali':\n",
    "        LANG = \"Bengali\"\n",
    "    elif lang == 'marathi':\n",
    "        LANG = \"Marathi\"\n",
    "    elif lang == 'tamil':\n",
    "        LANG = \"Tamil\"\n",
    "    elif lang == 'telugu':\n",
    "        LANG = \"Telugu\"\n",
    "\n",
    "    print(f\"Language: {LANG}\")\n",
    "    print()\n",
    "    print(f\"Weighted F1: {weighted_f1:.4f}\")\n",
    "    print(f\"Macro F1: {macro_f1:.4f}\")\n",
    "    print(f\"Accuracy: {accuracy:.4f}\")\n",
    "    print()\n",
    "    print(\"CLASSIFICATION REPORT: \")\n",
    "    print(classification_report(test_labels, test_predictions))\n",
    "    print()\n",
    "    print(\"CONFUSION MATRIX: \")\n",
    "    print(confusion_matrix(test_labels, test_predictions))\n",
    "    print(\"--------------------------------------------------\")"
   ]
  },
  {
   "cell_type": "code",
   "execution_count": 18,
   "id": "e4533dab",
   "metadata": {
    "execution": {
     "iopub.execute_input": "2024-11-18T20:50:24.868805Z",
     "iopub.status.busy": "2024-11-18T20:50:24.868520Z",
     "iopub.status.idle": "2024-11-18T20:50:26.180134Z",
     "shell.execute_reply": "2024-11-18T20:50:26.179347Z"
    },
    "papermill": {
     "duration": 1.317806,
     "end_time": "2024-11-18T20:50:26.181823",
     "exception": false,
     "start_time": "2024-11-18T20:50:24.864017",
     "status": "completed"
    },
    "tags": []
   },
   "outputs": [],
   "source": [
    "# Save the model\n",
    "torch.save(model.state_dict(), f'NER_FineTune_{lang1[:2]}_{lang2[:2]}_cross_attn.pth')"
   ]
  },
  {
   "cell_type": "markdown",
   "id": "2b336047",
   "metadata": {
    "papermill": {
     "duration": 0.004813,
     "end_time": "2024-11-18T20:50:26.190894",
     "exception": false,
     "start_time": "2024-11-18T20:50:26.186081",
     "status": "completed"
    },
    "tags": []
   },
   "source": [
    "-------------------------------------------------------------------------------------------------------------------------"
   ]
  },
  {
   "cell_type": "markdown",
   "id": "f1bb7434",
   "metadata": {
    "papermill": {
     "duration": 0.004685,
     "end_time": "2024-11-18T20:50:26.199440",
     "exception": false,
     "start_time": "2024-11-18T20:50:26.194755",
     "status": "completed"
    },
    "tags": []
   },
   "source": [
    "# DUMP"
   ]
  },
  {
   "cell_type": "markdown",
   "id": "b9bdd953",
   "metadata": {
    "papermill": {
     "duration": 0.003776,
     "end_time": "2024-11-18T20:50:26.207926",
     "exception": false,
     "start_time": "2024-11-18T20:50:26.204150",
     "status": "completed"
    },
    "tags": []
   },
   "source": [
    "--------------------------------------------------------------------------------------------------------------"
   ]
  },
  {
   "cell_type": "code",
   "execution_count": 19,
   "id": "669c3769",
   "metadata": {
    "execution": {
     "iopub.execute_input": "2024-11-18T20:50:26.217685Z",
     "iopub.status.busy": "2024-11-18T20:50:26.217397Z",
     "iopub.status.idle": "2024-11-18T20:50:26.220586Z",
     "shell.execute_reply": "2024-11-18T20:50:26.220072Z"
    },
    "papermill": {
     "duration": 0.009596,
     "end_time": "2024-11-18T20:50:26.221785",
     "exception": false,
     "start_time": "2024-11-18T20:50:26.212189",
     "status": "completed"
    },
    "tags": []
   },
   "outputs": [],
   "source": [
    "# import torch\n",
    "# import torch.nn as nn\n",
    "\n",
    "# class FusionModule(nn.Module):\n",
    "#     def __init__(self, hidden_size):\n",
    "#         super(FusionModule, self).__init__()\n",
    "#         # Linear layer to compute attention scores\n",
    "#         self.attention_layer = nn.Linear(hidden_size * 2, 2)\n",
    "\n",
    "#     def forward(self, embeddings_mbert, embeddings_indicbert):\n",
    "#         \"\"\"\n",
    "#         Args:\n",
    "#             embeddings_mbert (torch.Tensor): [batch_size, seq_len, hidden_size]\n",
    "#             embeddings_indicbert (torch.Tensor): [batch_size, seq_len, hidden_size]\n",
    "#         Returns:\n",
    "#             torch.Tensor: Fused embeddings [batch_size, seq_len, hidden_size]\n",
    "#         \"\"\"\n",
    "#         # Concatenate embeddings along the last dimension\n",
    "#         concat_embeddings = torch.cat((embeddings_mbert, embeddings_indicbert), dim=-1)  # [batch_size, seq_len, hidden_size * 2]\n",
    "\n",
    "#         # Compute attention scores\n",
    "#         attn_scores = self.attention_layer(concat_embeddings)  # [batch_size, seq_len, 2]\n",
    "\n",
    "#         # Apply softmax to get attention weights\n",
    "#         attn_weights = torch.softmax(attn_scores, dim=-1)  # [batch_size, seq_len, 2]\n",
    "\n",
    "#         # Split attention weights\n",
    "#         attn_weights_mbert = attn_weights[..., 0].unsqueeze(-1)  # [batch_size, seq_len, 1]\n",
    "#         attn_weights_indicbert = attn_weights[..., 1].unsqueeze(-1)  # [batch_size, seq_len, 1]\n",
    "\n",
    "#         # Compute weighted sum of embeddings\n",
    "#         fused_embeddings = attn_weights_mbert * embeddings_mbert + attn_weights_indicbert * embeddings_indicbert  # [batch_size, seq_len, hidden_size]\n",
    "\n",
    "#         return fused_embeddings"
   ]
  },
  {
   "cell_type": "code",
   "execution_count": 20,
   "id": "1e57e7f7",
   "metadata": {
    "execution": {
     "iopub.execute_input": "2024-11-18T20:50:26.231510Z",
     "iopub.status.busy": "2024-11-18T20:50:26.231190Z",
     "iopub.status.idle": "2024-11-18T20:50:26.233990Z",
     "shell.execute_reply": "2024-11-18T20:50:26.233482Z"
    },
    "papermill": {
     "duration": 0.008573,
     "end_time": "2024-11-18T20:50:26.234770",
     "exception": false,
     "start_time": "2024-11-18T20:50:26.226197",
     "status": "completed"
    },
    "tags": []
   },
   "outputs": [],
   "source": [
    "# import torch\n",
    "# import torch.nn as nn\n",
    "\n",
    "# class SelfAttentionLayer(nn.Module):\n",
    "#     def __init__(self, hidden_dim, num_heads, dropout=0.1):\n",
    "#         super(SelfAttentionLayer, self).__init__()\n",
    "#         self.self_attention = nn.MultiheadAttention(embed_dim=hidden_dim, num_heads=num_heads, dropout=dropout)\n",
    "#         self.layer_norm = nn.LayerNorm(hidden_dim)\n",
    "#         self.dropout = nn.Dropout(dropout)\n",
    "\n",
    "#     def forward(self, embeddings, attention_mask=None):\n",
    "#         \"\"\"\n",
    "#         Args:\n",
    "#             embeddings (torch.Tensor): [batch_size, seq_len, hidden_dim]\n",
    "#             attention_mask (torch.Tensor): [batch_size, seq_len], with 1 for tokens to attend to and 0 for padding\n",
    "#         Returns:\n",
    "#             torch.Tensor: [batch_size, seq_len, hidden_dim]\n",
    "#         \"\"\"\n",
    "#         embeddings = embeddings.to(DEVICE)\n",
    "        \n",
    "        \n",
    "#         # Transpose embeddings to [seq_len, batch_size, hidden_dim] for nn.MultiheadAttention\n",
    "#         embeddings = embeddings.transpose(0, 1)\n",
    "\n",
    "#         # Prepare attention mask for nn.MultiheadAttention (optional)\n",
    "#         if attention_mask is not None:\n",
    "#     # nn.MultiheadAttention expects key_padding_mask of shape [batch_size, seq_len]\n",
    "#             key_padding_mask = attention_mask == 0  # True for padding tokens\n",
    "#         else:\n",
    "#             key_padding_mask = None\n",
    "\n",
    "\n",
    "#         # Self-attention\n",
    "#         attn_output, _ = self.self_attention(\n",
    "#             query=embeddings,\n",
    "#             key=embeddings,\n",
    "#             value=embeddings,\n",
    "#             key_padding_mask=key_padding_mask\n",
    "#         )\n",
    "\n",
    "#         # Residual connection and layer normalization\n",
    "#         attn_output = self.dropout(attn_output)\n",
    "#         attn_output = self.layer_norm(attn_output + embeddings)\n",
    "\n",
    "#         # Transpose back to [batch_size, seq_len, hidden_dim]\n",
    "#         attn_output = attn_output.transpose(0, 1)\n",
    "\n",
    "#         return attn_output"
   ]
  }
 ],
 "metadata": {
  "kernelspec": {
   "display_name": "Python 3",
   "language": "python",
   "name": "python3"
  },
  "language_info": {
   "codemirror_mode": {
    "name": "ipython",
    "version": 3
   },
   "file_extension": ".py",
   "mimetype": "text/x-python",
   "name": "python",
   "nbconvert_exporter": "python",
   "pygments_lexer": "ipython3",
   "version": "3.11.5"
  },
  "papermill": {
   "default_parameters": {},
   "duration": 454.854755,
   "end_time": "2024-11-18T20:50:27.555047",
   "environment_variables": {},
   "exception": null,
   "input_path": "/home/vijay/slim_sense/SHARPax/Python_code/test/NER-Experiments/FineTune-Experiments-TwoLang/FineTune-Hindi-Bengali.ipynb",
   "output_path": "/home/vijay/slim_sense/SHARPax/Python_code/test/NER-Experiments/FineTune-Experiments-TwoLang//FineTune-tamil-bengali.ipynb",
   "parameters": {
    "lang1": "tamil",
    "lang2": "bengali"
   },
   "start_time": "2024-11-18T20:42:52.700292",
   "version": "2.6.0"
  }
 },
 "nbformat": 4,
 "nbformat_minor": 5
}
