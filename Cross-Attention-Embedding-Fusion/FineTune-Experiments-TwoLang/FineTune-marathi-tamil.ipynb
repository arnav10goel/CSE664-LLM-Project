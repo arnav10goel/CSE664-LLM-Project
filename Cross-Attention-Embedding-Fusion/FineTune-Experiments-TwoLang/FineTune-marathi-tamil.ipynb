{
 "cells": [
  {
   "cell_type": "code",
   "execution_count": 1,
   "id": "99601908",
   "metadata": {
    "execution": {
     "iopub.execute_input": "2024-11-18T20:28:57.414087Z",
     "iopub.status.busy": "2024-11-18T20:28:57.413916Z",
     "iopub.status.idle": "2024-11-18T20:28:57.419015Z",
     "shell.execute_reply": "2024-11-18T20:28:57.418478Z"
    },
    "papermill": {
     "duration": 0.009484,
     "end_time": "2024-11-18T20:28:57.419893",
     "exception": false,
     "start_time": "2024-11-18T20:28:57.410409",
     "status": "completed"
    },
    "tags": [
     "parameters"
    ]
   },
   "outputs": [],
   "source": [
    "# Parameters\n",
    "lang1 = \"hindi\"\n",
    "lang2 = \"bengali\""
   ]
  },
  {
   "cell_type": "code",
   "execution_count": 2,
   "id": "d5448e09",
   "metadata": {
    "execution": {
     "iopub.execute_input": "2024-11-18T20:28:57.425843Z",
     "iopub.status.busy": "2024-11-18T20:28:57.425701Z",
     "iopub.status.idle": "2024-11-18T20:28:57.428361Z",
     "shell.execute_reply": "2024-11-18T20:28:57.427846Z"
    },
    "papermill": {
     "duration": 0.006635,
     "end_time": "2024-11-18T20:28:57.429293",
     "exception": false,
     "start_time": "2024-11-18T20:28:57.422658",
     "status": "completed"
    },
    "tags": [
     "injected-parameters"
    ]
   },
   "outputs": [],
   "source": [
    "# Parameters\n",
    "lang1 = \"marathi\"\n",
    "lang2 = \"tamil\"\n"
   ]
  },
  {
   "cell_type": "code",
   "execution_count": 3,
   "id": "eff10662",
   "metadata": {
    "execution": {
     "iopub.execute_input": "2024-11-18T20:28:57.436049Z",
     "iopub.status.busy": "2024-11-18T20:28:57.435911Z",
     "iopub.status.idle": "2024-11-18T20:28:57.439296Z",
     "shell.execute_reply": "2024-11-18T20:28:57.438760Z"
    },
    "papermill": {
     "duration": 0.007585,
     "end_time": "2024-11-18T20:28:57.440143",
     "exception": false,
     "start_time": "2024-11-18T20:28:57.432558",
     "status": "completed"
    },
    "tags": []
   },
   "outputs": [
    {
     "name": "stdout",
     "output_type": "stream",
     "text": [
      "Running with lang1: marathi, lang2: tamil\n"
     ]
    }
   ],
   "source": [
    "print(f\"Running with lang1: {lang1}, lang2: {lang2}\")"
   ]
  },
  {
   "cell_type": "code",
   "execution_count": 4,
   "id": "d780b52a",
   "metadata": {
    "execution": {
     "iopub.execute_input": "2024-11-18T20:28:57.446848Z",
     "iopub.status.busy": "2024-11-18T20:28:57.446711Z",
     "iopub.status.idle": "2024-11-18T20:29:01.152745Z",
     "shell.execute_reply": "2024-11-18T20:29:01.152205Z"
    },
    "papermill": {
     "duration": 3.711463,
     "end_time": "2024-11-18T20:29:01.154690",
     "exception": false,
     "start_time": "2024-11-18T20:28:57.443227",
     "status": "completed"
    },
    "tags": []
   },
   "outputs": [
    {
     "name": "stderr",
     "output_type": "stream",
     "text": [
      "2024-11-18 20:28:59.548075: E external/local_xla/xla/stream_executor/cuda/cuda_dnn.cc:9261] Unable to register cuDNN factory: Attempting to register factory for plugin cuDNN when one has already been registered\n",
      "2024-11-18 20:28:59.548106: E external/local_xla/xla/stream_executor/cuda/cuda_fft.cc:607] Unable to register cuFFT factory: Attempting to register factory for plugin cuFFT when one has already been registered\n",
      "2024-11-18 20:28:59.549510: E external/local_xla/xla/stream_executor/cuda/cuda_blas.cc:1515] Unable to register cuBLAS factory: Attempting to register factory for plugin cuBLAS when one has already been registered\n",
      "2024-11-18 20:28:59.555781: I tensorflow/core/platform/cpu_feature_guard.cc:182] This TensorFlow binary is optimized to use available CPU instructions in performance-critical operations.\n",
      "To enable the following instructions: AVX2 FMA, in other operations, rebuild TensorFlow with the appropriate compiler flags.\n"
     ]
    },
    {
     "name": "stderr",
     "output_type": "stream",
     "text": [
      "2024-11-18 20:29:00.318960: W tensorflow/compiler/tf2tensorrt/utils/py_utils.cc:38] TF-TRT Warning: Could not find TensorRT\n"
     ]
    }
   ],
   "source": [
    "import torch\n",
    "import torch.nn as nn\n",
    "import torch.optim as optim\n",
    "import torch.nn.functional as F\n",
    "from transformers import BertTokenizerFast, BertModel\n",
    "import pandas as pd\n",
    "from torch.utils.data import Dataset, DataLoader\n",
    "import numpy as np\n",
    "import string\n",
    "import json"
   ]
  },
  {
   "cell_type": "code",
   "execution_count": null,
   "id": "a4503786",
   "metadata": {
    "execution": {
     "iopub.execute_input": "2024-11-18T20:29:01.166792Z",
     "iopub.status.busy": "2024-11-18T20:29:01.166541Z",
     "iopub.status.idle": "2024-11-18T20:29:01.198044Z",
     "shell.execute_reply": "2024-11-18T20:29:01.197551Z"
    },
    "papermill": {
     "duration": 0.039163,
     "end_time": "2024-11-18T20:29:01.199681",
     "exception": false,
     "start_time": "2024-11-18T20:29:01.160518",
     "status": "completed"
    },
    "tags": []
   },
   "outputs": [],
   "source": [
    "# Load train data from json (L1)\n",
    "with open(f\"/home/ashu/Desktop/sem7/llm/CSE664-LLM-Project/Cross-Attention-Embedding-Fusion/Dataset/{lang1}_train.json\") as f:\n",
    "    train_data_1 = json.load(f)\n",
    "\n",
    "# Load test data from json\n",
    "with open(f\"/home/ashu/Desktop/sem7/llm/CSE664-LLM-Project/Cross-Attention-Embedding-Fusion/Dataset/{lang1}_test.json\") as f:\n",
    "    test_data_1 = json.load(f)\n",
    "\n",
    "# Load train data from json (L2)\n",
    "with open(f\"/home/ashu/Desktop/sem7/llm/CSE664-LLM-Project/Cross-Attention-Embedding-Fusion/Dataset/{lang2}_train.json\") as f:\n",
    "    train_data_2 = json.load(f)\n",
    "\n",
    "# Load test data from json\n",
    "with open(f\"/home/ashu/Desktop/sem7/llm/CSE664-LLM-Project/Cross-Attention-Embedding-Fusion/Dataset/{lang2}_test.json\") as f:\n",
    "    test_data_2 = json.load(f)\n"
   ]
  },
  {
   "cell_type": "code",
   "execution_count": 6,
   "id": "d52503df",
   "metadata": {
    "execution": {
     "iopub.execute_input": "2024-11-18T20:29:01.211200Z",
     "iopub.status.busy": "2024-11-18T20:29:01.210984Z",
     "iopub.status.idle": "2024-11-18T20:29:01.213737Z",
     "shell.execute_reply": "2024-11-18T20:29:01.213339Z"
    },
    "papermill": {
     "duration": 0.010437,
     "end_time": "2024-11-18T20:29:01.215436",
     "exception": false,
     "start_time": "2024-11-18T20:29:01.204999",
     "status": "completed"
    },
    "tags": []
   },
   "outputs": [
    {
     "name": "stdout",
     "output_type": "stream",
     "text": [
      "Running with lang1: marathi, lang2: tamil\n"
     ]
    }
   ],
   "source": [
    "print(f\"Running with lang1: {lang1}, lang2: {lang2}\")"
   ]
  },
  {
   "cell_type": "code",
   "execution_count": 7,
   "id": "d411522b",
   "metadata": {
    "execution": {
     "iopub.execute_input": "2024-11-18T20:29:01.227124Z",
     "iopub.status.busy": "2024-11-18T20:29:01.227002Z",
     "iopub.status.idle": "2024-11-18T20:29:01.229241Z",
     "shell.execute_reply": "2024-11-18T20:29:01.228871Z"
    },
    "papermill": {
     "duration": 0.009782,
     "end_time": "2024-11-18T20:29:01.230689",
     "exception": false,
     "start_time": "2024-11-18T20:29:01.220907",
     "status": "completed"
    },
    "tags": []
   },
   "outputs": [],
   "source": [
    "# Merge the two datasets\n",
    "train_data = train_data_1 + train_data_2\n",
    "test_data = test_data_1 + test_data_2"
   ]
  },
  {
   "cell_type": "code",
   "execution_count": 8,
   "id": "27da8fcc",
   "metadata": {
    "execution": {
     "iopub.execute_input": "2024-11-18T20:29:01.242508Z",
     "iopub.status.busy": "2024-11-18T20:29:01.242381Z",
     "iopub.status.idle": "2024-11-18T20:29:02.159212Z",
     "shell.execute_reply": "2024-11-18T20:29:02.158709Z"
    },
    "papermill": {
     "duration": 0.924871,
     "end_time": "2024-11-18T20:29:02.161073",
     "exception": false,
     "start_time": "2024-11-18T20:29:01.236202",
     "status": "completed"
    },
    "tags": []
   },
   "outputs": [],
   "source": [
    "from transformers import AutoTokenizer, AutoModel\n",
    "\n",
    "# Load tokeniser\n",
    "tokenizer = BertTokenizerFast.from_pretrained('bert-base-multilingual-cased')"
   ]
  },
  {
   "cell_type": "code",
   "execution_count": 9,
   "id": "991ef4ff",
   "metadata": {
    "execution": {
     "iopub.execute_input": "2024-11-18T20:29:02.174155Z",
     "iopub.status.busy": "2024-11-18T20:29:02.173617Z",
     "iopub.status.idle": "2024-11-18T20:29:02.178672Z",
     "shell.execute_reply": "2024-11-18T20:29:02.178316Z"
    },
    "papermill": {
     "duration": 0.013021,
     "end_time": "2024-11-18T20:29:02.180144",
     "exception": false,
     "start_time": "2024-11-18T20:29:02.167123",
     "status": "completed"
    },
    "tags": []
   },
   "outputs": [],
   "source": [
    "class NER_Dataset(Dataset):\n",
    "    def __init__(self, data, tokenizer, max_len=128):\n",
    "        self.data = data  # List of sentences and labels\n",
    "        self.tokenizer = tokenizer  # mBERT tokenizer\n",
    "        self.max_len = max_len\n",
    "\n",
    "    def __len__(self):\n",
    "        return len(self.data)\n",
    "\n",
    "    def __getitem__(self, idx):\n",
    "        text = self.data[idx][\"tokens\"]\n",
    "        word_labels = self.data[idx][\"ner_tags\"]\n",
    "\n",
    "        # Tokenize the text and align the labels\n",
    "        encoding = self.tokenizer(text,\n",
    "                                  is_split_into_words=True,\n",
    "                                  return_offsets_mapping=True,\n",
    "                                  padding='max_length',\n",
    "                                  truncation=True,\n",
    "                                  max_length=self.max_len)\n",
    "\n",
    "        labels = [self.align_labels(encoding['offset_mapping'], word_labels)]\n",
    "\n",
    "        # Remove the offset mapping to prevent issues during model training\n",
    "        del encoding['offset_mapping']\n",
    "\n",
    "        item = {key: torch.tensor(val) for key, val in encoding.items()}\n",
    "        item['labels'] = torch.tensor(labels[0], dtype=torch.long)\n",
    "\n",
    "        return item\n",
    "    \n",
    "    # Create a function to align labels\n",
    "    def align_labels(self, offset_mapping, labels):\n",
    "        aligned_labels = []\n",
    "        current_label_index = 0\n",
    "\n",
    "        for offset in offset_mapping:\n",
    "            # If the offset mapping is (0, 0), it's a special token ([CLS], [SEP], [PAD])\n",
    "            if offset == (0, 0):\n",
    "                aligned_labels.append(-100)  # -100 is used to ignore these tokens in the loss computation\n",
    "            else:\n",
    "                # Check if the token is the start of a new word\n",
    "                if offset[0] == 0:\n",
    "                    aligned_labels.append(labels[current_label_index])\n",
    "                    current_label_index += 1\n",
    "                else:\n",
    "                    # If the token is not the first subtoken, you can decide how to label it. \n",
    "                    # For simplicity, let's use the same label as the first subtoken\n",
    "                    aligned_labels.append(labels[current_label_index - 1])\n",
    "\n",
    "        return aligned_labels"
   ]
  },
  {
   "cell_type": "code",
   "execution_count": 10,
   "id": "a38ca03f",
   "metadata": {
    "execution": {
     "iopub.execute_input": "2024-11-18T20:29:02.192529Z",
     "iopub.status.busy": "2024-11-18T20:29:02.192134Z",
     "iopub.status.idle": "2024-11-18T20:29:02.194767Z",
     "shell.execute_reply": "2024-11-18T20:29:02.194401Z"
    },
    "papermill": {
     "duration": 0.010322,
     "end_time": "2024-11-18T20:29:02.196210",
     "exception": false,
     "start_time": "2024-11-18T20:29:02.185888",
     "status": "completed"
    },
    "tags": []
   },
   "outputs": [],
   "source": [
    "# Create train dataset and test dataset\n",
    "train_dataset = NER_Dataset(train_data, tokenizer)\n",
    "test_dataset = NER_Dataset(test_data, tokenizer)\n",
    "\n",
    "# Create train dataloader and test dataloader\n",
    "train_dataloader = DataLoader(train_dataset, batch_size=32, shuffle=True)\n",
    "test_dataloader = DataLoader(test_dataset, batch_size=32, shuffle=False)"
   ]
  },
  {
   "cell_type": "code",
   "execution_count": 11,
   "id": "52286229",
   "metadata": {
    "execution": {
     "iopub.execute_input": "2024-11-18T20:29:02.208572Z",
     "iopub.status.busy": "2024-11-18T20:29:02.208266Z",
     "iopub.status.idle": "2024-11-18T20:29:02.290518Z",
     "shell.execute_reply": "2024-11-18T20:29:02.290160Z"
    },
    "papermill": {
     "duration": 0.090757,
     "end_time": "2024-11-18T20:29:02.292649",
     "exception": false,
     "start_time": "2024-11-18T20:29:02.201892",
     "status": "completed"
    },
    "tags": []
   },
   "outputs": [
    {
     "data": {
      "text/plain": [
       "'cuda'"
      ]
     },
     "execution_count": 11,
     "metadata": {},
     "output_type": "execute_result"
    }
   ],
   "source": [
    "DEVICE = 'cuda' if torch.cuda.is_available() else 'cpu'\n",
    "DEVICE"
   ]
  },
  {
   "cell_type": "code",
   "execution_count": 12,
   "id": "e4636e85",
   "metadata": {
    "execution": {
     "iopub.execute_input": "2024-11-18T20:29:02.305698Z",
     "iopub.status.busy": "2024-11-18T20:29:02.305245Z",
     "iopub.status.idle": "2024-11-18T20:29:02.309351Z",
     "shell.execute_reply": "2024-11-18T20:29:02.308940Z"
    },
    "papermill": {
     "duration": 0.01215,
     "end_time": "2024-11-18T20:29:02.310869",
     "exception": false,
     "start_time": "2024-11-18T20:29:02.298719",
     "status": "completed"
    },
    "tags": []
   },
   "outputs": [],
   "source": [
    "import torch\n",
    "import torch.nn as nn\n",
    "\n",
    "class CrossAttentionFusion(nn.Module):\n",
    "    def __init__(self, hidden_dim, num_heads):\n",
    "        super(CrossAttentionFusion, self).__init__()\n",
    "        self.cross_attention = nn.MultiheadAttention(embed_dim=hidden_dim, num_heads=num_heads)\n",
    "        self.layer_norm = nn.LayerNorm(hidden_dim)\n",
    "\n",
    "    def forward(self, embeddings_mbert, embeddings_indicbert):\n",
    "        \"\"\"\n",
    "        Fuse embeddings from mBERT and Indic-BERT using cross-attention.\n",
    "\n",
    "        Args:\n",
    "            embeddings_mbert (torch.Tensor): Embeddings from mBERT of shape [batch_size, seq_len_m, hidden_dim].\n",
    "            embeddings_indicbert (torch.Tensor): Embeddings from Indic-BERT of shape [batch_size, seq_len_i, hidden_dim].\n",
    "\n",
    "        Returns:\n",
    "            torch.Tensor: Fused embeddings of shape [batch_size, seq_len_m, hidden_dim].\n",
    "        \"\"\"\n",
    "        embeddings_mbert = embeddings_mbert.to(DEVICE)\n",
    "        embeddings_indicbert = embeddings_indicbert.to(DEVICE)\n",
    "        \n",
    "        # Transpose to shape [seq_len, batch_size, hidden_dim] for nn.MultiheadAttention\n",
    "        embeddings_mbert = embeddings_mbert.transpose(0, 1)\n",
    "        embeddings_indicbert = embeddings_indicbert.transpose(0, 1)\n",
    "\n",
    "        # Cross-attention: Indic BERT queries attend to m-BERT keys and values\n",
    "        attn_output, _ = self.cross_attention(\n",
    "            query=embeddings_indicbert,       # Queries from Indic-BERT\n",
    "            key=embeddings_mbert,     # Keys from m-BERT\n",
    "            value=embeddings_mbert    # Values from m-BERT\n",
    "        )\n",
    "\n",
    "        attn_output.to(DEVICE)\n",
    "\n",
    "        # Residual connection and layer normalization\n",
    "        output = self.layer_norm(attn_output + embeddings_mbert)\n",
    "\n",
    "        # Transpose back to [batch_size, seq_len_m, hidden_dim]\n",
    "        output = output.transpose(0, 1)\n",
    "\n",
    "        return output"
   ]
  },
  {
   "cell_type": "code",
   "execution_count": 13,
   "id": "f175d9be",
   "metadata": {
    "execution": {
     "iopub.execute_input": "2024-11-18T20:29:02.323442Z",
     "iopub.status.busy": "2024-11-18T20:29:02.323119Z",
     "iopub.status.idle": "2024-11-18T20:29:02.325059Z",
     "shell.execute_reply": "2024-11-18T20:29:02.324716Z"
    },
    "papermill": {
     "duration": 0.00975,
     "end_time": "2024-11-18T20:29:02.326551",
     "exception": false,
     "start_time": "2024-11-18T20:29:02.316801",
     "status": "completed"
    },
    "tags": []
   },
   "outputs": [],
   "source": [
    "hidden_dim = 768\n",
    "num_heads = 4"
   ]
  },
  {
   "cell_type": "code",
   "execution_count": 14,
   "id": "01731435",
   "metadata": {
    "execution": {
     "iopub.execute_input": "2024-11-18T20:29:02.339680Z",
     "iopub.status.busy": "2024-11-18T20:29:02.339203Z",
     "iopub.status.idle": "2024-11-18T20:29:03.837876Z",
     "shell.execute_reply": "2024-11-18T20:29:03.837469Z"
    },
    "papermill": {
     "duration": 1.506388,
     "end_time": "2024-11-18T20:29:03.838838",
     "exception": false,
     "start_time": "2024-11-18T20:29:02.332450",
     "status": "completed"
    },
    "tags": []
   },
   "outputs": [
    {
     "data": {
      "text/plain": [
       "MBERT_NER(\n",
       "  (bert): BertModel(\n",
       "    (embeddings): BertEmbeddings(\n",
       "      (word_embeddings): Embedding(119547, 768, padding_idx=0)\n",
       "      (position_embeddings): Embedding(512, 768)\n",
       "      (token_type_embeddings): Embedding(2, 768)\n",
       "      (LayerNorm): LayerNorm((768,), eps=1e-12, elementwise_affine=True)\n",
       "      (dropout): Dropout(p=0.1, inplace=False)\n",
       "    )\n",
       "    (encoder): BertEncoder(\n",
       "      (layer): ModuleList(\n",
       "        (0-11): 12 x BertLayer(\n",
       "          (attention): BertAttention(\n",
       "            (self): BertSdpaSelfAttention(\n",
       "              (query): Linear(in_features=768, out_features=768, bias=True)\n",
       "              (key): Linear(in_features=768, out_features=768, bias=True)\n",
       "              (value): Linear(in_features=768, out_features=768, bias=True)\n",
       "              (dropout): Dropout(p=0.1, inplace=False)\n",
       "            )\n",
       "            (output): BertSelfOutput(\n",
       "              (dense): Linear(in_features=768, out_features=768, bias=True)\n",
       "              (LayerNorm): LayerNorm((768,), eps=1e-12, elementwise_affine=True)\n",
       "              (dropout): Dropout(p=0.1, inplace=False)\n",
       "            )\n",
       "          )\n",
       "          (intermediate): BertIntermediate(\n",
       "            (dense): Linear(in_features=768, out_features=3072, bias=True)\n",
       "            (intermediate_act_fn): GELUActivation()\n",
       "          )\n",
       "          (output): BertOutput(\n",
       "            (dense): Linear(in_features=3072, out_features=768, bias=True)\n",
       "            (LayerNorm): LayerNorm((768,), eps=1e-12, elementwise_affine=True)\n",
       "            (dropout): Dropout(p=0.1, inplace=False)\n",
       "          )\n",
       "        )\n",
       "      )\n",
       "    )\n",
       "    (pooler): BertPooler(\n",
       "      (dense): Linear(in_features=768, out_features=768, bias=True)\n",
       "      (activation): Tanh()\n",
       "    )\n",
       "  )\n",
       "  (indic_bert): AlbertModel(\n",
       "    (embeddings): AlbertEmbeddings(\n",
       "      (word_embeddings): Embedding(200000, 128, padding_idx=0)\n",
       "      (position_embeddings): Embedding(512, 128)\n",
       "      (token_type_embeddings): Embedding(2, 128)\n",
       "      (LayerNorm): LayerNorm((128,), eps=1e-12, elementwise_affine=True)\n",
       "      (dropout): Dropout(p=0, inplace=False)\n",
       "    )\n",
       "    (encoder): AlbertTransformer(\n",
       "      (embedding_hidden_mapping_in): Linear(in_features=128, out_features=768, bias=True)\n",
       "      (albert_layer_groups): ModuleList(\n",
       "        (0): AlbertLayerGroup(\n",
       "          (albert_layers): ModuleList(\n",
       "            (0): AlbertLayer(\n",
       "              (full_layer_layer_norm): LayerNorm((768,), eps=1e-12, elementwise_affine=True)\n",
       "              (attention): AlbertSdpaAttention(\n",
       "                (query): Linear(in_features=768, out_features=768, bias=True)\n",
       "                (key): Linear(in_features=768, out_features=768, bias=True)\n",
       "                (value): Linear(in_features=768, out_features=768, bias=True)\n",
       "                (attention_dropout): Dropout(p=0, inplace=False)\n",
       "                (output_dropout): Dropout(p=0, inplace=False)\n",
       "                (dense): Linear(in_features=768, out_features=768, bias=True)\n",
       "                (LayerNorm): LayerNorm((768,), eps=1e-12, elementwise_affine=True)\n",
       "              )\n",
       "              (ffn): Linear(in_features=768, out_features=3072, bias=True)\n",
       "              (ffn_output): Linear(in_features=3072, out_features=768, bias=True)\n",
       "              (activation): GELUActivation()\n",
       "              (dropout): Dropout(p=0, inplace=False)\n",
       "            )\n",
       "          )\n",
       "        )\n",
       "      )\n",
       "    )\n",
       "    (pooler): Linear(in_features=768, out_features=768, bias=True)\n",
       "    (pooler_activation): Tanh()\n",
       "  )\n",
       "  (attention): CrossAttentionFusion(\n",
       "    (cross_attention): MultiheadAttention(\n",
       "      (out_proj): NonDynamicallyQuantizableLinear(in_features=768, out_features=768, bias=True)\n",
       "    )\n",
       "    (layer_norm): LayerNorm((768,), eps=1e-05, elementwise_affine=True)\n",
       "  )\n",
       "  (gru): GRU(2304, 128, batch_first=True)\n",
       "  (classifier): Linear(in_features=128, out_features=7, bias=True)\n",
       "  (dropout): Dropout(p=0.1, inplace=False)\n",
       "  (batch_norm): BatchNorm1d(128, eps=1e-05, momentum=0.1, affine=True, track_running_stats=True)\n",
       ")"
      ]
     },
     "execution_count": 14,
     "metadata": {},
     "output_type": "execute_result"
    }
   ],
   "source": [
    "# Model for NER\n",
    "\n",
    "class MBERT_NER(nn.Module):\n",
    "    def __init__(self, num_labels, gru_hidden_size, num_gru_layers, freeze_bert=False):\n",
    "        super(MBERT_NER, self).__init__()\n",
    "\n",
    "        self.bert = BertModel.from_pretrained(\"bert-base-multilingual-cased\")\n",
    "        self.indic_bert = AutoModel.from_pretrained(\"ai4bharat/indic-bert\")\n",
    "        \n",
    "        # Initialize the Fusion Attention\n",
    "        self.attention = CrossAttentionFusion(hidden_dim=hidden_dim, num_heads=num_heads).to(DEVICE)\n",
    "        \n",
    "        self.gru = nn.GRU(input_size=self.bert.config.hidden_size * 3,\n",
    "                          hidden_size=gru_hidden_size,\n",
    "                          num_layers=num_gru_layers,\n",
    "                          batch_first=True)\n",
    "        self.classifier = nn.Linear(gru_hidden_size, num_labels)\n",
    "        self.dropout = nn.Dropout(0.1)\n",
    "        self.batch_norm = nn.BatchNorm1d(gru_hidden_size)\n",
    "\n",
    "        if freeze_bert:\n",
    "            for param in self.bert.parameters():\n",
    "                param.requires_grad = False\n",
    "            for param in self.indic_bert.parameters():\n",
    "                param.requires_grad = False\n",
    "\n",
    "    def forward(self, input_ids, attention_mask):\n",
    "        \n",
    "        input_ids = input_ids.to(DEVICE)\n",
    "        attention_mask = attention_mask.to(DEVICE)\n",
    "        \n",
    "        # Embeddings\n",
    "        outputs1 = self.bert(input_ids=input_ids, attention_mask=attention_mask)\n",
    "        outputs2 = self.indic_bert(input_ids = input_ids, attention_mask = attention_mask)        \n",
    "        \n",
    "        embeddings_mbert = outputs1.last_hidden_state.to(DEVICE)\n",
    "        embeddings_indicbert = outputs2.last_hidden_state.to(DEVICE)\n",
    "        \n",
    "        # Fused embeddings\n",
    "        embeddings = self.attention(embeddings_mbert, embeddings_indicbert).to(DEVICE)\n",
    "        \n",
    "        sequence_output = torch.cat((embeddings_mbert, embeddings_indicbert, embeddings), dim=-1)\n",
    "        \n",
    "        gru_output, _ = self.gru(sequence_output)\n",
    "        gru_output = self.batch_norm(gru_output)\n",
    "        gru_output = self.dropout(gru_output)\n",
    "        \n",
    "        logits = self.classifier(gru_output)\n",
    "        return logits\n",
    "\n",
    "# Create the NER model\n",
    "NUM_LABELS = 7 # Number of NER tags\n",
    "GRU_HIDDEN_SIZE = 128 # Hidden size of the GRU\n",
    "NUM_GRU_LAYERS = 1 # Number of layers in the GRU\n",
    "FREEZE_BERT = False # Whether to freeze the BERT model\n",
    "DEVICE = 'cuda' if torch.cuda.is_available() else 'cpu'\n",
    "\n",
    "model = MBERT_NER(num_labels=NUM_LABELS,\n",
    "                    gru_hidden_size=GRU_HIDDEN_SIZE,\n",
    "                    num_gru_layers=NUM_GRU_LAYERS,\n",
    "                    freeze_bert=FREEZE_BERT)\n",
    "\n",
    "model.to(DEVICE)"
   ]
  },
  {
   "cell_type": "code",
   "execution_count": 15,
   "id": "b347960e",
   "metadata": {
    "execution": {
     "iopub.execute_input": "2024-11-18T20:29:03.848389Z",
     "iopub.status.busy": "2024-11-18T20:29:03.847961Z",
     "iopub.status.idle": "2024-11-18T20:29:03.850272Z",
     "shell.execute_reply": "2024-11-18T20:29:03.849929Z"
    },
    "papermill": {
     "duration": 0.008106,
     "end_time": "2024-11-18T20:29:03.851091",
     "exception": false,
     "start_time": "2024-11-18T20:29:03.842985",
     "status": "completed"
    },
    "tags": []
   },
   "outputs": [],
   "source": [
    "torch.cuda.empty_cache()"
   ]
  },
  {
   "cell_type": "code",
   "execution_count": 16,
   "id": "b565928d",
   "metadata": {
    "execution": {
     "iopub.execute_input": "2024-11-18T20:29:03.861026Z",
     "iopub.status.busy": "2024-11-18T20:29:03.860591Z",
     "iopub.status.idle": "2024-11-18T20:36:22.704018Z",
     "shell.execute_reply": "2024-11-18T20:36:22.703267Z"
    },
    "papermill": {
     "duration": 438.85704,
     "end_time": "2024-11-18T20:36:22.712413",
     "exception": false,
     "start_time": "2024-11-18T20:29:03.855373",
     "status": "completed"
    },
    "tags": []
   },
   "outputs": [
    {
     "name": "stdout",
     "output_type": "stream",
     "text": [
      "Epoch 1/6, Train Loss: 0.5526, Train F1: 0.7218, Train Acc: 0.8276, Val Loss: 0.3484, Val F1: 0.8234, Val Acc: 0.8912\n"
     ]
    },
    {
     "name": "stdout",
     "output_type": "stream",
     "text": [
      "Epoch 2/6, Train Loss: 0.2814, Train F1: 0.8618, Train Acc: 0.9151, Val Loss: 0.2998, Val F1: 0.8606, Val Acc: 0.9151\n"
     ]
    },
    {
     "name": "stdout",
     "output_type": "stream",
     "text": [
      "Epoch 3/6, Train Loss: 0.2010, Train F1: 0.9013, Train Acc: 0.9402, Val Loss: 0.2739, Val F1: 0.8738, Val Acc: 0.9235\n"
     ]
    },
    {
     "name": "stdout",
     "output_type": "stream",
     "text": [
      "Epoch 4/6, Train Loss: 0.1481, Train F1: 0.9280, Train Acc: 0.9572, Val Loss: 0.2640, Val F1: 0.8803, Val Acc: 0.9245\n"
     ]
    },
    {
     "name": "stdout",
     "output_type": "stream",
     "text": [
      "Epoch 5/6, Train Loss: 0.1159, Train F1: 0.9443, Train Acc: 0.9674, Val Loss: 0.2966, Val F1: 0.8718, Val Acc: 0.9222\n"
     ]
    },
    {
     "name": "stdout",
     "output_type": "stream",
     "text": [
      "Epoch 6/6, Train Loss: 0.0914, Train F1: 0.9563, Train Acc: 0.9746, Val Loss: 0.3073, Val F1: 0.8851, Val Acc: 0.9273\n"
     ]
    }
   ],
   "source": [
    "from sklearn.metrics import f1_score, accuracy_score\n",
    "\n",
    "# Optimizer and loss function\n",
    "optimizer = optim.AdamW(model.parameters(), lr=2e-5)\n",
    "criterion = nn.CrossEntropyLoss(ignore_index=-100)\n",
    "\n",
    "# Training loop\n",
    "EPOCHS = 6\n",
    "\n",
    "train_losses = []\n",
    "train_f1_scores = []\n",
    "train_acc_scores = []\n",
    "val_losses = []\n",
    "val_f1_scores = []\n",
    "val_acc_scores = []\n",
    "\n",
    "\n",
    "for epoch in range(EPOCHS):\n",
    "    model.train()\n",
    "    train_loss = 0\n",
    "    train_predictions, train_labels = [], []\n",
    "\n",
    "    for batch in train_dataloader:\n",
    "        input_ids = batch['input_ids'].to(DEVICE)\n",
    "        attention_mask = batch['attention_mask'].to(DEVICE)\n",
    "        labels = batch['labels'].to(DEVICE)\n",
    "\n",
    "        optimizer.zero_grad()\n",
    "        logits = model(input_ids, attention_mask)\n",
    "        logits = logits.view(-1, NUM_LABELS)\n",
    "        labels = labels.view(-1)\n",
    "\n",
    "        loss = criterion(logits, labels)\n",
    "        loss.backward()\n",
    "        optimizer.step()\n",
    "\n",
    "        train_loss += loss.item()\n",
    "\n",
    "        # Get predictions and filter out ignored indices for metric calculations\n",
    "        predictions = torch.argmax(logits, dim=-1)\n",
    "        active_indices = labels != -100\n",
    "        train_predictions.extend(predictions[active_indices].cpu().numpy())\n",
    "        train_labels.extend(labels[active_indices].cpu().numpy())\n",
    "\n",
    "    train_loss /= len(train_dataloader)\n",
    "    train_losses.append(train_loss)\n",
    "\n",
    "    train_f1 = f1_score(train_labels, train_predictions, average='macro')\n",
    "    train_f1_scores.append(train_f1)\n",
    "\n",
    "    train_acc = accuracy_score(train_labels, train_predictions)\n",
    "    train_acc_scores.append(train_acc)\n",
    "\n",
    "    # Validation loop\n",
    "    model.eval()\n",
    "    val_loss = 0\n",
    "    val_predictions, val_labels = [], []\n",
    "\n",
    "    with torch.no_grad():\n",
    "        for batch in test_dataloader:\n",
    "            input_ids = batch['input_ids'].to(DEVICE)\n",
    "            attention_mask = batch['attention_mask'].to(DEVICE)\n",
    "            labels = batch['labels'].to(DEVICE)\n",
    "\n",
    "            logits = model(input_ids, attention_mask)\n",
    "            logits = logits.view(-1, NUM_LABELS)\n",
    "            labels = labels.view(-1)\n",
    "\n",
    "            loss = criterion(logits, labels)\n",
    "            val_loss += loss.item()\n",
    "\n",
    "            # Filter predictions and labels\n",
    "            predictions = torch.argmax(logits, dim=-1)\n",
    "            active_indices = labels != -100\n",
    "            val_predictions.extend(predictions[active_indices].cpu().numpy())\n",
    "            val_labels.extend(labels[active_indices].cpu().numpy())\n",
    "\n",
    "    val_loss /= len(test_dataloader)\n",
    "    val_losses.append(val_loss)\n",
    "\n",
    "    val_f1 = f1_score(val_labels, val_predictions, average='macro')\n",
    "    val_f1_scores.append(val_f1)\n",
    "\n",
    "    val_acc = accuracy_score(val_labels, val_predictions)\n",
    "    val_acc_scores.append(val_acc)\n",
    "                                                \n",
    "    print(f\"Epoch {epoch + 1}/{EPOCHS}, Train Loss: {train_loss:.4f}, Train F1: {train_f1:.4f}, Train Acc: {train_acc:.4f}, Val Loss: {val_loss:.4f}, Val F1: {val_f1:.4f}, Val Acc: {val_acc:.4f}\")"
   ]
  },
  {
   "cell_type": "code",
   "execution_count": 17,
   "id": "d648bbac",
   "metadata": {
    "execution": {
     "iopub.execute_input": "2024-11-18T20:36:22.727244Z",
     "iopub.status.busy": "2024-11-18T20:36:22.726908Z",
     "iopub.status.idle": "2024-11-18T20:36:38.014872Z",
     "shell.execute_reply": "2024-11-18T20:36:38.014266Z"
    },
    "papermill": {
     "duration": 15.297093,
     "end_time": "2024-11-18T20:36:38.016523",
     "exception": false,
     "start_time": "2024-11-18T20:36:22.719430",
     "status": "completed"
    },
    "tags": []
   },
   "outputs": [
    {
     "name": "stdout",
     "output_type": "stream",
     "text": [
      "Language: Hindi\n",
      "\n",
      "Weighted F1: 0.8535\n",
      "Macro F1: 0.8105\n",
      "Accuracy: 0.8549\n",
      "\n",
      "CLASSIFICATION REPORT: \n",
      "              precision    recall  f1-score   support\n",
      "\n",
      "           0       0.93      0.91      0.92      5277\n",
      "           1       0.80      0.89      0.85      1481\n",
      "           2       0.82      0.96      0.88      1874\n",
      "           3       0.82      0.72      0.77       986\n",
      "           4       0.90      0.80      0.85      2602\n",
      "           5       0.69      0.84      0.76      1195\n",
      "           6       0.76      0.57      0.65       867\n",
      "\n",
      "    accuracy                           0.85     14282\n",
      "   macro avg       0.82      0.81      0.81     14282\n",
      "weighted avg       0.86      0.85      0.85     14282\n",
      "\n",
      "\n",
      "CONFUSION MATRIX: \n",
      "[[4811  155   50   39   45  161   16]\n",
      " [  24 1324   75   13    4   41    0]\n",
      " [  23   23 1792    0   17    1   18]\n",
      " [  35  106    9  707   23  106    0]\n",
      " [ 179    8  188   24 2082   37   84]\n",
      " [  32   29    8   76   14 1002   34]\n",
      " [  97    0   57    0  127   95  491]]\n",
      "--------------------------------------------------\n"
     ]
    },
    {
     "name": "stdout",
     "output_type": "stream",
     "text": [
      "Language: Bengali\n",
      "\n",
      "Weighted F1: 0.7627\n",
      "Macro F1: 0.7635\n",
      "Accuracy: 0.7701\n",
      "\n",
      "CLASSIFICATION REPORT: \n",
      "              precision    recall  f1-score   support\n",
      "\n",
      "           0       0.78      0.94      0.85      1835\n",
      "           1       0.76      0.91      0.83      1343\n",
      "           2       0.77      0.91      0.83      2490\n",
      "           3       0.75      0.71      0.73      1239\n",
      "           4       0.79      0.71      0.75      3068\n",
      "           5       0.71      0.75      0.73      1510\n",
      "           6       0.82      0.50      0.62      2080\n",
      "\n",
      "    accuracy                           0.77     13565\n",
      "   macro avg       0.77      0.78      0.76     13565\n",
      "weighted avg       0.77      0.77      0.76     13565\n",
      "\n",
      "\n",
      "CONFUSION MATRIX: \n",
      "[[1727   21    7   28   25   22    5]\n",
      " [  29 1224   24   14    0   52    0]\n",
      " [ 125   20 2263    0   21   19   42]\n",
      " [  17  200    0  878    4  140    0]\n",
      " [ 159   17  454   22 2170   63  183]\n",
      " [  27  120    6  214    1 1137    5]\n",
      " [ 129   12  201   10  515  166 1047]]\n",
      "--------------------------------------------------\n"
     ]
    },
    {
     "name": "stdout",
     "output_type": "stream",
     "text": [
      "Language: Marathi\n",
      "\n",
      "Weighted F1: 0.9356\n",
      "Macro F1: 0.8985\n",
      "Accuracy: 0.9358\n",
      "\n",
      "CLASSIFICATION REPORT: \n",
      "              precision    recall  f1-score   support\n",
      "\n",
      "           0       0.97      0.96      0.97     10408\n",
      "           1       0.91      0.93      0.92      1342\n",
      "           2       0.94      0.96      0.95      1992\n",
      "           3       0.84      0.84      0.84      1172\n",
      "           4       0.93      0.94      0.93      2535\n",
      "           5       0.87      0.89      0.88      1829\n",
      "           6       0.85      0.75      0.80       820\n",
      "\n",
      "    accuracy                           0.94     20098\n",
      "   macro avg       0.90      0.90      0.90     20098\n",
      "weighted avg       0.94      0.94      0.94     20098\n",
      "\n",
      "\n",
      "CONFUSION MATRIX: \n",
      "[[10031    68    24    84    49   119    33]\n",
      " [   40  1251    13    14     0    24     0]\n",
      " [   46     4  1920     0    11     0    11]\n",
      " [   64    46     0   983     5    69     5]\n",
      " [   33     0    68     6  2379     3    46]\n",
      " [   91    10     4    82     0  1627    15]\n",
      " [   54     0     7     5   113    24   617]]\n",
      "--------------------------------------------------\n"
     ]
    },
    {
     "name": "stdout",
     "output_type": "stream",
     "text": [
      "Language: Tamil\n",
      "\n",
      "Weighted F1: 0.9196\n",
      "Macro F1: 0.8727\n",
      "Accuracy: 0.9195\n",
      "\n",
      "CLASSIFICATION REPORT: \n",
      "              precision    recall  f1-score   support\n",
      "\n",
      "           0       0.97      0.96      0.96     11461\n",
      "           1       0.88      0.88      0.88      1643\n",
      "           2       0.92      0.94      0.93      2295\n",
      "           3       0.85      0.79      0.82      1512\n",
      "           4       0.91      0.88      0.89      2532\n",
      "           5       0.80      0.90      0.85      1881\n",
      "           6       0.79      0.77      0.78       677\n",
      "\n",
      "    accuracy                           0.92     22001\n",
      "   macro avg       0.87      0.87      0.87     22001\n",
      "weighted avg       0.92      0.92      0.92     22001\n",
      "\n",
      "\n",
      "CONFUSION MATRIX: \n",
      "[[10998   100    41    70    59   166    27]\n",
      " [   67  1441    42    41     4    48     0]\n",
      " [   58    13  2156     5    43     6    14]\n",
      " [   51    68     3  1199    25   166     0]\n",
      " [   89     5    86    12  2217    27    96]\n",
      " [   66    17     0    89    11  1695     3]\n",
      " [   50     0    12     0    76    16   523]]\n",
      "--------------------------------------------------\n"
     ]
    },
    {
     "name": "stdout",
     "output_type": "stream",
     "text": [
      "Language: Telugu\n",
      "\n",
      "Weighted F1: 0.8487\n",
      "Macro F1: 0.7113\n",
      "Accuracy: 0.8460\n",
      "\n",
      "CLASSIFICATION REPORT: \n",
      "              precision    recall  f1-score   support\n",
      "\n",
      "           0       0.96      0.91      0.93     17291\n",
      "           1       0.58      0.71      0.64      1810\n",
      "           2       0.70      0.93      0.80      1353\n",
      "           3       0.43      0.40      0.41      1375\n",
      "           4       0.80      0.71      0.75      2269\n",
      "           5       0.72      0.90      0.80      2072\n",
      "           6       0.68      0.61      0.64       455\n",
      "\n",
      "    accuracy                           0.85     26625\n",
      "   macro avg       0.70      0.74      0.71     26625\n",
      "weighted avg       0.86      0.85      0.85     26625\n",
      "\n",
      "\n",
      "CONFUSION MATRIX: \n",
      "[[15661   556    70   421   231   297    55]\n",
      " [  145  1291   244    55     9    66     0]\n",
      " [   30    32  1264     0    16     0    11]\n",
      " [  130   326    37   549   103   222     8]\n",
      " [  196     0   153   170  1620    88    42]\n",
      " [   68    29     7    82     7  1863    16]\n",
      " [   51     0    21     0    42    65   276]]\n",
      "--------------------------------------------------\n"
     ]
    }
   ],
   "source": [
    "from sklearn.metrics import f1_score\n",
    "from sklearn.metrics import accuracy_score\n",
    "from sklearn.metrics import classification_report\n",
    "from sklearn.metrics import confusion_matrix\n",
    "\n",
    "# Load the test data from json for all 5 languages\n",
    "languages = ['hindi', 'bengali', 'marathi', 'tamil', 'telugu']\n",
    "\n",
    "# Iterate over all languages and evaluate the model\n",
    "for lang in languages:\n",
    "    with open(f\"/home/vijay/slim_sense/SHARPax/Python_code/test/NER-Experiments/Dataset/{lang}_test.json\") as f:\n",
    "        test_data = json.load(f)\n",
    "\n",
    "    test_dataset = NER_Dataset(test_data, tokenizer)\n",
    "    test_dataloader = DataLoader(test_dataset, batch_size=32, shuffle=False)\n",
    "\n",
    "    model.eval()\n",
    "    test_predictions, test_labels = [], []\n",
    "\n",
    "    with torch.no_grad():\n",
    "        for batch in test_dataloader:\n",
    "            input_ids = batch['input_ids'].to(DEVICE)\n",
    "            attention_mask = batch['attention_mask'].to(DEVICE)\n",
    "            labels = batch['labels'].to(DEVICE)\n",
    "\n",
    "            logits = model(input_ids, attention_mask)\n",
    "            logits = logits.view(-1, NUM_LABELS)\n",
    "            labels = labels.view(-1)\n",
    "\n",
    "            # Filter predictions and labels\n",
    "            predictions = torch.argmax(logits, dim=-1)\n",
    "            active_indices = labels != -100\n",
    "            test_predictions.extend(predictions[active_indices].cpu().numpy())\n",
    "            test_labels.extend(labels[active_indices].cpu().numpy())\n",
    "\n",
    "    weighted_f1 = f1_score(test_labels, test_predictions, average='weighted')\n",
    "    macro_f1 = f1_score(test_labels, test_predictions, average='macro')\n",
    "    accuracy = accuracy_score(test_labels, test_predictions)\n",
    "\n",
    "    if lang == 'hindi':\n",
    "        LANG = \"Hindi\"\n",
    "    elif lang == 'bengali':\n",
    "        LANG = \"Bengali\"\n",
    "    elif lang == 'marathi':\n",
    "        LANG = \"Marathi\"\n",
    "    elif lang == 'tamil':\n",
    "        LANG = \"Tamil\"\n",
    "    elif lang == 'telugu':\n",
    "        LANG = \"Telugu\"\n",
    "\n",
    "    print(f\"Language: {LANG}\")\n",
    "    print()\n",
    "    print(f\"Weighted F1: {weighted_f1:.4f}\")\n",
    "    print(f\"Macro F1: {macro_f1:.4f}\")\n",
    "    print(f\"Accuracy: {accuracy:.4f}\")\n",
    "    print()\n",
    "    print(\"CLASSIFICATION REPORT: \")\n",
    "    print(classification_report(test_labels, test_predictions))\n",
    "    print()\n",
    "    print(\"CONFUSION MATRIX: \")\n",
    "    print(confusion_matrix(test_labels, test_predictions))\n",
    "    print(\"--------------------------------------------------\")"
   ]
  },
  {
   "cell_type": "code",
   "execution_count": 18,
   "id": "0084966c",
   "metadata": {
    "execution": {
     "iopub.execute_input": "2024-11-18T20:36:38.033420Z",
     "iopub.status.busy": "2024-11-18T20:36:38.033035Z",
     "iopub.status.idle": "2024-11-18T20:36:39.357036Z",
     "shell.execute_reply": "2024-11-18T20:36:39.356270Z"
    },
    "papermill": {
     "duration": 1.334441,
     "end_time": "2024-11-18T20:36:39.358947",
     "exception": false,
     "start_time": "2024-11-18T20:36:38.024506",
     "status": "completed"
    },
    "tags": []
   },
   "outputs": [],
   "source": [
    "# Save the model\n",
    "torch.save(model.state_dict(), f'NER_FineTune_{lang1[:2]}_{lang2[:2]}_cross_attn.pth')"
   ]
  },
  {
   "cell_type": "markdown",
   "id": "b8bf66d7",
   "metadata": {
    "papermill": {
     "duration": 0.007353,
     "end_time": "2024-11-18T20:36:39.374125",
     "exception": false,
     "start_time": "2024-11-18T20:36:39.366772",
     "status": "completed"
    },
    "tags": []
   },
   "source": [
    "-------------------------------------------------------------------------------------------------------------------------"
   ]
  },
  {
   "cell_type": "markdown",
   "id": "487761e7",
   "metadata": {
    "papermill": {
     "duration": 0.00748,
     "end_time": "2024-11-18T20:36:39.389102",
     "exception": false,
     "start_time": "2024-11-18T20:36:39.381622",
     "status": "completed"
    },
    "tags": []
   },
   "source": [
    "# DUMP"
   ]
  },
  {
   "cell_type": "markdown",
   "id": "a5f7cae1",
   "metadata": {
    "papermill": {
     "duration": 0.006715,
     "end_time": "2024-11-18T20:36:39.403421",
     "exception": false,
     "start_time": "2024-11-18T20:36:39.396706",
     "status": "completed"
    },
    "tags": []
   },
   "source": [
    "--------------------------------------------------------------------------------------------------------------"
   ]
  },
  {
   "cell_type": "code",
   "execution_count": 19,
   "id": "d881b1a2",
   "metadata": {
    "execution": {
     "iopub.execute_input": "2024-11-18T20:36:39.415307Z",
     "iopub.status.busy": "2024-11-18T20:36:39.414828Z",
     "iopub.status.idle": "2024-11-18T20:36:39.418782Z",
     "shell.execute_reply": "2024-11-18T20:36:39.418304Z"
    },
    "papermill": {
     "duration": 0.011266,
     "end_time": "2024-11-18T20:36:39.420040",
     "exception": false,
     "start_time": "2024-11-18T20:36:39.408774",
     "status": "completed"
    },
    "tags": []
   },
   "outputs": [],
   "source": [
    "# import torch\n",
    "# import torch.nn as nn\n",
    "\n",
    "# class FusionModule(nn.Module):\n",
    "#     def __init__(self, hidden_size):\n",
    "#         super(FusionModule, self).__init__()\n",
    "#         # Linear layer to compute attention scores\n",
    "#         self.attention_layer = nn.Linear(hidden_size * 2, 2)\n",
    "\n",
    "#     def forward(self, embeddings_mbert, embeddings_indicbert):\n",
    "#         \"\"\"\n",
    "#         Args:\n",
    "#             embeddings_mbert (torch.Tensor): [batch_size, seq_len, hidden_size]\n",
    "#             embeddings_indicbert (torch.Tensor): [batch_size, seq_len, hidden_size]\n",
    "#         Returns:\n",
    "#             torch.Tensor: Fused embeddings [batch_size, seq_len, hidden_size]\n",
    "#         \"\"\"\n",
    "#         # Concatenate embeddings along the last dimension\n",
    "#         concat_embeddings = torch.cat((embeddings_mbert, embeddings_indicbert), dim=-1)  # [batch_size, seq_len, hidden_size * 2]\n",
    "\n",
    "#         # Compute attention scores\n",
    "#         attn_scores = self.attention_layer(concat_embeddings)  # [batch_size, seq_len, 2]\n",
    "\n",
    "#         # Apply softmax to get attention weights\n",
    "#         attn_weights = torch.softmax(attn_scores, dim=-1)  # [batch_size, seq_len, 2]\n",
    "\n",
    "#         # Split attention weights\n",
    "#         attn_weights_mbert = attn_weights[..., 0].unsqueeze(-1)  # [batch_size, seq_len, 1]\n",
    "#         attn_weights_indicbert = attn_weights[..., 1].unsqueeze(-1)  # [batch_size, seq_len, 1]\n",
    "\n",
    "#         # Compute weighted sum of embeddings\n",
    "#         fused_embeddings = attn_weights_mbert * embeddings_mbert + attn_weights_indicbert * embeddings_indicbert  # [batch_size, seq_len, hidden_size]\n",
    "\n",
    "#         return fused_embeddings"
   ]
  },
  {
   "cell_type": "code",
   "execution_count": 20,
   "id": "009e571c",
   "metadata": {
    "execution": {
     "iopub.execute_input": "2024-11-18T20:36:39.431972Z",
     "iopub.status.busy": "2024-11-18T20:36:39.431565Z",
     "iopub.status.idle": "2024-11-18T20:36:39.434372Z",
     "shell.execute_reply": "2024-11-18T20:36:39.433886Z"
    },
    "papermill": {
     "duration": 0.010048,
     "end_time": "2024-11-18T20:36:39.435614",
     "exception": false,
     "start_time": "2024-11-18T20:36:39.425566",
     "status": "completed"
    },
    "tags": []
   },
   "outputs": [],
   "source": [
    "# import torch\n",
    "# import torch.nn as nn\n",
    "\n",
    "# class SelfAttentionLayer(nn.Module):\n",
    "#     def __init__(self, hidden_dim, num_heads, dropout=0.1):\n",
    "#         super(SelfAttentionLayer, self).__init__()\n",
    "#         self.self_attention = nn.MultiheadAttention(embed_dim=hidden_dim, num_heads=num_heads, dropout=dropout)\n",
    "#         self.layer_norm = nn.LayerNorm(hidden_dim)\n",
    "#         self.dropout = nn.Dropout(dropout)\n",
    "\n",
    "#     def forward(self, embeddings, attention_mask=None):\n",
    "#         \"\"\"\n",
    "#         Args:\n",
    "#             embeddings (torch.Tensor): [batch_size, seq_len, hidden_dim]\n",
    "#             attention_mask (torch.Tensor): [batch_size, seq_len], with 1 for tokens to attend to and 0 for padding\n",
    "#         Returns:\n",
    "#             torch.Tensor: [batch_size, seq_len, hidden_dim]\n",
    "#         \"\"\"\n",
    "#         embeddings = embeddings.to(DEVICE)\n",
    "        \n",
    "        \n",
    "#         # Transpose embeddings to [seq_len, batch_size, hidden_dim] for nn.MultiheadAttention\n",
    "#         embeddings = embeddings.transpose(0, 1)\n",
    "\n",
    "#         # Prepare attention mask for nn.MultiheadAttention (optional)\n",
    "#         if attention_mask is not None:\n",
    "#     # nn.MultiheadAttention expects key_padding_mask of shape [batch_size, seq_len]\n",
    "#             key_padding_mask = attention_mask == 0  # True for padding tokens\n",
    "#         else:\n",
    "#             key_padding_mask = None\n",
    "\n",
    "\n",
    "#         # Self-attention\n",
    "#         attn_output, _ = self.self_attention(\n",
    "#             query=embeddings,\n",
    "#             key=embeddings,\n",
    "#             value=embeddings,\n",
    "#             key_padding_mask=key_padding_mask\n",
    "#         )\n",
    "\n",
    "#         # Residual connection and layer normalization\n",
    "#         attn_output = self.dropout(attn_output)\n",
    "#         attn_output = self.layer_norm(attn_output + embeddings)\n",
    "\n",
    "#         # Transpose back to [batch_size, seq_len, hidden_dim]\n",
    "#         attn_output = attn_output.transpose(0, 1)\n",
    "\n",
    "#         return attn_output"
   ]
  }
 ],
 "metadata": {
  "kernelspec": {
   "display_name": "Python 3",
   "language": "python",
   "name": "python3"
  },
  "language_info": {
   "codemirror_mode": {
    "name": "ipython",
    "version": 3
   },
   "file_extension": ".py",
   "mimetype": "text/x-python",
   "name": "python",
   "nbconvert_exporter": "python",
   "pygments_lexer": "ipython3",
   "version": "3.11.5"
  },
  "papermill": {
   "default_parameters": {},
   "duration": 465.137698,
   "end_time": "2024-11-18T20:36:41.702019",
   "environment_variables": {},
   "exception": null,
   "input_path": "/home/vijay/slim_sense/SHARPax/Python_code/test/NER-Experiments/FineTune-Experiments-TwoLang/FineTune-Hindi-Bengali.ipynb",
   "output_path": "/home/vijay/slim_sense/SHARPax/Python_code/test/NER-Experiments/FineTune-Experiments-TwoLang//FineTune-marathi-tamil.ipynb",
   "parameters": {
    "lang1": "marathi",
    "lang2": "tamil"
   },
   "start_time": "2024-11-18T20:28:56.564321",
   "version": "2.6.0"
  }
 },
 "nbformat": 4,
 "nbformat_minor": 5
}
