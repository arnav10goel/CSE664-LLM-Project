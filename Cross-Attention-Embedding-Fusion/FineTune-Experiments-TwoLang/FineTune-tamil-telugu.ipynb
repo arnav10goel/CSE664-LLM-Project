{
 "cells": [
  {
   "cell_type": "code",
   "execution_count": 1,
   "id": "053711ec",
   "metadata": {
    "execution": {
     "iopub.execute_input": "2024-11-18T20:50:28.372027Z",
     "iopub.status.busy": "2024-11-18T20:50:28.371811Z",
     "iopub.status.idle": "2024-11-18T20:50:28.376485Z",
     "shell.execute_reply": "2024-11-18T20:50:28.375984Z"
    },
    "papermill": {
     "duration": 0.01237,
     "end_time": "2024-11-18T20:50:28.378164",
     "exception": false,
     "start_time": "2024-11-18T20:50:28.365794",
     "status": "completed"
    },
    "tags": [
     "parameters"
    ]
   },
   "outputs": [],
   "source": [
    "# Parameters\n",
    "lang1 = \"hindi\"\n",
    "lang2 = \"bengali\""
   ]
  },
  {
   "cell_type": "code",
   "execution_count": 2,
   "id": "2563da45",
   "metadata": {
    "execution": {
     "iopub.execute_input": "2024-11-18T20:50:28.389336Z",
     "iopub.status.busy": "2024-11-18T20:50:28.389149Z",
     "iopub.status.idle": "2024-11-18T20:50:28.392016Z",
     "shell.execute_reply": "2024-11-18T20:50:28.391548Z"
    },
    "papermill": {
     "duration": 0.010275,
     "end_time": "2024-11-18T20:50:28.393639",
     "exception": false,
     "start_time": "2024-11-18T20:50:28.383364",
     "status": "completed"
    },
    "tags": [
     "injected-parameters"
    ]
   },
   "outputs": [],
   "source": [
    "# Parameters\n",
    "lang1 = \"tamil\"\n",
    "lang2 = \"telugu\"\n"
   ]
  },
  {
   "cell_type": "code",
   "execution_count": 3,
   "id": "b1b334a9",
   "metadata": {
    "execution": {
     "iopub.execute_input": "2024-11-18T20:50:28.404408Z",
     "iopub.status.busy": "2024-11-18T20:50:28.404244Z",
     "iopub.status.idle": "2024-11-18T20:50:28.407792Z",
     "shell.execute_reply": "2024-11-18T20:50:28.407293Z"
    },
    "papermill": {
     "duration": 0.010713,
     "end_time": "2024-11-18T20:50:28.409379",
     "exception": false,
     "start_time": "2024-11-18T20:50:28.398666",
     "status": "completed"
    },
    "tags": []
   },
   "outputs": [
    {
     "name": "stdout",
     "output_type": "stream",
     "text": [
      "Running with lang1: tamil, lang2: telugu\n"
     ]
    }
   ],
   "source": [
    "print(f\"Running with lang1: {lang1}, lang2: {lang2}\")"
   ]
  },
  {
   "cell_type": "code",
   "execution_count": 4,
   "id": "b5c312a7",
   "metadata": {
    "execution": {
     "iopub.execute_input": "2024-11-18T20:50:28.421297Z",
     "iopub.status.busy": "2024-11-18T20:50:28.420662Z",
     "iopub.status.idle": "2024-11-18T20:50:32.122385Z",
     "shell.execute_reply": "2024-11-18T20:50:32.121649Z"
    },
    "papermill": {
     "duration": 3.709612,
     "end_time": "2024-11-18T20:50:32.124240",
     "exception": false,
     "start_time": "2024-11-18T20:50:28.414628",
     "status": "completed"
    },
    "tags": []
   },
   "outputs": [
    {
     "name": "stderr",
     "output_type": "stream",
     "text": [
      "2024-11-18 20:50:30.518628: E external/local_xla/xla/stream_executor/cuda/cuda_dnn.cc:9261] Unable to register cuDNN factory: Attempting to register factory for plugin cuDNN when one has already been registered\n",
      "2024-11-18 20:50:30.518657: E external/local_xla/xla/stream_executor/cuda/cuda_fft.cc:607] Unable to register cuFFT factory: Attempting to register factory for plugin cuFFT when one has already been registered\n",
      "2024-11-18 20:50:30.520005: E external/local_xla/xla/stream_executor/cuda/cuda_blas.cc:1515] Unable to register cuBLAS factory: Attempting to register factory for plugin cuBLAS when one has already been registered\n",
      "2024-11-18 20:50:30.526581: I tensorflow/core/platform/cpu_feature_guard.cc:182] This TensorFlow binary is optimized to use available CPU instructions in performance-critical operations.\n",
      "To enable the following instructions: AVX2 FMA, in other operations, rebuild TensorFlow with the appropriate compiler flags.\n"
     ]
    },
    {
     "name": "stderr",
     "output_type": "stream",
     "text": [
      "2024-11-18 20:50:31.292553: W tensorflow/compiler/tf2tensorrt/utils/py_utils.cc:38] TF-TRT Warning: Could not find TensorRT\n"
     ]
    }
   ],
   "source": [
    "import torch\n",
    "import torch.nn as nn\n",
    "import torch.optim as optim\n",
    "import torch.nn.functional as F\n",
    "from transformers import BertTokenizerFast, BertModel\n",
    "import pandas as pd\n",
    "from torch.utils.data import Dataset, DataLoader\n",
    "import numpy as np\n",
    "import string\n",
    "import json"
   ]
  },
  {
   "cell_type": "code",
   "execution_count": null,
   "id": "2a7c86ad",
   "metadata": {
    "execution": {
     "iopub.execute_input": "2024-11-18T20:50:32.136669Z",
     "iopub.status.busy": "2024-11-18T20:50:32.136331Z",
     "iopub.status.idle": "2024-11-18T20:50:32.164286Z",
     "shell.execute_reply": "2024-11-18T20:50:32.163730Z"
    },
    "papermill": {
     "duration": 0.035927,
     "end_time": "2024-11-18T20:50:32.165995",
     "exception": false,
     "start_time": "2024-11-18T20:50:32.130068",
     "status": "completed"
    },
    "tags": []
   },
   "outputs": [],
   "source": [
    "# Load train data from json (L1)\n",
    "with open(f\"/home/ashu/Desktop/sem7/llm/CSE664-LLM-Project/Cross-Attention-Embedding-Fusion/Dataset/{lang1}_train.json\") as f:\n",
    "    train_data_1 = json.load(f)\n",
    "\n",
    "# Load test data from json\n",
    "with open(f\"/home/ashu/Desktop/sem7/llm/CSE664-LLM-Project/Cross-Attention-Embedding-Fusion/Dataset/{lang1}_test.json\") as f:\n",
    "    test_data_1 = json.load(f)\n",
    "\n",
    "# Load train data from json (L2)\n",
    "with open(f\"/home/ashu/Desktop/sem7/llm/CSE664-LLM-Project/Cross-Attention-Embedding-Fusion/Dataset/{lang2}_train.json\") as f:\n",
    "    train_data_2 = json.load(f)\n",
    "\n",
    "# Load test data from json\n",
    "with open(f\"/home/ashu/Desktop/sem7/llm/CSE664-LLM-Project/Cross-Attention-Embedding-Fusion/Dataset/{lang2}_test.json\") as f:\n",
    "    test_data_2 = json.load(f)\n"
   ]
  },
  {
   "cell_type": "code",
   "execution_count": 6,
   "id": "96d1cbc4",
   "metadata": {
    "execution": {
     "iopub.execute_input": "2024-11-18T20:50:32.177537Z",
     "iopub.status.busy": "2024-11-18T20:50:32.177407Z",
     "iopub.status.idle": "2024-11-18T20:50:32.180545Z",
     "shell.execute_reply": "2024-11-18T20:50:32.180016Z"
    },
    "papermill": {
     "duration": 0.010897,
     "end_time": "2024-11-18T20:50:32.182226",
     "exception": false,
     "start_time": "2024-11-18T20:50:32.171329",
     "status": "completed"
    },
    "tags": []
   },
   "outputs": [
    {
     "name": "stdout",
     "output_type": "stream",
     "text": [
      "Running with lang1: tamil, lang2: telugu\n"
     ]
    }
   ],
   "source": [
    "print(f\"Running with lang1: {lang1}, lang2: {lang2}\")"
   ]
  },
  {
   "cell_type": "code",
   "execution_count": 7,
   "id": "587517b1",
   "metadata": {
    "execution": {
     "iopub.execute_input": "2024-11-18T20:50:32.194185Z",
     "iopub.status.busy": "2024-11-18T20:50:32.194066Z",
     "iopub.status.idle": "2024-11-18T20:50:32.196569Z",
     "shell.execute_reply": "2024-11-18T20:50:32.196106Z"
    },
    "papermill": {
     "duration": 0.01044,
     "end_time": "2024-11-18T20:50:32.198165",
     "exception": false,
     "start_time": "2024-11-18T20:50:32.187725",
     "status": "completed"
    },
    "tags": []
   },
   "outputs": [],
   "source": [
    "# Merge the two datasets\n",
    "train_data = train_data_1 + train_data_2\n",
    "test_data = test_data_1 + test_data_2"
   ]
  },
  {
   "cell_type": "code",
   "execution_count": 8,
   "id": "c18751e7",
   "metadata": {
    "execution": {
     "iopub.execute_input": "2024-11-18T20:50:32.210086Z",
     "iopub.status.busy": "2024-11-18T20:50:32.209966Z",
     "iopub.status.idle": "2024-11-18T20:50:33.086607Z",
     "shell.execute_reply": "2024-11-18T20:50:33.086119Z"
    },
    "papermill": {
     "duration": 0.884756,
     "end_time": "2024-11-18T20:50:33.088618",
     "exception": false,
     "start_time": "2024-11-18T20:50:32.203862",
     "status": "completed"
    },
    "tags": []
   },
   "outputs": [],
   "source": [
    "from transformers import AutoTokenizer, AutoModel\n",
    "\n",
    "# Load tokeniser\n",
    "tokenizer = BertTokenizerFast.from_pretrained('bert-base-multilingual-cased')"
   ]
  },
  {
   "cell_type": "code",
   "execution_count": 9,
   "id": "6b879d2d",
   "metadata": {
    "execution": {
     "iopub.execute_input": "2024-11-18T20:50:33.101252Z",
     "iopub.status.busy": "2024-11-18T20:50:33.101119Z",
     "iopub.status.idle": "2024-11-18T20:50:33.105806Z",
     "shell.execute_reply": "2024-11-18T20:50:33.105499Z"
    },
    "papermill": {
     "duration": 0.012742,
     "end_time": "2024-11-18T20:50:33.107355",
     "exception": false,
     "start_time": "2024-11-18T20:50:33.094613",
     "status": "completed"
    },
    "tags": []
   },
   "outputs": [],
   "source": [
    "class NER_Dataset(Dataset):\n",
    "    def __init__(self, data, tokenizer, max_len=128):\n",
    "        self.data = data  # List of sentences and labels\n",
    "        self.tokenizer = tokenizer  # mBERT tokenizer\n",
    "        self.max_len = max_len\n",
    "\n",
    "    def __len__(self):\n",
    "        return len(self.data)\n",
    "\n",
    "    def __getitem__(self, idx):\n",
    "        text = self.data[idx][\"tokens\"]\n",
    "        word_labels = self.data[idx][\"ner_tags\"]\n",
    "\n",
    "        # Tokenize the text and align the labels\n",
    "        encoding = self.tokenizer(text,\n",
    "                                  is_split_into_words=True,\n",
    "                                  return_offsets_mapping=True,\n",
    "                                  padding='max_length',\n",
    "                                  truncation=True,\n",
    "                                  max_length=self.max_len)\n",
    "\n",
    "        labels = [self.align_labels(encoding['offset_mapping'], word_labels)]\n",
    "\n",
    "        # Remove the offset mapping to prevent issues during model training\n",
    "        del encoding['offset_mapping']\n",
    "\n",
    "        item = {key: torch.tensor(val) for key, val in encoding.items()}\n",
    "        item['labels'] = torch.tensor(labels[0], dtype=torch.long)\n",
    "\n",
    "        return item\n",
    "    \n",
    "    # Create a function to align labels\n",
    "    def align_labels(self, offset_mapping, labels):\n",
    "        aligned_labels = []\n",
    "        current_label_index = 0\n",
    "\n",
    "        for offset in offset_mapping:\n",
    "            # If the offset mapping is (0, 0), it's a special token ([CLS], [SEP], [PAD])\n",
    "            if offset == (0, 0):\n",
    "                aligned_labels.append(-100)  # -100 is used to ignore these tokens in the loss computation\n",
    "            else:\n",
    "                # Check if the token is the start of a new word\n",
    "                if offset[0] == 0:\n",
    "                    aligned_labels.append(labels[current_label_index])\n",
    "                    current_label_index += 1\n",
    "                else:\n",
    "                    # If the token is not the first subtoken, you can decide how to label it. \n",
    "                    # For simplicity, let's use the same label as the first subtoken\n",
    "                    aligned_labels.append(labels[current_label_index - 1])\n",
    "\n",
    "        return aligned_labels"
   ]
  },
  {
   "cell_type": "code",
   "execution_count": 10,
   "id": "267fb7ee",
   "metadata": {
    "execution": {
     "iopub.execute_input": "2024-11-18T20:50:33.119470Z",
     "iopub.status.busy": "2024-11-18T20:50:33.119357Z",
     "iopub.status.idle": "2024-11-18T20:50:33.121877Z",
     "shell.execute_reply": "2024-11-18T20:50:33.121569Z"
    },
    "papermill": {
     "duration": 0.010459,
     "end_time": "2024-11-18T20:50:33.123560",
     "exception": false,
     "start_time": "2024-11-18T20:50:33.113101",
     "status": "completed"
    },
    "tags": []
   },
   "outputs": [],
   "source": [
    "# Create train dataset and test dataset\n",
    "train_dataset = NER_Dataset(train_data, tokenizer)\n",
    "test_dataset = NER_Dataset(test_data, tokenizer)\n",
    "\n",
    "# Create train dataloader and test dataloader\n",
    "train_dataloader = DataLoader(train_dataset, batch_size=32, shuffle=True)\n",
    "test_dataloader = DataLoader(test_dataset, batch_size=32, shuffle=False)"
   ]
  },
  {
   "cell_type": "code",
   "execution_count": 11,
   "id": "4bf9a14b",
   "metadata": {
    "execution": {
     "iopub.execute_input": "2024-11-18T20:50:33.136060Z",
     "iopub.status.busy": "2024-11-18T20:50:33.135924Z",
     "iopub.status.idle": "2024-11-18T20:50:33.205937Z",
     "shell.execute_reply": "2024-11-18T20:50:33.205640Z"
    },
    "papermill": {
     "duration": 0.078732,
     "end_time": "2024-11-18T20:50:33.208186",
     "exception": false,
     "start_time": "2024-11-18T20:50:33.129454",
     "status": "completed"
    },
    "tags": []
   },
   "outputs": [
    {
     "data": {
      "text/plain": [
       "'cuda'"
      ]
     },
     "execution_count": 11,
     "metadata": {},
     "output_type": "execute_result"
    }
   ],
   "source": [
    "DEVICE = 'cuda' if torch.cuda.is_available() else 'cpu'\n",
    "DEVICE"
   ]
  },
  {
   "cell_type": "code",
   "execution_count": 12,
   "id": "30f2d756",
   "metadata": {
    "execution": {
     "iopub.execute_input": "2024-11-18T20:50:33.221490Z",
     "iopub.status.busy": "2024-11-18T20:50:33.221034Z",
     "iopub.status.idle": "2024-11-18T20:50:33.224982Z",
     "shell.execute_reply": "2024-11-18T20:50:33.224681Z"
    },
    "papermill": {
     "duration": 0.012525,
     "end_time": "2024-11-18T20:50:33.226688",
     "exception": false,
     "start_time": "2024-11-18T20:50:33.214163",
     "status": "completed"
    },
    "tags": []
   },
   "outputs": [],
   "source": [
    "import torch\n",
    "import torch.nn as nn\n",
    "\n",
    "class CrossAttentionFusion(nn.Module):\n",
    "    def __init__(self, hidden_dim, num_heads):\n",
    "        super(CrossAttentionFusion, self).__init__()\n",
    "        self.cross_attention = nn.MultiheadAttention(embed_dim=hidden_dim, num_heads=num_heads)\n",
    "        self.layer_norm = nn.LayerNorm(hidden_dim)\n",
    "\n",
    "    def forward(self, embeddings_mbert, embeddings_indicbert):\n",
    "        \"\"\"\n",
    "        Fuse embeddings from mBERT and Indic-BERT using cross-attention.\n",
    "\n",
    "        Args:\n",
    "            embeddings_mbert (torch.Tensor): Embeddings from mBERT of shape [batch_size, seq_len_m, hidden_dim].\n",
    "            embeddings_indicbert (torch.Tensor): Embeddings from Indic-BERT of shape [batch_size, seq_len_i, hidden_dim].\n",
    "\n",
    "        Returns:\n",
    "            torch.Tensor: Fused embeddings of shape [batch_size, seq_len_m, hidden_dim].\n",
    "        \"\"\"\n",
    "        embeddings_mbert = embeddings_mbert.to(DEVICE)\n",
    "        embeddings_indicbert = embeddings_indicbert.to(DEVICE)\n",
    "        \n",
    "        # Transpose to shape [seq_len, batch_size, hidden_dim] for nn.MultiheadAttention\n",
    "        embeddings_mbert = embeddings_mbert.transpose(0, 1)\n",
    "        embeddings_indicbert = embeddings_indicbert.transpose(0, 1)\n",
    "\n",
    "        # Cross-attention: Indic BERT queries attend to m-BERT keys and values\n",
    "        attn_output, _ = self.cross_attention(\n",
    "            query=embeddings_indicbert,       # Queries from Indic-BERT\n",
    "            key=embeddings_mbert,     # Keys from m-BERT\n",
    "            value=embeddings_mbert    # Values from m-BERT\n",
    "        )\n",
    "\n",
    "        attn_output.to(DEVICE)\n",
    "\n",
    "        # Residual connection and layer normalization\n",
    "        output = self.layer_norm(attn_output + embeddings_mbert)\n",
    "\n",
    "        # Transpose back to [batch_size, seq_len_m, hidden_dim]\n",
    "        output = output.transpose(0, 1)\n",
    "\n",
    "        return output"
   ]
  },
  {
   "cell_type": "code",
   "execution_count": 13,
   "id": "a045857a",
   "metadata": {
    "execution": {
     "iopub.execute_input": "2024-11-18T20:50:33.239818Z",
     "iopub.status.busy": "2024-11-18T20:50:33.239234Z",
     "iopub.status.idle": "2024-11-18T20:50:33.242484Z",
     "shell.execute_reply": "2024-11-18T20:50:33.241861Z"
    },
    "papermill": {
     "duration": 0.011579,
     "end_time": "2024-11-18T20:50:33.244136",
     "exception": false,
     "start_time": "2024-11-18T20:50:33.232557",
     "status": "completed"
    },
    "tags": []
   },
   "outputs": [],
   "source": [
    "hidden_dim = 768\n",
    "num_heads = 4"
   ]
  },
  {
   "cell_type": "code",
   "execution_count": 14,
   "id": "3214b9a6",
   "metadata": {
    "execution": {
     "iopub.execute_input": "2024-11-18T20:50:33.257650Z",
     "iopub.status.busy": "2024-11-18T20:50:33.257129Z",
     "iopub.status.idle": "2024-11-18T20:50:35.634462Z",
     "shell.execute_reply": "2024-11-18T20:50:35.634100Z"
    },
    "papermill": {
     "duration": 2.385917,
     "end_time": "2024-11-18T20:50:35.636141",
     "exception": false,
     "start_time": "2024-11-18T20:50:33.250224",
     "status": "completed"
    },
    "tags": []
   },
   "outputs": [
    {
     "data": {
      "text/plain": [
       "MBERT_NER(\n",
       "  (bert): BertModel(\n",
       "    (embeddings): BertEmbeddings(\n",
       "      (word_embeddings): Embedding(119547, 768, padding_idx=0)\n",
       "      (position_embeddings): Embedding(512, 768)\n",
       "      (token_type_embeddings): Embedding(2, 768)\n",
       "      (LayerNorm): LayerNorm((768,), eps=1e-12, elementwise_affine=True)\n",
       "      (dropout): Dropout(p=0.1, inplace=False)\n",
       "    )\n",
       "    (encoder): BertEncoder(\n",
       "      (layer): ModuleList(\n",
       "        (0-11): 12 x BertLayer(\n",
       "          (attention): BertAttention(\n",
       "            (self): BertSdpaSelfAttention(\n",
       "              (query): Linear(in_features=768, out_features=768, bias=True)\n",
       "              (key): Linear(in_features=768, out_features=768, bias=True)\n",
       "              (value): Linear(in_features=768, out_features=768, bias=True)\n",
       "              (dropout): Dropout(p=0.1, inplace=False)\n",
       "            )\n",
       "            (output): BertSelfOutput(\n",
       "              (dense): Linear(in_features=768, out_features=768, bias=True)\n",
       "              (LayerNorm): LayerNorm((768,), eps=1e-12, elementwise_affine=True)\n",
       "              (dropout): Dropout(p=0.1, inplace=False)\n",
       "            )\n",
       "          )\n",
       "          (intermediate): BertIntermediate(\n",
       "            (dense): Linear(in_features=768, out_features=3072, bias=True)\n",
       "            (intermediate_act_fn): GELUActivation()\n",
       "          )\n",
       "          (output): BertOutput(\n",
       "            (dense): Linear(in_features=3072, out_features=768, bias=True)\n",
       "            (LayerNorm): LayerNorm((768,), eps=1e-12, elementwise_affine=True)\n",
       "            (dropout): Dropout(p=0.1, inplace=False)\n",
       "          )\n",
       "        )\n",
       "      )\n",
       "    )\n",
       "    (pooler): BertPooler(\n",
       "      (dense): Linear(in_features=768, out_features=768, bias=True)\n",
       "      (activation): Tanh()\n",
       "    )\n",
       "  )\n",
       "  (indic_bert): AlbertModel(\n",
       "    (embeddings): AlbertEmbeddings(\n",
       "      (word_embeddings): Embedding(200000, 128, padding_idx=0)\n",
       "      (position_embeddings): Embedding(512, 128)\n",
       "      (token_type_embeddings): Embedding(2, 128)\n",
       "      (LayerNorm): LayerNorm((128,), eps=1e-12, elementwise_affine=True)\n",
       "      (dropout): Dropout(p=0, inplace=False)\n",
       "    )\n",
       "    (encoder): AlbertTransformer(\n",
       "      (embedding_hidden_mapping_in): Linear(in_features=128, out_features=768, bias=True)\n",
       "      (albert_layer_groups): ModuleList(\n",
       "        (0): AlbertLayerGroup(\n",
       "          (albert_layers): ModuleList(\n",
       "            (0): AlbertLayer(\n",
       "              (full_layer_layer_norm): LayerNorm((768,), eps=1e-12, elementwise_affine=True)\n",
       "              (attention): AlbertSdpaAttention(\n",
       "                (query): Linear(in_features=768, out_features=768, bias=True)\n",
       "                (key): Linear(in_features=768, out_features=768, bias=True)\n",
       "                (value): Linear(in_features=768, out_features=768, bias=True)\n",
       "                (attention_dropout): Dropout(p=0, inplace=False)\n",
       "                (output_dropout): Dropout(p=0, inplace=False)\n",
       "                (dense): Linear(in_features=768, out_features=768, bias=True)\n",
       "                (LayerNorm): LayerNorm((768,), eps=1e-12, elementwise_affine=True)\n",
       "              )\n",
       "              (ffn): Linear(in_features=768, out_features=3072, bias=True)\n",
       "              (ffn_output): Linear(in_features=3072, out_features=768, bias=True)\n",
       "              (activation): GELUActivation()\n",
       "              (dropout): Dropout(p=0, inplace=False)\n",
       "            )\n",
       "          )\n",
       "        )\n",
       "      )\n",
       "    )\n",
       "    (pooler): Linear(in_features=768, out_features=768, bias=True)\n",
       "    (pooler_activation): Tanh()\n",
       "  )\n",
       "  (attention): CrossAttentionFusion(\n",
       "    (cross_attention): MultiheadAttention(\n",
       "      (out_proj): NonDynamicallyQuantizableLinear(in_features=768, out_features=768, bias=True)\n",
       "    )\n",
       "    (layer_norm): LayerNorm((768,), eps=1e-05, elementwise_affine=True)\n",
       "  )\n",
       "  (gru): GRU(2304, 128, batch_first=True)\n",
       "  (classifier): Linear(in_features=128, out_features=7, bias=True)\n",
       "  (dropout): Dropout(p=0.1, inplace=False)\n",
       "  (batch_norm): BatchNorm1d(128, eps=1e-05, momentum=0.1, affine=True, track_running_stats=True)\n",
       ")"
      ]
     },
     "execution_count": 14,
     "metadata": {},
     "output_type": "execute_result"
    }
   ],
   "source": [
    "# Model for NER\n",
    "\n",
    "class MBERT_NER(nn.Module):\n",
    "    def __init__(self, num_labels, gru_hidden_size, num_gru_layers, freeze_bert=False):\n",
    "        super(MBERT_NER, self).__init__()\n",
    "\n",
    "        self.bert = BertModel.from_pretrained(\"bert-base-multilingual-cased\")\n",
    "        self.indic_bert = AutoModel.from_pretrained(\"ai4bharat/indic-bert\")\n",
    "        \n",
    "        # Initialize the Fusion Attention\n",
    "        self.attention = CrossAttentionFusion(hidden_dim=hidden_dim, num_heads=num_heads).to(DEVICE)\n",
    "        \n",
    "        self.gru = nn.GRU(input_size=self.bert.config.hidden_size * 3,\n",
    "                          hidden_size=gru_hidden_size,\n",
    "                          num_layers=num_gru_layers,\n",
    "                          batch_first=True)\n",
    "        self.classifier = nn.Linear(gru_hidden_size, num_labels)\n",
    "        self.dropout = nn.Dropout(0.1)\n",
    "        self.batch_norm = nn.BatchNorm1d(gru_hidden_size)\n",
    "\n",
    "        if freeze_bert:\n",
    "            for param in self.bert.parameters():\n",
    "                param.requires_grad = False\n",
    "            for param in self.indic_bert.parameters():\n",
    "                param.requires_grad = False\n",
    "\n",
    "    def forward(self, input_ids, attention_mask):\n",
    "        \n",
    "        input_ids = input_ids.to(DEVICE)\n",
    "        attention_mask = attention_mask.to(DEVICE)\n",
    "        \n",
    "        # Embeddings\n",
    "        outputs1 = self.bert(input_ids=input_ids, attention_mask=attention_mask)\n",
    "        outputs2 = self.indic_bert(input_ids = input_ids, attention_mask = attention_mask)        \n",
    "        \n",
    "        embeddings_mbert = outputs1.last_hidden_state.to(DEVICE)\n",
    "        embeddings_indicbert = outputs2.last_hidden_state.to(DEVICE)\n",
    "        \n",
    "        # Fused embeddings\n",
    "        embeddings = self.attention(embeddings_mbert, embeddings_indicbert).to(DEVICE)\n",
    "        \n",
    "        sequence_output = torch.cat((embeddings_mbert, embeddings_indicbert, embeddings), dim=-1)\n",
    "        \n",
    "        gru_output, _ = self.gru(sequence_output)\n",
    "        gru_output = self.batch_norm(gru_output)\n",
    "        gru_output = self.dropout(gru_output)\n",
    "        \n",
    "        logits = self.classifier(gru_output)\n",
    "        return logits\n",
    "\n",
    "# Create the NER model\n",
    "NUM_LABELS = 7 # Number of NER tags\n",
    "GRU_HIDDEN_SIZE = 128 # Hidden size of the GRU\n",
    "NUM_GRU_LAYERS = 1 # Number of layers in the GRU\n",
    "FREEZE_BERT = False # Whether to freeze the BERT model\n",
    "DEVICE = 'cuda' if torch.cuda.is_available() else 'cpu'\n",
    "\n",
    "model = MBERT_NER(num_labels=NUM_LABELS,\n",
    "                    gru_hidden_size=GRU_HIDDEN_SIZE,\n",
    "                    num_gru_layers=NUM_GRU_LAYERS,\n",
    "                    freeze_bert=FREEZE_BERT)\n",
    "\n",
    "model.to(DEVICE)"
   ]
  },
  {
   "cell_type": "code",
   "execution_count": 15,
   "id": "15ea449b",
   "metadata": {
    "execution": {
     "iopub.execute_input": "2024-11-18T20:50:35.770965Z",
     "iopub.status.busy": "2024-11-18T20:50:35.770421Z",
     "iopub.status.idle": "2024-11-18T20:50:35.773720Z",
     "shell.execute_reply": "2024-11-18T20:50:35.773419Z"
    },
    "papermill": {
     "duration": 0.104976,
     "end_time": "2024-11-18T20:50:35.775318",
     "exception": false,
     "start_time": "2024-11-18T20:50:35.670342",
     "status": "completed"
    },
    "tags": []
   },
   "outputs": [],
   "source": [
    "torch.cuda.empty_cache()"
   ]
  },
  {
   "cell_type": "code",
   "execution_count": 16,
   "id": "3f871313",
   "metadata": {
    "execution": {
     "iopub.execute_input": "2024-11-18T20:50:35.878100Z",
     "iopub.status.busy": "2024-11-18T20:50:35.877877Z",
     "iopub.status.idle": "2024-11-18T20:56:11.142468Z",
     "shell.execute_reply": "2024-11-18T20:56:11.141822Z"
    },
    "papermill": {
     "duration": 335.320491,
     "end_time": "2024-11-18T20:56:11.150819",
     "exception": false,
     "start_time": "2024-11-18T20:50:35.830328",
     "status": "completed"
    },
    "tags": []
   },
   "outputs": [
    {
     "name": "stdout",
     "output_type": "stream",
     "text": [
      "Epoch 1/6, Train Loss: 0.6011, Train F1: 0.6595, Train Acc: 0.8092, Val Loss: 0.3415, Val F1: 0.8137, Val Acc: 0.8997\n"
     ]
    },
    {
     "name": "stdout",
     "output_type": "stream",
     "text": [
      "Epoch 2/6, Train Loss: 0.3047, Train F1: 0.8345, Train Acc: 0.9093, Val Loss: 0.2878, Val F1: 0.8379, Val Acc: 0.9122\n"
     ]
    },
    {
     "name": "stdout",
     "output_type": "stream",
     "text": [
      "Epoch 3/6, Train Loss: 0.2244, Train F1: 0.8835, Train Acc: 0.9352, Val Loss: 0.2950, Val F1: 0.8504, Val Acc: 0.9110\n"
     ]
    },
    {
     "name": "stdout",
     "output_type": "stream",
     "text": [
      "Epoch 4/6, Train Loss: 0.1672, Train F1: 0.9138, Train Acc: 0.9531, Val Loss: 0.2949, Val F1: 0.8540, Val Acc: 0.9158\n"
     ]
    },
    {
     "name": "stdout",
     "output_type": "stream",
     "text": [
      "Epoch 5/6, Train Loss: 0.1286, Train F1: 0.9339, Train Acc: 0.9639, Val Loss: 0.2776, Val F1: 0.8623, Val Acc: 0.9242\n"
     ]
    },
    {
     "name": "stdout",
     "output_type": "stream",
     "text": [
      "Epoch 6/6, Train Loss: 0.1000, Train F1: 0.9481, Train Acc: 0.9726, Val Loss: 0.2923, Val F1: 0.8673, Val Acc: 0.9259\n"
     ]
    }
   ],
   "source": [
    "from sklearn.metrics import f1_score, accuracy_score\n",
    "\n",
    "# Optimizer and loss function\n",
    "optimizer = optim.AdamW(model.parameters(), lr=2e-5)\n",
    "criterion = nn.CrossEntropyLoss(ignore_index=-100)\n",
    "\n",
    "# Training loop\n",
    "EPOCHS = 6\n",
    "\n",
    "train_losses = []\n",
    "train_f1_scores = []\n",
    "train_acc_scores = []\n",
    "val_losses = []\n",
    "val_f1_scores = []\n",
    "val_acc_scores = []\n",
    "\n",
    "\n",
    "for epoch in range(EPOCHS):\n",
    "    model.train()\n",
    "    train_loss = 0\n",
    "    train_predictions, train_labels = [], []\n",
    "\n",
    "    for batch in train_dataloader:\n",
    "        input_ids = batch['input_ids'].to(DEVICE)\n",
    "        attention_mask = batch['attention_mask'].to(DEVICE)\n",
    "        labels = batch['labels'].to(DEVICE)\n",
    "\n",
    "        optimizer.zero_grad()\n",
    "        logits = model(input_ids, attention_mask)\n",
    "        logits = logits.view(-1, NUM_LABELS)\n",
    "        labels = labels.view(-1)\n",
    "\n",
    "        loss = criterion(logits, labels)\n",
    "        loss.backward()\n",
    "        optimizer.step()\n",
    "\n",
    "        train_loss += loss.item()\n",
    "\n",
    "        # Get predictions and filter out ignored indices for metric calculations\n",
    "        predictions = torch.argmax(logits, dim=-1)\n",
    "        active_indices = labels != -100\n",
    "        train_predictions.extend(predictions[active_indices].cpu().numpy())\n",
    "        train_labels.extend(labels[active_indices].cpu().numpy())\n",
    "\n",
    "    train_loss /= len(train_dataloader)\n",
    "    train_losses.append(train_loss)\n",
    "\n",
    "    train_f1 = f1_score(train_labels, train_predictions, average='macro')\n",
    "    train_f1_scores.append(train_f1)\n",
    "\n",
    "    train_acc = accuracy_score(train_labels, train_predictions)\n",
    "    train_acc_scores.append(train_acc)\n",
    "\n",
    "    # Validation loop\n",
    "    model.eval()\n",
    "    val_loss = 0\n",
    "    val_predictions, val_labels = [], []\n",
    "\n",
    "    with torch.no_grad():\n",
    "        for batch in test_dataloader:\n",
    "            input_ids = batch['input_ids'].to(DEVICE)\n",
    "            attention_mask = batch['attention_mask'].to(DEVICE)\n",
    "            labels = batch['labels'].to(DEVICE)\n",
    "\n",
    "            logits = model(input_ids, attention_mask)\n",
    "            logits = logits.view(-1, NUM_LABELS)\n",
    "            labels = labels.view(-1)\n",
    "\n",
    "            loss = criterion(logits, labels)\n",
    "            val_loss += loss.item()\n",
    "\n",
    "            # Filter predictions and labels\n",
    "            predictions = torch.argmax(logits, dim=-1)\n",
    "            active_indices = labels != -100\n",
    "            val_predictions.extend(predictions[active_indices].cpu().numpy())\n",
    "            val_labels.extend(labels[active_indices].cpu().numpy())\n",
    "\n",
    "    val_loss /= len(test_dataloader)\n",
    "    val_losses.append(val_loss)\n",
    "\n",
    "    val_f1 = f1_score(val_labels, val_predictions, average='macro')\n",
    "    val_f1_scores.append(val_f1)\n",
    "\n",
    "    val_acc = accuracy_score(val_labels, val_predictions)\n",
    "    val_acc_scores.append(val_acc)\n",
    "                                                \n",
    "    print(f\"Epoch {epoch + 1}/{EPOCHS}, Train Loss: {train_loss:.4f}, Train F1: {train_f1:.4f}, Train Acc: {train_acc:.4f}, Val Loss: {val_loss:.4f}, Val F1: {val_f1:.4f}, Val Acc: {val_acc:.4f}\")"
   ]
  },
  {
   "cell_type": "code",
   "execution_count": 17,
   "id": "d4c6f51c",
   "metadata": {
    "execution": {
     "iopub.execute_input": "2024-11-18T20:56:11.165759Z",
     "iopub.status.busy": "2024-11-18T20:56:11.165353Z",
     "iopub.status.idle": "2024-11-18T20:56:25.658218Z",
     "shell.execute_reply": "2024-11-18T20:56:25.657561Z"
    },
    "papermill": {
     "duration": 14.502247,
     "end_time": "2024-11-18T20:56:25.659982",
     "exception": false,
     "start_time": "2024-11-18T20:56:11.157735",
     "status": "completed"
    },
    "tags": []
   },
   "outputs": [
    {
     "name": "stdout",
     "output_type": "stream",
     "text": [
      "Language: Hindi\n",
      "\n",
      "Weighted F1: 0.8422\n",
      "Macro F1: 0.7949\n",
      "Accuracy: 0.8441\n",
      "\n",
      "CLASSIFICATION REPORT: \n",
      "              precision    recall  f1-score   support\n",
      "\n",
      "           0       0.91      0.90      0.91      5277\n",
      "           1       0.83      0.91      0.87      1481\n",
      "           2       0.84      0.93      0.88      1874\n",
      "           3       0.67      0.70      0.68       986\n",
      "           4       0.82      0.84      0.83      2602\n",
      "           5       0.81      0.71      0.75      1195\n",
      "           6       0.73      0.56      0.64       867\n",
      "\n",
      "    accuracy                           0.84     14282\n",
      "   macro avg       0.80      0.79      0.79     14282\n",
      "weighted avg       0.84      0.84      0.84     14282\n",
      "\n",
      "\n",
      "CONFUSION MATRIX: \n",
      "[[4775  101   39  192   50   68   52]\n",
      " [  42 1345   56   12   10   16    0]\n",
      " [  38   42 1735    2   46    5    6]\n",
      " [  68   81    3  688   94   51    1]\n",
      " [ 188   10  142   29 2184   18   31]\n",
      " [  61   28    4  107   65  843   87]\n",
      " [  53    7   79    0  203   39  486]]\n",
      "--------------------------------------------------\n"
     ]
    },
    {
     "name": "stdout",
     "output_type": "stream",
     "text": [
      "Language: Bengali\n",
      "\n",
      "Weighted F1: 0.7685\n",
      "Macro F1: 0.7690\n",
      "Accuracy: 0.7777\n",
      "\n",
      "CLASSIFICATION REPORT: \n",
      "              precision    recall  f1-score   support\n",
      "\n",
      "           0       0.75      0.95      0.84      1835\n",
      "           1       0.77      0.89      0.83      1343\n",
      "           2       0.76      0.88      0.82      2490\n",
      "           3       0.77      0.82      0.79      1239\n",
      "           4       0.76      0.82      0.79      3068\n",
      "           5       0.87      0.60      0.71      1510\n",
      "           6       0.88      0.47      0.61      2080\n",
      "\n",
      "    accuracy                           0.78     13565\n",
      "   macro avg       0.79      0.78      0.77     13565\n",
      "weighted avg       0.79      0.78      0.77     13565\n",
      "\n",
      "\n",
      "CONFUSION MATRIX: \n",
      "[[1750   14    4   11   38    5   13]\n",
      " [  51 1189   28   45    3   27    0]\n",
      " [ 159    9 2189    0  119    0   14]\n",
      " [  28  109    5 1020   13   64    0]\n",
      " [ 147    6  289   30 2516    5   75]\n",
      " [ 117  197    0  227   32  903   34]\n",
      " [  89   12  364    0  599   34  982]]\n",
      "--------------------------------------------------\n"
     ]
    },
    {
     "name": "stdout",
     "output_type": "stream",
     "text": [
      "Language: Marathi\n",
      "\n",
      "Weighted F1: 0.8425\n",
      "Macro F1: 0.7482\n",
      "Accuracy: 0.8487\n",
      "\n",
      "CLASSIFICATION REPORT: \n",
      "              precision    recall  f1-score   support\n",
      "\n",
      "           0       0.91      0.96      0.93     10408\n",
      "           1       0.73      0.90      0.80      1342\n",
      "           2       0.79      0.89      0.83      1992\n",
      "           3       0.74      0.57      0.64      1172\n",
      "           4       0.82      0.70      0.75      2535\n",
      "           5       0.82      0.74      0.77      1829\n",
      "           6       0.66      0.40      0.50       820\n",
      "\n",
      "    accuracy                           0.85     20098\n",
      "   macro avg       0.78      0.73      0.75     20098\n",
      "weighted avg       0.84      0.85      0.84     20098\n",
      "\n",
      "\n",
      "CONFUSION MATRIX: \n",
      "[[9981   86   56   50   51   97   87]\n",
      " [  76 1206   21   22    0   17    0]\n",
      " [  65   61 1764    1   33   48   20]\n",
      " [ 107  240    8  671   31  115    0]\n",
      " [ 377    2  351   18 1767    1   19]\n",
      " [ 227   60    4  145   10 1345   38]\n",
      " [ 163    0   41    2  269   21  324]]\n",
      "--------------------------------------------------\n"
     ]
    },
    {
     "name": "stdout",
     "output_type": "stream",
     "text": [
      "Language: Tamil\n",
      "\n",
      "Weighted F1: 0.9156\n",
      "Macro F1: 0.8636\n",
      "Accuracy: 0.9159\n",
      "\n",
      "CLASSIFICATION REPORT: \n",
      "              precision    recall  f1-score   support\n",
      "\n",
      "           0       0.96      0.96      0.96     11461\n",
      "           1       0.83      0.89      0.86      1643\n",
      "           2       0.90      0.94      0.92      2295\n",
      "           3       0.87      0.76      0.81      1512\n",
      "           4       0.88      0.89      0.88      2532\n",
      "           5       0.85      0.85      0.85      1881\n",
      "           6       0.77      0.73      0.75       677\n",
      "\n",
      "    accuracy                           0.92     22001\n",
      "   macro avg       0.87      0.86      0.86     22001\n",
      "weighted avg       0.92      0.92      0.92     22001\n",
      "\n",
      "\n",
      "CONFUSION MATRIX: \n",
      "[[11011   107    80    36    97    90    40]\n",
      " [   71  1465    42    28     3    33     1]\n",
      " [   54    24  2168     2    33     0    14]\n",
      " [   70   113     3  1148    39   139     0]\n",
      " [   83    14    90    10  2263    12    60]\n",
      " [  101    44     1    92    13  1599    31]\n",
      " [   21     0    15     1   137     6   497]]\n",
      "--------------------------------------------------\n"
     ]
    },
    {
     "name": "stdout",
     "output_type": "stream",
     "text": [
      "Language: Telugu\n",
      "\n",
      "Weighted F1: 0.9342\n",
      "Macro F1: 0.8705\n",
      "Accuracy: 0.9342\n",
      "\n",
      "CLASSIFICATION REPORT: \n",
      "              precision    recall  f1-score   support\n",
      "\n",
      "           0       0.97      0.97      0.97     17291\n",
      "           1       0.83      0.89      0.86      1810\n",
      "           2       0.88      0.92      0.90      1353\n",
      "           3       0.84      0.75      0.79      1375\n",
      "           4       0.93      0.91      0.92      2269\n",
      "           5       0.86      0.89      0.87      2072\n",
      "           6       0.78      0.79      0.78       455\n",
      "\n",
      "    accuracy                           0.93     26625\n",
      "   macro avg       0.87      0.87      0.87     26625\n",
      "weighted avg       0.93      0.93      0.93     26625\n",
      "\n",
      "\n",
      "CONFUSION MATRIX: \n",
      "[[16715   165    43   101    88   136    43]\n",
      " [   91  1618    32    37     0    32     0]\n",
      " [   47    33  1245     2    11     7     8]\n",
      " [  114    99     4  1026    18   114     0]\n",
      " [   68     5    81     2  2071     6    36]\n",
      " [  124    39     0    51     5  1836    17]\n",
      " [   31     0    16     0    41     6   361]]\n",
      "--------------------------------------------------\n"
     ]
    }
   ],
   "source": [
    "from sklearn.metrics import f1_score\n",
    "from sklearn.metrics import accuracy_score\n",
    "from sklearn.metrics import classification_report\n",
    "from sklearn.metrics import confusion_matrix\n",
    "\n",
    "# Load the test data from json for all 5 languages\n",
    "languages = ['hindi', 'bengali', 'marathi', 'tamil', 'telugu']\n",
    "\n",
    "# Iterate over all languages and evaluate the model\n",
    "for lang in languages:\n",
    "    with open(f\"/home/vijay/slim_sense/SHARPax/Python_code/test/NER-Experiments/Dataset/{lang}_test.json\") as f:\n",
    "        test_data = json.load(f)\n",
    "\n",
    "    test_dataset = NER_Dataset(test_data, tokenizer)\n",
    "    test_dataloader = DataLoader(test_dataset, batch_size=32, shuffle=False)\n",
    "\n",
    "    model.eval()\n",
    "    test_predictions, test_labels = [], []\n",
    "\n",
    "    with torch.no_grad():\n",
    "        for batch in test_dataloader:\n",
    "            input_ids = batch['input_ids'].to(DEVICE)\n",
    "            attention_mask = batch['attention_mask'].to(DEVICE)\n",
    "            labels = batch['labels'].to(DEVICE)\n",
    "\n",
    "            logits = model(input_ids, attention_mask)\n",
    "            logits = logits.view(-1, NUM_LABELS)\n",
    "            labels = labels.view(-1)\n",
    "\n",
    "            # Filter predictions and labels\n",
    "            predictions = torch.argmax(logits, dim=-1)\n",
    "            active_indices = labels != -100\n",
    "            test_predictions.extend(predictions[active_indices].cpu().numpy())\n",
    "            test_labels.extend(labels[active_indices].cpu().numpy())\n",
    "\n",
    "    weighted_f1 = f1_score(test_labels, test_predictions, average='weighted')\n",
    "    macro_f1 = f1_score(test_labels, test_predictions, average='macro')\n",
    "    accuracy = accuracy_score(test_labels, test_predictions)\n",
    "\n",
    "    if lang == 'hindi':\n",
    "        LANG = \"Hindi\"\n",
    "    elif lang == 'bengali':\n",
    "        LANG = \"Bengali\"\n",
    "    elif lang == 'marathi':\n",
    "        LANG = \"Marathi\"\n",
    "    elif lang == 'tamil':\n",
    "        LANG = \"Tamil\"\n",
    "    elif lang == 'telugu':\n",
    "        LANG = \"Telugu\"\n",
    "\n",
    "    print(f\"Language: {LANG}\")\n",
    "    print()\n",
    "    print(f\"Weighted F1: {weighted_f1:.4f}\")\n",
    "    print(f\"Macro F1: {macro_f1:.4f}\")\n",
    "    print(f\"Accuracy: {accuracy:.4f}\")\n",
    "    print()\n",
    "    print(\"CLASSIFICATION REPORT: \")\n",
    "    print(classification_report(test_labels, test_predictions))\n",
    "    print()\n",
    "    print(\"CONFUSION MATRIX: \")\n",
    "    print(confusion_matrix(test_labels, test_predictions))\n",
    "    print(\"--------------------------------------------------\")"
   ]
  },
  {
   "cell_type": "code",
   "execution_count": 18,
   "id": "20f078c0",
   "metadata": {
    "execution": {
     "iopub.execute_input": "2024-11-18T20:56:25.677557Z",
     "iopub.status.busy": "2024-11-18T20:56:25.676858Z",
     "iopub.status.idle": "2024-11-18T20:56:26.963029Z",
     "shell.execute_reply": "2024-11-18T20:56:26.962429Z"
    },
    "papermill": {
     "duration": 1.296687,
     "end_time": "2024-11-18T20:56:26.965240",
     "exception": false,
     "start_time": "2024-11-18T20:56:25.668553",
     "status": "completed"
    },
    "tags": []
   },
   "outputs": [],
   "source": [
    "# Save the model\n",
    "torch.save(model.state_dict(), f'NER_FineTune_{lang1[:2]}_{lang2[:2]}_cross_attn.pth')"
   ]
  },
  {
   "cell_type": "markdown",
   "id": "09132b0d",
   "metadata": {
    "papermill": {
     "duration": 0.007352,
     "end_time": "2024-11-18T20:56:26.980225",
     "exception": false,
     "start_time": "2024-11-18T20:56:26.972873",
     "status": "completed"
    },
    "tags": []
   },
   "source": [
    "-------------------------------------------------------------------------------------------------------------------------"
   ]
  },
  {
   "cell_type": "markdown",
   "id": "a152eab1",
   "metadata": {
    "papermill": {
     "duration": 0.007328,
     "end_time": "2024-11-18T20:56:26.995124",
     "exception": false,
     "start_time": "2024-11-18T20:56:26.987796",
     "status": "completed"
    },
    "tags": []
   },
   "source": [
    "# DUMP"
   ]
  },
  {
   "cell_type": "markdown",
   "id": "ae9e99e8",
   "metadata": {
    "papermill": {
     "duration": 0.006265,
     "end_time": "2024-11-18T20:56:27.008851",
     "exception": false,
     "start_time": "2024-11-18T20:56:27.002586",
     "status": "completed"
    },
    "tags": []
   },
   "source": [
    "--------------------------------------------------------------------------------------------------------------"
   ]
  },
  {
   "cell_type": "code",
   "execution_count": 19,
   "id": "d98f6679",
   "metadata": {
    "execution": {
     "iopub.execute_input": "2024-11-18T20:56:27.020730Z",
     "iopub.status.busy": "2024-11-18T20:56:27.020490Z",
     "iopub.status.idle": "2024-11-18T20:56:27.023709Z",
     "shell.execute_reply": "2024-11-18T20:56:27.023266Z"
    },
    "papermill": {
     "duration": 0.010737,
     "end_time": "2024-11-18T20:56:27.024956",
     "exception": false,
     "start_time": "2024-11-18T20:56:27.014219",
     "status": "completed"
    },
    "tags": []
   },
   "outputs": [],
   "source": [
    "# import torch\n",
    "# import torch.nn as nn\n",
    "\n",
    "# class FusionModule(nn.Module):\n",
    "#     def __init__(self, hidden_size):\n",
    "#         super(FusionModule, self).__init__()\n",
    "#         # Linear layer to compute attention scores\n",
    "#         self.attention_layer = nn.Linear(hidden_size * 2, 2)\n",
    "\n",
    "#     def forward(self, embeddings_mbert, embeddings_indicbert):\n",
    "#         \"\"\"\n",
    "#         Args:\n",
    "#             embeddings_mbert (torch.Tensor): [batch_size, seq_len, hidden_size]\n",
    "#             embeddings_indicbert (torch.Tensor): [batch_size, seq_len, hidden_size]\n",
    "#         Returns:\n",
    "#             torch.Tensor: Fused embeddings [batch_size, seq_len, hidden_size]\n",
    "#         \"\"\"\n",
    "#         # Concatenate embeddings along the last dimension\n",
    "#         concat_embeddings = torch.cat((embeddings_mbert, embeddings_indicbert), dim=-1)  # [batch_size, seq_len, hidden_size * 2]\n",
    "\n",
    "#         # Compute attention scores\n",
    "#         attn_scores = self.attention_layer(concat_embeddings)  # [batch_size, seq_len, 2]\n",
    "\n",
    "#         # Apply softmax to get attention weights\n",
    "#         attn_weights = torch.softmax(attn_scores, dim=-1)  # [batch_size, seq_len, 2]\n",
    "\n",
    "#         # Split attention weights\n",
    "#         attn_weights_mbert = attn_weights[..., 0].unsqueeze(-1)  # [batch_size, seq_len, 1]\n",
    "#         attn_weights_indicbert = attn_weights[..., 1].unsqueeze(-1)  # [batch_size, seq_len, 1]\n",
    "\n",
    "#         # Compute weighted sum of embeddings\n",
    "#         fused_embeddings = attn_weights_mbert * embeddings_mbert + attn_weights_indicbert * embeddings_indicbert  # [batch_size, seq_len, hidden_size]\n",
    "\n",
    "#         return fused_embeddings"
   ]
  },
  {
   "cell_type": "code",
   "execution_count": 20,
   "id": "9993da56",
   "metadata": {
    "execution": {
     "iopub.execute_input": "2024-11-18T20:56:27.036849Z",
     "iopub.status.busy": "2024-11-18T20:56:27.036360Z",
     "iopub.status.idle": "2024-11-18T20:56:27.039485Z",
     "shell.execute_reply": "2024-11-18T20:56:27.039038Z"
    },
    "papermill": {
     "duration": 0.01048,
     "end_time": "2024-11-18T20:56:27.040751",
     "exception": false,
     "start_time": "2024-11-18T20:56:27.030271",
     "status": "completed"
    },
    "tags": []
   },
   "outputs": [],
   "source": [
    "# import torch\n",
    "# import torch.nn as nn\n",
    "\n",
    "# class SelfAttentionLayer(nn.Module):\n",
    "#     def __init__(self, hidden_dim, num_heads, dropout=0.1):\n",
    "#         super(SelfAttentionLayer, self).__init__()\n",
    "#         self.self_attention = nn.MultiheadAttention(embed_dim=hidden_dim, num_heads=num_heads, dropout=dropout)\n",
    "#         self.layer_norm = nn.LayerNorm(hidden_dim)\n",
    "#         self.dropout = nn.Dropout(dropout)\n",
    "\n",
    "#     def forward(self, embeddings, attention_mask=None):\n",
    "#         \"\"\"\n",
    "#         Args:\n",
    "#             embeddings (torch.Tensor): [batch_size, seq_len, hidden_dim]\n",
    "#             attention_mask (torch.Tensor): [batch_size, seq_len], with 1 for tokens to attend to and 0 for padding\n",
    "#         Returns:\n",
    "#             torch.Tensor: [batch_size, seq_len, hidden_dim]\n",
    "#         \"\"\"\n",
    "#         embeddings = embeddings.to(DEVICE)\n",
    "        \n",
    "        \n",
    "#         # Transpose embeddings to [seq_len, batch_size, hidden_dim] for nn.MultiheadAttention\n",
    "#         embeddings = embeddings.transpose(0, 1)\n",
    "\n",
    "#         # Prepare attention mask for nn.MultiheadAttention (optional)\n",
    "#         if attention_mask is not None:\n",
    "#     # nn.MultiheadAttention expects key_padding_mask of shape [batch_size, seq_len]\n",
    "#             key_padding_mask = attention_mask == 0  # True for padding tokens\n",
    "#         else:\n",
    "#             key_padding_mask = None\n",
    "\n",
    "\n",
    "#         # Self-attention\n",
    "#         attn_output, _ = self.self_attention(\n",
    "#             query=embeddings,\n",
    "#             key=embeddings,\n",
    "#             value=embeddings,\n",
    "#             key_padding_mask=key_padding_mask\n",
    "#         )\n",
    "\n",
    "#         # Residual connection and layer normalization\n",
    "#         attn_output = self.dropout(attn_output)\n",
    "#         attn_output = self.layer_norm(attn_output + embeddings)\n",
    "\n",
    "#         # Transpose back to [batch_size, seq_len, hidden_dim]\n",
    "#         attn_output = attn_output.transpose(0, 1)\n",
    "\n",
    "#         return attn_output"
   ]
  }
 ],
 "metadata": {
  "kernelspec": {
   "display_name": "Python 3",
   "language": "python",
   "name": "python3"
  },
  "language_info": {
   "codemirror_mode": {
    "name": "ipython",
    "version": 3
   },
   "file_extension": ".py",
   "mimetype": "text/x-python",
   "name": "python",
   "nbconvert_exporter": "python",
   "pygments_lexer": "ipython3",
   "version": "3.11.5"
  },
  "papermill": {
   "default_parameters": {},
   "duration": 360.796361,
   "end_time": "2024-11-18T20:56:28.363913",
   "environment_variables": {},
   "exception": null,
   "input_path": "/home/vijay/slim_sense/SHARPax/Python_code/test/NER-Experiments/FineTune-Experiments-TwoLang/FineTune-Hindi-Bengali.ipynb",
   "output_path": "/home/vijay/slim_sense/SHARPax/Python_code/test/NER-Experiments/FineTune-Experiments-TwoLang//FineTune-tamil-telugu.ipynb",
   "parameters": {
    "lang1": "tamil",
    "lang2": "telugu"
   },
   "start_time": "2024-11-18T20:50:27.567552",
   "version": "2.6.0"
  }
 },
 "nbformat": 4,
 "nbformat_minor": 5
}
