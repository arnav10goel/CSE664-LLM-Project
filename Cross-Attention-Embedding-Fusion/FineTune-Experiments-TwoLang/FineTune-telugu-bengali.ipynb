{
 "cells": [
  {
   "cell_type": "code",
   "execution_count": 1,
   "id": "7ce636eb",
   "metadata": {
    "execution": {
     "iopub.execute_input": "2024-11-18T20:56:29.261435Z",
     "iopub.status.busy": "2024-11-18T20:56:29.261122Z",
     "iopub.status.idle": "2024-11-18T20:56:29.269081Z",
     "shell.execute_reply": "2024-11-18T20:56:29.268340Z"
    },
    "papermill": {
     "duration": 0.015808,
     "end_time": "2024-11-18T20:56:29.270982",
     "exception": false,
     "start_time": "2024-11-18T20:56:29.255174",
     "status": "completed"
    },
    "tags": [
     "parameters"
    ]
   },
   "outputs": [],
   "source": [
    "# Parameters\n",
    "lang1 = \"hindi\"\n",
    "lang2 = \"bengali\""
   ]
  },
  {
   "cell_type": "code",
   "execution_count": 2,
   "id": "d5cfa7f2",
   "metadata": {
    "execution": {
     "iopub.execute_input": "2024-11-18T20:56:29.282654Z",
     "iopub.status.busy": "2024-11-18T20:56:29.282059Z",
     "iopub.status.idle": "2024-11-18T20:56:29.285733Z",
     "shell.execute_reply": "2024-11-18T20:56:29.285010Z"
    },
    "papermill": {
     "duration": 0.011151,
     "end_time": "2024-11-18T20:56:29.287409",
     "exception": false,
     "start_time": "2024-11-18T20:56:29.276258",
     "status": "completed"
    },
    "tags": [
     "injected-parameters"
    ]
   },
   "outputs": [],
   "source": [
    "# Parameters\n",
    "lang1 = \"telugu\"\n",
    "lang2 = \"bengali\"\n"
   ]
  },
  {
   "cell_type": "code",
   "execution_count": 3,
   "id": "9c65044d",
   "metadata": {
    "execution": {
     "iopub.execute_input": "2024-11-18T20:56:29.298868Z",
     "iopub.status.busy": "2024-11-18T20:56:29.298242Z",
     "iopub.status.idle": "2024-11-18T20:56:29.302693Z",
     "shell.execute_reply": "2024-11-18T20:56:29.301948Z"
    },
    "papermill": {
     "duration": 0.011946,
     "end_time": "2024-11-18T20:56:29.304368",
     "exception": false,
     "start_time": "2024-11-18T20:56:29.292422",
     "status": "completed"
    },
    "tags": []
   },
   "outputs": [
    {
     "name": "stdout",
     "output_type": "stream",
     "text": [
      "Running with lang1: telugu, lang2: bengali\n"
     ]
    }
   ],
   "source": [
    "print(f\"Running with lang1: {lang1}, lang2: {lang2}\")"
   ]
  },
  {
   "cell_type": "code",
   "execution_count": 4,
   "id": "1cf6ede8",
   "metadata": {
    "execution": {
     "iopub.execute_input": "2024-11-18T20:56:29.315929Z",
     "iopub.status.busy": "2024-11-18T20:56:29.315417Z",
     "iopub.status.idle": "2024-11-18T20:56:33.022610Z",
     "shell.execute_reply": "2024-11-18T20:56:33.022139Z"
    },
    "papermill": {
     "duration": 3.714956,
     "end_time": "2024-11-18T20:56:33.024460",
     "exception": false,
     "start_time": "2024-11-18T20:56:29.309504",
     "status": "completed"
    },
    "tags": []
   },
   "outputs": [
    {
     "name": "stderr",
     "output_type": "stream",
     "text": [
      "2024-11-18 20:56:31.416586: E external/local_xla/xla/stream_executor/cuda/cuda_dnn.cc:9261] Unable to register cuDNN factory: Attempting to register factory for plugin cuDNN when one has already been registered\n",
      "2024-11-18 20:56:31.416613: E external/local_xla/xla/stream_executor/cuda/cuda_fft.cc:607] Unable to register cuFFT factory: Attempting to register factory for plugin cuFFT when one has already been registered\n",
      "2024-11-18 20:56:31.417975: E external/local_xla/xla/stream_executor/cuda/cuda_blas.cc:1515] Unable to register cuBLAS factory: Attempting to register factory for plugin cuBLAS when one has already been registered\n",
      "2024-11-18 20:56:31.424525: I tensorflow/core/platform/cpu_feature_guard.cc:182] This TensorFlow binary is optimized to use available CPU instructions in performance-critical operations.\n",
      "To enable the following instructions: AVX2 FMA, in other operations, rebuild TensorFlow with the appropriate compiler flags.\n"
     ]
    },
    {
     "name": "stderr",
     "output_type": "stream",
     "text": [
      "2024-11-18 20:56:32.192449: W tensorflow/compiler/tf2tensorrt/utils/py_utils.cc:38] TF-TRT Warning: Could not find TensorRT\n"
     ]
    }
   ],
   "source": [
    "import torch\n",
    "import torch.nn as nn\n",
    "import torch.optim as optim\n",
    "import torch.nn.functional as F\n",
    "from transformers import BertTokenizerFast, BertModel\n",
    "import pandas as pd\n",
    "from torch.utils.data import Dataset, DataLoader\n",
    "import numpy as np\n",
    "import string\n",
    "import json"
   ]
  },
  {
   "cell_type": "code",
   "execution_count": 5,
   "id": "1c258cb8",
   "metadata": {
    "execution": {
     "iopub.execute_input": "2024-11-18T20:56:33.036975Z",
     "iopub.status.busy": "2024-11-18T20:56:33.036538Z",
     "iopub.status.idle": "2024-11-18T20:56:33.058867Z",
     "shell.execute_reply": "2024-11-18T20:56:33.058456Z"
    },
    "papermill": {
     "duration": 0.030259,
     "end_time": "2024-11-18T20:56:33.060560",
     "exception": false,
     "start_time": "2024-11-18T20:56:33.030301",
     "status": "completed"
    },
    "tags": []
   },
   "outputs": [],
   "source": [
    "# Load train data from json (L1)\n",
    "with open(f\"/home/vijay/slim_sense/SHARPax/Python_code/test/NER-Experiments/Dataset/{lang1}_train.json\") as f:\n",
    "    train_data_1 = json.load(f)\n",
    "\n",
    "# Load test data from json\n",
    "with open(f\"/home/vijay/slim_sense/SHARPax/Python_code/test/NER-Experiments/Dataset/{lang1}_test.json\") as f:\n",
    "    test_data_1 = json.load(f)\n",
    "\n",
    "# Load train data from json (L2)\n",
    "with open(f\"/home/vijay/slim_sense/SHARPax/Python_code/test/NER-Experiments/Dataset/{lang2}_train.json\") as f:\n",
    "    train_data_2 = json.load(f)\n",
    "\n",
    "# Load test data from json\n",
    "with open(f\"/home/vijay/slim_sense/SHARPax/Python_code/test/NER-Experiments/Dataset/{lang2}_test.json\") as f:\n",
    "    test_data_2 = json.load(f)\n"
   ]
  },
  {
   "cell_type": "code",
   "execution_count": 6,
   "id": "500b8829",
   "metadata": {
    "execution": {
     "iopub.execute_input": "2024-11-18T20:56:33.072358Z",
     "iopub.status.busy": "2024-11-18T20:56:33.072196Z",
     "iopub.status.idle": "2024-11-18T20:56:33.074684Z",
     "shell.execute_reply": "2024-11-18T20:56:33.074302Z"
    },
    "papermill": {
     "duration": 0.010724,
     "end_time": "2024-11-18T20:56:33.076703",
     "exception": false,
     "start_time": "2024-11-18T20:56:33.065979",
     "status": "completed"
    },
    "tags": []
   },
   "outputs": [
    {
     "name": "stdout",
     "output_type": "stream",
     "text": [
      "Running with lang1: telugu, lang2: bengali\n"
     ]
    }
   ],
   "source": [
    "print(f\"Running with lang1: {lang1}, lang2: {lang2}\")"
   ]
  },
  {
   "cell_type": "code",
   "execution_count": 7,
   "id": "96350f9a",
   "metadata": {
    "execution": {
     "iopub.execute_input": "2024-11-18T20:56:33.088841Z",
     "iopub.status.busy": "2024-11-18T20:56:33.088571Z",
     "iopub.status.idle": "2024-11-18T20:56:33.091051Z",
     "shell.execute_reply": "2024-11-18T20:56:33.090694Z"
    },
    "papermill": {
     "duration": 0.010445,
     "end_time": "2024-11-18T20:56:33.092642",
     "exception": false,
     "start_time": "2024-11-18T20:56:33.082197",
     "status": "completed"
    },
    "tags": []
   },
   "outputs": [],
   "source": [
    "# Merge the two datasets\n",
    "train_data = train_data_1 + train_data_2\n",
    "test_data = test_data_1 + test_data_2"
   ]
  },
  {
   "cell_type": "code",
   "execution_count": 8,
   "id": "5f44f3fe",
   "metadata": {
    "execution": {
     "iopub.execute_input": "2024-11-18T20:56:33.104390Z",
     "iopub.status.busy": "2024-11-18T20:56:33.104264Z",
     "iopub.status.idle": "2024-11-18T20:56:33.581138Z",
     "shell.execute_reply": "2024-11-18T20:56:33.580645Z"
    },
    "papermill": {
     "duration": 0.485099,
     "end_time": "2024-11-18T20:56:33.583303",
     "exception": false,
     "start_time": "2024-11-18T20:56:33.098204",
     "status": "completed"
    },
    "tags": []
   },
   "outputs": [],
   "source": [
    "from transformers import AutoTokenizer, AutoModel\n",
    "\n",
    "# Load tokeniser\n",
    "tokenizer = BertTokenizerFast.from_pretrained('bert-base-multilingual-cased')"
   ]
  },
  {
   "cell_type": "code",
   "execution_count": 9,
   "id": "f53ec5b4",
   "metadata": {
    "execution": {
     "iopub.execute_input": "2024-11-18T20:56:33.595768Z",
     "iopub.status.busy": "2024-11-18T20:56:33.595524Z",
     "iopub.status.idle": "2024-11-18T20:56:33.600625Z",
     "shell.execute_reply": "2024-11-18T20:56:33.600237Z"
    },
    "papermill": {
     "duration": 0.013051,
     "end_time": "2024-11-18T20:56:33.602236",
     "exception": false,
     "start_time": "2024-11-18T20:56:33.589185",
     "status": "completed"
    },
    "tags": []
   },
   "outputs": [],
   "source": [
    "class NER_Dataset(Dataset):\n",
    "    def __init__(self, data, tokenizer, max_len=128):\n",
    "        self.data = data  # List of sentences and labels\n",
    "        self.tokenizer = tokenizer  # mBERT tokenizer\n",
    "        self.max_len = max_len\n",
    "\n",
    "    def __len__(self):\n",
    "        return len(self.data)\n",
    "\n",
    "    def __getitem__(self, idx):\n",
    "        text = self.data[idx][\"tokens\"]\n",
    "        word_labels = self.data[idx][\"ner_tags\"]\n",
    "\n",
    "        # Tokenize the text and align the labels\n",
    "        encoding = self.tokenizer(text,\n",
    "                                  is_split_into_words=True,\n",
    "                                  return_offsets_mapping=True,\n",
    "                                  padding='max_length',\n",
    "                                  truncation=True,\n",
    "                                  max_length=self.max_len)\n",
    "\n",
    "        labels = [self.align_labels(encoding['offset_mapping'], word_labels)]\n",
    "\n",
    "        # Remove the offset mapping to prevent issues during model training\n",
    "        del encoding['offset_mapping']\n",
    "\n",
    "        item = {key: torch.tensor(val) for key, val in encoding.items()}\n",
    "        item['labels'] = torch.tensor(labels[0], dtype=torch.long)\n",
    "\n",
    "        return item\n",
    "    \n",
    "    # Create a function to align labels\n",
    "    def align_labels(self, offset_mapping, labels):\n",
    "        aligned_labels = []\n",
    "        current_label_index = 0\n",
    "\n",
    "        for offset in offset_mapping:\n",
    "            # If the offset mapping is (0, 0), it's a special token ([CLS], [SEP], [PAD])\n",
    "            if offset == (0, 0):\n",
    "                aligned_labels.append(-100)  # -100 is used to ignore these tokens in the loss computation\n",
    "            else:\n",
    "                # Check if the token is the start of a new word\n",
    "                if offset[0] == 0:\n",
    "                    aligned_labels.append(labels[current_label_index])\n",
    "                    current_label_index += 1\n",
    "                else:\n",
    "                    # If the token is not the first subtoken, you can decide how to label it. \n",
    "                    # For simplicity, let's use the same label as the first subtoken\n",
    "                    aligned_labels.append(labels[current_label_index - 1])\n",
    "\n",
    "        return aligned_labels"
   ]
  },
  {
   "cell_type": "code",
   "execution_count": 10,
   "id": "b90f2e27",
   "metadata": {
    "execution": {
     "iopub.execute_input": "2024-11-18T20:56:33.614467Z",
     "iopub.status.busy": "2024-11-18T20:56:33.614344Z",
     "iopub.status.idle": "2024-11-18T20:56:33.616920Z",
     "shell.execute_reply": "2024-11-18T20:56:33.616543Z"
    },
    "papermill": {
     "duration": 0.010343,
     "end_time": "2024-11-18T20:56:33.618393",
     "exception": false,
     "start_time": "2024-11-18T20:56:33.608050",
     "status": "completed"
    },
    "tags": []
   },
   "outputs": [],
   "source": [
    "# Create train dataset and test dataset\n",
    "train_dataset = NER_Dataset(train_data, tokenizer)\n",
    "test_dataset = NER_Dataset(test_data, tokenizer)\n",
    "\n",
    "# Create train dataloader and test dataloader\n",
    "train_dataloader = DataLoader(train_dataset, batch_size=32, shuffle=True)\n",
    "test_dataloader = DataLoader(test_dataset, batch_size=32, shuffle=False)"
   ]
  },
  {
   "cell_type": "code",
   "execution_count": 11,
   "id": "e9ddec00",
   "metadata": {
    "execution": {
     "iopub.execute_input": "2024-11-18T20:56:33.630749Z",
     "iopub.status.busy": "2024-11-18T20:56:33.630629Z",
     "iopub.status.idle": "2024-11-18T20:56:33.706769Z",
     "shell.execute_reply": "2024-11-18T20:56:33.706397Z"
    },
    "papermill": {
     "duration": 0.084325,
     "end_time": "2024-11-18T20:56:33.708797",
     "exception": false,
     "start_time": "2024-11-18T20:56:33.624472",
     "status": "completed"
    },
    "tags": []
   },
   "outputs": [
    {
     "data": {
      "text/plain": [
       "'cuda'"
      ]
     },
     "execution_count": 11,
     "metadata": {},
     "output_type": "execute_result"
    }
   ],
   "source": [
    "DEVICE = 'cuda' if torch.cuda.is_available() else 'cpu'\n",
    "DEVICE"
   ]
  },
  {
   "cell_type": "code",
   "execution_count": 12,
   "id": "300dfd25",
   "metadata": {
    "execution": {
     "iopub.execute_input": "2024-11-18T20:56:33.721587Z",
     "iopub.status.busy": "2024-11-18T20:56:33.721467Z",
     "iopub.status.idle": "2024-11-18T20:56:33.725057Z",
     "shell.execute_reply": "2024-11-18T20:56:33.724696Z"
    },
    "papermill": {
     "duration": 0.011733,
     "end_time": "2024-11-18T20:56:33.726585",
     "exception": false,
     "start_time": "2024-11-18T20:56:33.714852",
     "status": "completed"
    },
    "tags": []
   },
   "outputs": [],
   "source": [
    "import torch\n",
    "import torch.nn as nn\n",
    "\n",
    "class CrossAttentionFusion(nn.Module):\n",
    "    def __init__(self, hidden_dim, num_heads):\n",
    "        super(CrossAttentionFusion, self).__init__()\n",
    "        self.cross_attention = nn.MultiheadAttention(embed_dim=hidden_dim, num_heads=num_heads)\n",
    "        self.layer_norm = nn.LayerNorm(hidden_dim)\n",
    "\n",
    "    def forward(self, embeddings_mbert, embeddings_indicbert):\n",
    "        \"\"\"\n",
    "        Fuse embeddings from mBERT and Indic-BERT using cross-attention.\n",
    "\n",
    "        Args:\n",
    "            embeddings_mbert (torch.Tensor): Embeddings from mBERT of shape [batch_size, seq_len_m, hidden_dim].\n",
    "            embeddings_indicbert (torch.Tensor): Embeddings from Indic-BERT of shape [batch_size, seq_len_i, hidden_dim].\n",
    "\n",
    "        Returns:\n",
    "            torch.Tensor: Fused embeddings of shape [batch_size, seq_len_m, hidden_dim].\n",
    "        \"\"\"\n",
    "        embeddings_mbert = embeddings_mbert.to(DEVICE)\n",
    "        embeddings_indicbert = embeddings_indicbert.to(DEVICE)\n",
    "        \n",
    "        # Transpose to shape [seq_len, batch_size, hidden_dim] for nn.MultiheadAttention\n",
    "        embeddings_mbert = embeddings_mbert.transpose(0, 1)\n",
    "        embeddings_indicbert = embeddings_indicbert.transpose(0, 1)\n",
    "\n",
    "        # Cross-attention: Indic BERT queries attend to m-BERT keys and values\n",
    "        attn_output, _ = self.cross_attention(\n",
    "            query=embeddings_indicbert,       # Queries from Indic-BERT\n",
    "            key=embeddings_mbert,     # Keys from m-BERT\n",
    "            value=embeddings_mbert    # Values from m-BERT\n",
    "        )\n",
    "\n",
    "        attn_output.to(DEVICE)\n",
    "\n",
    "        # Residual connection and layer normalization\n",
    "        output = self.layer_norm(attn_output + embeddings_mbert)\n",
    "\n",
    "        # Transpose back to [batch_size, seq_len_m, hidden_dim]\n",
    "        output = output.transpose(0, 1)\n",
    "\n",
    "        return output"
   ]
  },
  {
   "cell_type": "code",
   "execution_count": 13,
   "id": "3d80faf2",
   "metadata": {
    "execution": {
     "iopub.execute_input": "2024-11-18T20:56:33.739088Z",
     "iopub.status.busy": "2024-11-18T20:56:33.738968Z",
     "iopub.status.idle": "2024-11-18T20:56:33.740950Z",
     "shell.execute_reply": "2024-11-18T20:56:33.740588Z"
    },
    "papermill": {
     "duration": 0.009943,
     "end_time": "2024-11-18T20:56:33.742469",
     "exception": false,
     "start_time": "2024-11-18T20:56:33.732526",
     "status": "completed"
    },
    "tags": []
   },
   "outputs": [],
   "source": [
    "hidden_dim = 768\n",
    "num_heads = 4"
   ]
  },
  {
   "cell_type": "code",
   "execution_count": 14,
   "id": "c02aa723",
   "metadata": {
    "execution": {
     "iopub.execute_input": "2024-11-18T20:56:33.755141Z",
     "iopub.status.busy": "2024-11-18T20:56:33.755023Z",
     "iopub.status.idle": "2024-11-18T20:56:35.331493Z",
     "shell.execute_reply": "2024-11-18T20:56:35.331048Z"
    },
    "papermill": {
     "duration": 1.584681,
     "end_time": "2024-11-18T20:56:35.333157",
     "exception": false,
     "start_time": "2024-11-18T20:56:33.748476",
     "status": "completed"
    },
    "tags": []
   },
   "outputs": [
    {
     "data": {
      "text/plain": [
       "MBERT_NER(\n",
       "  (bert): BertModel(\n",
       "    (embeddings): BertEmbeddings(\n",
       "      (word_embeddings): Embedding(119547, 768, padding_idx=0)\n",
       "      (position_embeddings): Embedding(512, 768)\n",
       "      (token_type_embeddings): Embedding(2, 768)\n",
       "      (LayerNorm): LayerNorm((768,), eps=1e-12, elementwise_affine=True)\n",
       "      (dropout): Dropout(p=0.1, inplace=False)\n",
       "    )\n",
       "    (encoder): BertEncoder(\n",
       "      (layer): ModuleList(\n",
       "        (0-11): 12 x BertLayer(\n",
       "          (attention): BertAttention(\n",
       "            (self): BertSdpaSelfAttention(\n",
       "              (query): Linear(in_features=768, out_features=768, bias=True)\n",
       "              (key): Linear(in_features=768, out_features=768, bias=True)\n",
       "              (value): Linear(in_features=768, out_features=768, bias=True)\n",
       "              (dropout): Dropout(p=0.1, inplace=False)\n",
       "            )\n",
       "            (output): BertSelfOutput(\n",
       "              (dense): Linear(in_features=768, out_features=768, bias=True)\n",
       "              (LayerNorm): LayerNorm((768,), eps=1e-12, elementwise_affine=True)\n",
       "              (dropout): Dropout(p=0.1, inplace=False)\n",
       "            )\n",
       "          )\n",
       "          (intermediate): BertIntermediate(\n",
       "            (dense): Linear(in_features=768, out_features=3072, bias=True)\n",
       "            (intermediate_act_fn): GELUActivation()\n",
       "          )\n",
       "          (output): BertOutput(\n",
       "            (dense): Linear(in_features=3072, out_features=768, bias=True)\n",
       "            (LayerNorm): LayerNorm((768,), eps=1e-12, elementwise_affine=True)\n",
       "            (dropout): Dropout(p=0.1, inplace=False)\n",
       "          )\n",
       "        )\n",
       "      )\n",
       "    )\n",
       "    (pooler): BertPooler(\n",
       "      (dense): Linear(in_features=768, out_features=768, bias=True)\n",
       "      (activation): Tanh()\n",
       "    )\n",
       "  )\n",
       "  (indic_bert): AlbertModel(\n",
       "    (embeddings): AlbertEmbeddings(\n",
       "      (word_embeddings): Embedding(200000, 128, padding_idx=0)\n",
       "      (position_embeddings): Embedding(512, 128)\n",
       "      (token_type_embeddings): Embedding(2, 128)\n",
       "      (LayerNorm): LayerNorm((128,), eps=1e-12, elementwise_affine=True)\n",
       "      (dropout): Dropout(p=0, inplace=False)\n",
       "    )\n",
       "    (encoder): AlbertTransformer(\n",
       "      (embedding_hidden_mapping_in): Linear(in_features=128, out_features=768, bias=True)\n",
       "      (albert_layer_groups): ModuleList(\n",
       "        (0): AlbertLayerGroup(\n",
       "          (albert_layers): ModuleList(\n",
       "            (0): AlbertLayer(\n",
       "              (full_layer_layer_norm): LayerNorm((768,), eps=1e-12, elementwise_affine=True)\n",
       "              (attention): AlbertSdpaAttention(\n",
       "                (query): Linear(in_features=768, out_features=768, bias=True)\n",
       "                (key): Linear(in_features=768, out_features=768, bias=True)\n",
       "                (value): Linear(in_features=768, out_features=768, bias=True)\n",
       "                (attention_dropout): Dropout(p=0, inplace=False)\n",
       "                (output_dropout): Dropout(p=0, inplace=False)\n",
       "                (dense): Linear(in_features=768, out_features=768, bias=True)\n",
       "                (LayerNorm): LayerNorm((768,), eps=1e-12, elementwise_affine=True)\n",
       "              )\n",
       "              (ffn): Linear(in_features=768, out_features=3072, bias=True)\n",
       "              (ffn_output): Linear(in_features=3072, out_features=768, bias=True)\n",
       "              (activation): GELUActivation()\n",
       "              (dropout): Dropout(p=0, inplace=False)\n",
       "            )\n",
       "          )\n",
       "        )\n",
       "      )\n",
       "    )\n",
       "    (pooler): Linear(in_features=768, out_features=768, bias=True)\n",
       "    (pooler_activation): Tanh()\n",
       "  )\n",
       "  (attention): CrossAttentionFusion(\n",
       "    (cross_attention): MultiheadAttention(\n",
       "      (out_proj): NonDynamicallyQuantizableLinear(in_features=768, out_features=768, bias=True)\n",
       "    )\n",
       "    (layer_norm): LayerNorm((768,), eps=1e-05, elementwise_affine=True)\n",
       "  )\n",
       "  (gru): GRU(2304, 128, batch_first=True)\n",
       "  (classifier): Linear(in_features=128, out_features=7, bias=True)\n",
       "  (dropout): Dropout(p=0.1, inplace=False)\n",
       "  (batch_norm): BatchNorm1d(128, eps=1e-05, momentum=0.1, affine=True, track_running_stats=True)\n",
       ")"
      ]
     },
     "execution_count": 14,
     "metadata": {},
     "output_type": "execute_result"
    }
   ],
   "source": [
    "# Model for NER\n",
    "\n",
    "class MBERT_NER(nn.Module):\n",
    "    def __init__(self, num_labels, gru_hidden_size, num_gru_layers, freeze_bert=False):\n",
    "        super(MBERT_NER, self).__init__()\n",
    "\n",
    "        self.bert = BertModel.from_pretrained(\"bert-base-multilingual-cased\")\n",
    "        self.indic_bert = AutoModel.from_pretrained(\"ai4bharat/indic-bert\")\n",
    "        \n",
    "        # Initialize the Fusion Attention\n",
    "        self.attention = CrossAttentionFusion(hidden_dim=hidden_dim, num_heads=num_heads).to(DEVICE)\n",
    "        \n",
    "        self.gru = nn.GRU(input_size=self.bert.config.hidden_size * 3,\n",
    "                          hidden_size=gru_hidden_size,\n",
    "                          num_layers=num_gru_layers,\n",
    "                          batch_first=True)\n",
    "        self.classifier = nn.Linear(gru_hidden_size, num_labels)\n",
    "        self.dropout = nn.Dropout(0.1)\n",
    "        self.batch_norm = nn.BatchNorm1d(gru_hidden_size)\n",
    "\n",
    "        if freeze_bert:\n",
    "            for param in self.bert.parameters():\n",
    "                param.requires_grad = False\n",
    "            for param in self.indic_bert.parameters():\n",
    "                param.requires_grad = False\n",
    "\n",
    "    def forward(self, input_ids, attention_mask):\n",
    "        \n",
    "        input_ids = input_ids.to(DEVICE)\n",
    "        attention_mask = attention_mask.to(DEVICE)\n",
    "        \n",
    "        # Embeddings\n",
    "        outputs1 = self.bert(input_ids=input_ids, attention_mask=attention_mask)\n",
    "        outputs2 = self.indic_bert(input_ids = input_ids, attention_mask = attention_mask)        \n",
    "        \n",
    "        embeddings_mbert = outputs1.last_hidden_state.to(DEVICE)\n",
    "        embeddings_indicbert = outputs2.last_hidden_state.to(DEVICE)\n",
    "        \n",
    "        # Fused embeddings\n",
    "        embeddings = self.attention(embeddings_mbert, embeddings_indicbert).to(DEVICE)\n",
    "        \n",
    "        sequence_output = torch.cat((embeddings_mbert, embeddings_indicbert, embeddings), dim=-1)\n",
    "        \n",
    "        gru_output, _ = self.gru(sequence_output)\n",
    "        gru_output = self.batch_norm(gru_output)\n",
    "        gru_output = self.dropout(gru_output)\n",
    "        \n",
    "        logits = self.classifier(gru_output)\n",
    "        return logits\n",
    "\n",
    "# Create the NER model\n",
    "NUM_LABELS = 7 # Number of NER tags\n",
    "GRU_HIDDEN_SIZE = 128 # Hidden size of the GRU\n",
    "NUM_GRU_LAYERS = 1 # Number of layers in the GRU\n",
    "FREEZE_BERT = False # Whether to freeze the BERT model\n",
    "DEVICE = 'cuda' if torch.cuda.is_available() else 'cpu'\n",
    "\n",
    "model = MBERT_NER(num_labels=NUM_LABELS,\n",
    "                    gru_hidden_size=GRU_HIDDEN_SIZE,\n",
    "                    num_gru_layers=NUM_GRU_LAYERS,\n",
    "                    freeze_bert=FREEZE_BERT)\n",
    "\n",
    "model.to(DEVICE)"
   ]
  },
  {
   "cell_type": "code",
   "execution_count": 15,
   "id": "50e5bb60",
   "metadata": {
    "execution": {
     "iopub.execute_input": "2024-11-18T20:56:35.346666Z",
     "iopub.status.busy": "2024-11-18T20:56:35.346538Z",
     "iopub.status.idle": "2024-11-18T20:56:35.348679Z",
     "shell.execute_reply": "2024-11-18T20:56:35.348317Z"
    },
    "papermill": {
     "duration": 0.010448,
     "end_time": "2024-11-18T20:56:35.350161",
     "exception": false,
     "start_time": "2024-11-18T20:56:35.339713",
     "status": "completed"
    },
    "tags": []
   },
   "outputs": [],
   "source": [
    "torch.cuda.empty_cache()"
   ]
  },
  {
   "cell_type": "code",
   "execution_count": 16,
   "id": "57885036",
   "metadata": {
    "execution": {
     "iopub.execute_input": "2024-11-18T20:56:35.363670Z",
     "iopub.status.busy": "2024-11-18T20:56:35.363382Z",
     "iopub.status.idle": "2024-11-18T21:02:16.313607Z",
     "shell.execute_reply": "2024-11-18T21:02:16.312925Z"
    },
    "papermill": {
     "duration": 340.961112,
     "end_time": "2024-11-18T21:02:16.317496",
     "exception": false,
     "start_time": "2024-11-18T20:56:35.356384",
     "status": "completed"
    },
    "tags": []
   },
   "outputs": [
    {
     "name": "stdout",
     "output_type": "stream",
     "text": [
      "Epoch 1/6, Train Loss: 0.5972, Train F1: 0.7575, Train Acc: 0.8070, Val Loss: 0.3205, Val F1: 0.8704, Val Acc: 0.9055\n"
     ]
    },
    {
     "name": "stdout",
     "output_type": "stream",
     "text": [
      "Epoch 2/6, Train Loss: 0.2635, Train F1: 0.9050, Train Acc: 0.9235, Val Loss: 0.2598, Val F1: 0.8999, Val Acc: 0.9240\n"
     ]
    },
    {
     "name": "stdout",
     "output_type": "stream",
     "text": [
      "Epoch 3/6, Train Loss: 0.1701, Train F1: 0.9396, Train Acc: 0.9513, Val Loss: 0.2688, Val F1: 0.8937, Val Acc: 0.9186\n"
     ]
    },
    {
     "name": "stdout",
     "output_type": "stream",
     "text": [
      "Epoch 4/6, Train Loss: 0.1312, Train F1: 0.9548, Train Acc: 0.9636, Val Loss: 0.2120, Val F1: 0.9184, Val Acc: 0.9391\n"
     ]
    },
    {
     "name": "stdout",
     "output_type": "stream",
     "text": [
      "Epoch 5/6, Train Loss: 0.0920, Train F1: 0.9694, Train Acc: 0.9759, Val Loss: 0.2178, Val F1: 0.9152, Val Acc: 0.9362\n"
     ]
    },
    {
     "name": "stdout",
     "output_type": "stream",
     "text": [
      "Epoch 6/6, Train Loss: 0.0703, Train F1: 0.9764, Train Acc: 0.9812, Val Loss: 0.2334, Val F1: 0.9139, Val Acc: 0.9337\n"
     ]
    }
   ],
   "source": [
    "from sklearn.metrics import f1_score, accuracy_score\n",
    "\n",
    "# Optimizer and loss function\n",
    "optimizer = optim.AdamW(model.parameters(), lr=2e-5)\n",
    "criterion = nn.CrossEntropyLoss(ignore_index=-100)\n",
    "\n",
    "# Training loop\n",
    "EPOCHS = 6\n",
    "\n",
    "train_losses = []\n",
    "train_f1_scores = []\n",
    "train_acc_scores = []\n",
    "val_losses = []\n",
    "val_f1_scores = []\n",
    "val_acc_scores = []\n",
    "\n",
    "\n",
    "for epoch in range(EPOCHS):\n",
    "    model.train()\n",
    "    train_loss = 0\n",
    "    train_predictions, train_labels = [], []\n",
    "\n",
    "    for batch in train_dataloader:\n",
    "        input_ids = batch['input_ids'].to(DEVICE)\n",
    "        attention_mask = batch['attention_mask'].to(DEVICE)\n",
    "        labels = batch['labels'].to(DEVICE)\n",
    "\n",
    "        optimizer.zero_grad()\n",
    "        logits = model(input_ids, attention_mask)\n",
    "        logits = logits.view(-1, NUM_LABELS)\n",
    "        labels = labels.view(-1)\n",
    "\n",
    "        loss = criterion(logits, labels)\n",
    "        loss.backward()\n",
    "        optimizer.step()\n",
    "\n",
    "        train_loss += loss.item()\n",
    "\n",
    "        # Get predictions and filter out ignored indices for metric calculations\n",
    "        predictions = torch.argmax(logits, dim=-1)\n",
    "        active_indices = labels != -100\n",
    "        train_predictions.extend(predictions[active_indices].cpu().numpy())\n",
    "        train_labels.extend(labels[active_indices].cpu().numpy())\n",
    "\n",
    "    train_loss /= len(train_dataloader)\n",
    "    train_losses.append(train_loss)\n",
    "\n",
    "    train_f1 = f1_score(train_labels, train_predictions, average='macro')\n",
    "    train_f1_scores.append(train_f1)\n",
    "\n",
    "    train_acc = accuracy_score(train_labels, train_predictions)\n",
    "    train_acc_scores.append(train_acc)\n",
    "\n",
    "    # Validation loop\n",
    "    model.eval()\n",
    "    val_loss = 0\n",
    "    val_predictions, val_labels = [], []\n",
    "\n",
    "    with torch.no_grad():\n",
    "        for batch in test_dataloader:\n",
    "            input_ids = batch['input_ids'].to(DEVICE)\n",
    "            attention_mask = batch['attention_mask'].to(DEVICE)\n",
    "            labels = batch['labels'].to(DEVICE)\n",
    "\n",
    "            logits = model(input_ids, attention_mask)\n",
    "            logits = logits.view(-1, NUM_LABELS)\n",
    "            labels = labels.view(-1)\n",
    "\n",
    "            loss = criterion(logits, labels)\n",
    "            val_loss += loss.item()\n",
    "\n",
    "            # Filter predictions and labels\n",
    "            predictions = torch.argmax(logits, dim=-1)\n",
    "            active_indices = labels != -100\n",
    "            val_predictions.extend(predictions[active_indices].cpu().numpy())\n",
    "            val_labels.extend(labels[active_indices].cpu().numpy())\n",
    "\n",
    "    val_loss /= len(test_dataloader)\n",
    "    val_losses.append(val_loss)\n",
    "\n",
    "    val_f1 = f1_score(val_labels, val_predictions, average='macro')\n",
    "    val_f1_scores.append(val_f1)\n",
    "\n",
    "    val_acc = accuracy_score(val_labels, val_predictions)\n",
    "    val_acc_scores.append(val_acc)\n",
    "                                                \n",
    "    print(f\"Epoch {epoch + 1}/{EPOCHS}, Train Loss: {train_loss:.4f}, Train F1: {train_f1:.4f}, Train Acc: {train_acc:.4f}, Val Loss: {val_loss:.4f}, Val F1: {val_f1:.4f}, Val Acc: {val_acc:.4f}\")"
   ]
  },
  {
   "cell_type": "code",
   "execution_count": 17,
   "id": "29eb142c",
   "metadata": {
    "execution": {
     "iopub.execute_input": "2024-11-18T21:02:16.325760Z",
     "iopub.status.busy": "2024-11-18T21:02:16.325476Z",
     "iopub.status.idle": "2024-11-18T21:02:32.460862Z",
     "shell.execute_reply": "2024-11-18T21:02:32.460320Z"
    },
    "papermill": {
     "duration": 16.141702,
     "end_time": "2024-11-18T21:02:32.462762",
     "exception": false,
     "start_time": "2024-11-18T21:02:16.321060",
     "status": "completed"
    },
    "tags": []
   },
   "outputs": [
    {
     "name": "stdout",
     "output_type": "stream",
     "text": [
      "Language: Hindi\n",
      "\n",
      "Weighted F1: 0.7959\n",
      "Macro F1: 0.7474\n",
      "Accuracy: 0.7925\n",
      "\n",
      "CLASSIFICATION REPORT: \n",
      "              precision    recall  f1-score   support\n",
      "\n",
      "           0       0.94      0.78      0.85      5277\n",
      "           1       0.74      0.82      0.78      1481\n",
      "           2       0.83      0.89      0.86      1874\n",
      "           3       0.53      0.73      0.61       986\n",
      "           4       0.77      0.87      0.82      2602\n",
      "           5       0.73      0.67      0.70      1195\n",
      "           6       0.62      0.60      0.61       867\n",
      "\n",
      "    accuracy                           0.79     14282\n",
      "   macro avg       0.74      0.77      0.75     14282\n",
      "weighted avg       0.81      0.79      0.80     14282\n",
      "\n",
      "\n",
      "CONFUSION MATRIX: \n",
      "[[4122  300   71  442   97  153   92]\n",
      " [  23 1215  142   42   19   34    6]\n",
      " [  19   38 1666    7  101    0   43]\n",
      " [  22   61    0  724  132   39    8]\n",
      " [ 113    8  110   15 2267   23   66]\n",
      " [  38   10    1  144   97  801  104]\n",
      " [  35    7   28    3  225   46  523]]\n",
      "--------------------------------------------------\n"
     ]
    },
    {
     "name": "stdout",
     "output_type": "stream",
     "text": [
      "Language: Bengali\n",
      "\n",
      "Weighted F1: 0.9512\n",
      "Macro F1: 0.9503\n",
      "Accuracy: 0.9512\n",
      "\n",
      "CLASSIFICATION REPORT: \n",
      "              precision    recall  f1-score   support\n",
      "\n",
      "           0       0.98      0.90      0.94      1835\n",
      "           1       0.94      0.95      0.94      1343\n",
      "           2       0.96      0.96      0.96      2490\n",
      "           3       0.93      0.96      0.94      1239\n",
      "           4       0.93      0.97      0.95      3068\n",
      "           5       0.97      0.94      0.95      1510\n",
      "           6       0.96      0.96      0.96      2080\n",
      "\n",
      "    accuracy                           0.95     13565\n",
      "   macro avg       0.95      0.95      0.95     13565\n",
      "weighted avg       0.95      0.95      0.95     13565\n",
      "\n",
      "\n",
      "CONFUSION MATRIX: \n",
      "[[1652   31   17   19   72   16   28]\n",
      " [   4 1277   11   37    0   14    0]\n",
      " [   7   13 2384    0   69    0   17]\n",
      " [   4   25    0 1193    6   11    0]\n",
      " [   3    0   59    1 2988    0   17]\n",
      " [   4   15    3   37   19 1419   13]\n",
      " [   4    0   17    0   67    2 1990]]\n",
      "--------------------------------------------------\n"
     ]
    },
    {
     "name": "stdout",
     "output_type": "stream",
     "text": [
      "Language: Marathi\n",
      "\n",
      "Weighted F1: 0.8238\n",
      "Macro F1: 0.7203\n",
      "Accuracy: 0.8183\n",
      "\n",
      "CLASSIFICATION REPORT: \n",
      "              precision    recall  f1-score   support\n",
      "\n",
      "           0       0.96      0.88      0.92     10408\n",
      "           1       0.76      0.88      0.82      1342\n",
      "           2       0.83      0.84      0.83      1992\n",
      "           3       0.41      0.49      0.45      1172\n",
      "           4       0.72      0.80      0.76      2535\n",
      "           5       0.78      0.73      0.76      1829\n",
      "           6       0.47      0.57      0.52       820\n",
      "\n",
      "    accuracy                           0.82     20098\n",
      "   macro avg       0.70      0.74      0.72     20098\n",
      "weighted avg       0.83      0.82      0.82     20098\n",
      "\n",
      "\n",
      "CONFUSION MATRIX: \n",
      "[[9199  119   64  522  174  168  162]\n",
      " [  55 1178   26   69    2   11    1]\n",
      " [  67   67 1673    8   88   43   46]\n",
      " [  61  128    2  572  257  112   40]\n",
      " [  53   10  213   19 2017    3  220]\n",
      " [ 141   42   16  203   34 1339   54]\n",
      " [  56    0   31    4  225   36  468]]\n",
      "--------------------------------------------------\n"
     ]
    },
    {
     "name": "stdout",
     "output_type": "stream",
     "text": [
      "Language: Tamil\n",
      "\n",
      "Weighted F1: 0.8135\n",
      "Macro F1: 0.7077\n",
      "Accuracy: 0.8088\n",
      "\n",
      "CLASSIFICATION REPORT: \n",
      "              precision    recall  f1-score   support\n",
      "\n",
      "           0       0.95      0.88      0.91     11461\n",
      "           1       0.68      0.73      0.70      1643\n",
      "           2       0.85      0.80      0.82      2295\n",
      "           3       0.53      0.52      0.52      1512\n",
      "           4       0.65      0.82      0.72      2532\n",
      "           5       0.73      0.77      0.75      1881\n",
      "           6       0.47      0.58      0.52       677\n",
      "\n",
      "    accuracy                           0.81     22001\n",
      "   macro avg       0.69      0.73      0.71     22001\n",
      "weighted avg       0.82      0.81      0.81     22001\n",
      "\n",
      "\n",
      "CONFUSION MATRIX: \n",
      "[[10076   315    46   377   298   220   129]\n",
      " [   66  1199   192   119    35    28     4]\n",
      " [   97   171  1834     4   161     0    28]\n",
      " [   52    72     6   780   350   242    10]\n",
      " [  152     8    68     7  2064    16   217]\n",
      " [  109     0     4   196    62  1449    61]\n",
      " [   48     0     5     0   214    17   393]]\n",
      "--------------------------------------------------\n"
     ]
    },
    {
     "name": "stdout",
     "output_type": "stream",
     "text": [
      "Language: Telugu\n",
      "\n",
      "Weighted F1: 0.9262\n",
      "Macro F1: 0.8581\n",
      "Accuracy: 0.9247\n",
      "\n",
      "CLASSIFICATION REPORT: \n",
      "              precision    recall  f1-score   support\n",
      "\n",
      "           0       0.98      0.95      0.96     17291\n",
      "           1       0.85      0.87      0.86      1810\n",
      "           2       0.91      0.90      0.90      1353\n",
      "           3       0.74      0.81      0.78      1375\n",
      "           4       0.83      0.92      0.87      2269\n",
      "           5       0.85      0.91      0.88      2072\n",
      "           6       0.70      0.82      0.75       455\n",
      "\n",
      "    accuracy                           0.92     26625\n",
      "   macro avg       0.84      0.88      0.86     26625\n",
      "weighted avg       0.93      0.92      0.93     26625\n",
      "\n",
      "\n",
      "CONFUSION MATRIX: \n",
      "[[16377   181    30   233   240   155    75]\n",
      " [   70  1567    28    80     3    62     0]\n",
      " [   25    23  1214     4    71     0    16]\n",
      " [   75    49     0  1119    21   109     2]\n",
      " [   56     0    56     5  2083    14    55]\n",
      " [   60    16     0    67    28  1890    11]\n",
      " [    8     0     6     0    70     0   371]]\n",
      "--------------------------------------------------\n"
     ]
    }
   ],
   "source": [
    "from sklearn.metrics import f1_score\n",
    "from sklearn.metrics import accuracy_score\n",
    "from sklearn.metrics import classification_report\n",
    "from sklearn.metrics import confusion_matrix\n",
    "\n",
    "# Load the test data from json for all 5 languages\n",
    "languages = ['hindi', 'bengali', 'marathi', 'tamil', 'telugu']\n",
    "\n",
    "# Iterate over all languages and evaluate the model\n",
    "for lang in languages:\n",
    "    with open(f\"/home/vijay/slim_sense/SHARPax/Python_code/test/NER-Experiments/Dataset/{lang}_test.json\") as f:\n",
    "        test_data = json.load(f)\n",
    "\n",
    "    test_dataset = NER_Dataset(test_data, tokenizer)\n",
    "    test_dataloader = DataLoader(test_dataset, batch_size=32, shuffle=False)\n",
    "\n",
    "    model.eval()\n",
    "    test_predictions, test_labels = [], []\n",
    "\n",
    "    with torch.no_grad():\n",
    "        for batch in test_dataloader:\n",
    "            input_ids = batch['input_ids'].to(DEVICE)\n",
    "            attention_mask = batch['attention_mask'].to(DEVICE)\n",
    "            labels = batch['labels'].to(DEVICE)\n",
    "\n",
    "            logits = model(input_ids, attention_mask)\n",
    "            logits = logits.view(-1, NUM_LABELS)\n",
    "            labels = labels.view(-1)\n",
    "\n",
    "            # Filter predictions and labels\n",
    "            predictions = torch.argmax(logits, dim=-1)\n",
    "            active_indices = labels != -100\n",
    "            test_predictions.extend(predictions[active_indices].cpu().numpy())\n",
    "            test_labels.extend(labels[active_indices].cpu().numpy())\n",
    "\n",
    "    weighted_f1 = f1_score(test_labels, test_predictions, average='weighted')\n",
    "    macro_f1 = f1_score(test_labels, test_predictions, average='macro')\n",
    "    accuracy = accuracy_score(test_labels, test_predictions)\n",
    "\n",
    "    if lang == 'hindi':\n",
    "        LANG = \"Hindi\"\n",
    "    elif lang == 'bengali':\n",
    "        LANG = \"Bengali\"\n",
    "    elif lang == 'marathi':\n",
    "        LANG = \"Marathi\"\n",
    "    elif lang == 'tamil':\n",
    "        LANG = \"Tamil\"\n",
    "    elif lang == 'telugu':\n",
    "        LANG = \"Telugu\"\n",
    "\n",
    "    print(f\"Language: {LANG}\")\n",
    "    print()\n",
    "    print(f\"Weighted F1: {weighted_f1:.4f}\")\n",
    "    print(f\"Macro F1: {macro_f1:.4f}\")\n",
    "    print(f\"Accuracy: {accuracy:.4f}\")\n",
    "    print()\n",
    "    print(\"CLASSIFICATION REPORT: \")\n",
    "    print(classification_report(test_labels, test_predictions))\n",
    "    print()\n",
    "    print(\"CONFUSION MATRIX: \")\n",
    "    print(confusion_matrix(test_labels, test_predictions))\n",
    "    print(\"--------------------------------------------------\")"
   ]
  },
  {
   "cell_type": "code",
   "execution_count": 18,
   "id": "1876ee9a",
   "metadata": {
    "execution": {
     "iopub.execute_input": "2024-11-18T21:02:32.479191Z",
     "iopub.status.busy": "2024-11-18T21:02:32.479002Z",
     "iopub.status.idle": "2024-11-18T21:02:33.816669Z",
     "shell.execute_reply": "2024-11-18T21:02:33.816168Z"
    },
    "papermill": {
     "duration": 1.347777,
     "end_time": "2024-11-18T21:02:33.818517",
     "exception": false,
     "start_time": "2024-11-18T21:02:32.470740",
     "status": "completed"
    },
    "tags": []
   },
   "outputs": [],
   "source": [
    "# Save the model\n",
    "torch.save(model.state_dict(), f'NER_FineTune_{lang1[:2]}_{lang2[:2]}_cross_attn.pth')"
   ]
  },
  {
   "cell_type": "markdown",
   "id": "022d6adc",
   "metadata": {
    "papermill": {
     "duration": 0.007245,
     "end_time": "2024-11-18T21:02:33.833323",
     "exception": false,
     "start_time": "2024-11-18T21:02:33.826078",
     "status": "completed"
    },
    "tags": []
   },
   "source": [
    "-------------------------------------------------------------------------------------------------------------------------"
   ]
  },
  {
   "cell_type": "markdown",
   "id": "05fde164",
   "metadata": {
    "papermill": {
     "duration": 0.00729,
     "end_time": "2024-11-18T21:02:33.848195",
     "exception": false,
     "start_time": "2024-11-18T21:02:33.840905",
     "status": "completed"
    },
    "tags": []
   },
   "source": [
    "# DUMP"
   ]
  },
  {
   "cell_type": "markdown",
   "id": "78e55ca1",
   "metadata": {
    "papermill": {
     "duration": 0.007358,
     "end_time": "2024-11-18T21:02:33.862859",
     "exception": false,
     "start_time": "2024-11-18T21:02:33.855501",
     "status": "completed"
    },
    "tags": []
   },
   "source": [
    "--------------------------------------------------------------------------------------------------------------"
   ]
  },
  {
   "cell_type": "code",
   "execution_count": 19,
   "id": "b3edcccb",
   "metadata": {
    "execution": {
     "iopub.execute_input": "2024-11-18T21:02:33.874426Z",
     "iopub.status.busy": "2024-11-18T21:02:33.874217Z",
     "iopub.status.idle": "2024-11-18T21:02:33.876907Z",
     "shell.execute_reply": "2024-11-18T21:02:33.876529Z"
    },
    "papermill": {
     "duration": 0.009924,
     "end_time": "2024-11-18T21:02:33.878069",
     "exception": false,
     "start_time": "2024-11-18T21:02:33.868145",
     "status": "completed"
    },
    "tags": []
   },
   "outputs": [],
   "source": [
    "# import torch\n",
    "# import torch.nn as nn\n",
    "\n",
    "# class FusionModule(nn.Module):\n",
    "#     def __init__(self, hidden_size):\n",
    "#         super(FusionModule, self).__init__()\n",
    "#         # Linear layer to compute attention scores\n",
    "#         self.attention_layer = nn.Linear(hidden_size * 2, 2)\n",
    "\n",
    "#     def forward(self, embeddings_mbert, embeddings_indicbert):\n",
    "#         \"\"\"\n",
    "#         Args:\n",
    "#             embeddings_mbert (torch.Tensor): [batch_size, seq_len, hidden_size]\n",
    "#             embeddings_indicbert (torch.Tensor): [batch_size, seq_len, hidden_size]\n",
    "#         Returns:\n",
    "#             torch.Tensor: Fused embeddings [batch_size, seq_len, hidden_size]\n",
    "#         \"\"\"\n",
    "#         # Concatenate embeddings along the last dimension\n",
    "#         concat_embeddings = torch.cat((embeddings_mbert, embeddings_indicbert), dim=-1)  # [batch_size, seq_len, hidden_size * 2]\n",
    "\n",
    "#         # Compute attention scores\n",
    "#         attn_scores = self.attention_layer(concat_embeddings)  # [batch_size, seq_len, 2]\n",
    "\n",
    "#         # Apply softmax to get attention weights\n",
    "#         attn_weights = torch.softmax(attn_scores, dim=-1)  # [batch_size, seq_len, 2]\n",
    "\n",
    "#         # Split attention weights\n",
    "#         attn_weights_mbert = attn_weights[..., 0].unsqueeze(-1)  # [batch_size, seq_len, 1]\n",
    "#         attn_weights_indicbert = attn_weights[..., 1].unsqueeze(-1)  # [batch_size, seq_len, 1]\n",
    "\n",
    "#         # Compute weighted sum of embeddings\n",
    "#         fused_embeddings = attn_weights_mbert * embeddings_mbert + attn_weights_indicbert * embeddings_indicbert  # [batch_size, seq_len, hidden_size]\n",
    "\n",
    "#         return fused_embeddings"
   ]
  },
  {
   "cell_type": "code",
   "execution_count": 20,
   "id": "beaf0435",
   "metadata": {
    "execution": {
     "iopub.execute_input": "2024-11-18T21:02:33.889306Z",
     "iopub.status.busy": "2024-11-18T21:02:33.889171Z",
     "iopub.status.idle": "2024-11-18T21:02:33.892206Z",
     "shell.execute_reply": "2024-11-18T21:02:33.891796Z"
    },
    "papermill": {
     "duration": 0.010018,
     "end_time": "2024-11-18T21:02:33.893377",
     "exception": false,
     "start_time": "2024-11-18T21:02:33.883359",
     "status": "completed"
    },
    "tags": []
   },
   "outputs": [],
   "source": [
    "# import torch\n",
    "# import torch.nn as nn\n",
    "\n",
    "# class SelfAttentionLayer(nn.Module):\n",
    "#     def __init__(self, hidden_dim, num_heads, dropout=0.1):\n",
    "#         super(SelfAttentionLayer, self).__init__()\n",
    "#         self.self_attention = nn.MultiheadAttention(embed_dim=hidden_dim, num_heads=num_heads, dropout=dropout)\n",
    "#         self.layer_norm = nn.LayerNorm(hidden_dim)\n",
    "#         self.dropout = nn.Dropout(dropout)\n",
    "\n",
    "#     def forward(self, embeddings, attention_mask=None):\n",
    "#         \"\"\"\n",
    "#         Args:\n",
    "#             embeddings (torch.Tensor): [batch_size, seq_len, hidden_dim]\n",
    "#             attention_mask (torch.Tensor): [batch_size, seq_len], with 1 for tokens to attend to and 0 for padding\n",
    "#         Returns:\n",
    "#             torch.Tensor: [batch_size, seq_len, hidden_dim]\n",
    "#         \"\"\"\n",
    "#         embeddings = embeddings.to(DEVICE)\n",
    "        \n",
    "        \n",
    "#         # Transpose embeddings to [seq_len, batch_size, hidden_dim] for nn.MultiheadAttention\n",
    "#         embeddings = embeddings.transpose(0, 1)\n",
    "\n",
    "#         # Prepare attention mask for nn.MultiheadAttention (optional)\n",
    "#         if attention_mask is not None:\n",
    "#     # nn.MultiheadAttention expects key_padding_mask of shape [batch_size, seq_len]\n",
    "#             key_padding_mask = attention_mask == 0  # True for padding tokens\n",
    "#         else:\n",
    "#             key_padding_mask = None\n",
    "\n",
    "\n",
    "#         # Self-attention\n",
    "#         attn_output, _ = self.self_attention(\n",
    "#             query=embeddings,\n",
    "#             key=embeddings,\n",
    "#             value=embeddings,\n",
    "#             key_padding_mask=key_padding_mask\n",
    "#         )\n",
    "\n",
    "#         # Residual connection and layer normalization\n",
    "#         attn_output = self.dropout(attn_output)\n",
    "#         attn_output = self.layer_norm(attn_output + embeddings)\n",
    "\n",
    "#         # Transpose back to [batch_size, seq_len, hidden_dim]\n",
    "#         attn_output = attn_output.transpose(0, 1)\n",
    "\n",
    "#         return attn_output"
   ]
  }
 ],
 "metadata": {
  "kernelspec": {
   "display_name": "Python 3",
   "language": "python",
   "name": "python3"
  },
  "language_info": {
   "codemirror_mode": {
    "name": "ipython",
    "version": 3
   },
   "file_extension": ".py",
   "mimetype": "text/x-python",
   "name": "python",
   "nbconvert_exporter": "python",
   "pygments_lexer": "ipython3",
   "version": "3.11.5"
  },
  "papermill": {
   "default_parameters": {},
   "duration": 366.83215,
   "end_time": "2024-11-18T21:02:35.216066",
   "environment_variables": {},
   "exception": null,
   "input_path": "/home/vijay/slim_sense/SHARPax/Python_code/test/NER-Experiments/FineTune-Experiments-TwoLang/FineTune-Hindi-Bengali.ipynb",
   "output_path": "/home/vijay/slim_sense/SHARPax/Python_code/test/NER-Experiments/FineTune-Experiments-TwoLang//FineTune-telugu-bengali.ipynb",
   "parameters": {
    "lang1": "telugu",
    "lang2": "bengali"
   },
   "start_time": "2024-11-18T20:56:28.383916",
   "version": "2.6.0"
  }
 },
 "nbformat": 4,
 "nbformat_minor": 5
}