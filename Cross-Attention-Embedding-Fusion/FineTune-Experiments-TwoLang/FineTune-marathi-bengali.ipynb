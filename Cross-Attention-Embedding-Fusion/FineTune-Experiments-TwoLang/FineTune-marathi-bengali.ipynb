{
 "cells": [
  {
   "cell_type": "code",
   "execution_count": 1,
   "id": "85842a6b",
   "metadata": {
    "execution": {
     "iopub.execute_input": "2024-11-18T20:21:24.522291Z",
     "iopub.status.busy": "2024-11-18T20:21:24.521702Z",
     "iopub.status.idle": "2024-11-18T20:21:24.527334Z",
     "shell.execute_reply": "2024-11-18T20:21:24.526806Z"
    },
    "papermill": {
     "duration": 0.013533,
     "end_time": "2024-11-18T20:21:24.529261",
     "exception": false,
     "start_time": "2024-11-18T20:21:24.515728",
     "status": "completed"
    },
    "tags": [
     "parameters"
    ]
   },
   "outputs": [],
   "source": [
    "# Parameters\n",
    "lang1 = \"hindi\"\n",
    "lang2 = \"bengali\""
   ]
  },
  {
   "cell_type": "code",
   "execution_count": 2,
   "id": "c3e26277",
   "metadata": {
    "execution": {
     "iopub.execute_input": "2024-11-18T20:21:24.540520Z",
     "iopub.status.busy": "2024-11-18T20:21:24.540399Z",
     "iopub.status.idle": "2024-11-18T20:21:24.542989Z",
     "shell.execute_reply": "2024-11-18T20:21:24.542494Z"
    },
    "papermill": {
     "duration": 0.00965,
     "end_time": "2024-11-18T20:21:24.544569",
     "exception": false,
     "start_time": "2024-11-18T20:21:24.534919",
     "status": "completed"
    },
    "tags": [
     "injected-parameters"
    ]
   },
   "outputs": [],
   "source": [
    "# Parameters\n",
    "lang1 = \"marathi\"\n",
    "lang2 = \"bengali\"\n"
   ]
  },
  {
   "cell_type": "code",
   "execution_count": 3,
   "id": "7922930c",
   "metadata": {
    "execution": {
     "iopub.execute_input": "2024-11-18T20:21:24.555075Z",
     "iopub.status.busy": "2024-11-18T20:21:24.554958Z",
     "iopub.status.idle": "2024-11-18T20:21:24.558160Z",
     "shell.execute_reply": "2024-11-18T20:21:24.557653Z"
    },
    "papermill": {
     "duration": 0.010222,
     "end_time": "2024-11-18T20:21:24.559698",
     "exception": false,
     "start_time": "2024-11-18T20:21:24.549476",
     "status": "completed"
    },
    "tags": []
   },
   "outputs": [
    {
     "name": "stdout",
     "output_type": "stream",
     "text": [
      "Running with lang1: marathi, lang2: bengali\n"
     ]
    }
   ],
   "source": [
    "print(f\"Running with lang1: {lang1}, lang2: {lang2}\")"
   ]
  },
  {
   "cell_type": "code",
   "execution_count": 4,
   "id": "281ed72c",
   "metadata": {
    "execution": {
     "iopub.execute_input": "2024-11-18T20:21:24.570715Z",
     "iopub.status.busy": "2024-11-18T20:21:24.570599Z",
     "iopub.status.idle": "2024-11-18T20:21:28.264807Z",
     "shell.execute_reply": "2024-11-18T20:21:28.264173Z"
    },
    "papermill": {
     "duration": 3.701903,
     "end_time": "2024-11-18T20:21:28.266693",
     "exception": false,
     "start_time": "2024-11-18T20:21:24.564790",
     "status": "completed"
    },
    "tags": []
   },
   "outputs": [
    {
     "name": "stderr",
     "output_type": "stream",
     "text": [
      "2024-11-18 20:21:26.650558: E external/local_xla/xla/stream_executor/cuda/cuda_dnn.cc:9261] Unable to register cuDNN factory: Attempting to register factory for plugin cuDNN when one has already been registered\n",
      "2024-11-18 20:21:26.650589: E external/local_xla/xla/stream_executor/cuda/cuda_fft.cc:607] Unable to register cuFFT factory: Attempting to register factory for plugin cuFFT when one has already been registered\n",
      "2024-11-18 20:21:26.651955: E external/local_xla/xla/stream_executor/cuda/cuda_blas.cc:1515] Unable to register cuBLAS factory: Attempting to register factory for plugin cuBLAS when one has already been registered\n",
      "2024-11-18 20:21:26.658103: I tensorflow/core/platform/cpu_feature_guard.cc:182] This TensorFlow binary is optimized to use available CPU instructions in performance-critical operations.\n",
      "To enable the following instructions: AVX2 FMA, in other operations, rebuild TensorFlow with the appropriate compiler flags.\n"
     ]
    },
    {
     "name": "stderr",
     "output_type": "stream",
     "text": [
      "2024-11-18 20:21:27.421727: W tensorflow/compiler/tf2tensorrt/utils/py_utils.cc:38] TF-TRT Warning: Could not find TensorRT\n"
     ]
    }
   ],
   "source": [
    "import torch\n",
    "import torch.nn as nn\n",
    "import torch.optim as optim\n",
    "import torch.nn.functional as F\n",
    "from transformers import BertTokenizerFast, BertModel\n",
    "import pandas as pd\n",
    "from torch.utils.data import Dataset, DataLoader\n",
    "import numpy as np\n",
    "import string\n",
    "import json"
   ]
  },
  {
   "cell_type": "code",
   "execution_count": 5,
   "id": "f7aa82b6",
   "metadata": {
    "execution": {
     "iopub.execute_input": "2024-11-18T20:21:28.278837Z",
     "iopub.status.busy": "2024-11-18T20:21:28.278574Z",
     "iopub.status.idle": "2024-11-18T20:21:28.305535Z",
     "shell.execute_reply": "2024-11-18T20:21:28.304971Z"
    },
    "papermill": {
     "duration": 0.03465,
     "end_time": "2024-11-18T20:21:28.307235",
     "exception": false,
     "start_time": "2024-11-18T20:21:28.272585",
     "status": "completed"
    },
    "tags": []
   },
   "outputs": [],
   "source": [
    "# Load train data from json (L1)\n",
    "with open(f\"/home/vijay/slim_sense/SHARPax/Python_code/test/NER-Experiments/Dataset/{lang1}_train.json\") as f:\n",
    "    train_data_1 = json.load(f)\n",
    "\n",
    "# Load test data from json\n",
    "with open(f\"/home/vijay/slim_sense/SHARPax/Python_code/test/NER-Experiments/Dataset/{lang1}_test.json\") as f:\n",
    "    test_data_1 = json.load(f)\n",
    "\n",
    "# Load train data from json (L2)\n",
    "with open(f\"/home/vijay/slim_sense/SHARPax/Python_code/test/NER-Experiments/Dataset/{lang2}_train.json\") as f:\n",
    "    train_data_2 = json.load(f)\n",
    "\n",
    "# Load test data from json\n",
    "with open(f\"/home/vijay/slim_sense/SHARPax/Python_code/test/NER-Experiments/Dataset/{lang2}_test.json\") as f:\n",
    "    test_data_2 = json.load(f)\n"
   ]
  },
  {
   "cell_type": "code",
   "execution_count": 6,
   "id": "cdbbbfc8",
   "metadata": {
    "execution": {
     "iopub.execute_input": "2024-11-18T20:21:28.318737Z",
     "iopub.status.busy": "2024-11-18T20:21:28.318606Z",
     "iopub.status.idle": "2024-11-18T20:21:28.321841Z",
     "shell.execute_reply": "2024-11-18T20:21:28.321307Z"
    },
    "papermill": {
     "duration": 0.010798,
     "end_time": "2024-11-18T20:21:28.323413",
     "exception": false,
     "start_time": "2024-11-18T20:21:28.312615",
     "status": "completed"
    },
    "tags": []
   },
   "outputs": [
    {
     "name": "stdout",
     "output_type": "stream",
     "text": [
      "Running with lang1: marathi, lang2: bengali\n"
     ]
    }
   ],
   "source": [
    "print(f\"Running with lang1: {lang1}, lang2: {lang2}\")"
   ]
  },
  {
   "cell_type": "code",
   "execution_count": 7,
   "id": "8dcc480d",
   "metadata": {
    "execution": {
     "iopub.execute_input": "2024-11-18T20:21:28.335352Z",
     "iopub.status.busy": "2024-11-18T20:21:28.335213Z",
     "iopub.status.idle": "2024-11-18T20:21:28.337819Z",
     "shell.execute_reply": "2024-11-18T20:21:28.337307Z"
    },
    "papermill": {
     "duration": 0.010544,
     "end_time": "2024-11-18T20:21:28.339381",
     "exception": false,
     "start_time": "2024-11-18T20:21:28.328837",
     "status": "completed"
    },
    "tags": []
   },
   "outputs": [],
   "source": [
    "# Merge the two datasets\n",
    "train_data = train_data_1 + train_data_2\n",
    "test_data = test_data_1 + test_data_2"
   ]
  },
  {
   "cell_type": "code",
   "execution_count": 8,
   "id": "9daa1979",
   "metadata": {
    "execution": {
     "iopub.execute_input": "2024-11-18T20:21:28.351174Z",
     "iopub.status.busy": "2024-11-18T20:21:28.351053Z",
     "iopub.status.idle": "2024-11-18T20:21:28.820780Z",
     "shell.execute_reply": "2024-11-18T20:21:28.820122Z"
    },
    "papermill": {
     "duration": 0.477688,
     "end_time": "2024-11-18T20:21:28.822692",
     "exception": false,
     "start_time": "2024-11-18T20:21:28.345004",
     "status": "completed"
    },
    "tags": []
   },
   "outputs": [],
   "source": [
    "from transformers import AutoTokenizer, AutoModel\n",
    "\n",
    "# Load tokeniser\n",
    "tokenizer = BertTokenizerFast.from_pretrained('bert-base-multilingual-cased')"
   ]
  },
  {
   "cell_type": "code",
   "execution_count": 9,
   "id": "23bd6a17",
   "metadata": {
    "execution": {
     "iopub.execute_input": "2024-11-18T20:21:28.834838Z",
     "iopub.status.busy": "2024-11-18T20:21:28.834710Z",
     "iopub.status.idle": "2024-11-18T20:21:28.840193Z",
     "shell.execute_reply": "2024-11-18T20:21:28.839670Z"
    },
    "papermill": {
     "duration": 0.013471,
     "end_time": "2024-11-18T20:21:28.841854",
     "exception": false,
     "start_time": "2024-11-18T20:21:28.828383",
     "status": "completed"
    },
    "tags": []
   },
   "outputs": [],
   "source": [
    "class NER_Dataset(Dataset):\n",
    "    def __init__(self, data, tokenizer, max_len=128):\n",
    "        self.data = data  # List of sentences and labels\n",
    "        self.tokenizer = tokenizer  # mBERT tokenizer\n",
    "        self.max_len = max_len\n",
    "\n",
    "    def __len__(self):\n",
    "        return len(self.data)\n",
    "\n",
    "    def __getitem__(self, idx):\n",
    "        text = self.data[idx][\"tokens\"]\n",
    "        word_labels = self.data[idx][\"ner_tags\"]\n",
    "\n",
    "        # Tokenize the text and align the labels\n",
    "        encoding = self.tokenizer(text,\n",
    "                                  is_split_into_words=True,\n",
    "                                  return_offsets_mapping=True,\n",
    "                                  padding='max_length',\n",
    "                                  truncation=True,\n",
    "                                  max_length=self.max_len)\n",
    "\n",
    "        labels = [self.align_labels(encoding['offset_mapping'], word_labels)]\n",
    "\n",
    "        # Remove the offset mapping to prevent issues during model training\n",
    "        del encoding['offset_mapping']\n",
    "\n",
    "        item = {key: torch.tensor(val) for key, val in encoding.items()}\n",
    "        item['labels'] = torch.tensor(labels[0], dtype=torch.long)\n",
    "\n",
    "        return item\n",
    "    \n",
    "    # Create a function to align labels\n",
    "    def align_labels(self, offset_mapping, labels):\n",
    "        aligned_labels = []\n",
    "        current_label_index = 0\n",
    "\n",
    "        for offset in offset_mapping:\n",
    "            # If the offset mapping is (0, 0), it's a special token ([CLS], [SEP], [PAD])\n",
    "            if offset == (0, 0):\n",
    "                aligned_labels.append(-100)  # -100 is used to ignore these tokens in the loss computation\n",
    "            else:\n",
    "                # Check if the token is the start of a new word\n",
    "                if offset[0] == 0:\n",
    "                    aligned_labels.append(labels[current_label_index])\n",
    "                    current_label_index += 1\n",
    "                else:\n",
    "                    # If the token is not the first subtoken, you can decide how to label it. \n",
    "                    # For simplicity, let's use the same label as the first subtoken\n",
    "                    aligned_labels.append(labels[current_label_index - 1])\n",
    "\n",
    "        return aligned_labels"
   ]
  },
  {
   "cell_type": "code",
   "execution_count": 10,
   "id": "e5881201",
   "metadata": {
    "execution": {
     "iopub.execute_input": "2024-11-18T20:21:28.854203Z",
     "iopub.status.busy": "2024-11-18T20:21:28.854063Z",
     "iopub.status.idle": "2024-11-18T20:21:28.857110Z",
     "shell.execute_reply": "2024-11-18T20:21:28.856621Z"
    },
    "papermill": {
     "duration": 0.011077,
     "end_time": "2024-11-18T20:21:28.858705",
     "exception": false,
     "start_time": "2024-11-18T20:21:28.847628",
     "status": "completed"
    },
    "tags": []
   },
   "outputs": [],
   "source": [
    "# Create train dataset and test dataset\n",
    "train_dataset = NER_Dataset(train_data, tokenizer)\n",
    "test_dataset = NER_Dataset(test_data, tokenizer)\n",
    "\n",
    "# Create train dataloader and test dataloader\n",
    "train_dataloader = DataLoader(train_dataset, batch_size=32, shuffle=True)\n",
    "test_dataloader = DataLoader(test_dataset, batch_size=32, shuffle=False)"
   ]
  },
  {
   "cell_type": "code",
   "execution_count": 11,
   "id": "4d8b03b3",
   "metadata": {
    "execution": {
     "iopub.execute_input": "2024-11-18T20:21:28.871517Z",
     "iopub.status.busy": "2024-11-18T20:21:28.870930Z",
     "iopub.status.idle": "2024-11-18T20:21:28.945275Z",
     "shell.execute_reply": "2024-11-18T20:21:28.944672Z"
    },
    "papermill": {
     "duration": 0.082528,
     "end_time": "2024-11-18T20:21:28.946939",
     "exception": false,
     "start_time": "2024-11-18T20:21:28.864411",
     "status": "completed"
    },
    "tags": []
   },
   "outputs": [
    {
     "data": {
      "text/plain": [
       "'cuda'"
      ]
     },
     "execution_count": 11,
     "metadata": {},
     "output_type": "execute_result"
    }
   ],
   "source": [
    "DEVICE = 'cuda' if torch.cuda.is_available() else 'cpu'\n",
    "DEVICE"
   ]
  },
  {
   "cell_type": "code",
   "execution_count": 12,
   "id": "e662e764",
   "metadata": {
    "execution": {
     "iopub.execute_input": "2024-11-18T20:21:28.960362Z",
     "iopub.status.busy": "2024-11-18T20:21:28.959894Z",
     "iopub.status.idle": "2024-11-18T20:21:28.965758Z",
     "shell.execute_reply": "2024-11-18T20:21:28.965111Z"
    },
    "papermill": {
     "duration": 0.014212,
     "end_time": "2024-11-18T20:21:28.967244",
     "exception": false,
     "start_time": "2024-11-18T20:21:28.953032",
     "status": "completed"
    },
    "tags": []
   },
   "outputs": [],
   "source": [
    "import torch\n",
    "import torch.nn as nn\n",
    "\n",
    "class CrossAttentionFusion(nn.Module):\n",
    "    def __init__(self, hidden_dim, num_heads):\n",
    "        super(CrossAttentionFusion, self).__init__()\n",
    "        self.cross_attention = nn.MultiheadAttention(embed_dim=hidden_dim, num_heads=num_heads)\n",
    "        self.layer_norm = nn.LayerNorm(hidden_dim)\n",
    "\n",
    "    def forward(self, embeddings_mbert, embeddings_indicbert):\n",
    "        \"\"\"\n",
    "        Fuse embeddings from mBERT and Indic-BERT using cross-attention.\n",
    "\n",
    "        Args:\n",
    "            embeddings_mbert (torch.Tensor): Embeddings from mBERT of shape [batch_size, seq_len_m, hidden_dim].\n",
    "            embeddings_indicbert (torch.Tensor): Embeddings from Indic-BERT of shape [batch_size, seq_len_i, hidden_dim].\n",
    "\n",
    "        Returns:\n",
    "            torch.Tensor: Fused embeddings of shape [batch_size, seq_len_m, hidden_dim].\n",
    "        \"\"\"\n",
    "        embeddings_mbert = embeddings_mbert.to(DEVICE)\n",
    "        embeddings_indicbert = embeddings_indicbert.to(DEVICE)\n",
    "        \n",
    "        # Transpose to shape [seq_len, batch_size, hidden_dim] for nn.MultiheadAttention\n",
    "        embeddings_mbert = embeddings_mbert.transpose(0, 1)\n",
    "        embeddings_indicbert = embeddings_indicbert.transpose(0, 1)\n",
    "\n",
    "        # Cross-attention: Indic BERT queries attend to m-BERT keys and values\n",
    "        attn_output, _ = self.cross_attention(\n",
    "            query=embeddings_indicbert,       # Queries from Indic-BERT\n",
    "            key=embeddings_mbert,     # Keys from m-BERT\n",
    "            value=embeddings_mbert    # Values from m-BERT\n",
    "        )\n",
    "\n",
    "        attn_output.to(DEVICE)\n",
    "\n",
    "        # Residual connection and layer normalization\n",
    "        output = self.layer_norm(attn_output + embeddings_mbert)\n",
    "\n",
    "        # Transpose back to [batch_size, seq_len_m, hidden_dim]\n",
    "        output = output.transpose(0, 1)\n",
    "\n",
    "        return output"
   ]
  },
  {
   "cell_type": "code",
   "execution_count": 13,
   "id": "e0a8c2bd",
   "metadata": {
    "execution": {
     "iopub.execute_input": "2024-11-18T20:21:28.980188Z",
     "iopub.status.busy": "2024-11-18T20:21:28.979732Z",
     "iopub.status.idle": "2024-11-18T20:21:28.983145Z",
     "shell.execute_reply": "2024-11-18T20:21:28.982432Z"
    },
    "papermill": {
     "duration": 0.011551,
     "end_time": "2024-11-18T20:21:28.984726",
     "exception": false,
     "start_time": "2024-11-18T20:21:28.973175",
     "status": "completed"
    },
    "tags": []
   },
   "outputs": [],
   "source": [
    "hidden_dim = 768\n",
    "num_heads = 4"
   ]
  },
  {
   "cell_type": "code",
   "execution_count": 14,
   "id": "b100a713",
   "metadata": {
    "execution": {
     "iopub.execute_input": "2024-11-18T20:21:28.998248Z",
     "iopub.status.busy": "2024-11-18T20:21:28.997635Z",
     "iopub.status.idle": "2024-11-18T20:21:30.530277Z",
     "shell.execute_reply": "2024-11-18T20:21:30.529707Z"
    },
    "papermill": {
     "duration": 1.541263,
     "end_time": "2024-11-18T20:21:30.532021",
     "exception": false,
     "start_time": "2024-11-18T20:21:28.990758",
     "status": "completed"
    },
    "tags": []
   },
   "outputs": [
    {
     "data": {
      "text/plain": [
       "MBERT_NER(\n",
       "  (bert): BertModel(\n",
       "    (embeddings): BertEmbeddings(\n",
       "      (word_embeddings): Embedding(119547, 768, padding_idx=0)\n",
       "      (position_embeddings): Embedding(512, 768)\n",
       "      (token_type_embeddings): Embedding(2, 768)\n",
       "      (LayerNorm): LayerNorm((768,), eps=1e-12, elementwise_affine=True)\n",
       "      (dropout): Dropout(p=0.1, inplace=False)\n",
       "    )\n",
       "    (encoder): BertEncoder(\n",
       "      (layer): ModuleList(\n",
       "        (0-11): 12 x BertLayer(\n",
       "          (attention): BertAttention(\n",
       "            (self): BertSdpaSelfAttention(\n",
       "              (query): Linear(in_features=768, out_features=768, bias=True)\n",
       "              (key): Linear(in_features=768, out_features=768, bias=True)\n",
       "              (value): Linear(in_features=768, out_features=768, bias=True)\n",
       "              (dropout): Dropout(p=0.1, inplace=False)\n",
       "            )\n",
       "            (output): BertSelfOutput(\n",
       "              (dense): Linear(in_features=768, out_features=768, bias=True)\n",
       "              (LayerNorm): LayerNorm((768,), eps=1e-12, elementwise_affine=True)\n",
       "              (dropout): Dropout(p=0.1, inplace=False)\n",
       "            )\n",
       "          )\n",
       "          (intermediate): BertIntermediate(\n",
       "            (dense): Linear(in_features=768, out_features=3072, bias=True)\n",
       "            (intermediate_act_fn): GELUActivation()\n",
       "          )\n",
       "          (output): BertOutput(\n",
       "            (dense): Linear(in_features=3072, out_features=768, bias=True)\n",
       "            (LayerNorm): LayerNorm((768,), eps=1e-12, elementwise_affine=True)\n",
       "            (dropout): Dropout(p=0.1, inplace=False)\n",
       "          )\n",
       "        )\n",
       "      )\n",
       "    )\n",
       "    (pooler): BertPooler(\n",
       "      (dense): Linear(in_features=768, out_features=768, bias=True)\n",
       "      (activation): Tanh()\n",
       "    )\n",
       "  )\n",
       "  (indic_bert): AlbertModel(\n",
       "    (embeddings): AlbertEmbeddings(\n",
       "      (word_embeddings): Embedding(200000, 128, padding_idx=0)\n",
       "      (position_embeddings): Embedding(512, 128)\n",
       "      (token_type_embeddings): Embedding(2, 128)\n",
       "      (LayerNorm): LayerNorm((128,), eps=1e-12, elementwise_affine=True)\n",
       "      (dropout): Dropout(p=0, inplace=False)\n",
       "    )\n",
       "    (encoder): AlbertTransformer(\n",
       "      (embedding_hidden_mapping_in): Linear(in_features=128, out_features=768, bias=True)\n",
       "      (albert_layer_groups): ModuleList(\n",
       "        (0): AlbertLayerGroup(\n",
       "          (albert_layers): ModuleList(\n",
       "            (0): AlbertLayer(\n",
       "              (full_layer_layer_norm): LayerNorm((768,), eps=1e-12, elementwise_affine=True)\n",
       "              (attention): AlbertSdpaAttention(\n",
       "                (query): Linear(in_features=768, out_features=768, bias=True)\n",
       "                (key): Linear(in_features=768, out_features=768, bias=True)\n",
       "                (value): Linear(in_features=768, out_features=768, bias=True)\n",
       "                (attention_dropout): Dropout(p=0, inplace=False)\n",
       "                (output_dropout): Dropout(p=0, inplace=False)\n",
       "                (dense): Linear(in_features=768, out_features=768, bias=True)\n",
       "                (LayerNorm): LayerNorm((768,), eps=1e-12, elementwise_affine=True)\n",
       "              )\n",
       "              (ffn): Linear(in_features=768, out_features=3072, bias=True)\n",
       "              (ffn_output): Linear(in_features=3072, out_features=768, bias=True)\n",
       "              (activation): GELUActivation()\n",
       "              (dropout): Dropout(p=0, inplace=False)\n",
       "            )\n",
       "          )\n",
       "        )\n",
       "      )\n",
       "    )\n",
       "    (pooler): Linear(in_features=768, out_features=768, bias=True)\n",
       "    (pooler_activation): Tanh()\n",
       "  )\n",
       "  (attention): CrossAttentionFusion(\n",
       "    (cross_attention): MultiheadAttention(\n",
       "      (out_proj): NonDynamicallyQuantizableLinear(in_features=768, out_features=768, bias=True)\n",
       "    )\n",
       "    (layer_norm): LayerNorm((768,), eps=1e-05, elementwise_affine=True)\n",
       "  )\n",
       "  (gru): GRU(2304, 128, batch_first=True)\n",
       "  (classifier): Linear(in_features=128, out_features=7, bias=True)\n",
       "  (dropout): Dropout(p=0.1, inplace=False)\n",
       "  (batch_norm): BatchNorm1d(128, eps=1e-05, momentum=0.1, affine=True, track_running_stats=True)\n",
       ")"
      ]
     },
     "execution_count": 14,
     "metadata": {},
     "output_type": "execute_result"
    }
   ],
   "source": [
    "# Model for NER\n",
    "\n",
    "class MBERT_NER(nn.Module):\n",
    "    def __init__(self, num_labels, gru_hidden_size, num_gru_layers, freeze_bert=False):\n",
    "        super(MBERT_NER, self).__init__()\n",
    "\n",
    "        self.bert = BertModel.from_pretrained(\"bert-base-multilingual-cased\")\n",
    "        self.indic_bert = AutoModel.from_pretrained(\"ai4bharat/indic-bert\")\n",
    "        \n",
    "        # Initialize the Fusion Attention\n",
    "        self.attention = CrossAttentionFusion(hidden_dim=hidden_dim, num_heads=num_heads).to(DEVICE)\n",
    "        \n",
    "        self.gru = nn.GRU(input_size=self.bert.config.hidden_size * 3,\n",
    "                          hidden_size=gru_hidden_size,\n",
    "                          num_layers=num_gru_layers,\n",
    "                          batch_first=True)\n",
    "        self.classifier = nn.Linear(gru_hidden_size, num_labels)\n",
    "        self.dropout = nn.Dropout(0.1)\n",
    "        self.batch_norm = nn.BatchNorm1d(gru_hidden_size)\n",
    "\n",
    "        if freeze_bert:\n",
    "            for param in self.bert.parameters():\n",
    "                param.requires_grad = False\n",
    "            for param in self.indic_bert.parameters():\n",
    "                param.requires_grad = False\n",
    "\n",
    "    def forward(self, input_ids, attention_mask):\n",
    "        \n",
    "        input_ids = input_ids.to(DEVICE)\n",
    "        attention_mask = attention_mask.to(DEVICE)\n",
    "        \n",
    "        # Embeddings\n",
    "        outputs1 = self.bert(input_ids=input_ids, attention_mask=attention_mask)\n",
    "        outputs2 = self.indic_bert(input_ids = input_ids, attention_mask = attention_mask)        \n",
    "        \n",
    "        embeddings_mbert = outputs1.last_hidden_state.to(DEVICE)\n",
    "        embeddings_indicbert = outputs2.last_hidden_state.to(DEVICE)\n",
    "        \n",
    "        # Fused embeddings\n",
    "        embeddings = self.attention(embeddings_mbert, embeddings_indicbert).to(DEVICE)\n",
    "        \n",
    "        sequence_output = torch.cat((embeddings_mbert, embeddings_indicbert, embeddings), dim=-1)\n",
    "        \n",
    "        gru_output, _ = self.gru(sequence_output)\n",
    "        gru_output = self.batch_norm(gru_output)\n",
    "        gru_output = self.dropout(gru_output)\n",
    "        \n",
    "        logits = self.classifier(gru_output)\n",
    "        return logits\n",
    "\n",
    "# Create the NER model\n",
    "NUM_LABELS = 7 # Number of NER tags\n",
    "GRU_HIDDEN_SIZE = 128 # Hidden size of the GRU\n",
    "NUM_GRU_LAYERS = 1 # Number of layers in the GRU\n",
    "FREEZE_BERT = False # Whether to freeze the BERT model\n",
    "DEVICE = 'cuda' if torch.cuda.is_available() else 'cpu'\n",
    "\n",
    "model = MBERT_NER(num_labels=NUM_LABELS,\n",
    "                    gru_hidden_size=GRU_HIDDEN_SIZE,\n",
    "                    num_gru_layers=NUM_GRU_LAYERS,\n",
    "                    freeze_bert=FREEZE_BERT)\n",
    "\n",
    "model.to(DEVICE)"
   ]
  },
  {
   "cell_type": "code",
   "execution_count": 15,
   "id": "cc3d30a8",
   "metadata": {
    "execution": {
     "iopub.execute_input": "2024-11-18T20:21:30.546244Z",
     "iopub.status.busy": "2024-11-18T20:21:30.545717Z",
     "iopub.status.idle": "2024-11-18T20:21:30.548576Z",
     "shell.execute_reply": "2024-11-18T20:21:30.548093Z"
    },
    "papermill": {
     "duration": 0.011544,
     "end_time": "2024-11-18T20:21:30.550194",
     "exception": false,
     "start_time": "2024-11-18T20:21:30.538650",
     "status": "completed"
    },
    "tags": []
   },
   "outputs": [],
   "source": [
    "torch.cuda.empty_cache()"
   ]
  },
  {
   "cell_type": "code",
   "execution_count": 16,
   "id": "045ac41c",
   "metadata": {
    "execution": {
     "iopub.execute_input": "2024-11-18T20:21:30.564298Z",
     "iopub.status.busy": "2024-11-18T20:21:30.563721Z",
     "iopub.status.idle": "2024-11-18T20:28:39.573825Z",
     "shell.execute_reply": "2024-11-18T20:28:39.573063Z"
    },
    "papermill": {
     "duration": 429.02113,
     "end_time": "2024-11-18T20:28:39.577693",
     "exception": false,
     "start_time": "2024-11-18T20:21:30.556563",
     "status": "completed"
    },
    "tags": []
   },
   "outputs": [
    {
     "name": "stdout",
     "output_type": "stream",
     "text": [
      "Epoch 1/6, Train Loss: 0.5643, Train F1: 0.7744, Train Acc: 0.8174, Val Loss: 0.3244, Val F1: 0.8835, Val Acc: 0.9049\n"
     ]
    },
    {
     "name": "stdout",
     "output_type": "stream",
     "text": [
      "Epoch 2/6, Train Loss: 0.2475, Train F1: 0.9118, Train Acc: 0.9286, Val Loss: 0.2457, Val F1: 0.9155, Val Acc: 0.9311\n"
     ]
    },
    {
     "name": "stdout",
     "output_type": "stream",
     "text": [
      "Epoch 3/6, Train Loss: 0.1685, Train F1: 0.9404, Train Acc: 0.9520, Val Loss: 0.2207, Val F1: 0.9239, Val Acc: 0.9374\n"
     ]
    },
    {
     "name": "stdout",
     "output_type": "stream",
     "text": [
      "Epoch 4/6, Train Loss: 0.1240, Train F1: 0.9562, Train Acc: 0.9651, Val Loss: 0.2183, Val F1: 0.9259, Val Acc: 0.9379\n"
     ]
    },
    {
     "name": "stdout",
     "output_type": "stream",
     "text": [
      "Epoch 5/6, Train Loss: 0.0909, Train F1: 0.9710, Train Acc: 0.9766, Val Loss: 0.2181, Val F1: 0.9291, Val Acc: 0.9414\n"
     ]
    },
    {
     "name": "stdout",
     "output_type": "stream",
     "text": [
      "Epoch 6/6, Train Loss: 0.0749, Train F1: 0.9741, Train Acc: 0.9797, Val Loss: 0.2392, Val F1: 0.9262, Val Acc: 0.9395\n"
     ]
    }
   ],
   "source": [
    "from sklearn.metrics import f1_score, accuracy_score\n",
    "\n",
    "# Optimizer and loss function\n",
    "optimizer = optim.AdamW(model.parameters(), lr=2e-5)\n",
    "criterion = nn.CrossEntropyLoss(ignore_index=-100)\n",
    "\n",
    "# Training loop\n",
    "EPOCHS = 6\n",
    "\n",
    "train_losses = []\n",
    "train_f1_scores = []\n",
    "train_acc_scores = []\n",
    "val_losses = []\n",
    "val_f1_scores = []\n",
    "val_acc_scores = []\n",
    "\n",
    "\n",
    "for epoch in range(EPOCHS):\n",
    "    model.train()\n",
    "    train_loss = 0\n",
    "    train_predictions, train_labels = [], []\n",
    "\n",
    "    for batch in train_dataloader:\n",
    "        input_ids = batch['input_ids'].to(DEVICE)\n",
    "        attention_mask = batch['attention_mask'].to(DEVICE)\n",
    "        labels = batch['labels'].to(DEVICE)\n",
    "\n",
    "        optimizer.zero_grad()\n",
    "        logits = model(input_ids, attention_mask)\n",
    "        logits = logits.view(-1, NUM_LABELS)\n",
    "        labels = labels.view(-1)\n",
    "\n",
    "        loss = criterion(logits, labels)\n",
    "        loss.backward()\n",
    "        optimizer.step()\n",
    "\n",
    "        train_loss += loss.item()\n",
    "\n",
    "        # Get predictions and filter out ignored indices for metric calculations\n",
    "        predictions = torch.argmax(logits, dim=-1)\n",
    "        active_indices = labels != -100\n",
    "        train_predictions.extend(predictions[active_indices].cpu().numpy())\n",
    "        train_labels.extend(labels[active_indices].cpu().numpy())\n",
    "\n",
    "    train_loss /= len(train_dataloader)\n",
    "    train_losses.append(train_loss)\n",
    "\n",
    "    train_f1 = f1_score(train_labels, train_predictions, average='macro')\n",
    "    train_f1_scores.append(train_f1)\n",
    "\n",
    "    train_acc = accuracy_score(train_labels, train_predictions)\n",
    "    train_acc_scores.append(train_acc)\n",
    "\n",
    "    # Validation loop\n",
    "    model.eval()\n",
    "    val_loss = 0\n",
    "    val_predictions, val_labels = [], []\n",
    "\n",
    "    with torch.no_grad():\n",
    "        for batch in test_dataloader:\n",
    "            input_ids = batch['input_ids'].to(DEVICE)\n",
    "            attention_mask = batch['attention_mask'].to(DEVICE)\n",
    "            labels = batch['labels'].to(DEVICE)\n",
    "\n",
    "            logits = model(input_ids, attention_mask)\n",
    "            logits = logits.view(-1, NUM_LABELS)\n",
    "            labels = labels.view(-1)\n",
    "\n",
    "            loss = criterion(logits, labels)\n",
    "            val_loss += loss.item()\n",
    "\n",
    "            # Filter predictions and labels\n",
    "            predictions = torch.argmax(logits, dim=-1)\n",
    "            active_indices = labels != -100\n",
    "            val_predictions.extend(predictions[active_indices].cpu().numpy())\n",
    "            val_labels.extend(labels[active_indices].cpu().numpy())\n",
    "\n",
    "    val_loss /= len(test_dataloader)\n",
    "    val_losses.append(val_loss)\n",
    "\n",
    "    val_f1 = f1_score(val_labels, val_predictions, average='macro')\n",
    "    val_f1_scores.append(val_f1)\n",
    "\n",
    "    val_acc = accuracy_score(val_labels, val_predictions)\n",
    "    val_acc_scores.append(val_acc)\n",
    "                                                \n",
    "    print(f\"Epoch {epoch + 1}/{EPOCHS}, Train Loss: {train_loss:.4f}, Train F1: {train_f1:.4f}, Train Acc: {train_acc:.4f}, Val Loss: {val_loss:.4f}, Val F1: {val_f1:.4f}, Val Acc: {val_acc:.4f}\")"
   ]
  },
  {
   "cell_type": "code",
   "execution_count": 17,
   "id": "66669c0f",
   "metadata": {
    "execution": {
     "iopub.execute_input": "2024-11-18T20:28:39.586090Z",
     "iopub.status.busy": "2024-11-18T20:28:39.585619Z",
     "iopub.status.idle": "2024-11-18T20:28:53.811309Z",
     "shell.execute_reply": "2024-11-18T20:28:53.810659Z"
    },
    "papermill": {
     "duration": 14.231686,
     "end_time": "2024-11-18T20:28:53.812992",
     "exception": false,
     "start_time": "2024-11-18T20:28:39.581306",
     "status": "completed"
    },
    "tags": []
   },
   "outputs": [
    {
     "name": "stdout",
     "output_type": "stream",
     "text": [
      "Language: Hindi\n",
      "\n",
      "Weighted F1: 0.8301\n",
      "Macro F1: 0.7865\n",
      "Accuracy: 0.8285\n",
      "\n",
      "CLASSIFICATION REPORT: \n",
      "              precision    recall  f1-score   support\n",
      "\n",
      "           0       0.93      0.86      0.89      5277\n",
      "           1       0.79      0.83      0.81      1481\n",
      "           2       0.80      0.92      0.86      1874\n",
      "           3       0.65      0.76      0.70       986\n",
      "           4       0.86      0.82      0.84      2602\n",
      "           5       0.69      0.78      0.73      1195\n",
      "           6       0.73      0.63      0.68       867\n",
      "\n",
      "    accuracy                           0.83     14282\n",
      "   macro avg       0.78      0.80      0.79     14282\n",
      "weighted avg       0.84      0.83      0.83     14282\n",
      "\n",
      "\n",
      "CONFUSION MATRIX: \n",
      "[[4516  193   53  233   51  185   46]\n",
      " [  18 1233  129   27   10   64    0]\n",
      " [  21   28 1720    1   68    1   35]\n",
      " [  33   79    9  747   58   60    0]\n",
      " [ 161   11  163   27 2139   38   63]\n",
      " [  24   23   12  123   22  930   61]\n",
      " [  57    0   61    0  136   65  548]]\n",
      "--------------------------------------------------\n"
     ]
    },
    {
     "name": "stdout",
     "output_type": "stream",
     "text": [
      "Language: Bengali\n",
      "\n",
      "Weighted F1: 0.9467\n",
      "Macro F1: 0.9449\n",
      "Accuracy: 0.9467\n",
      "\n",
      "CLASSIFICATION REPORT: \n",
      "              precision    recall  f1-score   support\n",
      "\n",
      "           0       0.98      0.91      0.94      1835\n",
      "           1       0.95      0.93      0.94      1343\n",
      "           2       0.95      0.96      0.96      2490\n",
      "           3       0.92      0.95      0.94      1239\n",
      "           4       0.95      0.95      0.95      3068\n",
      "           5       0.93      0.96      0.94      1510\n",
      "           6       0.94      0.95      0.95      2080\n",
      "\n",
      "    accuracy                           0.95     13565\n",
      "   macro avg       0.95      0.95      0.94     13565\n",
      "weighted avg       0.95      0.95      0.95     13565\n",
      "\n",
      "\n",
      "CONFUSION MATRIX: \n",
      "[[1664   22   16   23   61   26   23]\n",
      " [   9 1253   11   24    0   46    0]\n",
      " [   7   12 2386    0   34    0   51]\n",
      " [   4   19    1 1180    6   29    0]\n",
      " [   9    0   64   13 2926    1   55]\n",
      " [   4   16    5   36    0 1449    0]\n",
      " [   5    0   17    5   55   14 1984]]\n",
      "--------------------------------------------------\n"
     ]
    },
    {
     "name": "stdout",
     "output_type": "stream",
     "text": [
      "Language: Marathi\n",
      "\n",
      "Weighted F1: 0.9349\n",
      "Macro F1: 0.8952\n",
      "Accuracy: 0.9347\n",
      "\n",
      "CLASSIFICATION REPORT: \n",
      "              precision    recall  f1-score   support\n",
      "\n",
      "           0       0.98      0.96      0.97     10408\n",
      "           1       0.88      0.95      0.92      1342\n",
      "           2       0.94      0.97      0.96      1992\n",
      "           3       0.80      0.85      0.83      1172\n",
      "           4       0.91      0.93      0.92      2535\n",
      "           5       0.89      0.87      0.88      1829\n",
      "           6       0.81      0.78      0.80       820\n",
      "\n",
      "    accuracy                           0.93     20098\n",
      "   macro avg       0.89      0.90      0.90     20098\n",
      "weighted avg       0.94      0.93      0.93     20098\n",
      "\n",
      "\n",
      "CONFUSION MATRIX: \n",
      "[[9973   85   36   79   78  112   45]\n",
      " [  24 1273    7   32    0    6    0]\n",
      " [  12    6 1942    0   24    0    8]\n",
      " [  48   59    0 1001    6   53    5]\n",
      " [  25    0   61    9 2367    0   73]\n",
      " [  67   16   10  129    0 1587   20]\n",
      " [  29    0   13    1  114   21  642]]\n",
      "--------------------------------------------------\n"
     ]
    },
    {
     "name": "stdout",
     "output_type": "stream",
     "text": [
      "Language: Tamil\n",
      "\n",
      "Weighted F1: 0.8235\n",
      "Macro F1: 0.7248\n",
      "Accuracy: 0.8190\n",
      "\n",
      "CLASSIFICATION REPORT: \n",
      "              precision    recall  f1-score   support\n",
      "\n",
      "           0       0.96      0.87      0.91     11461\n",
      "           1       0.70      0.73      0.71      1643\n",
      "           2       0.78      0.88      0.83      2295\n",
      "           3       0.61      0.58      0.59      1512\n",
      "           4       0.74      0.77      0.75      2532\n",
      "           5       0.70      0.83      0.75      1881\n",
      "           6       0.44      0.63      0.52       677\n",
      "\n",
      "    accuracy                           0.82     22001\n",
      "   macro avg       0.70      0.75      0.72     22001\n",
      "weighted avg       0.83      0.82      0.82     22001\n",
      "\n",
      "\n",
      "CONFUSION MATRIX: \n",
      "[[10012   357   130   321   249   295    97]\n",
      " [   46  1193   266    58    10    51    19]\n",
      " [   86    73  2011     6    45     0    74]\n",
      " [   39    68    29   874   211   225    66]\n",
      " [  151     1   108    33  1952    60   227]\n",
      " [   83    17     6   144    28  1552    51]\n",
      " [   34     0    21     2   147    48   425]]\n",
      "--------------------------------------------------\n"
     ]
    },
    {
     "name": "stdout",
     "output_type": "stream",
     "text": [
      "Language: Telugu\n",
      "\n",
      "Weighted F1: 0.8158\n",
      "Macro F1: 0.6632\n",
      "Accuracy: 0.8050\n",
      "\n",
      "CLASSIFICATION REPORT: \n",
      "              precision    recall  f1-score   support\n",
      "\n",
      "           0       0.98      0.84      0.90     17291\n",
      "           1       0.52      0.69      0.60      1810\n",
      "           2       0.59      0.95      0.73      1353\n",
      "           3       0.38      0.43      0.40      1375\n",
      "           4       0.73      0.74      0.73      2269\n",
      "           5       0.68      0.85      0.76      2072\n",
      "           6       0.43      0.65      0.52       455\n",
      "\n",
      "    accuracy                           0.80     26625\n",
      "   macro avg       0.62      0.74      0.66     26625\n",
      "weighted avg       0.84      0.80      0.82     26625\n",
      "\n",
      "\n",
      "CONFUSION MATRIX: \n",
      "[[14567   757   406   566   383   427   185]\n",
      " [   79  1256   292   104    12    66     1]\n",
      " [   25     5  1284     0    29     0    10]\n",
      " [   88   337    34   585   120   161    50]\n",
      " [   90     2   147   147  1682   100   101]\n",
      " [   66    36     0   144    20  1761    45]\n",
      " [   24     0     8     1    69    56   297]]\n",
      "--------------------------------------------------\n"
     ]
    }
   ],
   "source": [
    "from sklearn.metrics import f1_score\n",
    "from sklearn.metrics import accuracy_score\n",
    "from sklearn.metrics import classification_report\n",
    "from sklearn.metrics import confusion_matrix\n",
    "\n",
    "# Load the test data from json for all 5 languages\n",
    "languages = ['hindi', 'bengali', 'marathi', 'tamil', 'telugu']\n",
    "\n",
    "# Iterate over all languages and evaluate the model\n",
    "for lang in languages:\n",
    "    with open(f\"/home/vijay/slim_sense/SHARPax/Python_code/test/NER-Experiments/Dataset/{lang}_test.json\") as f:\n",
    "        test_data = json.load(f)\n",
    "\n",
    "    test_dataset = NER_Dataset(test_data, tokenizer)\n",
    "    test_dataloader = DataLoader(test_dataset, batch_size=32, shuffle=False)\n",
    "\n",
    "    model.eval()\n",
    "    test_predictions, test_labels = [], []\n",
    "\n",
    "    with torch.no_grad():\n",
    "        for batch in test_dataloader:\n",
    "            input_ids = batch['input_ids'].to(DEVICE)\n",
    "            attention_mask = batch['attention_mask'].to(DEVICE)\n",
    "            labels = batch['labels'].to(DEVICE)\n",
    "\n",
    "            logits = model(input_ids, attention_mask)\n",
    "            logits = logits.view(-1, NUM_LABELS)\n",
    "            labels = labels.view(-1)\n",
    "\n",
    "            # Filter predictions and labels\n",
    "            predictions = torch.argmax(logits, dim=-1)\n",
    "            active_indices = labels != -100\n",
    "            test_predictions.extend(predictions[active_indices].cpu().numpy())\n",
    "            test_labels.extend(labels[active_indices].cpu().numpy())\n",
    "\n",
    "    weighted_f1 = f1_score(test_labels, test_predictions, average='weighted')\n",
    "    macro_f1 = f1_score(test_labels, test_predictions, average='macro')\n",
    "    accuracy = accuracy_score(test_labels, test_predictions)\n",
    "\n",
    "    if lang == 'hindi':\n",
    "        LANG = \"Hindi\"\n",
    "    elif lang == 'bengali':\n",
    "        LANG = \"Bengali\"\n",
    "    elif lang == 'marathi':\n",
    "        LANG = \"Marathi\"\n",
    "    elif lang == 'tamil':\n",
    "        LANG = \"Tamil\"\n",
    "    elif lang == 'telugu':\n",
    "        LANG = \"Telugu\"\n",
    "\n",
    "    print(f\"Language: {LANG}\")\n",
    "    print()\n",
    "    print(f\"Weighted F1: {weighted_f1:.4f}\")\n",
    "    print(f\"Macro F1: {macro_f1:.4f}\")\n",
    "    print(f\"Accuracy: {accuracy:.4f}\")\n",
    "    print()\n",
    "    print(\"CLASSIFICATION REPORT: \")\n",
    "    print(classification_report(test_labels, test_predictions))\n",
    "    print()\n",
    "    print(\"CONFUSION MATRIX: \")\n",
    "    print(confusion_matrix(test_labels, test_predictions))\n",
    "    print(\"--------------------------------------------------\")"
   ]
  },
  {
   "cell_type": "code",
   "execution_count": 18,
   "id": "a07384fd",
   "metadata": {
    "execution": {
     "iopub.execute_input": "2024-11-18T20:28:53.829298Z",
     "iopub.status.busy": "2024-11-18T20:28:53.829036Z",
     "iopub.status.idle": "2024-11-18T20:28:55.186549Z",
     "shell.execute_reply": "2024-11-18T20:28:55.185912Z"
    },
    "papermill": {
     "duration": 1.367009,
     "end_time": "2024-11-18T20:28:55.187925",
     "exception": false,
     "start_time": "2024-11-18T20:28:53.820916",
     "status": "completed"
    },
    "tags": []
   },
   "outputs": [],
   "source": [
    "# Save the model\n",
    "torch.save(model.state_dict(), f'NER_FineTune_{lang1[:2]}_{lang2[:2]}_cross_attn.pth')"
   ]
  },
  {
   "cell_type": "markdown",
   "id": "d4534ecb",
   "metadata": {
    "papermill": {
     "duration": 0.00397,
     "end_time": "2024-11-18T20:28:55.196093",
     "exception": false,
     "start_time": "2024-11-18T20:28:55.192123",
     "status": "completed"
    },
    "tags": []
   },
   "source": [
    "-------------------------------------------------------------------------------------------------------------------------"
   ]
  },
  {
   "cell_type": "markdown",
   "id": "d5beafa3",
   "metadata": {
    "papermill": {
     "duration": 0.003731,
     "end_time": "2024-11-18T20:28:55.203647",
     "exception": false,
     "start_time": "2024-11-18T20:28:55.199916",
     "status": "completed"
    },
    "tags": []
   },
   "source": [
    "# DUMP"
   ]
  },
  {
   "cell_type": "markdown",
   "id": "0d9805f1",
   "metadata": {
    "papermill": {
     "duration": 0.003756,
     "end_time": "2024-11-18T20:28:55.211165",
     "exception": false,
     "start_time": "2024-11-18T20:28:55.207409",
     "status": "completed"
    },
    "tags": []
   },
   "source": [
    "--------------------------------------------------------------------------------------------------------------"
   ]
  },
  {
   "cell_type": "code",
   "execution_count": 19,
   "id": "0b28d4ad",
   "metadata": {
    "execution": {
     "iopub.execute_input": "2024-11-18T20:28:55.220533Z",
     "iopub.status.busy": "2024-11-18T20:28:55.219966Z",
     "iopub.status.idle": "2024-11-18T20:28:55.223007Z",
     "shell.execute_reply": "2024-11-18T20:28:55.222521Z"
    },
    "papermill": {
     "duration": 0.008865,
     "end_time": "2024-11-18T20:28:55.223854",
     "exception": false,
     "start_time": "2024-11-18T20:28:55.214989",
     "status": "completed"
    },
    "tags": []
   },
   "outputs": [],
   "source": [
    "# import torch\n",
    "# import torch.nn as nn\n",
    "\n",
    "# class FusionModule(nn.Module):\n",
    "#     def __init__(self, hidden_size):\n",
    "#         super(FusionModule, self).__init__()\n",
    "#         # Linear layer to compute attention scores\n",
    "#         self.attention_layer = nn.Linear(hidden_size * 2, 2)\n",
    "\n",
    "#     def forward(self, embeddings_mbert, embeddings_indicbert):\n",
    "#         \"\"\"\n",
    "#         Args:\n",
    "#             embeddings_mbert (torch.Tensor): [batch_size, seq_len, hidden_size]\n",
    "#             embeddings_indicbert (torch.Tensor): [batch_size, seq_len, hidden_size]\n",
    "#         Returns:\n",
    "#             torch.Tensor: Fused embeddings [batch_size, seq_len, hidden_size]\n",
    "#         \"\"\"\n",
    "#         # Concatenate embeddings along the last dimension\n",
    "#         concat_embeddings = torch.cat((embeddings_mbert, embeddings_indicbert), dim=-1)  # [batch_size, seq_len, hidden_size * 2]\n",
    "\n",
    "#         # Compute attention scores\n",
    "#         attn_scores = self.attention_layer(concat_embeddings)  # [batch_size, seq_len, 2]\n",
    "\n",
    "#         # Apply softmax to get attention weights\n",
    "#         attn_weights = torch.softmax(attn_scores, dim=-1)  # [batch_size, seq_len, 2]\n",
    "\n",
    "#         # Split attention weights\n",
    "#         attn_weights_mbert = attn_weights[..., 0].unsqueeze(-1)  # [batch_size, seq_len, 1]\n",
    "#         attn_weights_indicbert = attn_weights[..., 1].unsqueeze(-1)  # [batch_size, seq_len, 1]\n",
    "\n",
    "#         # Compute weighted sum of embeddings\n",
    "#         fused_embeddings = attn_weights_mbert * embeddings_mbert + attn_weights_indicbert * embeddings_indicbert  # [batch_size, seq_len, hidden_size]\n",
    "\n",
    "#         return fused_embeddings"
   ]
  },
  {
   "cell_type": "code",
   "execution_count": 20,
   "id": "348c30e3",
   "metadata": {
    "execution": {
     "iopub.execute_input": "2024-11-18T20:28:55.232410Z",
     "iopub.status.busy": "2024-11-18T20:28:55.232014Z",
     "iopub.status.idle": "2024-11-18T20:28:55.235026Z",
     "shell.execute_reply": "2024-11-18T20:28:55.234536Z"
    },
    "papermill": {
     "duration": 0.008128,
     "end_time": "2024-11-18T20:28:55.235846",
     "exception": false,
     "start_time": "2024-11-18T20:28:55.227718",
     "status": "completed"
    },
    "tags": []
   },
   "outputs": [],
   "source": [
    "# import torch\n",
    "# import torch.nn as nn\n",
    "\n",
    "# class SelfAttentionLayer(nn.Module):\n",
    "#     def __init__(self, hidden_dim, num_heads, dropout=0.1):\n",
    "#         super(SelfAttentionLayer, self).__init__()\n",
    "#         self.self_attention = nn.MultiheadAttention(embed_dim=hidden_dim, num_heads=num_heads, dropout=dropout)\n",
    "#         self.layer_norm = nn.LayerNorm(hidden_dim)\n",
    "#         self.dropout = nn.Dropout(dropout)\n",
    "\n",
    "#     def forward(self, embeddings, attention_mask=None):\n",
    "#         \"\"\"\n",
    "#         Args:\n",
    "#             embeddings (torch.Tensor): [batch_size, seq_len, hidden_dim]\n",
    "#             attention_mask (torch.Tensor): [batch_size, seq_len], with 1 for tokens to attend to and 0 for padding\n",
    "#         Returns:\n",
    "#             torch.Tensor: [batch_size, seq_len, hidden_dim]\n",
    "#         \"\"\"\n",
    "#         embeddings = embeddings.to(DEVICE)\n",
    "        \n",
    "        \n",
    "#         # Transpose embeddings to [seq_len, batch_size, hidden_dim] for nn.MultiheadAttention\n",
    "#         embeddings = embeddings.transpose(0, 1)\n",
    "\n",
    "#         # Prepare attention mask for nn.MultiheadAttention (optional)\n",
    "#         if attention_mask is not None:\n",
    "#     # nn.MultiheadAttention expects key_padding_mask of shape [batch_size, seq_len]\n",
    "#             key_padding_mask = attention_mask == 0  # True for padding tokens\n",
    "#         else:\n",
    "#             key_padding_mask = None\n",
    "\n",
    "\n",
    "#         # Self-attention\n",
    "#         attn_output, _ = self.self_attention(\n",
    "#             query=embeddings,\n",
    "#             key=embeddings,\n",
    "#             value=embeddings,\n",
    "#             key_padding_mask=key_padding_mask\n",
    "#         )\n",
    "\n",
    "#         # Residual connection and layer normalization\n",
    "#         attn_output = self.dropout(attn_output)\n",
    "#         attn_output = self.layer_norm(attn_output + embeddings)\n",
    "\n",
    "#         # Transpose back to [batch_size, seq_len, hidden_dim]\n",
    "#         attn_output = attn_output.transpose(0, 1)\n",
    "\n",
    "#         return attn_output"
   ]
  }
 ],
 "metadata": {
  "kernelspec": {
   "display_name": "Python 3",
   "language": "python",
   "name": "python3"
  },
  "language_info": {
   "codemirror_mode": {
    "name": "ipython",
    "version": 3
   },
   "file_extension": ".py",
   "mimetype": "text/x-python",
   "name": "python",
   "nbconvert_exporter": "python",
   "pygments_lexer": "ipython3",
   "version": "3.11.5"
  },
  "papermill": {
   "default_parameters": {},
   "duration": 452.799174,
   "end_time": "2024-11-18T20:28:56.555511",
   "environment_variables": {},
   "exception": null,
   "input_path": "/home/vijay/slim_sense/SHARPax/Python_code/test/NER-Experiments/FineTune-Experiments-TwoLang/FineTune-Hindi-Bengali.ipynb",
   "output_path": "/home/vijay/slim_sense/SHARPax/Python_code/test/NER-Experiments/FineTune-Experiments-TwoLang//FineTune-marathi-bengali.ipynb",
   "parameters": {
    "lang1": "marathi",
    "lang2": "bengali"
   },
   "start_time": "2024-11-18T20:21:23.756337",
   "version": "2.6.0"
  }
 },
 "nbformat": 4,
 "nbformat_minor": 5
}