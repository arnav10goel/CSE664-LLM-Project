{
 "cells": [
  {
   "cell_type": "code",
   "execution_count": 1,
   "id": "1e5eb57d",
   "metadata": {
    "execution": {
     "iopub.execute_input": "2024-11-18T20:15:31.322323Z",
     "iopub.status.busy": "2024-11-18T20:15:31.321546Z",
     "iopub.status.idle": "2024-11-18T20:15:31.329850Z",
     "shell.execute_reply": "2024-11-18T20:15:31.329052Z"
    },
    "papermill": {
     "duration": 0.016284,
     "end_time": "2024-11-18T20:15:31.331653",
     "exception": false,
     "start_time": "2024-11-18T20:15:31.315369",
     "status": "completed"
    },
    "tags": [
     "parameters"
    ]
   },
   "outputs": [],
   "source": [
    "# Parameters\n",
    "lang1 = \"hindi\"\n",
    "lang2 = \"bengali\""
   ]
  },
  {
   "cell_type": "code",
   "execution_count": 2,
   "id": "b3a00003",
   "metadata": {
    "execution": {
     "iopub.execute_input": "2024-11-18T20:15:31.343820Z",
     "iopub.status.busy": "2024-11-18T20:15:31.343108Z",
     "iopub.status.idle": "2024-11-18T20:15:31.346860Z",
     "shell.execute_reply": "2024-11-18T20:15:31.346132Z"
    },
    "papermill": {
     "duration": 0.011558,
     "end_time": "2024-11-18T20:15:31.348656",
     "exception": false,
     "start_time": "2024-11-18T20:15:31.337098",
     "status": "completed"
    },
    "tags": [
     "injected-parameters"
    ]
   },
   "outputs": [],
   "source": [
    "# Parameters\n",
    "lang1 = \"hindi\"\n",
    "lang2 = \"telugu\"\n"
   ]
  },
  {
   "cell_type": "code",
   "execution_count": 3,
   "id": "408c2780",
   "metadata": {
    "execution": {
     "iopub.execute_input": "2024-11-18T20:15:31.360301Z",
     "iopub.status.busy": "2024-11-18T20:15:31.359738Z",
     "iopub.status.idle": "2024-11-18T20:15:31.364421Z",
     "shell.execute_reply": "2024-11-18T20:15:31.363593Z"
    },
    "papermill": {
     "duration": 0.012657,
     "end_time": "2024-11-18T20:15:31.366312",
     "exception": false,
     "start_time": "2024-11-18T20:15:31.353655",
     "status": "completed"
    },
    "tags": []
   },
   "outputs": [
    {
     "name": "stdout",
     "output_type": "stream",
     "text": [
      "Running with lang1: hindi, lang2: telugu\n"
     ]
    }
   ],
   "source": [
    "print(f\"Running with lang1: {lang1}, lang2: {lang2}\")"
   ]
  },
  {
   "cell_type": "code",
   "execution_count": 4,
   "id": "7b46e7fa",
   "metadata": {
    "execution": {
     "iopub.execute_input": "2024-11-18T20:15:31.378329Z",
     "iopub.status.busy": "2024-11-18T20:15:31.377692Z",
     "iopub.status.idle": "2024-11-18T20:15:35.068090Z",
     "shell.execute_reply": "2024-11-18T20:15:35.067454Z"
    },
    "papermill": {
     "duration": 3.698409,
     "end_time": "2024-11-18T20:15:35.069945",
     "exception": false,
     "start_time": "2024-11-18T20:15:31.371536",
     "status": "completed"
    },
    "tags": []
   },
   "outputs": [
    {
     "name": "stderr",
     "output_type": "stream",
     "text": [
      "2024-11-18 20:15:33.471233: E external/local_xla/xla/stream_executor/cuda/cuda_dnn.cc:9261] Unable to register cuDNN factory: Attempting to register factory for plugin cuDNN when one has already been registered\n",
      "2024-11-18 20:15:33.471260: E external/local_xla/xla/stream_executor/cuda/cuda_fft.cc:607] Unable to register cuFFT factory: Attempting to register factory for plugin cuFFT when one has already been registered\n",
      "2024-11-18 20:15:33.472610: E external/local_xla/xla/stream_executor/cuda/cuda_blas.cc:1515] Unable to register cuBLAS factory: Attempting to register factory for plugin cuBLAS when one has already been registered\n",
      "2024-11-18 20:15:33.479152: I tensorflow/core/platform/cpu_feature_guard.cc:182] This TensorFlow binary is optimized to use available CPU instructions in performance-critical operations.\n",
      "To enable the following instructions: AVX2 FMA, in other operations, rebuild TensorFlow with the appropriate compiler flags.\n"
     ]
    },
    {
     "name": "stderr",
     "output_type": "stream",
     "text": [
      "2024-11-18 20:15:34.242710: W tensorflow/compiler/tf2tensorrt/utils/py_utils.cc:38] TF-TRT Warning: Could not find TensorRT\n"
     ]
    }
   ],
   "source": [
    "import torch\n",
    "import torch.nn as nn\n",
    "import torch.optim as optim\n",
    "import torch.nn.functional as F\n",
    "from transformers import BertTokenizerFast, BertModel\n",
    "import pandas as pd\n",
    "from torch.utils.data import Dataset, DataLoader\n",
    "import numpy as np\n",
    "import string\n",
    "import json"
   ]
  },
  {
   "cell_type": "code",
   "execution_count": 5,
   "id": "f8d82876",
   "metadata": {
    "execution": {
     "iopub.execute_input": "2024-11-18T20:15:35.082773Z",
     "iopub.status.busy": "2024-11-18T20:15:35.082044Z",
     "iopub.status.idle": "2024-11-18T20:15:35.125762Z",
     "shell.execute_reply": "2024-11-18T20:15:35.125181Z"
    },
    "papermill": {
     "duration": 0.051631,
     "end_time": "2024-11-18T20:15:35.127421",
     "exception": false,
     "start_time": "2024-11-18T20:15:35.075790",
     "status": "completed"
    },
    "tags": []
   },
   "outputs": [],
   "source": [
    "# Load train data from json (L1)\n",
    "with open(f\"/home/vijay/slim_sense/SHARPax/Python_code/test/NER-Experiments/Dataset/{lang1}_train.json\") as f:\n",
    "    train_data_1 = json.load(f)\n",
    "\n",
    "# Load test data from json\n",
    "with open(f\"/home/vijay/slim_sense/SHARPax/Python_code/test/NER-Experiments/Dataset/{lang1}_test.json\") as f:\n",
    "    test_data_1 = json.load(f)\n",
    "\n",
    "# Load train data from json (L2)\n",
    "with open(f\"/home/vijay/slim_sense/SHARPax/Python_code/test/NER-Experiments/Dataset/{lang2}_train.json\") as f:\n",
    "    train_data_2 = json.load(f)\n",
    "\n",
    "# Load test data from json\n",
    "with open(f\"/home/vijay/slim_sense/SHARPax/Python_code/test/NER-Experiments/Dataset/{lang2}_test.json\") as f:\n",
    "    test_data_2 = json.load(f)\n"
   ]
  },
  {
   "cell_type": "code",
   "execution_count": 6,
   "id": "66a6456c",
   "metadata": {
    "execution": {
     "iopub.execute_input": "2024-11-18T20:15:35.138975Z",
     "iopub.status.busy": "2024-11-18T20:15:35.138842Z",
     "iopub.status.idle": "2024-11-18T20:15:35.142176Z",
     "shell.execute_reply": "2024-11-18T20:15:35.141605Z"
    },
    "papermill": {
     "duration": 0.010792,
     "end_time": "2024-11-18T20:15:35.143669",
     "exception": false,
     "start_time": "2024-11-18T20:15:35.132877",
     "status": "completed"
    },
    "tags": []
   },
   "outputs": [
    {
     "name": "stdout",
     "output_type": "stream",
     "text": [
      "Running with lang1: hindi, lang2: telugu\n"
     ]
    }
   ],
   "source": [
    "print(f\"Running with lang1: {lang1}, lang2: {lang2}\")"
   ]
  },
  {
   "cell_type": "code",
   "execution_count": 7,
   "id": "c45e7d5c",
   "metadata": {
    "execution": {
     "iopub.execute_input": "2024-11-18T20:15:35.155471Z",
     "iopub.status.busy": "2024-11-18T20:15:35.155314Z",
     "iopub.status.idle": "2024-11-18T20:15:35.158430Z",
     "shell.execute_reply": "2024-11-18T20:15:35.157924Z"
    },
    "papermill": {
     "duration": 0.010767,
     "end_time": "2024-11-18T20:15:35.159894",
     "exception": false,
     "start_time": "2024-11-18T20:15:35.149127",
     "status": "completed"
    },
    "tags": []
   },
   "outputs": [],
   "source": [
    "# Merge the two datasets\n",
    "train_data = train_data_1 + train_data_2\n",
    "test_data = test_data_1 + test_data_2"
   ]
  },
  {
   "cell_type": "code",
   "execution_count": 8,
   "id": "63da4ae1",
   "metadata": {
    "execution": {
     "iopub.execute_input": "2024-11-18T20:15:35.172479Z",
     "iopub.status.busy": "2024-11-18T20:15:35.172016Z",
     "iopub.status.idle": "2024-11-18T20:15:35.655611Z",
     "shell.execute_reply": "2024-11-18T20:15:35.654974Z"
    },
    "papermill": {
     "duration": 0.491748,
     "end_time": "2024-11-18T20:15:35.657464",
     "exception": false,
     "start_time": "2024-11-18T20:15:35.165716",
     "status": "completed"
    },
    "tags": []
   },
   "outputs": [],
   "source": [
    "from transformers import AutoTokenizer, AutoModel\n",
    "\n",
    "# Load tokeniser\n",
    "tokenizer = BertTokenizerFast.from_pretrained('bert-base-multilingual-cased')"
   ]
  },
  {
   "cell_type": "code",
   "execution_count": 9,
   "id": "887a7759",
   "metadata": {
    "execution": {
     "iopub.execute_input": "2024-11-18T20:15:35.670799Z",
     "iopub.status.busy": "2024-11-18T20:15:35.670201Z",
     "iopub.status.idle": "2024-11-18T20:15:35.675487Z",
     "shell.execute_reply": "2024-11-18T20:15:35.674991Z"
    },
    "papermill": {
     "duration": 0.013432,
     "end_time": "2024-11-18T20:15:35.676971",
     "exception": false,
     "start_time": "2024-11-18T20:15:35.663539",
     "status": "completed"
    },
    "tags": []
   },
   "outputs": [],
   "source": [
    "class NER_Dataset(Dataset):\n",
    "    def __init__(self, data, tokenizer, max_len=128):\n",
    "        self.data = data  # List of sentences and labels\n",
    "        self.tokenizer = tokenizer  # mBERT tokenizer\n",
    "        self.max_len = max_len\n",
    "\n",
    "    def __len__(self):\n",
    "        return len(self.data)\n",
    "\n",
    "    def __getitem__(self, idx):\n",
    "        text = self.data[idx][\"tokens\"]\n",
    "        word_labels = self.data[idx][\"ner_tags\"]\n",
    "\n",
    "        # Tokenize the text and align the labels\n",
    "        encoding = self.tokenizer(text,\n",
    "                                  is_split_into_words=True,\n",
    "                                  return_offsets_mapping=True,\n",
    "                                  padding='max_length',\n",
    "                                  truncation=True,\n",
    "                                  max_length=self.max_len)\n",
    "\n",
    "        labels = [self.align_labels(encoding['offset_mapping'], word_labels)]\n",
    "\n",
    "        # Remove the offset mapping to prevent issues during model training\n",
    "        del encoding['offset_mapping']\n",
    "\n",
    "        item = {key: torch.tensor(val) for key, val in encoding.items()}\n",
    "        item['labels'] = torch.tensor(labels[0], dtype=torch.long)\n",
    "\n",
    "        return item\n",
    "    \n",
    "    # Create a function to align labels\n",
    "    def align_labels(self, offset_mapping, labels):\n",
    "        aligned_labels = []\n",
    "        current_label_index = 0\n",
    "\n",
    "        for offset in offset_mapping:\n",
    "            # If the offset mapping is (0, 0), it's a special token ([CLS], [SEP], [PAD])\n",
    "            if offset == (0, 0):\n",
    "                aligned_labels.append(-100)  # -100 is used to ignore these tokens in the loss computation\n",
    "            else:\n",
    "                # Check if the token is the start of a new word\n",
    "                if offset[0] == 0:\n",
    "                    aligned_labels.append(labels[current_label_index])\n",
    "                    current_label_index += 1\n",
    "                else:\n",
    "                    # If the token is not the first subtoken, you can decide how to label it. \n",
    "                    # For simplicity, let's use the same label as the first subtoken\n",
    "                    aligned_labels.append(labels[current_label_index - 1])\n",
    "\n",
    "        return aligned_labels"
   ]
  },
  {
   "cell_type": "code",
   "execution_count": 10,
   "id": "a7c5de96",
   "metadata": {
    "execution": {
     "iopub.execute_input": "2024-11-18T20:15:35.689139Z",
     "iopub.status.busy": "2024-11-18T20:15:35.689021Z",
     "iopub.status.idle": "2024-11-18T20:15:35.692073Z",
     "shell.execute_reply": "2024-11-18T20:15:35.691582Z"
    },
    "papermill": {
     "duration": 0.010795,
     "end_time": "2024-11-18T20:15:35.693610",
     "exception": false,
     "start_time": "2024-11-18T20:15:35.682815",
     "status": "completed"
    },
    "tags": []
   },
   "outputs": [],
   "source": [
    "# Create train dataset and test dataset\n",
    "train_dataset = NER_Dataset(train_data, tokenizer)\n",
    "test_dataset = NER_Dataset(test_data, tokenizer)\n",
    "\n",
    "# Create train dataloader and test dataloader\n",
    "train_dataloader = DataLoader(train_dataset, batch_size=32, shuffle=True)\n",
    "test_dataloader = DataLoader(test_dataset, batch_size=32, shuffle=False)"
   ]
  },
  {
   "cell_type": "code",
   "execution_count": 11,
   "id": "96be3243",
   "metadata": {
    "execution": {
     "iopub.execute_input": "2024-11-18T20:15:35.706433Z",
     "iopub.status.busy": "2024-11-18T20:15:35.705845Z",
     "iopub.status.idle": "2024-11-18T20:15:35.789392Z",
     "shell.execute_reply": "2024-11-18T20:15:35.788762Z"
    },
    "papermill": {
     "duration": 0.091724,
     "end_time": "2024-11-18T20:15:35.791087",
     "exception": false,
     "start_time": "2024-11-18T20:15:35.699363",
     "status": "completed"
    },
    "tags": []
   },
   "outputs": [
    {
     "data": {
      "text/plain": [
       "'cuda'"
      ]
     },
     "execution_count": 11,
     "metadata": {},
     "output_type": "execute_result"
    }
   ],
   "source": [
    "DEVICE = 'cuda' if torch.cuda.is_available() else 'cpu'\n",
    "DEVICE"
   ]
  },
  {
   "cell_type": "code",
   "execution_count": 12,
   "id": "250e1c42",
   "metadata": {
    "execution": {
     "iopub.execute_input": "2024-11-18T20:15:35.804432Z",
     "iopub.status.busy": "2024-11-18T20:15:35.803967Z",
     "iopub.status.idle": "2024-11-18T20:15:35.809915Z",
     "shell.execute_reply": "2024-11-18T20:15:35.809288Z"
    },
    "papermill": {
     "duration": 0.014381,
     "end_time": "2024-11-18T20:15:35.811492",
     "exception": false,
     "start_time": "2024-11-18T20:15:35.797111",
     "status": "completed"
    },
    "tags": []
   },
   "outputs": [],
   "source": [
    "import torch\n",
    "import torch.nn as nn\n",
    "\n",
    "class CrossAttentionFusion(nn.Module):\n",
    "    def __init__(self, hidden_dim, num_heads):\n",
    "        super(CrossAttentionFusion, self).__init__()\n",
    "        self.cross_attention = nn.MultiheadAttention(embed_dim=hidden_dim, num_heads=num_heads)\n",
    "        self.layer_norm = nn.LayerNorm(hidden_dim)\n",
    "\n",
    "    def forward(self, embeddings_mbert, embeddings_indicbert):\n",
    "        \"\"\"\n",
    "        Fuse embeddings from mBERT and Indic-BERT using cross-attention.\n",
    "\n",
    "        Args:\n",
    "            embeddings_mbert (torch.Tensor): Embeddings from mBERT of shape [batch_size, seq_len_m, hidden_dim].\n",
    "            embeddings_indicbert (torch.Tensor): Embeddings from Indic-BERT of shape [batch_size, seq_len_i, hidden_dim].\n",
    "\n",
    "        Returns:\n",
    "            torch.Tensor: Fused embeddings of shape [batch_size, seq_len_m, hidden_dim].\n",
    "        \"\"\"\n",
    "        embeddings_mbert = embeddings_mbert.to(DEVICE)\n",
    "        embeddings_indicbert = embeddings_indicbert.to(DEVICE)\n",
    "        \n",
    "        # Transpose to shape [seq_len, batch_size, hidden_dim] for nn.MultiheadAttention\n",
    "        embeddings_mbert = embeddings_mbert.transpose(0, 1)\n",
    "        embeddings_indicbert = embeddings_indicbert.transpose(0, 1)\n",
    "\n",
    "        # Cross-attention: Indic BERT queries attend to m-BERT keys and values\n",
    "        attn_output, _ = self.cross_attention(\n",
    "            query=embeddings_indicbert,       # Queries from Indic-BERT\n",
    "            key=embeddings_mbert,     # Keys from m-BERT\n",
    "            value=embeddings_mbert    # Values from m-BERT\n",
    "        )\n",
    "\n",
    "        attn_output.to(DEVICE)\n",
    "\n",
    "        # Residual connection and layer normalization\n",
    "        output = self.layer_norm(attn_output + embeddings_mbert)\n",
    "\n",
    "        # Transpose back to [batch_size, seq_len_m, hidden_dim]\n",
    "        output = output.transpose(0, 1)\n",
    "\n",
    "        return output"
   ]
  },
  {
   "cell_type": "code",
   "execution_count": 13,
   "id": "c3c6c94c",
   "metadata": {
    "execution": {
     "iopub.execute_input": "2024-11-18T20:15:35.824391Z",
     "iopub.status.busy": "2024-11-18T20:15:35.823988Z",
     "iopub.status.idle": "2024-11-18T20:15:35.827134Z",
     "shell.execute_reply": "2024-11-18T20:15:35.826381Z"
    },
    "papermill": {
     "duration": 0.011271,
     "end_time": "2024-11-18T20:15:35.828674",
     "exception": false,
     "start_time": "2024-11-18T20:15:35.817403",
     "status": "completed"
    },
    "tags": []
   },
   "outputs": [],
   "source": [
    "hidden_dim = 768\n",
    "num_heads = 4"
   ]
  },
  {
   "cell_type": "code",
   "execution_count": 14,
   "id": "4b1fb45a",
   "metadata": {
    "execution": {
     "iopub.execute_input": "2024-11-18T20:15:35.842054Z",
     "iopub.status.busy": "2024-11-18T20:15:35.841423Z",
     "iopub.status.idle": "2024-11-18T20:15:38.674984Z",
     "shell.execute_reply": "2024-11-18T20:15:38.674415Z"
    },
    "papermill": {
     "duration": 2.842039,
     "end_time": "2024-11-18T20:15:38.676648",
     "exception": false,
     "start_time": "2024-11-18T20:15:35.834609",
     "status": "completed"
    },
    "tags": []
   },
   "outputs": [
    {
     "data": {
      "text/plain": [
       "MBERT_NER(\n",
       "  (bert): BertModel(\n",
       "    (embeddings): BertEmbeddings(\n",
       "      (word_embeddings): Embedding(119547, 768, padding_idx=0)\n",
       "      (position_embeddings): Embedding(512, 768)\n",
       "      (token_type_embeddings): Embedding(2, 768)\n",
       "      (LayerNorm): LayerNorm((768,), eps=1e-12, elementwise_affine=True)\n",
       "      (dropout): Dropout(p=0.1, inplace=False)\n",
       "    )\n",
       "    (encoder): BertEncoder(\n",
       "      (layer): ModuleList(\n",
       "        (0-11): 12 x BertLayer(\n",
       "          (attention): BertAttention(\n",
       "            (self): BertSdpaSelfAttention(\n",
       "              (query): Linear(in_features=768, out_features=768, bias=True)\n",
       "              (key): Linear(in_features=768, out_features=768, bias=True)\n",
       "              (value): Linear(in_features=768, out_features=768, bias=True)\n",
       "              (dropout): Dropout(p=0.1, inplace=False)\n",
       "            )\n",
       "            (output): BertSelfOutput(\n",
       "              (dense): Linear(in_features=768, out_features=768, bias=True)\n",
       "              (LayerNorm): LayerNorm((768,), eps=1e-12, elementwise_affine=True)\n",
       "              (dropout): Dropout(p=0.1, inplace=False)\n",
       "            )\n",
       "          )\n",
       "          (intermediate): BertIntermediate(\n",
       "            (dense): Linear(in_features=768, out_features=3072, bias=True)\n",
       "            (intermediate_act_fn): GELUActivation()\n",
       "          )\n",
       "          (output): BertOutput(\n",
       "            (dense): Linear(in_features=3072, out_features=768, bias=True)\n",
       "            (LayerNorm): LayerNorm((768,), eps=1e-12, elementwise_affine=True)\n",
       "            (dropout): Dropout(p=0.1, inplace=False)\n",
       "          )\n",
       "        )\n",
       "      )\n",
       "    )\n",
       "    (pooler): BertPooler(\n",
       "      (dense): Linear(in_features=768, out_features=768, bias=True)\n",
       "      (activation): Tanh()\n",
       "    )\n",
       "  )\n",
       "  (indic_bert): AlbertModel(\n",
       "    (embeddings): AlbertEmbeddings(\n",
       "      (word_embeddings): Embedding(200000, 128, padding_idx=0)\n",
       "      (position_embeddings): Embedding(512, 128)\n",
       "      (token_type_embeddings): Embedding(2, 128)\n",
       "      (LayerNorm): LayerNorm((128,), eps=1e-12, elementwise_affine=True)\n",
       "      (dropout): Dropout(p=0, inplace=False)\n",
       "    )\n",
       "    (encoder): AlbertTransformer(\n",
       "      (embedding_hidden_mapping_in): Linear(in_features=128, out_features=768, bias=True)\n",
       "      (albert_layer_groups): ModuleList(\n",
       "        (0): AlbertLayerGroup(\n",
       "          (albert_layers): ModuleList(\n",
       "            (0): AlbertLayer(\n",
       "              (full_layer_layer_norm): LayerNorm((768,), eps=1e-12, elementwise_affine=True)\n",
       "              (attention): AlbertSdpaAttention(\n",
       "                (query): Linear(in_features=768, out_features=768, bias=True)\n",
       "                (key): Linear(in_features=768, out_features=768, bias=True)\n",
       "                (value): Linear(in_features=768, out_features=768, bias=True)\n",
       "                (attention_dropout): Dropout(p=0, inplace=False)\n",
       "                (output_dropout): Dropout(p=0, inplace=False)\n",
       "                (dense): Linear(in_features=768, out_features=768, bias=True)\n",
       "                (LayerNorm): LayerNorm((768,), eps=1e-12, elementwise_affine=True)\n",
       "              )\n",
       "              (ffn): Linear(in_features=768, out_features=3072, bias=True)\n",
       "              (ffn_output): Linear(in_features=3072, out_features=768, bias=True)\n",
       "              (activation): GELUActivation()\n",
       "              (dropout): Dropout(p=0, inplace=False)\n",
       "            )\n",
       "          )\n",
       "        )\n",
       "      )\n",
       "    )\n",
       "    (pooler): Linear(in_features=768, out_features=768, bias=True)\n",
       "    (pooler_activation): Tanh()\n",
       "  )\n",
       "  (attention): CrossAttentionFusion(\n",
       "    (cross_attention): MultiheadAttention(\n",
       "      (out_proj): NonDynamicallyQuantizableLinear(in_features=768, out_features=768, bias=True)\n",
       "    )\n",
       "    (layer_norm): LayerNorm((768,), eps=1e-05, elementwise_affine=True)\n",
       "  )\n",
       "  (gru): GRU(2304, 128, batch_first=True)\n",
       "  (classifier): Linear(in_features=128, out_features=7, bias=True)\n",
       "  (dropout): Dropout(p=0.1, inplace=False)\n",
       "  (batch_norm): BatchNorm1d(128, eps=1e-05, momentum=0.1, affine=True, track_running_stats=True)\n",
       ")"
      ]
     },
     "execution_count": 14,
     "metadata": {},
     "output_type": "execute_result"
    }
   ],
   "source": [
    "# Model for NER\n",
    "\n",
    "class MBERT_NER(nn.Module):\n",
    "    def __init__(self, num_labels, gru_hidden_size, num_gru_layers, freeze_bert=False):\n",
    "        super(MBERT_NER, self).__init__()\n",
    "\n",
    "        self.bert = BertModel.from_pretrained(\"bert-base-multilingual-cased\")\n",
    "        self.indic_bert = AutoModel.from_pretrained(\"ai4bharat/indic-bert\")\n",
    "        \n",
    "        # Initialize the Fusion Attention\n",
    "        self.attention = CrossAttentionFusion(hidden_dim=hidden_dim, num_heads=num_heads).to(DEVICE)\n",
    "        \n",
    "        self.gru = nn.GRU(input_size=self.bert.config.hidden_size * 3,\n",
    "                          hidden_size=gru_hidden_size,\n",
    "                          num_layers=num_gru_layers,\n",
    "                          batch_first=True)\n",
    "        self.classifier = nn.Linear(gru_hidden_size, num_labels)\n",
    "        self.dropout = nn.Dropout(0.1)\n",
    "        self.batch_norm = nn.BatchNorm1d(gru_hidden_size)\n",
    "\n",
    "        if freeze_bert:\n",
    "            for param in self.bert.parameters():\n",
    "                param.requires_grad = False\n",
    "            for param in self.indic_bert.parameters():\n",
    "                param.requires_grad = False\n",
    "\n",
    "    def forward(self, input_ids, attention_mask):\n",
    "        \n",
    "        input_ids = input_ids.to(DEVICE)\n",
    "        attention_mask = attention_mask.to(DEVICE)\n",
    "        \n",
    "        # Embeddings\n",
    "        outputs1 = self.bert(input_ids=input_ids, attention_mask=attention_mask)\n",
    "        outputs2 = self.indic_bert(input_ids = input_ids, attention_mask = attention_mask)        \n",
    "        \n",
    "        embeddings_mbert = outputs1.last_hidden_state.to(DEVICE)\n",
    "        embeddings_indicbert = outputs2.last_hidden_state.to(DEVICE)\n",
    "        \n",
    "        # Fused embeddings\n",
    "        embeddings = self.attention(embeddings_mbert, embeddings_indicbert).to(DEVICE)\n",
    "        \n",
    "        sequence_output = torch.cat((embeddings_mbert, embeddings_indicbert, embeddings), dim=-1)\n",
    "        \n",
    "        gru_output, _ = self.gru(sequence_output)\n",
    "        gru_output = self.batch_norm(gru_output)\n",
    "        gru_output = self.dropout(gru_output)\n",
    "        \n",
    "        logits = self.classifier(gru_output)\n",
    "        return logits\n",
    "\n",
    "# Create the NER model\n",
    "NUM_LABELS = 7 # Number of NER tags\n",
    "GRU_HIDDEN_SIZE = 128 # Hidden size of the GRU\n",
    "NUM_GRU_LAYERS = 1 # Number of layers in the GRU\n",
    "FREEZE_BERT = False # Whether to freeze the BERT model\n",
    "DEVICE = 'cuda' if torch.cuda.is_available() else 'cpu'\n",
    "\n",
    "model = MBERT_NER(num_labels=NUM_LABELS,\n",
    "                    gru_hidden_size=GRU_HIDDEN_SIZE,\n",
    "                    num_gru_layers=NUM_GRU_LAYERS,\n",
    "                    freeze_bert=FREEZE_BERT)\n",
    "\n",
    "model.to(DEVICE)"
   ]
  },
  {
   "cell_type": "code",
   "execution_count": 15,
   "id": "1872ec63",
   "metadata": {
    "execution": {
     "iopub.execute_input": "2024-11-18T20:15:38.730772Z",
     "iopub.status.busy": "2024-11-18T20:15:38.730593Z",
     "iopub.status.idle": "2024-11-18T20:15:38.733680Z",
     "shell.execute_reply": "2024-11-18T20:15:38.733157Z"
    },
    "papermill": {
     "duration": 0.032333,
     "end_time": "2024-11-18T20:15:38.735196",
     "exception": false,
     "start_time": "2024-11-18T20:15:38.702863",
     "status": "completed"
    },
    "tags": []
   },
   "outputs": [],
   "source": [
    "torch.cuda.empty_cache()"
   ]
  },
  {
   "cell_type": "code",
   "execution_count": 16,
   "id": "65edeb25",
   "metadata": {
    "execution": {
     "iopub.execute_input": "2024-11-18T20:15:38.782236Z",
     "iopub.status.busy": "2024-11-18T20:15:38.782064Z",
     "iopub.status.idle": "2024-11-18T20:21:06.291078Z",
     "shell.execute_reply": "2024-11-18T20:21:06.290239Z"
    },
    "papermill": {
     "duration": 327.545842,
     "end_time": "2024-11-18T20:21:06.299327",
     "exception": false,
     "start_time": "2024-11-18T20:15:38.753485",
     "status": "completed"
    },
    "tags": []
   },
   "outputs": [
    {
     "name": "stdout",
     "output_type": "stream",
     "text": [
      "Epoch 1/6, Train Loss: 0.5785, Train F1: 0.7126, Train Acc: 0.8149, Val Loss: 0.3273, Val F1: 0.8284, Val Acc: 0.8984\n"
     ]
    },
    {
     "name": "stdout",
     "output_type": "stream",
     "text": [
      "Epoch 2/6, Train Loss: 0.2748, Train F1: 0.8696, Train Acc: 0.9182, Val Loss: 0.2678, Val F1: 0.8668, Val Acc: 0.9221\n"
     ]
    },
    {
     "name": "stdout",
     "output_type": "stream",
     "text": [
      "Epoch 3/6, Train Loss: 0.1890, Train F1: 0.9107, Train Acc: 0.9443, Val Loss: 0.2634, Val F1: 0.8773, Val Acc: 0.9265\n"
     ]
    },
    {
     "name": "stdout",
     "output_type": "stream",
     "text": [
      "Epoch 4/6, Train Loss: 0.1343, Train F1: 0.9407, Train Acc: 0.9620, Val Loss: 0.2455, Val F1: 0.8885, Val Acc: 0.9305\n"
     ]
    },
    {
     "name": "stdout",
     "output_type": "stream",
     "text": [
      "Epoch 5/6, Train Loss: 0.0993, Train F1: 0.9568, Train Acc: 0.9731, Val Loss: 0.2557, Val F1: 0.8937, Val Acc: 0.9363\n"
     ]
    },
    {
     "name": "stdout",
     "output_type": "stream",
     "text": [
      "Epoch 6/6, Train Loss: 0.0830, Train F1: 0.9643, Train Acc: 0.9774, Val Loss: 0.2570, Val F1: 0.8916, Val Acc: 0.9344\n"
     ]
    }
   ],
   "source": [
    "from sklearn.metrics import f1_score, accuracy_score\n",
    "\n",
    "# Optimizer and loss function\n",
    "optimizer = optim.AdamW(model.parameters(), lr=2e-5)\n",
    "criterion = nn.CrossEntropyLoss(ignore_index=-100)\n",
    "\n",
    "# Training loop\n",
    "EPOCHS = 6\n",
    "\n",
    "train_losses = []\n",
    "train_f1_scores = []\n",
    "train_acc_scores = []\n",
    "val_losses = []\n",
    "val_f1_scores = []\n",
    "val_acc_scores = []\n",
    "\n",
    "\n",
    "for epoch in range(EPOCHS):\n",
    "    model.train()\n",
    "    train_loss = 0\n",
    "    train_predictions, train_labels = [], []\n",
    "\n",
    "    for batch in train_dataloader:\n",
    "        input_ids = batch['input_ids'].to(DEVICE)\n",
    "        attention_mask = batch['attention_mask'].to(DEVICE)\n",
    "        labels = batch['labels'].to(DEVICE)\n",
    "\n",
    "        optimizer.zero_grad()\n",
    "        logits = model(input_ids, attention_mask)\n",
    "        logits = logits.view(-1, NUM_LABELS)\n",
    "        labels = labels.view(-1)\n",
    "\n",
    "        loss = criterion(logits, labels)\n",
    "        loss.backward()\n",
    "        optimizer.step()\n",
    "\n",
    "        train_loss += loss.item()\n",
    "\n",
    "        # Get predictions and filter out ignored indices for metric calculations\n",
    "        predictions = torch.argmax(logits, dim=-1)\n",
    "        active_indices = labels != -100\n",
    "        train_predictions.extend(predictions[active_indices].cpu().numpy())\n",
    "        train_labels.extend(labels[active_indices].cpu().numpy())\n",
    "\n",
    "    train_loss /= len(train_dataloader)\n",
    "    train_losses.append(train_loss)\n",
    "\n",
    "    train_f1 = f1_score(train_labels, train_predictions, average='macro')\n",
    "    train_f1_scores.append(train_f1)\n",
    "\n",
    "    train_acc = accuracy_score(train_labels, train_predictions)\n",
    "    train_acc_scores.append(train_acc)\n",
    "\n",
    "    # Validation loop\n",
    "    model.eval()\n",
    "    val_loss = 0\n",
    "    val_predictions, val_labels = [], []\n",
    "\n",
    "    with torch.no_grad():\n",
    "        for batch in test_dataloader:\n",
    "            input_ids = batch['input_ids'].to(DEVICE)\n",
    "            attention_mask = batch['attention_mask'].to(DEVICE)\n",
    "            labels = batch['labels'].to(DEVICE)\n",
    "\n",
    "            logits = model(input_ids, attention_mask)\n",
    "            logits = logits.view(-1, NUM_LABELS)\n",
    "            labels = labels.view(-1)\n",
    "\n",
    "            loss = criterion(logits, labels)\n",
    "            val_loss += loss.item()\n",
    "\n",
    "            # Filter predictions and labels\n",
    "            predictions = torch.argmax(logits, dim=-1)\n",
    "            active_indices = labels != -100\n",
    "            val_predictions.extend(predictions[active_indices].cpu().numpy())\n",
    "            val_labels.extend(labels[active_indices].cpu().numpy())\n",
    "\n",
    "    val_loss /= len(test_dataloader)\n",
    "    val_losses.append(val_loss)\n",
    "\n",
    "    val_f1 = f1_score(val_labels, val_predictions, average='macro')\n",
    "    val_f1_scores.append(val_f1)\n",
    "\n",
    "    val_acc = accuracy_score(val_labels, val_predictions)\n",
    "    val_acc_scores.append(val_acc)\n",
    "                                                \n",
    "    print(f\"Epoch {epoch + 1}/{EPOCHS}, Train Loss: {train_loss:.4f}, Train F1: {train_f1:.4f}, Train Acc: {train_acc:.4f}, Val Loss: {val_loss:.4f}, Val F1: {val_f1:.4f}, Val Acc: {val_acc:.4f}\")"
   ]
  },
  {
   "cell_type": "code",
   "execution_count": 17,
   "id": "59f36c6f",
   "metadata": {
    "execution": {
     "iopub.execute_input": "2024-11-18T20:21:06.314434Z",
     "iopub.status.busy": "2024-11-18T20:21:06.313948Z",
     "iopub.status.idle": "2024-11-18T20:21:20.853057Z",
     "shell.execute_reply": "2024-11-18T20:21:20.852427Z"
    },
    "papermill": {
     "duration": 14.548569,
     "end_time": "2024-11-18T20:21:20.854790",
     "exception": false,
     "start_time": "2024-11-18T20:21:06.306221",
     "status": "completed"
    },
    "tags": []
   },
   "outputs": [
    {
     "name": "stdout",
     "output_type": "stream",
     "text": [
      "Language: Hindi\n",
      "\n",
      "Weighted F1: 0.9351\n",
      "Macro F1: 0.9155\n",
      "Accuracy: 0.9350\n",
      "\n",
      "CLASSIFICATION REPORT: \n",
      "              precision    recall  f1-score   support\n",
      "\n",
      "           0       0.98      0.96      0.97      5277\n",
      "           1       0.90      0.95      0.92      1481\n",
      "           2       0.90      0.97      0.93      1874\n",
      "           3       0.93      0.86      0.89       986\n",
      "           4       0.96      0.91      0.93      2602\n",
      "           5       0.89      0.91      0.90      1195\n",
      "           6       0.85      0.87      0.86       867\n",
      "\n",
      "    accuracy                           0.94     14282\n",
      "   macro avg       0.91      0.92      0.92     14282\n",
      "weighted avg       0.94      0.94      0.94     14282\n",
      "\n",
      "\n",
      "CONFUSION MATRIX: \n",
      "[[5067   66   37   22   19   38   28]\n",
      " [  26 1413   16    8    0   18    0]\n",
      " [   0   18 1825    0   16    1   14]\n",
      " [  19   70    2  846    5   43    1]\n",
      " [  34    0  115    0 2366   20   67]\n",
      " [  27   10    5   36    3 1087   27]\n",
      " [  22    0   31    0   51   13  750]]\n",
      "--------------------------------------------------\n"
     ]
    },
    {
     "name": "stdout",
     "output_type": "stream",
     "text": [
      "Language: Bengali\n",
      "\n",
      "Weighted F1: 0.8002\n",
      "Macro F1: 0.8020\n",
      "Accuracy: 0.8039\n",
      "\n",
      "CLASSIFICATION REPORT: \n",
      "              precision    recall  f1-score   support\n",
      "\n",
      "           0       0.84      0.95      0.89      1835\n",
      "           1       0.75      0.89      0.82      1343\n",
      "           2       0.76      0.88      0.82      2490\n",
      "           3       0.83      0.79      0.81      1239\n",
      "           4       0.81      0.79      0.80      3068\n",
      "           5       0.81      0.76      0.79      1510\n",
      "           6       0.84      0.59      0.69      2080\n",
      "\n",
      "    accuracy                           0.80     13565\n",
      "   macro avg       0.81      0.81      0.80     13565\n",
      "weighted avg       0.81      0.80      0.80     13565\n",
      "\n",
      "\n",
      "CONFUSION MATRIX: \n",
      "[[1744    9   23   12   23   21    3]\n",
      " [  36 1197   26   36    0   48    0]\n",
      " [  99   35 2187    0   85    4   80]\n",
      " [  23  142    0  980    2   91    1]\n",
      " [ 129    7  352   13 2428   18  121]\n",
      " [  12  182    1  139    6 1147   23]\n",
      " [  38   15  282    1  442   80 1222]]\n",
      "--------------------------------------------------\n"
     ]
    },
    {
     "name": "stdout",
     "output_type": "stream",
     "text": [
      "Language: Marathi\n",
      "\n",
      "Weighted F1: 0.8368\n",
      "Macro F1: 0.7409\n",
      "Accuracy: 0.8412\n",
      "\n",
      "CLASSIFICATION REPORT: \n",
      "              precision    recall  f1-score   support\n",
      "\n",
      "           0       0.93      0.94      0.93     10408\n",
      "           1       0.69      0.92      0.79      1342\n",
      "           2       0.76      0.90      0.82      1992\n",
      "           3       0.80      0.45      0.58      1172\n",
      "           4       0.88      0.63      0.73      2535\n",
      "           5       0.71      0.81      0.76      1829\n",
      "           6       0.58      0.57      0.57       820\n",
      "\n",
      "    accuracy                           0.84     20098\n",
      "   macro avg       0.76      0.75      0.74     20098\n",
      "weighted avg       0.85      0.84      0.84     20098\n",
      "\n",
      "\n",
      "CONFUSION MATRIX: \n",
      "[[9803  102   50   68   72  239   74]\n",
      " [  34 1235   28   11    0   34    0]\n",
      " [  42   46 1785    0   28   51   40]\n",
      " [  54  292   11  528   32  249    6]\n",
      " [ 246   47  416    5 1601   12  208]\n",
      " [ 200   60   13   52    0 1490   14]\n",
      " [ 186    0   51    0   96   22  465]]\n",
      "--------------------------------------------------\n"
     ]
    },
    {
     "name": "stdout",
     "output_type": "stream",
     "text": [
      "Language: Tamil\n",
      "\n",
      "Weighted F1: 0.8218\n",
      "Macro F1: 0.7267\n",
      "Accuracy: 0.8233\n",
      "\n",
      "CLASSIFICATION REPORT: \n",
      "              precision    recall  f1-score   support\n",
      "\n",
      "           0       0.91      0.91      0.91     11461\n",
      "           1       0.69      0.72      0.70      1643\n",
      "           2       0.83      0.80      0.82      2295\n",
      "           3       0.60      0.52      0.55      1512\n",
      "           4       0.75      0.76      0.75      2532\n",
      "           5       0.75      0.83      0.79      1881\n",
      "           6       0.61      0.52      0.56       677\n",
      "\n",
      "    accuracy                           0.82     22001\n",
      "   macro avg       0.73      0.72      0.73     22001\n",
      "weighted avg       0.82      0.82      0.82     22001\n",
      "\n",
      "\n",
      "CONFUSION MATRIX: \n",
      "[[10483   306    44   320   115   150    43]\n",
      " [  130  1178   211    70    12    42     0]\n",
      " [  229   129  1835    15    54     8    25]\n",
      " [  115    75    21   781   278   234     8]\n",
      " [  329     9    82    23  1929    48   112]\n",
      " [  139     7     3   101    36  1554    41]\n",
      " [  120     0     5     0   160    38   354]]\n",
      "--------------------------------------------------\n"
     ]
    },
    {
     "name": "stdout",
     "output_type": "stream",
     "text": [
      "Language: Telugu\n",
      "\n",
      "Weighted F1: 0.9341\n",
      "Macro F1: 0.8672\n",
      "Accuracy: 0.9340\n",
      "\n",
      "CLASSIFICATION REPORT: \n",
      "              precision    recall  f1-score   support\n",
      "\n",
      "           0       0.98      0.97      0.97     17291\n",
      "           1       0.84      0.88      0.86      1810\n",
      "           2       0.87      0.94      0.90      1353\n",
      "           3       0.85      0.73      0.79      1375\n",
      "           4       0.93      0.89      0.91      2269\n",
      "           5       0.83      0.92      0.87      2072\n",
      "           6       0.73      0.81      0.77       455\n",
      "\n",
      "    accuracy                           0.93     26625\n",
      "   macro avg       0.86      0.88      0.87     26625\n",
      "weighted avg       0.94      0.93      0.93     26625\n",
      "\n",
      "\n",
      "CONFUSION MATRIX: \n",
      "[[16716   135    56    77    83   185    39]\n",
      " [  107  1596    30    36     0    41     0]\n",
      " [   34    20  1269     0    10     0    20]\n",
      " [  109   116     0  1002    18   130     0]\n",
      " [   56     4    95     4  2015    33    62]\n",
      " [   77    22     0    55     0  1900    18]\n",
      " [   40     0     6     0    34     5   370]]\n",
      "--------------------------------------------------\n"
     ]
    }
   ],
   "source": [
    "from sklearn.metrics import f1_score\n",
    "from sklearn.metrics import accuracy_score\n",
    "from sklearn.metrics import classification_report\n",
    "from sklearn.metrics import confusion_matrix\n",
    "\n",
    "# Load the test data from json for all 5 languages\n",
    "languages = ['hindi', 'bengali', 'marathi', 'tamil', 'telugu']\n",
    "\n",
    "# Iterate over all languages and evaluate the model\n",
    "for lang in languages:\n",
    "    with open(f\"/home/vijay/slim_sense/SHARPax/Python_code/test/NER-Experiments/Dataset/{lang}_test.json\") as f:\n",
    "        test_data = json.load(f)\n",
    "\n",
    "    test_dataset = NER_Dataset(test_data, tokenizer)\n",
    "    test_dataloader = DataLoader(test_dataset, batch_size=32, shuffle=False)\n",
    "\n",
    "    model.eval()\n",
    "    test_predictions, test_labels = [], []\n",
    "\n",
    "    with torch.no_grad():\n",
    "        for batch in test_dataloader:\n",
    "            input_ids = batch['input_ids'].to(DEVICE)\n",
    "            attention_mask = batch['attention_mask'].to(DEVICE)\n",
    "            labels = batch['labels'].to(DEVICE)\n",
    "\n",
    "            logits = model(input_ids, attention_mask)\n",
    "            logits = logits.view(-1, NUM_LABELS)\n",
    "            labels = labels.view(-1)\n",
    "\n",
    "            # Filter predictions and labels\n",
    "            predictions = torch.argmax(logits, dim=-1)\n",
    "            active_indices = labels != -100\n",
    "            test_predictions.extend(predictions[active_indices].cpu().numpy())\n",
    "            test_labels.extend(labels[active_indices].cpu().numpy())\n",
    "\n",
    "    weighted_f1 = f1_score(test_labels, test_predictions, average='weighted')\n",
    "    macro_f1 = f1_score(test_labels, test_predictions, average='macro')\n",
    "    accuracy = accuracy_score(test_labels, test_predictions)\n",
    "\n",
    "    if lang == 'hindi':\n",
    "        LANG = \"Hindi\"\n",
    "    elif lang == 'bengali':\n",
    "        LANG = \"Bengali\"\n",
    "    elif lang == 'marathi':\n",
    "        LANG = \"Marathi\"\n",
    "    elif lang == 'tamil':\n",
    "        LANG = \"Tamil\"\n",
    "    elif lang == 'telugu':\n",
    "        LANG = \"Telugu\"\n",
    "\n",
    "    print(f\"Language: {LANG}\")\n",
    "    print()\n",
    "    print(f\"Weighted F1: {weighted_f1:.4f}\")\n",
    "    print(f\"Macro F1: {macro_f1:.4f}\")\n",
    "    print(f\"Accuracy: {accuracy:.4f}\")\n",
    "    print()\n",
    "    print(\"CLASSIFICATION REPORT: \")\n",
    "    print(classification_report(test_labels, test_predictions))\n",
    "    print()\n",
    "    print(\"CONFUSION MATRIX: \")\n",
    "    print(confusion_matrix(test_labels, test_predictions))\n",
    "    print(\"--------------------------------------------------\")"
   ]
  },
  {
   "cell_type": "code",
   "execution_count": 18,
   "id": "a67bc77f",
   "metadata": {
    "execution": {
     "iopub.execute_input": "2024-11-18T20:21:20.871198Z",
     "iopub.status.busy": "2024-11-18T20:21:20.870861Z",
     "iopub.status.idle": "2024-11-18T20:21:22.232546Z",
     "shell.execute_reply": "2024-11-18T20:21:22.231876Z"
    },
    "papermill": {
     "duration": 1.371821,
     "end_time": "2024-11-18T20:21:22.234472",
     "exception": false,
     "start_time": "2024-11-18T20:21:20.862651",
     "status": "completed"
    },
    "tags": []
   },
   "outputs": [],
   "source": [
    "# Save the model\n",
    "torch.save(model.state_dict(), f'NER_FineTune_{lang1[:2]}_{lang2[:2]}_cross_attn.pth')"
   ]
  },
  {
   "cell_type": "markdown",
   "id": "2be0521b",
   "metadata": {
    "papermill": {
     "duration": 0.007203,
     "end_time": "2024-11-18T20:21:22.249573",
     "exception": false,
     "start_time": "2024-11-18T20:21:22.242370",
     "status": "completed"
    },
    "tags": []
   },
   "source": [
    "-------------------------------------------------------------------------------------------------------------------------"
   ]
  },
  {
   "cell_type": "markdown",
   "id": "82e91f8d",
   "metadata": {
    "papermill": {
     "duration": 0.007348,
     "end_time": "2024-11-18T20:21:22.264302",
     "exception": false,
     "start_time": "2024-11-18T20:21:22.256954",
     "status": "completed"
    },
    "tags": []
   },
   "source": [
    "# DUMP"
   ]
  },
  {
   "cell_type": "markdown",
   "id": "369a03fa",
   "metadata": {
    "papermill": {
     "duration": 0.007068,
     "end_time": "2024-11-18T20:21:22.278693",
     "exception": false,
     "start_time": "2024-11-18T20:21:22.271625",
     "status": "completed"
    },
    "tags": []
   },
   "source": [
    "--------------------------------------------------------------------------------------------------------------"
   ]
  },
  {
   "cell_type": "code",
   "execution_count": 19,
   "id": "e22910b8",
   "metadata": {
    "execution": {
     "iopub.execute_input": "2024-11-18T20:21:22.290164Z",
     "iopub.status.busy": "2024-11-18T20:21:22.290030Z",
     "iopub.status.idle": "2024-11-18T20:21:22.293336Z",
     "shell.execute_reply": "2024-11-18T20:21:22.292594Z"
    },
    "papermill": {
     "duration": 0.010731,
     "end_time": "2024-11-18T20:21:22.294613",
     "exception": false,
     "start_time": "2024-11-18T20:21:22.283882",
     "status": "completed"
    },
    "tags": []
   },
   "outputs": [],
   "source": [
    "# import torch\n",
    "# import torch.nn as nn\n",
    "\n",
    "# class FusionModule(nn.Module):\n",
    "#     def __init__(self, hidden_size):\n",
    "#         super(FusionModule, self).__init__()\n",
    "#         # Linear layer to compute attention scores\n",
    "#         self.attention_layer = nn.Linear(hidden_size * 2, 2)\n",
    "\n",
    "#     def forward(self, embeddings_mbert, embeddings_indicbert):\n",
    "#         \"\"\"\n",
    "#         Args:\n",
    "#             embeddings_mbert (torch.Tensor): [batch_size, seq_len, hidden_size]\n",
    "#             embeddings_indicbert (torch.Tensor): [batch_size, seq_len, hidden_size]\n",
    "#         Returns:\n",
    "#             torch.Tensor: Fused embeddings [batch_size, seq_len, hidden_size]\n",
    "#         \"\"\"\n",
    "#         # Concatenate embeddings along the last dimension\n",
    "#         concat_embeddings = torch.cat((embeddings_mbert, embeddings_indicbert), dim=-1)  # [batch_size, seq_len, hidden_size * 2]\n",
    "\n",
    "#         # Compute attention scores\n",
    "#         attn_scores = self.attention_layer(concat_embeddings)  # [batch_size, seq_len, 2]\n",
    "\n",
    "#         # Apply softmax to get attention weights\n",
    "#         attn_weights = torch.softmax(attn_scores, dim=-1)  # [batch_size, seq_len, 2]\n",
    "\n",
    "#         # Split attention weights\n",
    "#         attn_weights_mbert = attn_weights[..., 0].unsqueeze(-1)  # [batch_size, seq_len, 1]\n",
    "#         attn_weights_indicbert = attn_weights[..., 1].unsqueeze(-1)  # [batch_size, seq_len, 1]\n",
    "\n",
    "#         # Compute weighted sum of embeddings\n",
    "#         fused_embeddings = attn_weights_mbert * embeddings_mbert + attn_weights_indicbert * embeddings_indicbert  # [batch_size, seq_len, hidden_size]\n",
    "\n",
    "#         return fused_embeddings"
   ]
  },
  {
   "cell_type": "code",
   "execution_count": 20,
   "id": "4adefb14",
   "metadata": {
    "execution": {
     "iopub.execute_input": "2024-11-18T20:21:22.306752Z",
     "iopub.status.busy": "2024-11-18T20:21:22.306097Z",
     "iopub.status.idle": "2024-11-18T20:21:22.310511Z",
     "shell.execute_reply": "2024-11-18T20:21:22.309914Z"
    },
    "papermill": {
     "duration": 0.011684,
     "end_time": "2024-11-18T20:21:22.311712",
     "exception": false,
     "start_time": "2024-11-18T20:21:22.300028",
     "status": "completed"
    },
    "tags": []
   },
   "outputs": [],
   "source": [
    "# import torch\n",
    "# import torch.nn as nn\n",
    "\n",
    "# class SelfAttentionLayer(nn.Module):\n",
    "#     def __init__(self, hidden_dim, num_heads, dropout=0.1):\n",
    "#         super(SelfAttentionLayer, self).__init__()\n",
    "#         self.self_attention = nn.MultiheadAttention(embed_dim=hidden_dim, num_heads=num_heads, dropout=dropout)\n",
    "#         self.layer_norm = nn.LayerNorm(hidden_dim)\n",
    "#         self.dropout = nn.Dropout(dropout)\n",
    "\n",
    "#     def forward(self, embeddings, attention_mask=None):\n",
    "#         \"\"\"\n",
    "#         Args:\n",
    "#             embeddings (torch.Tensor): [batch_size, seq_len, hidden_dim]\n",
    "#             attention_mask (torch.Tensor): [batch_size, seq_len], with 1 for tokens to attend to and 0 for padding\n",
    "#         Returns:\n",
    "#             torch.Tensor: [batch_size, seq_len, hidden_dim]\n",
    "#         \"\"\"\n",
    "#         embeddings = embeddings.to(DEVICE)\n",
    "        \n",
    "        \n",
    "#         # Transpose embeddings to [seq_len, batch_size, hidden_dim] for nn.MultiheadAttention\n",
    "#         embeddings = embeddings.transpose(0, 1)\n",
    "\n",
    "#         # Prepare attention mask for nn.MultiheadAttention (optional)\n",
    "#         if attention_mask is not None:\n",
    "#     # nn.MultiheadAttention expects key_padding_mask of shape [batch_size, seq_len]\n",
    "#             key_padding_mask = attention_mask == 0  # True for padding tokens\n",
    "#         else:\n",
    "#             key_padding_mask = None\n",
    "\n",
    "\n",
    "#         # Self-attention\n",
    "#         attn_output, _ = self.self_attention(\n",
    "#             query=embeddings,\n",
    "#             key=embeddings,\n",
    "#             value=embeddings,\n",
    "#             key_padding_mask=key_padding_mask\n",
    "#         )\n",
    "\n",
    "#         # Residual connection and layer normalization\n",
    "#         attn_output = self.dropout(attn_output)\n",
    "#         attn_output = self.layer_norm(attn_output + embeddings)\n",
    "\n",
    "#         # Transpose back to [batch_size, seq_len, hidden_dim]\n",
    "#         attn_output = attn_output.transpose(0, 1)\n",
    "\n",
    "#         return attn_output"
   ]
  }
 ],
 "metadata": {
  "kernelspec": {
   "display_name": "Python 3",
   "language": "python",
   "name": "python3"
  },
  "language_info": {
   "codemirror_mode": {
    "name": "ipython",
    "version": 3
   },
   "file_extension": ".py",
   "mimetype": "text/x-python",
   "name": "python",
   "nbconvert_exporter": "python",
   "pygments_lexer": "ipython3",
   "version": "3.11.5"
  },
  "papermill": {
   "default_parameters": {},
   "duration": 353.320327,
   "end_time": "2024-11-18T20:21:23.736165",
   "environment_variables": {},
   "exception": null,
   "input_path": "/home/vijay/slim_sense/SHARPax/Python_code/test/NER-Experiments/FineTune-Experiments-TwoLang/FineTune-Hindi-Bengali.ipynb",
   "output_path": "/home/vijay/slim_sense/SHARPax/Python_code/test/NER-Experiments/FineTune-Experiments-TwoLang//FineTune-hindi-telugu.ipynb",
   "parameters": {
    "lang1": "hindi",
    "lang2": "telugu"
   },
   "start_time": "2024-11-18T20:15:30.415838",
   "version": "2.6.0"
  }
 },
 "nbformat": 4,
 "nbformat_minor": 5
}