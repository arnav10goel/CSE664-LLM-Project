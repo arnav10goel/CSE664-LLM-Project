{
 "cells": [
  {
   "cell_type": "markdown",
   "metadata": {},
   "source": [
    "- Importing Libraries"
   ]
  },
  {
   "cell_type": "code",
   "execution_count": 1,
   "metadata": {},
   "outputs": [
    {
     "name": "stderr",
     "output_type": "stream",
     "text": [
      "/home/medha/miniconda3/envs/MedhaDL/lib/python3.11/site-packages/tqdm/auto.py:21: TqdmWarning: IProgress not found. Please update jupyter and ipywidgets. See https://ipywidgets.readthedocs.io/en/stable/user_install.html\n",
      "  from .autonotebook import tqdm as notebook_tqdm\n"
     ]
    }
   ],
   "source": [
    "import torch\n",
    "from transformers import BertModel\n",
    "import pandas as pd\n",
    "from torch.utils.data import Dataset, DataLoader\n",
    "import pandas as pd\n",
    "import torch\n",
    "from transformers import BertTokenizer\n",
    "import string"
   ]
  },
  {
   "cell_type": "markdown",
   "metadata": {},
   "source": [
    "### Load Dataset for the Particular Language\n",
    "- Here insert the language initial you want to load the train and test CSVs for\n",
    "- Language Codes:\n",
    "    1. Hindi: `hi`\n",
    "    2. Bengali: `bn`\n",
    "    3. Marathi: `mr`\n",
    "    4. Tamil: `ta`\n",
    "    5. Telugu: `te`"
   ]
  },
  {
   "cell_type": "code",
   "execution_count": 2,
   "metadata": {},
   "outputs": [],
   "source": [
    "lang = 'Hindi'\n",
    "train_file = f\"/home/medha/BTP/Arnav_Medha/CSE556-NLP-Project/Hate-Speech-Detection-Experiments/Dataset/{lang}_train.csv\"\n",
    "test_file = f\"/home/medha/BTP/Arnav_Medha/CSE556-NLP-Project/Hate-Speech-Detection-Experiments/Dataset/{lang}_test.csv\"\n",
    "\n",
    "train_df = pd.read_csv(train_file)\n",
    "test_df = pd.read_csv(test_file)"
   ]
  },
  {
   "cell_type": "code",
   "execution_count": 3,
   "metadata": {},
   "outputs": [
    {
     "data": {
      "text/html": [
       "<div>\n",
       "<style scoped>\n",
       "    .dataframe tbody tr th:only-of-type {\n",
       "        vertical-align: middle;\n",
       "    }\n",
       "\n",
       "    .dataframe tbody tr th {\n",
       "        vertical-align: top;\n",
       "    }\n",
       "\n",
       "    .dataframe thead th {\n",
       "        text-align: right;\n",
       "    }\n",
       "</style>\n",
       "<table border=\"1\" class=\"dataframe\">\n",
       "  <thead>\n",
       "    <tr style=\"text-align: right;\">\n",
       "      <th></th>\n",
       "      <th>text</th>\n",
       "      <th>task_1</th>\n",
       "      <th>task_2</th>\n",
       "      <th>Processed_Post</th>\n",
       "      <th>Labels Set</th>\n",
       "    </tr>\n",
       "  </thead>\n",
       "  <tbody>\n",
       "    <tr>\n",
       "      <th>0</th>\n",
       "      <td>@sambitswaraj इसके मुह की साइज़ देखो\\n\\nस्लीपर...</td>\n",
       "      <td>1</td>\n",
       "      <td>OFFN</td>\n",
       "      <td>इसके मुह की साइज़ देखो स्लीपर चप्पल जैसी</td>\n",
       "      <td>1</td>\n",
       "    </tr>\n",
       "    <tr>\n",
       "      <th>1</th>\n",
       "      <td>सबसे ज्यादा खुशी तब होती है जब आप किसी को 100 ...</td>\n",
       "      <td>0</td>\n",
       "      <td>NONE</td>\n",
       "      <td>सबसे ज्यादा खुशी तब होती है जब आप किसी को या क...</td>\n",
       "      <td>0</td>\n",
       "    </tr>\n",
       "    <tr>\n",
       "      <th>2</th>\n",
       "      <td>@laluprasadrjd एक बात तो कंफर्म हो गई है तू बह...</td>\n",
       "      <td>1</td>\n",
       "      <td>OFFN</td>\n",
       "      <td>एक बात तो कंफर्म हो गई है तू बहुत बेशर्म इंसान...</td>\n",
       "      <td>1</td>\n",
       "    </tr>\n",
       "    <tr>\n",
       "      <th>3</th>\n",
       "      <td>रोहित सरदाना का शव कोविड पॉज़िटिव होने के बावज...</td>\n",
       "      <td>0</td>\n",
       "      <td>NONE</td>\n",
       "      <td>रोहित सरदाना का शव कोविड पॉज़िटिव होने के बावज...</td>\n",
       "      <td>0</td>\n",
       "    </tr>\n",
       "    <tr>\n",
       "      <th>4</th>\n",
       "      <td>@abhishek_india1 @SHIFUJIJAIHIND @Rahul_IND1 @...</td>\n",
       "      <td>0</td>\n",
       "      <td>NONE</td>\n",
       "      <td>राष्ट्रपतिजीबंगालसंभालो</td>\n",
       "      <td>0</td>\n",
       "    </tr>\n",
       "    <tr>\n",
       "      <th>...</th>\n",
       "      <td>...</td>\n",
       "      <td>...</td>\n",
       "      <td>...</td>\n",
       "      <td>...</td>\n",
       "      <td>...</td>\n",
       "    </tr>\n",
       "    <tr>\n",
       "      <th>3995</th>\n",
       "      <td>RT @TejYadav14: खुद को कहता ये चौकीदार है।\\nले...</td>\n",
       "      <td>1</td>\n",
       "      <td>OFFN</td>\n",
       "      <td>खुद को कहता ये चौकीदार है लेकिन नफरत फैलाना और...</td>\n",
       "      <td>1</td>\n",
       "    </tr>\n",
       "    <tr>\n",
       "      <th>3996</th>\n",
       "      <td>RT @MohammadSherAl6: प्लेन को बादल में छुपवा द...</td>\n",
       "      <td>1</td>\n",
       "      <td>OFFN</td>\n",
       "      <td>प्लेन को बादल में छुपवा दियाये आदमी पीएम होकर ...</td>\n",
       "      <td>1</td>\n",
       "    </tr>\n",
       "    <tr>\n",
       "      <th>3997</th>\n",
       "      <td>क्या क्या नहीं फेंकता है ये फेंकू कभी कालाधन ल...</td>\n",
       "      <td>1</td>\n",
       "      <td>OFFN</td>\n",
       "      <td>क्या क्या नहीं फेंकता है ये फेंकू कभी कालाधन ल...</td>\n",
       "      <td>1</td>\n",
       "    </tr>\n",
       "    <tr>\n",
       "      <th>3998</th>\n",
       "      <td>2 /2llकहाँ है? सनद रहे कि यही आरजेडी पहले से ह...</td>\n",
       "      <td>0</td>\n",
       "      <td>NONE</td>\n",
       "      <td>कहाँ है सनद रहे कि यही आरजेडी पहले से ही दिल्ल...</td>\n",
       "      <td>0</td>\n",
       "    </tr>\n",
       "    <tr>\n",
       "      <th>3999</th>\n",
       "      <td>राजद के नवादा ज़िला अध्यक्ष कमरुल बारी साहब ने...</td>\n",
       "      <td>0</td>\n",
       "      <td>NONE</td>\n",
       "      <td>राजद के नवादा ज़िला अध्यक्ष कमरुल बारी साहब ने...</td>\n",
       "      <td>0</td>\n",
       "    </tr>\n",
       "  </tbody>\n",
       "</table>\n",
       "<p>4000 rows × 5 columns</p>\n",
       "</div>"
      ],
      "text/plain": [
       "                                                   text  task_1 task_2  \\\n",
       "0     @sambitswaraj इसके मुह की साइज़ देखो\\n\\nस्लीपर...       1   OFFN   \n",
       "1     सबसे ज्यादा खुशी तब होती है जब आप किसी को 100 ...       0   NONE   \n",
       "2     @laluprasadrjd एक बात तो कंफर्म हो गई है तू बह...       1   OFFN   \n",
       "3     रोहित सरदाना का शव कोविड पॉज़िटिव होने के बावज...       0   NONE   \n",
       "4     @abhishek_india1 @SHIFUJIJAIHIND @Rahul_IND1 @...       0   NONE   \n",
       "...                                                 ...     ...    ...   \n",
       "3995  RT @TejYadav14: खुद को कहता ये चौकीदार है।\\nले...       1   OFFN   \n",
       "3996  RT @MohammadSherAl6: प्लेन को बादल में छुपवा द...       1   OFFN   \n",
       "3997  क्या क्या नहीं फेंकता है ये फेंकू कभी कालाधन ल...       1   OFFN   \n",
       "3998  2 /2llकहाँ है? सनद रहे कि यही आरजेडी पहले से ह...       0   NONE   \n",
       "3999  राजद के नवादा ज़िला अध्यक्ष कमरुल बारी साहब ने...       0   NONE   \n",
       "\n",
       "                                         Processed_Post  Labels Set  \n",
       "0              इसके मुह की साइज़ देखो स्लीपर चप्पल जैसी           1  \n",
       "1     सबसे ज्यादा खुशी तब होती है जब आप किसी को या क...           0  \n",
       "2     एक बात तो कंफर्म हो गई है तू बहुत बेशर्म इंसान...           1  \n",
       "3     रोहित सरदाना का शव कोविड पॉज़िटिव होने के बावज...           0  \n",
       "4                               राष्ट्रपतिजीबंगालसंभालो           0  \n",
       "...                                                 ...         ...  \n",
       "3995  खुद को कहता ये चौकीदार है लेकिन नफरत फैलाना और...           1  \n",
       "3996  प्लेन को बादल में छुपवा दियाये आदमी पीएम होकर ...           1  \n",
       "3997  क्या क्या नहीं फेंकता है ये फेंकू कभी कालाधन ल...           1  \n",
       "3998  कहाँ है सनद रहे कि यही आरजेडी पहले से ही दिल्ल...           0  \n",
       "3999  राजद के नवादा ज़िला अध्यक्ष कमरुल बारी साहब ने...           0  \n",
       "\n",
       "[4000 rows x 5 columns]"
      ]
     },
     "execution_count": 3,
     "metadata": {},
     "output_type": "execute_result"
    }
   ],
   "source": [
    "train_df"
   ]
  },
  {
   "cell_type": "markdown",
   "metadata": {},
   "source": [
    "## Custom Dataset Class\n",
    "- This class can be used for all Sentiment Analysis fine-tuning and zero shot tasks\n",
    "- For multiple languages, combine data into one dataframe as the dataset class takes DATAFRAME as input"
   ]
  },
  {
   "cell_type": "code",
   "execution_count": 4,
   "metadata": {},
   "outputs": [],
   "source": [
    "class MultilingualSentimentAnalysis_Dataset(Dataset):\n",
    "    def __init__(self, dataframe, tokenizer, max_length=256):\n",
    "        self.tokenizer = tokenizer\n",
    "        self.dataframe = dataframe\n",
    "        self.max_length = max_length\n",
    "\n",
    "    def __len__(self):\n",
    "        return len(self.dataframe)\n",
    "\n",
    "    def __getitem__(self, idx):\n",
    "        label = self.dataframe.iloc[idx][\"Labels Set\"]\n",
    "        input_text = self.dataframe.iloc[idx][\"Processed_Post\"]\n",
    "        if pd.isna(input_text):\n",
    "            input_text = \"\"\n",
    "\n",
    "        # Tokenize\n",
    "        encoding = self.tokenizer.encode_plus(\n",
    "            input_text, None,\n",
    "            add_special_tokens=True,\n",
    "            max_length=self.max_length,\n",
    "            padding='max_length',\n",
    "            truncation=True,\n",
    "            return_tensors='pt'  # Corrected the argument here\n",
    "        )\n",
    "\n",
    "        return {\n",
    "            'input_ids': encoding['input_ids'].flatten(),\n",
    "            'attention_mask': encoding['attention_mask'].flatten(),\n",
    "            'token_type_ids': encoding['token_type_ids'].flatten(),\n",
    "            'labels': torch.tensor(label, dtype=torch.float)\n",
    "        }\n"
   ]
  },
  {
   "cell_type": "code",
   "execution_count": 5,
   "metadata": {},
   "outputs": [],
   "source": [
    "# Get the model name\n",
    "model_name = \"bert-base-multilingual-cased\"\n",
    "\n",
    "# Initialise the tokeniser\n",
    "tokenizer = BertTokenizer.from_pretrained(model_name)"
   ]
  },
  {
   "cell_type": "code",
   "execution_count": 6,
   "metadata": {},
   "outputs": [],
   "source": [
    "# Initialise dataset instances\n",
    "train_dataset = MultilingualSentimentAnalysis_Dataset(train_df, tokenizer)\n",
    "dev_dataset = MultilingualSentimentAnalysis_Dataset(test_df, tokenizer)\n",
    "\n",
    "# Initialise the dataloaders\n",
    "train_dataloader = DataLoader(train_dataset, batch_size=64, shuffle=True)\n",
    "dev_dataloader = DataLoader(dev_dataset, batch_size=64, shuffle=False)"
   ]
  },
  {
   "cell_type": "code",
   "execution_count": 7,
   "metadata": {},
   "outputs": [],
   "source": [
    "import torch\n",
    "import torch.nn as nn\n",
    "\n",
    "class MBertForSentimentAnalysis(nn.Module):\n",
    "    def __init__(self, freeze_bert=False):\n",
    "        super(MBertForSentimentAnalysis, self).__init__()\n",
    "\n",
    "        # Load mBERT model and tokenizer\n",
    "        self.model_name = \"bert-base-multilingual-cased\"\n",
    "        # tokenizer = BertTokenizer.from_pretrained(model_name)\n",
    "        self.mbert = BertModel.from_pretrained(self.model_name)\n",
    "\n",
    "        # Add a batch normalization layer\n",
    "        self.batch_norm = nn.BatchNorm1d(self.mbert.config.hidden_size)\n",
    "        \n",
    "        # Add a linear layer for classification\n",
    "        self.classification = nn.Linear(self.mbert.config.hidden_size, 2)\n",
    "\n",
    "        # Option to freeze MBERT layers to prevent them from being updated during training\n",
    "        if freeze_bert:\n",
    "            for param in self.mbert.parameters():\n",
    "                param.requires_grad = False\n",
    "\n",
    "    def forward(self, input_ids, attention_mask):\n",
    "        # Get the output from BERT model\n",
    "        _, pooled_outputs = self.mbert(input_ids=input_ids, attention_mask=attention_mask, return_dict=False)\n",
    "\n",
    "        # Pass output through batch normalization layer\n",
    "        pooled_outputs = self.batch_norm(pooled_outputs)\n",
    "        \n",
    "        # Pass output through linear layer\n",
    "        out = self.classification(pooled_outputs)\n",
    "        return out"
   ]
  },
  {
   "cell_type": "markdown",
   "metadata": {},
   "source": [
    "- Pass freeze as true when doing zero shot to prevent BERT from getting fine-tuned"
   ]
  },
  {
   "cell_type": "code",
   "execution_count": 8,
   "metadata": {},
   "outputs": [
    {
     "name": "stdout",
     "output_type": "stream",
     "text": [
      "Using CUDA\n"
     ]
    }
   ],
   "source": [
    "# Freeze BERT encoder to prevent fine-tuning\n",
    "model = MBertForSentimentAnalysis(freeze_bert=True)\n",
    "if torch.cuda.is_available():\n",
    "    device = torch.device(\"cuda\")\n",
    "    model.to(device)  # Move model to CUDA device if available\n",
    "    print(\"Using CUDA\")\n",
    "else:\n",
    "    device = torch.device(\"cpu\")\n",
    "    print(\"CUDA is not available. Using CPU instead.\")"
   ]
  },
  {
   "cell_type": "code",
   "execution_count": 9,
   "metadata": {},
   "outputs": [
    {
     "name": "stdout",
     "output_type": "stream",
     "text": [
      "Epoch 1/4, Train Loss: 0.7231, Validation Loss: 0.6888\n",
      "Epoch 2/4, Train Loss: 0.7141, Validation Loss: 0.6858\n",
      "Epoch 3/4, Train Loss: 0.7119, Validation Loss: 0.6855\n",
      "Epoch 4/4, Train Loss: 0.7135, Validation Loss: 0.6822\n"
     ]
    }
   ],
   "source": [
    "optimizer = torch.optim.Adam(model.parameters(), lr=2e-5)\n",
    "mse_loss = torch.nn.CrossEntropyLoss()\n",
    "\n",
    "num_epochs = 4\n",
    "\n",
    "train_losses = []\n",
    "val_losses = []\n",
    "\n",
    "for epoch in range(num_epochs):\n",
    "    # Training\n",
    "    model.train()  \n",
    "    train_loss = 0\n",
    "    for batch in train_dataloader:\n",
    "        # Forward pass\n",
    "        inputs = {k: v.to(device) for k, v in batch.items()}\n",
    "        outputs = model(input_ids=inputs['input_ids'], attention_mask=inputs['attention_mask'])\n",
    "        loss = mse_loss(outputs, inputs['labels'].long())\n",
    "\n",
    "        # Backward pass and optimize\n",
    "        loss.backward()\n",
    "        optimizer.step()\n",
    "        optimizer.zero_grad()\n",
    "\n",
    "        train_loss += loss.item()\n",
    "\n",
    "    # Validation\n",
    "    model.eval()  \n",
    "    val_loss = 0\n",
    "    with torch.no_grad():  # No need to compute gradients during validation\n",
    "        for batch in dev_dataloader:\n",
    "            inputs = {k: v.to(device) for k, v in batch.items()}\n",
    "            outputs = model(input_ids=inputs['input_ids'], attention_mask=inputs['attention_mask'])\n",
    "            loss = mse_loss(outputs, inputs['labels'].long())\n",
    "            val_loss += loss.item()\n",
    "\n",
    "    # Calculate average losses\n",
    "    avg_train_loss = train_loss / len(train_dataloader)\n",
    "    avg_val_loss = val_loss / len(dev_dataloader)\n",
    "\n",
    "    # Append the losses for plotting\n",
    "    train_losses.append(avg_train_loss)\n",
    "    val_losses.append(avg_val_loss)\n",
    "\n",
    "    print(f'Epoch {epoch+1}/{num_epochs}, Train Loss: {avg_train_loss:.4f}, Validation Loss: {avg_val_loss:.4f}')"
   ]
  },
  {
   "cell_type": "markdown",
   "metadata": {},
   "source": [
    "### Evaluation of Fine-Tuned Model\n",
    "- Evaluate fine-tuned model on test dataset of each language"
   ]
  },
  {
   "cell_type": "code",
   "execution_count": 10,
   "metadata": {},
   "outputs": [
    {
     "name": "stdout",
     "output_type": "stream",
     "text": [
      "RESULTS FOR Hindi\n",
      "\n",
      "Accuracy: 0.5500\n",
      "Weighted F1-score: 0.5495\n",
      "Macro F1-score: 0.5495\n",
      "\n",
      "Classification Report\n",
      "              precision    recall  f1-score   support\n",
      "\n",
      "           0       0.55      0.58      0.56       500\n",
      "           1       0.55      0.52      0.53       500\n",
      "\n",
      "    accuracy                           0.55      1000\n",
      "   macro avg       0.55      0.55      0.55      1000\n",
      "weighted avg       0.55      0.55      0.55      1000\n",
      "\n",
      "\n",
      "Confusion Matrix\n",
      "[[292 208]\n",
      " [242 258]]\n",
      "\n",
      "----------*******************---------------\n"
     ]
    }
   ],
   "source": [
    "# Load datasets for each language\n",
    "languages = [\"Hindi\"]\n",
    "\n",
    "from sklearn.metrics import accuracy_score\n",
    "from sklearn.metrics import classification_report\n",
    "from sklearn.metrics import confusion_matrix\n",
    "from sklearn.metrics import f1_score\n",
    "\n",
    "with torch.no_grad():\n",
    "    for lang in languages:\n",
    "        test_file = f\"/home/medha/BTP/Arnav_Medha/CSE556-NLP-Project/Hate-Speech-Detection-Experiments/Dataset/{lang}_test.csv\"\n",
    "        test_df = pd.read_csv(test_file)\n",
    "        test_dataloader = DataLoader(MultilingualSentimentAnalysis_Dataset(test_df, tokenizer), batch_size=16, shuffle=True)\n",
    "        \n",
    "        # Make list for predicted labels and ground truth labels\n",
    "        predicted_labels = []\n",
    "        labels = []\n",
    "\n",
    "        # Perform inference\n",
    "        for batch in test_dataloader:\n",
    "            inputs = {k: v.to(device) for k, v in batch.items()}\n",
    "            outputs = model(input_ids=inputs['input_ids'], attention_mask=inputs['attention_mask'])\n",
    "            predicted_labels.extend(torch.argmax(outputs, dim=1).tolist())\n",
    "            labels.extend(inputs['labels'].long().tolist())\n",
    "        \n",
    "\n",
    "        # Print results for a particular language\n",
    "        print(f\"RESULTS FOR {lang}\")\n",
    "        print()\n",
    "        # Calculate accuracy\n",
    "        accuracy = accuracy_score(labels, predicted_labels) \n",
    "        print(f'Accuracy: {accuracy:.4f}')\n",
    "\n",
    "        # Calculate F1-score\n",
    "        weighted_f1_score = f1_score(labels, predicted_labels, average='weighted')\n",
    "        macro_f1_score = f1_score(labels, predicted_labels, average='macro')\n",
    "        print(f'Weighted F1-score: {weighted_f1_score:.4f}')\n",
    "        print(f'Macro F1-score: {macro_f1_score:.4f}')\n",
    "        print()\n",
    "\n",
    "        # Print classification report\n",
    "        print(\"Classification Report\")\n",
    "        print(classification_report(labels, predicted_labels))\n",
    "        print()\n",
    "        # Print confusion matrix\n",
    "        print(\"Confusion Matrix\")\n",
    "        print(confusion_matrix(labels, predicted_labels))\n",
    "        print()\n",
    "        print(\"----------*******************---------------\")\n",
    "    "
   ]
  },
  {
   "cell_type": "code",
   "execution_count": 11,
   "metadata": {},
   "outputs": [
    {
     "ename": "",
     "evalue": "",
     "output_type": "error",
     "traceback": [
      "\u001b[1;31mThe Kernel crashed while executing code in the current cell or a previous cell. \n",
      "\u001b[1;31mPlease review the code in the cell(s) to identify a possible cause of the failure. \n",
      "\u001b[1;31mClick <a href='https://aka.ms/vscodeJupyterKernelCrash'>here</a> for more info. \n",
      "\u001b[1;31mView Jupyter <a href='command:jupyter.viewOutput'>log</a> for further details."
     ]
    }
   ],
   "source": [
    "# Save Model and Tokenizer\n",
    "model_save_path = \"MBERT_HS_Hi_ZeroShot.pth\"\n",
    "torch.save(model.state_dict(), model_save_path)"
   ]
  },
  {
   "cell_type": "code",
   "execution_count": null,
   "metadata": {},
   "outputs": [],
   "source": []
  }
 ],
 "metadata": {
  "kernelspec": {
   "display_name": "Python 3",
   "language": "python",
   "name": "python3"
  },
  "language_info": {
   "codemirror_mode": {
    "name": "ipython",
    "version": 3
   },
   "file_extension": ".py",
   "mimetype": "text/x-python",
   "name": "python",
   "nbconvert_exporter": "python",
   "pygments_lexer": "ipython3",
   "version": "3.11.7"
  }
 },
 "nbformat": 4,
 "nbformat_minor": 2
}
