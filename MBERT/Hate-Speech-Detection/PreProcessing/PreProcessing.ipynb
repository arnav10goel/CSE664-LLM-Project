{
 "cells": [
  {
   "cell_type": "code",
   "execution_count": 29,
   "metadata": {},
   "outputs": [
    {
     "data": {
      "text/html": [
       "<div>\n",
       "<style scoped>\n",
       "    .dataframe tbody tr th:only-of-type {\n",
       "        vertical-align: middle;\n",
       "    }\n",
       "\n",
       "    .dataframe tbody tr th {\n",
       "        vertical-align: top;\n",
       "    }\n",
       "\n",
       "    .dataframe thead th {\n",
       "        text-align: right;\n",
       "    }\n",
       "</style>\n",
       "<table border=\"1\" class=\"dataframe\">\n",
       "  <thead>\n",
       "    <tr style=\"text-align: right;\">\n",
       "      <th></th>\n",
       "      <th>Post</th>\n",
       "      <th>Labels Set</th>\n",
       "      <th>Dataset</th>\n",
       "    </tr>\n",
       "  </thead>\n",
       "  <tbody>\n",
       "    <tr>\n",
       "      <th>0</th>\n",
       "      <td>मेरे देश के हिन्दु बहुत निराले है। कुछ तो पक्क...</td>\n",
       "      <td>hate,offensive</td>\n",
       "      <td>constraint_Hindi_Train</td>\n",
       "    </tr>\n",
       "    <tr>\n",
       "      <th>1</th>\n",
       "      <td>सरकार हमेशा से किसानों की कमाई को बढ़ाने के लि...</td>\n",
       "      <td>non-hostile</td>\n",
       "      <td>constraint_Hindi_Train</td>\n",
       "    </tr>\n",
       "    <tr>\n",
       "      <th>2</th>\n",
       "      <td>सुशांत ने जो बिजनेस डील 9 जून को की थी, वो डील...</td>\n",
       "      <td>non-hostile</td>\n",
       "      <td>constraint_Hindi_Train</td>\n",
       "    </tr>\n",
       "    <tr>\n",
       "      <th>3</th>\n",
       "      <td>@prabhav218 साले जेएनयू छाप कमिने लोग हिन्दुओं...</td>\n",
       "      <td>defamation,offensive</td>\n",
       "      <td>constraint_Hindi_Train</td>\n",
       "    </tr>\n",
       "    <tr>\n",
       "      <th>4</th>\n",
       "      <td>#unlock4guidelines - अनलॉक-4 के लिए गाइडलाइन्स...</td>\n",
       "      <td>non-hostile</td>\n",
       "      <td>constraint_Hindi_Train</td>\n",
       "    </tr>\n",
       "  </tbody>\n",
       "</table>\n",
       "</div>"
      ],
      "text/plain": [
       "                                                Post            Labels Set  \\\n",
       "0  मेरे देश के हिन्दु बहुत निराले है। कुछ तो पक्क...        hate,offensive   \n",
       "1  सरकार हमेशा से किसानों की कमाई को बढ़ाने के लि...           non-hostile   \n",
       "2  सुशांत ने जो बिजनेस डील 9 जून को की थी, वो डील...           non-hostile   \n",
       "3  @prabhav218 साले जेएनयू छाप कमिने लोग हिन्दुओं...  defamation,offensive   \n",
       "4  #unlock4guidelines - अनलॉक-4 के लिए गाइडलाइन्स...           non-hostile   \n",
       "\n",
       "                  Dataset  \n",
       "0  constraint_Hindi_Train  \n",
       "1  constraint_Hindi_Train  \n",
       "2  constraint_Hindi_Train  \n",
       "3  constraint_Hindi_Train  \n",
       "4  constraint_Hindi_Train  "
      ]
     },
     "execution_count": 29,
     "metadata": {},
     "output_type": "execute_result"
    }
   ],
   "source": [
    "import pandas as pd\n",
    "import re\n",
    "from indicnlp.tokenize import indic_tokenize\n",
    "\n",
    "file_name = 'Hindi - Sheet1.csv'\n",
    "# Read the CSV file into a pandas DataFrame\n",
    "df = pd.read_csv(file_name, encoding='utf-8')\n",
    "df.head()"
   ]
  },
  {
   "cell_type": "code",
   "execution_count": 30,
   "metadata": {},
   "outputs": [
    {
     "name": "stdout",
     "output_type": "stream",
     "text": [
      "Length of the dataset:  6750\n"
     ]
    }
   ],
   "source": [
    "# Remove rows with 'FAKE' label\n",
    "df = df[df['Labels Set'] != 'fake']\n",
    "\n",
    "#Print length of the dataset\n",
    "print(\"Length of the dataset: \", len(df))"
   ]
  },
  {
   "cell_type": "code",
   "execution_count": 31,
   "metadata": {},
   "outputs": [
    {
     "name": "stdout",
     "output_type": "stream",
     "text": [
      "Duplicate rows found. Removing duplicates...\n",
      "Length of the dataset after cleaning:  6742\n"
     ]
    }
   ],
   "source": [
    "# Check for duplicates\n",
    "duplicate_rows = df[df.duplicated()]\n",
    "if not duplicate_rows.empty:\n",
    "    print(\"Duplicate rows found. Removing duplicates...\")\n",
    "    df.drop_duplicates(inplace=True)\n",
    "\n",
    "# Check for NaN values\n",
    "nan_rows = df[df.isna().any(axis=1)]\n",
    "if not nan_rows.empty:\n",
    "    print(\"Rows with NaN values found. Removing...\")\n",
    "    df.dropna(inplace=True)\n",
    "\n",
    "# Print length of the dataset after removing duplicates and NaN values\n",
    "print(\"Length of the dataset after cleaning: \", len(df))"
   ]
  },
  {
   "cell_type": "code",
   "execution_count": 32,
   "metadata": {},
   "outputs": [],
   "source": [
    "# Function to preprocess text\n",
    "def preprocess_text(text):\n",
    "    # Remove mentions, email addresses, URLs, RT (retweet)\n",
    "    text = re.sub(r'@[A-Za-z0-9_]+', '', text)  # Remove mentions\n",
    "    text = re.sub(r'\\b[A-Za-z0-9._%+-]+@[A-Za-z0-9.-]+\\.[A-Z|a-z]{2,}\\b', '', text)  # Remove email addresses\n",
    "    text = re.sub(r'http\\S+', '', text)  # Remove URLs\n",
    "    text = re.sub(r'RT\\s*@\\S+', '', text)  # Remove retweets\n",
    "    # Remove HTML tags (if any)\n",
    "    text = re.sub(r'<.*?>', '', text)\n",
    "    # Remove punctuation marks (comma and purnviram)\n",
    "    text = re.sub(r'[\\u002C\\u0964]', '', text)\n",
    "    # Remove special characters and accented characters\n",
    "    text = re.sub(r'[^\\u0900-\\u097F\\s]', '', text)\n",
    "    # Remove multiple spaces\n",
    "    text = re.sub(r'\\s+', ' ', text)\n",
    "    # Strip leading/trailing whitespaces\n",
    "    text = text.strip()\n",
    "    return text\n",
    "\n",
    "# Preprocess the 'Post' column\n",
    "df['Processed_Post'] = df['Post'].apply(preprocess_text)\n"
   ]
  },
  {
   "cell_type": "code",
   "execution_count": 33,
   "metadata": {},
   "outputs": [
    {
     "name": "stdout",
     "output_type": "stream",
     "text": [
      "0       मेरे देश के हिन्दु बहुत निराले है कुछ तो पक्के...\n",
      "1       सरकार हमेशा से किसानों की कमाई को बढ़ाने के लि...\n",
      "2       सुशांत ने जो बिजनेस डील जून को की थी वो डील दी...\n",
      "3       साले जेएनयू छाप कमिने लोग हिन्दुओं को यह कहते ...\n",
      "4       अनलॉक के लिए गाइडलाइन्स जारी सितंबर से देशभर म...\n",
      "                              ...                        \n",
      "8187    सोनू सूद से प्रेरणा लेकर आदिवासियों ने वो किया...\n",
      "8188    उमर खालिद पर तो लगा दिया कपिल मिश्रा को शांति ...\n",
      "8189                                          पप्पू कमीना\n",
      "8190    मदर टेरेसा ने अपना पूरा जीवन पीड़ितों की सेवा ...\n",
      "8191    आईपीएल में कोरोना का डर रैना के हटने के बाद हर...\n",
      "Name: Processed_Post, Length: 6742, dtype: object\n"
     ]
    }
   ],
   "source": [
    "# Define the new filename for saving the preprocessed data\n",
    "new_file_name = file_name.split('.')[0] + '_preprocessed_data.csv'\n",
    "\n",
    "# Save the preprocessed data to a new CSV file\n",
    "df.to_csv(new_file_name, index=False, encoding='utf-8')\n",
    "\n",
    "#print all the preprocessed data in a readable format\n",
    "print(df['Processed_Post'])"
   ]
  }
 ],
 "metadata": {
  "kernelspec": {
   "display_name": "Python 3",
   "language": "python",
   "name": "python3"
  },
  "language_info": {
   "codemirror_mode": {
    "name": "ipython",
    "version": 3
   },
   "file_extension": ".py",
   "mimetype": "text/x-python",
   "name": "python",
   "nbconvert_exporter": "python",
   "pygments_lexer": "ipython3",
   "version": "3.10.1"
  }
 },
 "nbformat": 4,
 "nbformat_minor": 2
}
